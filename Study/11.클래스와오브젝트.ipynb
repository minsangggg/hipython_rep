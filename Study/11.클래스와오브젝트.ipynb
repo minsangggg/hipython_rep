{
 "cells": [
  {
   "cell_type": "markdown",
   "id": "0e54a848-d383-4c25-aa85-4e81f163e5e6",
   "metadata": {},
   "source": [
    "# 파이썬으로 객체지향프로그래밍 OOP  "
   ]
  },
  {
   "cell_type": "code",
   "execution_count": 10,
   "id": "578aba3d-ac71-496d-98fa-13416cb2224a",
   "metadata": {},
   "outputs": [],
   "source": [
    "class Bicycle:\n",
    "    #속성추가:생성자(init)\n",
    "    def __init__(self,color,wheelsize=20):\n",
    "        self.color=color\n",
    "        self.wheelsize=wheelsize\n",
    "    \n",
    "    #오버로딩\n",
    "   # def __init__(self,color):\n",
    "    #    self.color=color\n",
    "        \n",
    "    def move(self):\n",
    "        print(f'{self.color} 자전거가 {self.wheelsize}만큼 움직입니다.')\n",
    "    pass"
   ]
  },
  {
   "cell_type": "code",
   "execution_count": 11,
   "id": "ff586659-3881-4f65-9b9d-e6fa645d541e",
   "metadata": {},
   "outputs": [
    {
     "name": "stdout",
     "output_type": "stream",
     "text": [
      "white 자전거가 20만큼 움직입니다.\n",
      "red 자전거가 10만큼 움직입니다.\n",
      "blue 자전거가 30만큼 움직입니다.\n"
     ]
    }
   ],
   "source": [
    "#객체생성 \n",
    "bi=Bicycle('white',20)  #객체 생성\n",
    "bi1=Bicycle('red',10)\n",
    "bi2=Bicycle('blue',30)\n",
    "\n",
    "bi.move() #객체 메소드를 호출\n",
    "bi1.move()\n",
    "bi2.move()"
   ]
  },
  {
   "cell_type": "code",
   "execution_count": 12,
   "id": "e949c875-5586-4107-8b10-016902d54ed0",
   "metadata": {},
   "outputs": [],
   "source": [
    "class Student:\n",
    "    def __init__(self,name,age):\n",
    "        self.name=name\n",
    "        self.age=age\n",
    "\n",
    "    def introduce(self):\n",
    "        print(f' 안녕하세요 제이름은 {self.name}이고, 나이는{self.age}살입니다.')"
   ]
  },
  {
   "cell_type": "code",
   "execution_count": 13,
   "id": "1b0c37ae-4dea-4758-bb39-882b416acdde",
   "metadata": {},
   "outputs": [
    {
     "name": "stdout",
     "output_type": "stream",
     "text": [
      " 안녕하세요 제이름은 지민이고, 나이는20살입니다.\n",
      " 안녕하세요 제이름은 유진이고, 나이는22살입니다.\n"
     ]
    }
   ],
   "source": [
    "s1=Student(\"지민\",20)\n",
    "s2=Student(\"유진\",22)\n",
    "\n",
    "s1.introduce()\n",
    "s2.introduce()"
   ]
  },
  {
   "cell_type": "markdown",
   "id": "3a28d608-254e-4894-88ce-10717e0d0997",
   "metadata": {},
   "source": [
    "#클래스의 속성-변수  \n",
    "1. 인스턴스 변수\n",
    "2. 클래스 변수\n",
    "   "
   ]
  },
  {
   "cell_type": "code",
   "execution_count": 14,
   "id": "41664d12-5b11-4e3f-8f00-0151f50cd519",
   "metadata": {},
   "outputs": [],
   "source": [
    "class Car:\n",
    "  instance_cnt=0\n",
    "\n",
    "  def __init__(self,size):\n",
    "      self.size=size\n",
    "      Car.instance_cnt+=1\n",
    "      print(f'자동차가 {Car.instance_cnt}대 생성되었습니다.')\n",
    "  \n",
    "  def move(self):\n",
    "      print(f'{self.size}의 자동차가 움직입니다.')"
   ]
  },
  {
   "cell_type": "code",
   "execution_count": 15,
   "id": "a82b7822-9a13-4c04-8206-19167cc92475",
   "metadata": {},
   "outputs": [
    {
     "name": "stdout",
     "output_type": "stream",
     "text": [
      "자동차가 1대 생성되었습니다.\n",
      "자동차가 2대 생성되었습니다.\n",
      "10의 자동차가 움직입니다.\n",
      "20의 자동차가 움직입니다.\n"
     ]
    }
   ],
   "source": [
    "c1=Car(10)\n",
    "c2=Car(20)\n",
    "\n",
    "c1.move()\n",
    "c2.move()"
   ]
  },
  {
   "cell_type": "code",
   "execution_count": 16,
   "id": "d7213ef5-276e-4807-9f57-ce93d2c9218f",
   "metadata": {},
   "outputs": [
    {
     "name": "stdout",
     "output_type": "stream",
     "text": [
      "영희\n",
      "철수\n",
      "파이썬 스쿨\n"
     ]
    }
   ],
   "source": [
    "class Student:\n",
    "    school=\"파이썬 스쿨\"\n",
    "\n",
    "    def __init__(self,name):\n",
    "        self.name=name\n",
    "\n",
    "s1=Student(\"영희\")\n",
    "s2=Student(\"철수\")\n",
    "\n",
    "print(s1.name)\n",
    "print(s2.name)\n",
    "print(Student.school)"
   ]
  },
  {
   "cell_type": "markdown",
   "id": "22b04ccc-0566-4e20-b5e0-2eb0b58aee79",
   "metadata": {},
   "source": [
    "#method  \n",
    "1.인스턴스 메소드:self  \n",
    "2.스태틱(정적) 메소드: @staticmethod  \n",
    "3.클래스 메소드: @classmethod  "
   ]
  },
  {
   "cell_type": "code",
   "execution_count": 17,
   "id": "4fe64660-7343-48bc-82d5-0943ae29b712",
   "metadata": {},
   "outputs": [],
   "source": [
    "class Calculator:\n",
    "    def __init__(self, x, y): #instance method\n",
    "        self.x = x\n",
    "        self.y = y\n",
    "\n",
    "    def add(self): #instance method\n",
    "        return self.x + self.y\n",
    "\n",
    "    def multiply(self):\n",
    "        return self.x * self.y\n",
    "#Calculator() #__init__()생성자 함수를 자동으로 호출함"
   ]
  },
  {
   "cell_type": "code",
   "execution_count": 18,
   "id": "10321c46-1381-478b-9239-f4c5182d68fd",
   "metadata": {},
   "outputs": [
    {
     "data": {
      "text/plain": [
       "12"
      ]
     },
     "execution_count": 18,
     "metadata": {},
     "output_type": "execute_result"
    }
   ],
   "source": [
    "calc=Calculator(3,4)\n",
    "calc.add()\n",
    "calc.multiply()"
   ]
  },
  {
   "cell_type": "code",
   "execution_count": 19,
   "id": "b7b5975c-6161-4293-817c-74e10da311cd",
   "metadata": {},
   "outputs": [],
   "source": [
    "class Car():\n",
    "    instance_cnt=0 #클래스 속성\n",
    "     \n",
    "    def __init__(self,size):\n",
    "      self.size=size\n",
    "      Car.instance_cnt+=1\n",
    "      print(f'자동차가 {Car.instance_cnt}대 생성되었습니다.')\n",
    "         \n",
    "    def auto_cruise(self):\n",
    "        print('자율주행중')\n",
    "\n",
    "    def check_type(code): #static method\n",
    "        if code>20:\n",
    "            print('전기자동차')\n",
    "        elif 10<code<20:\n",
    "            print('가솔린자동차')\n",
    "        else:\n",
    "            print('디젤차')\n",
    "    \n",
    "    def count_instance(cls): #class method\n",
    "        print(f'자동차 대수: {cls.instance_cnt}')"
   ]
  },
  {
   "cell_type": "code",
   "execution_count": 20,
   "id": "56d7633b-95f0-4b97-bd60-d2c52a5144c4",
   "metadata": {},
   "outputs": [
    {
     "name": "stdout",
     "output_type": "stream",
     "text": [
      "자동차가 1대 생성되었습니다.\n",
      "전기자동차\n",
      "자율주행중\n"
     ]
    }
   ],
   "source": [
    "c1=Car(20)\n",
    "Car.check_type(25)\n",
    "c1.auto_cruise()\n",
    "#c1=Car(2000)\n",
    "#Car.check_type(25)\n"
   ]
  },
  {
   "cell_type": "code",
   "execution_count": 21,
   "id": "2ea1113d-84b1-4c4c-a716-d74f9b568683",
   "metadata": {},
   "outputs": [
    {
     "ename": "TypeError",
     "evalue": "Car.count_instance() missing 1 required positional argument: 'cls'",
     "output_type": "error",
     "traceback": [
      "\u001b[1;31m---------------------------------------------------------------------------\u001b[0m",
      "\u001b[1;31mTypeError\u001b[0m                                 Traceback (most recent call last)",
      "Cell \u001b[1;32mIn[21], line 1\u001b[0m\n\u001b[1;32m----> 1\u001b[0m \u001b[43mCar\u001b[49m\u001b[38;5;241;43m.\u001b[39;49m\u001b[43mcount_instance\u001b[49m\u001b[43m(\u001b[49m\u001b[43m)\u001b[49m\n",
      "\u001b[1;31mTypeError\u001b[0m: Car.count_instance() missing 1 required positional argument: 'cls'"
     ]
    }
   ],
   "source": [
    "Car.count_instance()"
   ]
  },
  {
   "cell_type": "code",
   "execution_count": null,
   "id": "0cd376e8-cbb2-46c2-98c8-3f07e81ba001",
   "metadata": {},
   "outputs": [],
   "source": []
  },
  {
   "cell_type": "markdown",
   "id": "f63b5e1e-8ded-4fb2-809a-acd66687247b",
   "metadata": {},
   "source": [
    "###성적 관리 프로그램 클래스 버전  "
   ]
  },
  {
   "cell_type": "code",
   "execution_count": null,
   "id": "5d413128-8099-462d-9508-7279f9c0cd8b",
   "metadata": {},
   "outputs": [],
   "source": [
    "students = [\n",
    "               {'num':'1','name':'김철수','kor':90,'eng':80,'math':85,'total':0,'avg':0.0,'order':0 },\n",
    "               {'num':'2','name':'박제동','kor':90,'eng':85,'math':90,'total':0,'avg':0.0,'order':0 },\n",
    "               {'num':'3','name':'홍길동','kor':80,'eng':80,'math':80,'total':0,'avg':0.0,'order':0 }\n",
    "           ]"
   ]
  },
  {
   "cell_type": "code",
   "execution_count": null,
   "id": "a9e48a92-5a35-468e-94af-07db8ab9a03b",
   "metadata": {},
   "outputs": [],
   "source": [
    "import random"
   ]
  },
  {
   "cell_type": "code",
   "execution_count": null,
   "id": "6601c1f5-eddb-4305-b0cf-4caf0f854ef6",
   "metadata": {},
   "outputs": [],
   "source": [
    "class Student():\n",
    "    \n",
    "    #학생 개인의 성적을 관리하는 클래스\n",
    "    \n",
    "    def __init__(self, num, name, kor, eng, math):\n",
    "        self.num = num\n",
    "        self.name = name\n",
    "        self.kor = kor\n",
    "        self.eng = eng\n",
    "        self.math = math\n",
    "        self.total = 0\n",
    "        self.avg = 0\n",
    "        self.order = 0\n",
    "    \n",
    "    #학생 객체의 정보 출력, instance method\n",
    "    def s_info(self):\n",
    "        print(f'{self.num}, {self.name}, {self.kor}, {self.eng}, {self.math}, {self.total}, , {self.order}') \n",
    "\n",
    "    #학생 객체의 총점\n",
    "    def calc_total(self):\n",
    "        self.total = self.kor + self.eng + self.math\n",
    "        self.avg = self.total/3\n",
    "\n",
    "    #학생 객체의 등수 계산\n",
    "    def set_order(self, order):\n",
    "        self.order = order\n",
    "\n",
    "    # Object 상속 받은 메소드 재정의 overriding\n",
    "    def __str__(self):\n",
    "        return f'{self.num}. {self.name} : {self.order}등'\n",
    "\n",
    "    #학생 성적표\n",
    "    def print_score(self):\n",
    "        print(f'{self.name} : {self.avg:.2f}')\n",
    "\n",
    "    #instance method + 1"
   ]
  },
  {
   "cell_type": "code",
   "execution_count": null,
   "id": "bcd8606c-77c0-4ed8-a7f0-5de84a39fcbf",
   "metadata": {},
   "outputs": [],
   "source": [
    "class Classroom():\n",
    "    #클래스 이름\n",
    "    def __init__(self, student_list):\n",
    "        self.students = self.gen_student_data(student_list)\n",
    "        self.name = ''\n",
    "\n",
    "    def set_name(self, class_name):\n",
    "        self.name = class_name\n",
    "        \n",
    "    #클래스의 학생 목록의 생성하는 인스턴스 메소드\n",
    "    def gen_student_data(self, stu_list):\n",
    "        students = []\n",
    "        for i, s_name in enumerate(stu_list, start=1):\n",
    "            #print(i,s_name)\n",
    "            s = Student(i,s_name, \n",
    "                        random.randint(50,100),\n",
    "                        random.randint(50,100),\n",
    "                        random.randint(50,100)\n",
    "                               )\n",
    "\n",
    "            s.calc_total()\n",
    "            #s.s_info()\n",
    "            \n",
    "            students.append(s)\n",
    "        \n",
    "        return students\n",
    "    \n",
    "    #학급의 학생 순위를 계산해서 학생 객체에 설정\n",
    "    def calc_order(self):\n",
    "        for s in self.students:\n",
    "            rank = 1\n",
    "            for other in self.students:\n",
    "                if other.total > s.total:\n",
    "                    rank += 1\n",
    "            s.set_order(rank)\n",
    "            #s.s_info()\n",
    "            \n",
    "    def print_student_score(self):\n",
    "        for student in self.students:\n",
    "            print(student)\n",
    "\n",
    "    #학급정보 리턴함수 __str__\n",
    "    def __str__(self):\n",
    "        return f'학급명 : {self.name}'\n",
    "\n",
    "    #학급 성적표\n",
    "    #국어 평균, 수학 평균, 영어 평균, 전체 평균, 학생수 \n",
    "    def print_class_score(self):\n",
    "        print(f' 우리 학급은 {self.name} 입니다.')\n",
    "        print(f'이번 우리 클래스의 전체 평균은 {sum(s.total for s in self.students)/len(self.students):.2f} 입니다.')\n",
    "        print(f'우리 학급은 총 {len(self.students)}명입니다.\\n')\n",
    "\n",
    "    def print_ordered_class_member(self):\n",
    "        s_students = sorted(self.students, key=lambda s:s.order)\n",
    "        #print(len(s_students))\n",
    "        \n",
    "        for s in s_students:\n",
    "            s.print_score()\n",
    "\n",
    "    #instance method + 1"
   ]
  },
  {
   "cell_type": "code",
   "execution_count": null,
   "id": "a428f1a4-2015-45bb-afeb-e5cce26a7cf5",
   "metadata": {},
   "outputs": [],
   "source": [
    "#main process\n",
    "a_class_stu = ['홍길동', '박제동', '김영희', '한사랑']\n",
    "b_class_stu = ['김철수', '박길동', '이영희', '최사랑', '아이유']\n",
    "\n",
    "a_class = Classroom(a_class_stu)\n",
    "b_class = Classroom(b_class_stu)\n",
    "\n",
    "a_class.calc_order()\n",
    "a_class.print_student_score()\n",
    "a_class.set_name('WN7')\n",
    "\n",
    "#print(a_class)\n",
    "b_class.calc_order()\n",
    "b_class.print_student_score()\n",
    "b_class.set_name('software camp')\n",
    "\n",
    "print('*'*40)\n",
    "a_class.print_class_score()\n",
    "a_class.print_ordered_class_member()\n",
    "\n",
    "print('*'*40)\n",
    "b_class.print_class_score()\n",
    "b_class.print_ordered_class_member()"
   ]
  },
  {
   "cell_type": "code",
   "execution_count": null,
   "id": "a7363f55-8336-48d6-9b18-14c81970e131",
   "metadata": {},
   "outputs": [],
   "source": []
  },
  {
   "cell_type": "markdown",
   "id": "23eedf12-8858-4a28-a4c1-5a469d06ec32",
   "metadata": {},
   "source": [
    "# 객체와 클래스를 사용하는 이유  \n",
    "1. 코드 작성과 관리가 편하다\n",
    "2. 규모가 큰 프로그램(라이브러리)에서 사용한다\n",
    "3. 유사한 객체가 많은 프로그램에서 사용한다.\n"
   ]
  },
  {
   "cell_type": "markdown",
   "id": "a18aac25-541a-4c22-8bb4-d84d8cea0957",
   "metadata": {},
   "source": [
    "#객체 지향의 특징  \n",
    "캡슐화,상속,다형성  "
   ]
  },
  {
   "cell_type": "code",
   "execution_count": null,
   "id": "a1ef4403-0c19-4c12-8287-3584cb411c28",
   "metadata": {},
   "outputs": [],
   "source": [
    "class MyClass():\n",
    "    def __init__(self):\n",
    "        self.var1=10  #public\n",
    "        self._var2=20  #protected\n",
    "        self.__var3=30   #private"
   ]
  },
  {
   "cell_type": "code",
   "execution_count": null,
   "id": "9e281165-60b9-4b86-b16d-90c41e9ab64f",
   "metadata": {},
   "outputs": [],
   "source": [
    "c1=MyClass()\n",
    "c1.var1\n"
   ]
  },
  {
   "cell_type": "code",
   "execution_count": null,
   "id": "5993af97-e14a-4b1a-a994-4000cd73dc80",
   "metadata": {},
   "outputs": [],
   "source": [
    "c1._var2=30\n",
    "c1._var2"
   ]
  },
  {
   "cell_type": "code",
   "execution_count": null,
   "id": "3e5b43db-7272-436b-ab24-48c0a4d3c7ff",
   "metadata": {},
   "outputs": [],
   "source": [
    "dir(c1)"
   ]
  },
  {
   "cell_type": "code",
   "execution_count": null,
   "id": "2f1b7c56-ebeb-47b2-8c32-5479beb1ce8f",
   "metadata": {},
   "outputs": [],
   "source": [
    "c1.__var3"
   ]
  },
  {
   "cell_type": "code",
   "execution_count": null,
   "id": "391584dc-8993-465a-8025-43f81e8c4352",
   "metadata": {},
   "outputs": [],
   "source": [
    "dir(MyClass)"
   ]
  },
  {
   "cell_type": "code",
   "execution_count": null,
   "id": "dca9324a-9fb6-4de0-9eae-3c1fccb6516b",
   "metadata": {},
   "outputs": [],
   "source": [
    "class Calculator():\n",
    "    def __init__(self,x,y):\n",
    "        self.x=x\n",
    "        self.y=y\n",
    "    def add(self):\n",
    "        return self.x+self.y\n",
    "\n",
    "    def mul(self):\n",
    "        return self.x*self.y"
   ]
  },
  {
   "cell_type": "code",
   "execution_count": null,
   "id": "3fc10b0e-9721-495e-a76e-e6657cdcfbae",
   "metadata": {},
   "outputs": [],
   "source": [
    "#자식클래스\n",
    "class AdvancedCalculator(Calculator): #상속\n",
    "    #상속받은 기능 재사용\n",
    "    #def __init(self,x,y):\n",
    "    \n",
    "    \n",
    "    #자식이 추가한 기능\n",
    "    def divide(self):\n",
    "        if self.y==0:\n",
    "            return '0으로 나누기 금지'\n",
    "        return self.x/self.y\n",
    "\n",
    "    \n",
    "    #상속받은 기능의 재정의\n",
    "    def add(self): #오버라이딩\n",
    "        print('advanced calculator입니다')\n",
    "        return super().add()\n",
    "\n",
    "    def  mul(self):\n",
    "        print('새로운 오버라이딩')\n",
    "        return super().mul()"
   ]
  },
  {
   "cell_type": "code",
   "execution_count": null,
   "id": "5b946fe2-aaa2-436f-bb04-4866c81303c1",
   "metadata": {},
   "outputs": [],
   "source": [
    "acalc=AdvancedCalculator(30,3)\n",
    "acalc.divide()\n",
    "acalc.add()\n",
    "#acalc.mul()"
   ]
  },
  {
   "cell_type": "code",
   "execution_count": null,
   "id": "dc5c9fb7-2dbb-4047-b9a1-e4954ca8d723",
   "metadata": {},
   "outputs": [],
   "source": [
    "dir(acalc)"
   ]
  },
  {
   "cell_type": "code",
   "execution_count": 23,
   "id": "bb868583-cafd-433d-b544-c052a746aa72",
   "metadata": {},
   "outputs": [],
   "source": [
    "class Animal:\n",
    "    def make_sound(self):\n",
    "        pass\n",
    "\n",
    "class Dog(Animal):\n",
    "    def make_sound(self):\n",
    "        return \"멍멍!\"\n",
    "\n",
    "class Cat(Animal):\n",
    "    def make_sound(self):\n",
    "        return \"야옹!\""
   ]
  },
  {
   "cell_type": "code",
   "execution_count": 25,
   "id": "d3e4878b-1327-4cc9-8213-f026cb60e467",
   "metadata": {},
   "outputs": [
    {
     "name": "stdout",
     "output_type": "stream",
     "text": [
      "멍멍!\n",
      "야옹!\n"
     ]
    }
   ],
   "source": [
    "animals=[Dog(),Cat()]\n",
    "for animal in animals:\n",
    "    print(animal.make_sound())"
   ]
  },
  {
   "cell_type": "code",
   "execution_count": 27,
   "id": "b5331ac4-f45a-4a28-872e-815e88f50835",
   "metadata": {},
   "outputs": [
    {
     "data": {
      "text/plain": [
       "(<__main__.Dog at 0x239d43a4bb0>, <__main__.Cat at 0x239d43a6770>)"
      ]
     },
     "execution_count": 27,
     "metadata": {},
     "output_type": "execute_result"
    }
   ],
   "source": [
    "dog1=Dog()\n",
    "dog2=Dog()\n",
    "cat1=Cat()\n",
    "cat2=Cat()\n",
    "\n",
    "animals=[dog1,cat1,cat2,dog2]\n",
    "animals[0],animals[2]"
   ]
  }
 ],
 "metadata": {
  "kernelspec": {
   "display_name": "Python 3(myenv)",
   "language": "python",
   "name": "myenv"
  },
  "language_info": {
   "codemirror_mode": {
    "name": "ipython",
    "version": 3
   },
   "file_extension": ".py",
   "mimetype": "text/x-python",
   "name": "python",
   "nbconvert_exporter": "python",
   "pygments_lexer": "ipython3",
   "version": "3.10.16"
  }
 },
 "nbformat": 4,
 "nbformat_minor": 5
}
