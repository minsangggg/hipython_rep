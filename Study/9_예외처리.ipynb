{
 "cells": [
  {
   "cell_type": "markdown",
   "id": "01a13b6a-abc0-4c18-8ba1-5ccda8c6f59d",
   "metadata": {},
   "source": [
    "1.문법오류 : SyntaxError, NameError, TypeError  \n",
    "2.논리오류        \n",
    "3.예외상황       "
   ]
  },
  {
   "cell_type": "code",
   "execution_count": 20,
   "id": "e14290c3-89c2-48d5-b5c6-e31a17c0174e",
   "metadata": {},
   "outputs": [
    {
     "ename": "SyntaxError",
     "evalue": "expected ':' (1034960825.py, line 1)",
     "output_type": "error",
     "traceback": [
      "\u001b[1;36m  Cell \u001b[1;32mIn[20], line 1\u001b[1;36m\u001b[0m\n\u001b[1;33m    while True\u001b[0m\n\u001b[1;37m              ^\u001b[0m\n\u001b[1;31mSyntaxError\u001b[0m\u001b[1;31m:\u001b[0m expected ':'\n"
     ]
    }
   ],
   "source": [
    "while True\n",
    "    print('hello')"
   ]
  },
  {
   "cell_type": "code",
   "execution_count": 21,
   "id": "8dc8a175-c7c2-41e3-a446-b9edcb96eab5",
   "metadata": {},
   "outputs": [
    {
     "ename": "NameError",
     "evalue": "name 'am' is not defined",
     "output_type": "error",
     "traceback": [
      "\u001b[1;31m---------------------------------------------------------------------------\u001b[0m",
      "\u001b[1;31mNameError\u001b[0m                                 Traceback (most recent call last)",
      "Cell \u001b[1;32mIn[21], line 1\u001b[0m\n\u001b[1;32m----> 1\u001b[0m \u001b[38;5;241m4\u001b[39m\u001b[38;5;241m+\u001b[39m\u001b[38;5;241m2\u001b[39m\u001b[38;5;241m*\u001b[39m\u001b[43mam\u001b[49m\n",
      "\u001b[1;31mNameError\u001b[0m: name 'am' is not defined"
     ]
    }
   ],
   "source": [
    "4+2*am"
   ]
  },
  {
   "cell_type": "code",
   "execution_count": 7,
   "id": "837153e9-03d3-4289-8bec-d98d9afd4cd7",
   "metadata": {},
   "outputs": [],
   "source": [
    "def divide(m,n):\n",
    "    return m/n"
   ]
  },
  {
   "cell_type": "code",
   "execution_count": 22,
   "id": "af46ed14-8a0a-4b25-b146-4b35cd03e396",
   "metadata": {
    "scrolled": true
   },
   "outputs": [
    {
     "data": {
      "text/plain": [
       "1.5"
      ]
     },
     "execution_count": 22,
     "metadata": {},
     "output_type": "execute_result"
    }
   ],
   "source": [
    "result=divide(3,2)\n",
    "result"
   ]
  },
  {
   "cell_type": "code",
   "execution_count": 28,
   "id": "1a76a63b-5e96-47c3-9359-1ecc62660ce0",
   "metadata": {},
   "outputs": [],
   "source": [
    "def divide(m, n, s):\n",
    "    try:\n",
    "        result = m/n\n",
    "        result += int(s)\n",
    "        return result\n",
    "    except (ValueError, ZeroDivisionError):\n",
    "        print('0으로 나눌수 없습니다')\n",
    "        #return None\n",
    "    except : #나머지 모든 에러 받기\n",
    "        print('다른 에러가 발생했습니다.')\n",
    "        #return None\n",
    "    finally:\n",
    "        print(\"항상 실행되는 코드입니다.\")"
   ]
  },
  {
   "cell_type": "code",
   "execution_count": 29,
   "id": "890afdb8-1260-4846-a957-08b38f7b8117",
   "metadata": {},
   "outputs": [
    {
     "ename": "TypeError",
     "evalue": "divide() missing 1 required positional argument: 's'",
     "output_type": "error",
     "traceback": [
      "\u001b[1;31m---------------------------------------------------------------------------\u001b[0m",
      "\u001b[1;31mTypeError\u001b[0m                                 Traceback (most recent call last)",
      "Cell \u001b[1;32mIn[29], line 1\u001b[0m\n\u001b[1;32m----> 1\u001b[0m result\u001b[38;5;241m=\u001b[39m\u001b[43mdivide\u001b[49m\u001b[43m(\u001b[49m\u001b[38;5;241;43m3\u001b[39;49m\u001b[43m,\u001b[49m\u001b[38;5;241;43m0\u001b[39;49m\u001b[43m)\u001b[49m\n\u001b[0;32m      2\u001b[0m result\n",
      "\u001b[1;31mTypeError\u001b[0m: divide() missing 1 required positional argument: 's'"
     ]
    }
   ],
   "source": [
    "result=divide(3,0)\n",
    "result"
   ]
  },
  {
   "cell_type": "code",
   "execution_count": 32,
   "id": "9727f7cd-88aa-49d6-befd-6ba4aafd6d4c",
   "metadata": {},
   "outputs": [
    {
     "name": "stdout",
     "output_type": "stream",
     "text": [
      "0으로 나눌수 없습니다\n",
      "항상 실행되는 코드입니다.\n"
     ]
    }
   ],
   "source": [
    "divide(3,2,'a')"
   ]
  },
  {
   "cell_type": "code",
   "execution_count": 16,
   "id": "3c0078ea-2fa6-4b64-add0-047d1d2bd6e8",
   "metadata": {},
   "outputs": [
    {
     "ename": "SyntaxError",
     "evalue": "invalid syntax. Perhaps you forgot a comma? (3093717002.py, line 1)",
     "output_type": "error",
     "traceback": [
      "\u001b[1;36m  Cell \u001b[1;32mIn[16], line 1\u001b[1;36m\u001b[0m\n\u001b[1;33m    divide(3,2'a')\u001b[0m\n\u001b[1;37m             ^\u001b[0m\n\u001b[1;31mSyntaxError\u001b[0m\u001b[1;31m:\u001b[0m invalid syntax. Perhaps you forgot a comma?\n"
     ]
    }
   ],
   "source": [
    "divide(3,2'a')"
   ]
  },
  {
   "cell_type": "code",
   "execution_count": 19,
   "id": "db89b67c-9261-4f54-8f08-54dae144ae95",
   "metadata": {},
   "outputs": [
    {
     "ename": "SyntaxError",
     "evalue": "invalid syntax (4202675741.py, line 1)",
     "output_type": "error",
     "traceback": [
      "\u001b[1;36m  Cell \u001b[1;32mIn[19], line 1\u001b[1;36m\u001b[0m\n\u001b[1;33m    raise class AgeException(Exception):\u001b[0m\n\u001b[1;37m          ^\u001b[0m\n\u001b[1;31mSyntaxError\u001b[0m\u001b[1;31m:\u001b[0m invalid syntax\n"
     ]
    }
   ],
   "source": [
    "raise class AgeException(Exception):\n",
    "    def __init__(self, msg):\n",
    "        self._message = msg\n",
    "\n",
    "    def input_age():\n",
    "        age = int(input('나이를 입력하세요 : '))\n",
    "\n",
    "        if age < 0 :\n",
    "            raise AgeException('나이는 양수입니다.')\n",
    "        elif age > 150:\n",
    "            raise AgeException('150세 이상??')\n",
    "        else :\n",
    "            return age"
   ]
  },
  {
   "cell_type": "code",
   "execution_count": 34,
   "id": "7f4c5d79-fc63-41dd-81f9-beb7f9856b0f",
   "metadata": {},
   "outputs": [
    {
     "ename": "TypeError",
     "evalue": "입력값오류",
     "output_type": "error",
     "traceback": [
      "\u001b[1;31m---------------------------------------------------------------------------\u001b[0m",
      "\u001b[1;31mTypeError\u001b[0m                                 Traceback (most recent call last)",
      "Cell \u001b[1;32mIn[34], line 1\u001b[0m\n\u001b[1;32m----> 1\u001b[0m \u001b[38;5;28;01mraise\u001b[39;00m \u001b[38;5;167;01mTypeError\u001b[39;00m(\u001b[38;5;124m'\u001b[39m\u001b[38;5;124m입력값오류\u001b[39m\u001b[38;5;124m'\u001b[39m)\n",
      "\u001b[1;31mTypeError\u001b[0m: 입력값오류"
     ]
    }
   ],
   "source": [
    "raise TypeError('입력값오류')"
   ]
  },
  {
   "cell_type": "code",
   "execution_count": 36,
   "id": "e47ab694-bd7e-4bfb-bdee-ea7206626bbd",
   "metadata": {},
   "outputs": [
    {
     "name": "stdout",
     "output_type": "stream",
     "text": [
      "('입력값오류',)\n"
     ]
    }
   ],
   "source": [
    "try:\n",
    "    raise TypeError('입력값오류')\n",
    "except TypeError as e:\n",
    "    print(e.args)"
   ]
  },
  {
   "cell_type": "markdown",
   "id": "2823f68b-a1b7-4dcb-bb23-7ab1e64079d9",
   "metadata": {},
   "source": [
    "#내가 정의하는 예외  \n",
    "1.예외 클래스 작성: 각 예외상황에 맞는 메시지를 작성  \n",
    "2. 호출할 때 try except로 받아줍니다.  "
   ]
  },
  {
   "cell_type": "code",
   "execution_count": 37,
   "id": "9c887d1c-742f-46f6-b557-47f020ccc292",
   "metadata": {},
   "outputs": [],
   "source": [
    "class AgeException(Exception):\n",
    "    def __init__(self,msg):\n",
    "        self._message=msg\n",
    "\n",
    "def input_age():\n",
    "    age=int(input('나이를 입력하세요:'))\n",
    "\n",
    "    if age<0:\n",
    "        raise AgeException('나이는 양수입니다')\n",
    "    elif age>150:\n",
    "        raise AgeException('150세 이상??')\n",
    "    else:\n",
    "        return age"
   ]
  },
  {
   "cell_type": "code",
   "execution_count": 38,
   "id": "91428a1c-bd6f-4b49-9353-75143a2bba15",
   "metadata": {},
   "outputs": [
    {
     "name": "stdout",
     "output_type": "stream",
     "text": [
      "나이를 입력하세요: 20\n"
     ]
    },
    {
     "name": "stdout",
     "output_type": "stream",
     "text": [
      "입력하신 나이는 20세입니다.\n"
     ]
    }
   ],
   "source": [
    "try:\n",
    "    age=input_age()\n",
    "except AgeException as e:\n",
    "    print(e.args[0])\n",
    "else:\n",
    "    print(f'입력하신 나이는 {age}세입니다.')"
   ]
  },
  {
   "cell_type": "code",
   "execution_count": null,
   "id": "a855a390-6f24-4abd-bd5f-7f4e9421d5d8",
   "metadata": {},
   "outputs": [],
   "source": []
  },
  {
   "cell_type": "code",
   "execution_count": null,
   "id": "89f105a4-72e7-4b87-951c-53f5991d4d7e",
   "metadata": {},
   "outputs": [],
   "source": []
  },
  {
   "cell_type": "code",
   "execution_count": null,
   "id": "5d171c34-d566-4c1a-a301-55a5afcc545c",
   "metadata": {},
   "outputs": [],
   "source": []
  },
  {
   "cell_type": "code",
   "execution_count": null,
   "id": "b978b8a0-220a-47f0-9d12-5c8cd72f36c6",
   "metadata": {},
   "outputs": [],
   "source": []
  },
  {
   "cell_type": "code",
   "execution_count": null,
   "id": "80c1dff9-cf3f-4179-92de-ce9c68151df1",
   "metadata": {},
   "outputs": [],
   "source": []
  }
 ],
 "metadata": {
  "kernelspec": {
   "display_name": "Python 3(myenv)",
   "language": "python",
   "name": "myenv"
  },
  "language_info": {
   "codemirror_mode": {
    "name": "ipython",
    "version": 3
   },
   "file_extension": ".py",
   "mimetype": "text/x-python",
   "name": "python",
   "nbconvert_exporter": "python",
   "pygments_lexer": "ipython3",
   "version": "3.10.16"
  }
 },
 "nbformat": 4,
 "nbformat_minor": 5
}
