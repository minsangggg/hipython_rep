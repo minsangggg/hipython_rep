{
 "cells": [
  {
   "cell_type": "markdown",
   "id": "4d4a21c3",
   "metadata": {},
   "source": [
    "#content > div.spot.section_keyword > div.home_section.active > div > div.keyword_carousel > div > div > div:nth-child(9) > div > div > ul > li:nth-child(1) > a > em"
   ]
  },
  {
   "cell_type": "markdown",
   "id": "88e8a3d6",
   "metadata": {},
   "source": [
    "#content > div.spot.section_keyword > div.home_section.active > div > div.keyword_carousel > div > div > div:nth-child(10) > div > div > ul > li:nth-child(1) > a > span"
   ]
  },
  {
   "cell_type": "code",
   "execution_count": 3,
   "id": "4a59b5e9",
   "metadata": {},
   "outputs": [
    {
     "name": "stdout",
     "output_type": "stream",
     "text": [
      "CSV 저장 완료: rank_data.csv\n"
     ]
    }
   ],
   "source": [
    "import requests\n",
    "from bs4 import BeautifulSoup\n",
    "import pandas as pd\n",
    "\n",
    "#url = 'https://datalab.naver.com/keyword/realtimeList.naver?where=main'\n",
    "url = \"https://datalab.naver.com/\"\n",
    "res = requests.get(url)\n",
    "soup = BeautifulSoup(res.content, 'html.parser')\n",
    "\n",
    "\n",
    "rank_list = soup.select(\"ul.rank_list em\")\n",
    "list_list = soup.select(\"ul.rank_list span\")\n",
    "import csv\n",
    "\n",
    "\n",
    "ranks = [rank.get_text(strip=True) for rank in rank_list]\n",
    "lists = [item.get_text(strip=True) for item in list_list]\n",
    "\n",
    "\n",
    "with open(\"rank_data.csv\", \"w\", newline=\"\", encoding=\"utf-8-sig\") as f:\n",
    "    writer = csv.writer(f)\n",
    "    writer.writerow([\"Rank\", \"List\"])\n",
    "\n",
    "    for r, l in zip(ranks, lists):\n",
    "        writer.writerow([r, l])\n",
    "\n",
    "print(\"CSV 저장 완료: rank_data.csv\")\n"
   ]
  },
  {
   "cell_type": "code",
   "execution_count": 4,
   "id": "b1a13b2b",
   "metadata": {},
   "outputs": [
    {
     "name": "stdout",
     "output_type": "stream",
     "text": [
      "            날짜  Rank  카테고리         List\n",
      "0   2024-07-17     1  패션의류          원피스\n",
      "1   2024-07-17     2  패션의류         블라우스\n",
      "2   2024-07-17     3  패션의류          티셔츠\n",
      "3   2024-07-17     4  패션의류        여름원피스\n",
      "4   2024-07-17     5  패션의류  써스데이아일랜드원피스\n",
      "5   2024-07-17     6  패션의류        듀엘원피스\n",
      "6   2024-07-17     7  패션의류      쉬즈미스원피스\n",
      "7   2024-07-17     8  패션의류       지고트원피스\n",
      "8   2024-07-17     9  패션의류       시슬리원피스\n",
      "9   2024-07-17    10  패션의류       잇미샤원피스\n",
      "10  2024-07-18     1  패션의류          원피스\n",
      "11  2024-07-18     2  패션의류  써스데이아일랜드원피스\n",
      "12  2024-07-18     3  패션의류         블라우스\n",
      "13  2024-07-18     4  패션의류     써스데이아일랜드\n",
      "14  2024-07-18     5  패션의류        여름원피스\n",
      "15  2024-07-18     6  패션의류      써스데이원피스\n",
      "16  2024-07-18     7  패션의류       시슬리원피스\n",
      "17  2024-07-18     8  패션의류       리스트원피스\n",
      "18  2024-07-18     9  패션의류          티셔츠\n",
      "19  2024-07-18    10  패션의류       지고트원피스\n"
     ]
    }
   ],
   "source": [
    "import pandas as pd\n",
    "\n",
    "# 1. 데이터 불러오기\n",
    "df = pd.read_csv('rank_data.csv')\n",
    "\n",
    "# 2. 날짜 리스트(예시: 17~26일까지 10개)\n",
    "dates = [f\"2024-07-{str(day).zfill(2)}\" for day in range(17, 29)]  # 17일~26일(10개)\n",
    "# 만약 17~28일까지 12개면 range(17,29)\n",
    "\n",
    "# 3. 날짜를 10개씩 반복해서 전체 데이터 수에 맞게 생성\n",
    "# (len(df) = 100이면, dates[0] * 10, dates[1] * 10, ...)\n",
    "date_col = []\n",
    "for d in dates:\n",
    "    date_col += [d] * 10\n",
    "\n",
    "# 4. 데이터 행 수와 날짜 리스트가 정확히 일치해야 함!\n",
    "df['날짜'] = date_col[:len(df)]\n",
    "df['카테고리'] = '패션의류'\n",
    "\n",
    "# 5. 컬럼 순서 정리 후 저장\n",
    "df = df[['날짜', 'Rank','카테고리', 'List']]\n",
    "df.to_csv('rank_data_10perday.csv', encoding='utf-8-sig', index=False)\n",
    "print(df.head(20))"
   ]
  },
  {
   "cell_type": "markdown",
   "id": "aa123cea",
   "metadata": {},
   "source": [
    "-----------------------------------------------------------------------------"
   ]
  },
  {
   "cell_type": "code",
   "execution_count": 19,
   "id": "1a72db0f",
   "metadata": {},
   "outputs": [],
   "source": [
    "import sqlite3\n",
    "import mysql.connector"
   ]
  },
  {
   "cell_type": "code",
   "execution_count": 20,
   "id": "65bab81a",
   "metadata": {},
   "outputs": [],
   "source": [
    "\n",
    "# 1. DataLab 데이터 불러오기 (csv, 혹은 크롤링 결과 df)\n",
    "df = pd.read_csv('rank_data_10perday.csv')  "
   ]
  },
  {
   "cell_type": "code",
   "execution_count": 21,
   "id": "435b138d",
   "metadata": {},
   "outputs": [],
   "source": [
    "sqlite_conn=sqlite3.connect('Datalab.db')\n",
    "sqlite_cursor=sqlite_conn.cursor()"
   ]
  },
  {
   "cell_type": "code",
   "execution_count": 16,
   "id": "8d8e3148",
   "metadata": {},
   "outputs": [],
   "source": [
    "mysql_conn = mysql.connector.connect(\n",
    "    host='localhost',\n",
    "    user='root',\n",
    "    password='1234',\n",
    "    database='naver_datalab',\n",
    "    charset='utf8mb4'\n",
    ")\n",
    "mysql_cursor = mysql_conn.cursor()"
   ]
  },
  {
   "cell_type": "code",
   "execution_count": 11,
   "id": "f5692372",
   "metadata": {},
   "outputs": [
    {
     "data": {
      "text/plain": [
       "<sqlite3.Cursor at 0x231feed24c0>"
      ]
     },
     "execution_count": 11,
     "metadata": {},
     "output_type": "execute_result"
    }
   ],
   "source": [
    "# 테이블 생성\n",
    "sqlite_cursor.execute('''\n",
    "CREATE TABLE IF NOT EXISTS Datalab_ranking (\n",
    "    id INTEGER PRIMARY KEY AUTOINCREMENT,\n",
    "    날짜 TEXT,\n",
    "    Rank TEXT,\n",
    "    카테고리 TEXT,\n",
    "    List TEXT\n",
    ")\n",
    "''')"
   ]
  },
  {
   "cell_type": "code",
   "execution_count": 71,
   "id": "ea5c1e55",
   "metadata": {},
   "outputs": [
    {
     "data": {
      "text/plain": [
       "<sqlite3.Cursor at 0x1f82ddb5c40>"
      ]
     },
     "execution_count": 71,
     "metadata": {},
     "output_type": "execute_result"
    }
   ],
   "source": [
    "# 테이블 삭제(있으면)\n",
    "sqlite_cursor.execute(\"DROP TABLE IF EXISTS datalab_ranking\")"
   ]
  },
  {
   "cell_type": "code",
   "execution_count": null,
   "id": "e5e2bc86",
   "metadata": {},
   "outputs": [
    {
     "name": "stdout",
     "output_type": "stream",
     "text": [
      "           날짜  Rank  카테고리         List\n",
      "0  2024-07-17     1  패션의류          원피스\n",
      "1  2024-07-17     2  패션의류         블라우스\n",
      "2  2024-07-17     3  패션의류          티셔츠\n",
      "3  2024-07-17     4  패션의류        여름원피스\n",
      "4  2024-07-17     5  패션의류  써스데이아일랜드원피스\n",
      "Index(['날짜', 'Rank', '카테고리', 'List'], dtype='object')\n"
     ]
    },
    {
     "ename": "ProgrammingError",
     "evalue": "1064 (42000): You have an error in your SQL syntax; check the manual that corresponds to your MySQL server version for the right syntax to use near 'Rank VARCHAR(10),\n    List VARCHAR(255)\n)' at line 5",
     "output_type": "error",
     "traceback": [
      "\u001b[1;31m---------------------------------------------------------------------------\u001b[0m",
      "\u001b[1;31mMySQLInterfaceError\u001b[0m                       Traceback (most recent call last)",
      "File \u001b[1;32mc:\\Users\\Admin\\miniconda3\\envs\\webcrawl_env\\lib\\site-packages\\mysql\\connector\\connection_cext.py:772\u001b[0m, in \u001b[0;36mCMySQLConnection.cmd_query\u001b[1;34m(self, query, raw, buffered, raw_as_string, **kwargs)\u001b[0m\n\u001b[0;32m    770\u001b[0m     \u001b[38;5;28mself\u001b[39m\u001b[38;5;241m.\u001b[39m_local_infile_filenames \u001b[38;5;241m=\u001b[39m \u001b[38;5;28;01mNone\u001b[39;00m\n\u001b[1;32m--> 772\u001b[0m     \u001b[38;5;28;43mself\u001b[39;49m\u001b[38;5;241;43m.\u001b[39;49m\u001b[43m_cmysql\u001b[49m\u001b[38;5;241;43m.\u001b[39;49m\u001b[43mquery\u001b[49m\u001b[43m(\u001b[49m\n\u001b[0;32m    773\u001b[0m \u001b[43m        \u001b[49m\u001b[43mquery\u001b[49m\u001b[43m,\u001b[49m\n\u001b[0;32m    774\u001b[0m \u001b[43m        \u001b[49m\u001b[43mraw\u001b[49m\u001b[38;5;241;43m=\u001b[39;49m\u001b[43mraw\u001b[49m\u001b[43m,\u001b[49m\n\u001b[0;32m    775\u001b[0m \u001b[43m        \u001b[49m\u001b[43mbuffered\u001b[49m\u001b[38;5;241;43m=\u001b[39;49m\u001b[43mbuffered\u001b[49m\u001b[43m,\u001b[49m\n\u001b[0;32m    776\u001b[0m \u001b[43m        \u001b[49m\u001b[43mraw_as_string\u001b[49m\u001b[38;5;241;43m=\u001b[39;49m\u001b[43mraw_as_string\u001b[49m\u001b[43m,\u001b[49m\n\u001b[0;32m    777\u001b[0m \u001b[43m        \u001b[49m\u001b[43mquery_attrs\u001b[49m\u001b[38;5;241;43m=\u001b[39;49m\u001b[38;5;28;43mself\u001b[39;49m\u001b[38;5;241;43m.\u001b[39;49m\u001b[43mquery_attrs\u001b[49m\u001b[43m,\u001b[49m\n\u001b[0;32m    778\u001b[0m \u001b[43m    \u001b[49m\u001b[43m)\u001b[49m\n\u001b[0;32m    779\u001b[0m \u001b[38;5;28;01mexcept\u001b[39;00m MySQLInterfaceError \u001b[38;5;28;01mas\u001b[39;00m err:\n",
      "\u001b[1;31mMySQLInterfaceError\u001b[0m: You have an error in your SQL syntax; check the manual that corresponds to your MySQL server version for the right syntax to use near 'Rank VARCHAR(10),\n    List VARCHAR(255)\n)' at line 5",
      "\nThe above exception was the direct cause of the following exception:\n",
      "\u001b[1;31mProgrammingError\u001b[0m                          Traceback (most recent call last)",
      "Cell \u001b[1;32mIn[22], line 13\u001b[0m\n\u001b[0;32m     10\u001b[0m sqlite_conn \u001b[38;5;241m=\u001b[39m sqlite3\u001b[38;5;241m.\u001b[39mconnect(\u001b[38;5;124m'\u001b[39m\u001b[38;5;124mDatalab.db\u001b[39m\u001b[38;5;124m'\u001b[39m)\n\u001b[0;32m     11\u001b[0m sqlite_cursor \u001b[38;5;241m=\u001b[39m sqlite_conn\u001b[38;5;241m.\u001b[39mcursor()\n\u001b[1;32m---> 13\u001b[0m \u001b[43mmysql_cursor\u001b[49m\u001b[38;5;241;43m.\u001b[39;49m\u001b[43mexecute\u001b[49m\u001b[43m(\u001b[49m\u001b[38;5;124;43m'''\u001b[39;49m\n\u001b[0;32m     14\u001b[0m \u001b[38;5;124;43mCREATE TABLE IF NOT EXISTS datalab_ranking (\u001b[39;49m\n\u001b[0;32m     15\u001b[0m \u001b[38;5;124;43m    id INT AUTO_INCREMENT PRIMARY KEY,\u001b[39;49m\n\u001b[0;32m     16\u001b[0m \u001b[38;5;124;43m    날짜 VARCHAR(20),\u001b[39;49m\n\u001b[0;32m     17\u001b[0m \u001b[38;5;124;43m    카테고리 VARCHAR(50),\u001b[39;49m\n\u001b[0;32m     18\u001b[0m \u001b[38;5;124;43m    Rank VARCHAR(10),\u001b[39;49m\n\u001b[0;32m     19\u001b[0m \u001b[38;5;124;43m    List VARCHAR(255)\u001b[39;49m\n\u001b[0;32m     20\u001b[0m \u001b[38;5;124;43m)\u001b[39;49m\n\u001b[0;32m     21\u001b[0m \u001b[38;5;124;43m'''\u001b[39;49m\u001b[43m)\u001b[49m\n\u001b[0;32m     23\u001b[0m mysql_cursor\u001b[38;5;241m.\u001b[39mexecutemany(\n\u001b[0;32m     24\u001b[0m     \u001b[38;5;124m\"\u001b[39m\u001b[38;5;124mINSERT INTO datalab_ranking (날짜, 카테고리, Rank, List) VALUES (\u001b[39m\u001b[38;5;132;01m%s\u001b[39;00m\u001b[38;5;124m, \u001b[39m\u001b[38;5;132;01m%s\u001b[39;00m\u001b[38;5;124m, \u001b[39m\u001b[38;5;132;01m%s\u001b[39;00m\u001b[38;5;124m, \u001b[39m\u001b[38;5;132;01m%s\u001b[39;00m\u001b[38;5;124m)\u001b[39m\u001b[38;5;124m\"\u001b[39m,\n\u001b[0;32m     25\u001b[0m     df[[\u001b[38;5;124m'\u001b[39m\u001b[38;5;124m날짜\u001b[39m\u001b[38;5;124m'\u001b[39m, \u001b[38;5;124m'\u001b[39m\u001b[38;5;124m카테고리\u001b[39m\u001b[38;5;124m'\u001b[39m, \u001b[38;5;124m'\u001b[39m\u001b[38;5;124mRank\u001b[39m\u001b[38;5;124m'\u001b[39m, \u001b[38;5;124m'\u001b[39m\u001b[38;5;124mList\u001b[39m\u001b[38;5;124m'\u001b[39m]]\u001b[38;5;241m.\u001b[39mvalues\u001b[38;5;241m.\u001b[39mtolist()\n\u001b[0;32m     26\u001b[0m )\n\u001b[0;32m     27\u001b[0m mysql_conn\u001b[38;5;241m.\u001b[39mcommit()\n",
      "File \u001b[1;32mc:\\Users\\Admin\\miniconda3\\envs\\webcrawl_env\\lib\\site-packages\\mysql\\connector\\cursor_cext.py:353\u001b[0m, in \u001b[0;36mCMySQLCursor.execute\u001b[1;34m(self, operation, params, map_results)\u001b[0m\n\u001b[0;32m    345\u001b[0m \u001b[38;5;28mself\u001b[39m\u001b[38;5;241m.\u001b[39m_executed \u001b[38;5;241m=\u001b[39m (\n\u001b[0;32m    346\u001b[0m     \u001b[38;5;28mself\u001b[39m\u001b[38;5;241m.\u001b[39m_stmt_partition[\u001b[38;5;124m\"\u001b[39m\u001b[38;5;124msingle_stmts\u001b[39m\u001b[38;5;124m\"\u001b[39m]\u001b[38;5;241m.\u001b[39mpopleft()\n\u001b[0;32m    347\u001b[0m     \u001b[38;5;28;01mif\u001b[39;00m map_results\n\u001b[0;32m    348\u001b[0m     \u001b[38;5;28;01melse\u001b[39;00m \u001b[38;5;28mself\u001b[39m\u001b[38;5;241m.\u001b[39m_stmt_partition[\u001b[38;5;124m\"\u001b[39m\u001b[38;5;124mmappable_stmt\u001b[39m\u001b[38;5;124m\"\u001b[39m]\n\u001b[0;32m    349\u001b[0m )\n\u001b[0;32m    351\u001b[0m \u001b[38;5;28;01mtry\u001b[39;00m:\n\u001b[0;32m    352\u001b[0m     \u001b[38;5;28mself\u001b[39m\u001b[38;5;241m.\u001b[39m_handle_result(\n\u001b[1;32m--> 353\u001b[0m         \u001b[38;5;28;43mself\u001b[39;49m\u001b[38;5;241;43m.\u001b[39;49m\u001b[43m_connection\u001b[49m\u001b[38;5;241;43m.\u001b[39;49m\u001b[43mcmd_query\u001b[49m\u001b[43m(\u001b[49m\n\u001b[0;32m    354\u001b[0m \u001b[43m            \u001b[49m\u001b[38;5;28;43mself\u001b[39;49m\u001b[38;5;241;43m.\u001b[39;49m\u001b[43m_stmt_partition\u001b[49m\u001b[43m[\u001b[49m\u001b[38;5;124;43m\"\u001b[39;49m\u001b[38;5;124;43mmappable_stmt\u001b[39;49m\u001b[38;5;124;43m\"\u001b[39;49m\u001b[43m]\u001b[49m\u001b[43m,\u001b[49m\n\u001b[0;32m    355\u001b[0m \u001b[43m            \u001b[49m\u001b[43mraw\u001b[49m\u001b[38;5;241;43m=\u001b[39;49m\u001b[38;5;28;43mself\u001b[39;49m\u001b[38;5;241;43m.\u001b[39;49m\u001b[43m_raw\u001b[49m\u001b[43m,\u001b[49m\n\u001b[0;32m    356\u001b[0m \u001b[43m            \u001b[49m\u001b[43mbuffered\u001b[49m\u001b[38;5;241;43m=\u001b[39;49m\u001b[38;5;28;43mself\u001b[39;49m\u001b[38;5;241;43m.\u001b[39;49m\u001b[43m_buffered\u001b[49m\u001b[43m,\u001b[49m\n\u001b[0;32m    357\u001b[0m \u001b[43m            \u001b[49m\u001b[43mraw_as_string\u001b[49m\u001b[38;5;241;43m=\u001b[39;49m\u001b[38;5;28;43mself\u001b[39;49m\u001b[38;5;241;43m.\u001b[39;49m\u001b[43m_raw_as_string\u001b[49m\u001b[43m,\u001b[49m\n\u001b[0;32m    358\u001b[0m \u001b[43m        \u001b[49m\u001b[43m)\u001b[49m\n\u001b[0;32m    359\u001b[0m     )\n\u001b[0;32m    360\u001b[0m \u001b[38;5;28;01mexcept\u001b[39;00m MySQLInterfaceError \u001b[38;5;28;01mas\u001b[39;00m err:\n\u001b[0;32m    361\u001b[0m     \u001b[38;5;28;01mif\u001b[39;00m \u001b[38;5;28mhasattr\u001b[39m(err, \u001b[38;5;124m\"\u001b[39m\u001b[38;5;124merrno\u001b[39m\u001b[38;5;124m\"\u001b[39m):\n",
      "File \u001b[1;32mc:\\Users\\Admin\\miniconda3\\envs\\webcrawl_env\\lib\\site-packages\\mysql\\connector\\opentelemetry\\context_propagation.py:97\u001b[0m, in \u001b[0;36mwith_context_propagation.<locals>.wrapper\u001b[1;34m(cnx, *args, **kwargs)\u001b[0m\n\u001b[0;32m     95\u001b[0m \u001b[38;5;66;03m# pylint: disable=possibly-used-before-assignment\u001b[39;00m\n\u001b[0;32m     96\u001b[0m \u001b[38;5;28;01mif\u001b[39;00m \u001b[38;5;129;01mnot\u001b[39;00m OTEL_ENABLED \u001b[38;5;129;01mor\u001b[39;00m \u001b[38;5;129;01mnot\u001b[39;00m cnx\u001b[38;5;241m.\u001b[39motel_context_propagation:\n\u001b[1;32m---> 97\u001b[0m     \u001b[38;5;28;01mreturn\u001b[39;00m method(cnx, \u001b[38;5;241m*\u001b[39margs, \u001b[38;5;241m*\u001b[39m\u001b[38;5;241m*\u001b[39mkwargs)\n\u001b[0;32m     99\u001b[0m current_span \u001b[38;5;241m=\u001b[39m trace\u001b[38;5;241m.\u001b[39mget_current_span()\n\u001b[0;32m    100\u001b[0m tp_header \u001b[38;5;241m=\u001b[39m \u001b[38;5;28;01mNone\u001b[39;00m\n",
      "File \u001b[1;32mc:\\Users\\Admin\\miniconda3\\envs\\webcrawl_env\\lib\\site-packages\\mysql\\connector\\connection_cext.py:781\u001b[0m, in \u001b[0;36mCMySQLConnection.cmd_query\u001b[1;34m(self, query, raw, buffered, raw_as_string, **kwargs)\u001b[0m\n\u001b[0;32m    779\u001b[0m \u001b[38;5;28;01mexcept\u001b[39;00m MySQLInterfaceError \u001b[38;5;28;01mas\u001b[39;00m err:\n\u001b[0;32m    780\u001b[0m     \u001b[38;5;28;01mif\u001b[39;00m \u001b[38;5;28mhasattr\u001b[39m(err, \u001b[38;5;124m\"\u001b[39m\u001b[38;5;124merrno\u001b[39m\u001b[38;5;124m\"\u001b[39m):\n\u001b[1;32m--> 781\u001b[0m         \u001b[38;5;28;01mraise\u001b[39;00m get_mysql_exception(\n\u001b[0;32m    782\u001b[0m             err\u001b[38;5;241m.\u001b[39merrno, msg\u001b[38;5;241m=\u001b[39merr\u001b[38;5;241m.\u001b[39mmsg, sqlstate\u001b[38;5;241m=\u001b[39merr\u001b[38;5;241m.\u001b[39msqlstate\n\u001b[0;32m    783\u001b[0m         ) \u001b[38;5;28;01mfrom\u001b[39;00m\u001b[38;5;250m \u001b[39m\u001b[38;5;21;01merr\u001b[39;00m\n\u001b[0;32m    784\u001b[0m     \u001b[38;5;28;01mraise\u001b[39;00m InterfaceError(\u001b[38;5;28mstr\u001b[39m(err)) \u001b[38;5;28;01mfrom\u001b[39;00m\u001b[38;5;250m \u001b[39m\u001b[38;5;21;01merr\u001b[39;00m\n\u001b[0;32m    785\u001b[0m \u001b[38;5;28;01mexcept\u001b[39;00m \u001b[38;5;167;01mAttributeError\u001b[39;00m \u001b[38;5;28;01mas\u001b[39;00m err:\n",
      "\u001b[1;31mProgrammingError\u001b[0m: 1064 (42000): You have an error in your SQL syntax; check the manual that corresponds to your MySQL server version for the right syntax to use near 'Rank VARCHAR(10),\n    List VARCHAR(255)\n)' at line 5"
     ]
    }
   ],
   "source": [
    "import pandas as pd\n",
    "import sqlite3\n",
    "\n",
    "# 1. CSV 데이터프레임 불러오기\n",
    "df = pd.read_csv('rank_data_10perday.csv')\n",
    "print(df.head())         # 데이터 확인\n",
    "print(df.columns)        # 컬럼 확인\n",
    "\n",
    "# 2. SQLite 연결\n",
    "sqlite_conn = sqlite3.connect('Datalab.db')\n",
    "sqlite_cursor = sqlite_conn.cursor()\n",
    "\n",
    "# 3. 테이블 DROP & CREATE (컬럼명 대소문자까지 완전히 일치!)\n",
    "sqlite_cursor.execute(\"DROP TABLE IF EXISTS datalab_ranking\")\n",
    "sqlite_cursor.execute('''\n",
    "CREATE TABLE datalab_ranking (\n",
    "    id INTEGER PRIMARY KEY AUTOINCREMENT,\n",
    "    날짜 VARCHAR(20),\n",
    "    카테고리 VARCHAR(50),\n",
    "    Rank VARCHAR(10),\n",
    "    List VARCHAR(255)\n",
    ")\n",
    "''')\n",
    "\n",
    "# 4. 데이터 삽입\n",
    "sqlite_cursor.executemany(\n",
    "    \"INSERT INTO datalab_ranking ( 날짜, 카테고리, Rank, List) VALUES (?, ?, ?, ?)\",\n",
    "    df[['날짜', '카테고리', 'Rank', 'List']].values.tolist()\n",
    ")\n",
    "sqlite_conn.commit()\n",
    "\n",
    "# 5. 데이터 조회\n",
    "sqlite_cursor.execute(\"SELECT * FROM datalab_ranking\")\n",
    "rows = sqlite_cursor.fetchall()\n",
    "print(\"데이터 개수:\", len(rows))\n",
    "for r in rows[:10]:\n",
    "    print(r)\n",
    "\n",
    "sqlite_conn.close()\n"
   ]
  },
  {
   "cell_type": "code",
   "execution_count": 25,
   "id": "18c14430",
   "metadata": {},
   "outputs": [
    {
     "name": "stdout",
     "output_type": "stream",
     "text": [
      "MySQL 데이터 개수: 110\n"
     ]
    }
   ],
   "source": [
    "# 6. MySQL 연결\n",
    "import mysql.connector\n",
    "\n",
    "mysql_conn = mysql.connector.connect(\n",
    "    host='localhost',\n",
    "    user='root',\n",
    "    password='1234',\n",
    "    database='naver_datalab',\n",
    "    charset='utf8mb4'\n",
    ")\n",
    "mysql_cursor = mysql_conn.cursor()\n",
    "\n",
    "# 7. MySQL 테이블 생성 (없으면 생성)\n",
    "mysql_cursor.execute('''\n",
    "CREATE TABLE IF NOT EXISTS datalab_ranking (\n",
    "    id INT AUTO_INCREMENT PRIMARY KEY,\n",
    "    날짜 VARCHAR(20),\n",
    "    카테고리 VARCHAR(50),\n",
    "    `Rank` VARCHAR(10),\n",
    "    List VARCHAR(255)\n",
    ")\n",
    "''')\n",
    "\n",
    "# 8. 데이터 삽입\n",
    "mysql_cursor.executemany(\n",
    "    \"INSERT INTO datalab_ranking (날짜, 카테고리, `Rank`, List) VALUES (%s, %s, %s, %s)\",\n",
    "    df[['날짜', '카테고리', 'Rank', 'List']].values.tolist()\n",
    ")\n",
    "mysql_conn.commit()\n",
    "\n",
    "# 9. 확인용 조회\n",
    "mysql_cursor.execute(\"SELECT COUNT(*) FROM datalab_ranking\")\n",
    "print(\"MySQL 데이터 개수:\", mysql_cursor.fetchone()[0])\n",
    "\n",
    "mysql_conn.close()"
   ]
  },
  {
   "cell_type": "code",
   "execution_count": 77,
   "id": "61535392",
   "metadata": {},
   "outputs": [
    {
     "name": "stdout",
     "output_type": "stream",
     "text": [
      "Index(['날짜', 'Rank', '카테고리', 'List'], dtype='object')\n"
     ]
    }
   ],
   "source": [
    "print(df.columns)"
   ]
  },
  {
   "cell_type": "code",
   "execution_count": 78,
   "id": "97ff6913",
   "metadata": {},
   "outputs": [
    {
     "name": "stdout",
     "output_type": "stream",
     "text": [
      "[(0, 'id', 'INTEGER', 0, None, 1), (1, '날짜', 'VARCHAR(20)', 0, None, 0), (2, '카테고리', 'VARCHAR(50)', 0, None, 0), (3, '랭크', 'VARCHAR(10)', 0, None, 0), (4, '키워드', 'VARCHAR(255)', 0, None, 0)]\n"
     ]
    }
   ],
   "source": [
    "sqlite_cursor.execute(\"PRAGMA table_info(datalab_ranking)\")\n",
    "print(sqlite_cursor.fetchall())"
   ]
  },
  {
   "cell_type": "code",
   "execution_count": 79,
   "id": "baa8c6bd",
   "metadata": {},
   "outputs": [
    {
     "name": "stdout",
     "output_type": "stream",
     "text": [
      "           날짜  카테고리  Rank   List\n",
      "0  2024-07-17  패션의류     1    원피스\n",
      "1  2024-07-17  패션의류     2     우비\n",
      "2  2024-07-17  패션의류     3   블라우스\n",
      "3  2024-07-17  패션의류     4    티셔츠\n",
      "4  2024-07-17  패션의류     5  여름원피스\n"
     ]
    }
   ],
   "source": [
    "print(df[['날짜', '카테고리', 'Rank', 'List']].head())"
   ]
  }
 ],
 "metadata": {
  "kernelspec": {
   "display_name": "webcrawl_env",
   "language": "python",
   "name": "python3"
  },
  "language_info": {
   "codemirror_mode": {
    "name": "ipython",
    "version": 3
   },
   "file_extension": ".py",
   "mimetype": "text/x-python",
   "name": "python",
   "nbconvert_exporter": "python",
   "pygments_lexer": "ipython3",
   "version": "3.10.18"
  }
 },
 "nbformat": 4,
 "nbformat_minor": 5
}
