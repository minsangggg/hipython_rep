{
 "cells": [
  {
   "cell_type": "markdown",
   "id": "4d4a21c3",
   "metadata": {},
   "source": [
    "#content > div.spot.section_keyword > div.home_section.active > div > div.keyword_carousel > div > div > div:nth-child(9) > div > div > ul > li:nth-child(1) > a > em"
   ]
  },
  {
   "cell_type": "markdown",
   "id": "88e8a3d6",
   "metadata": {},
   "source": [
    "#content > div.spot.section_keyword > div.home_section.active > div > div.keyword_carousel > div > div > div:nth-child(10) > div > div > ul > li:nth-child(1) > a > span"
   ]
  },
  {
   "cell_type": "code",
   "execution_count": null,
   "id": "21855a10",
   "metadata": {},
   "outputs": [],
   "source": [
    "import pandas as pd\n",
    "from datetime import datetime\n",
    "\n",
    "# 기존 csv 불러오기\n",
    "df = pd.read_csv('rank_data.csv')\n",
    "\n",
    "# 오늘 날짜 컬럼 추가\n",
    "df['날짜'] = datetime.today().strftime('%Y-%m-%d')\n",
    "\n",
    "# 컬럼 순서 바꾸기 (날짜, Rank, List)\n",
    "df = df[['날짜', 'Rank', 'List']]\n",
    "\n",
    "# 새 파일로 저장\n",
    "df.to_csv('rank_data_with_date.csv', encoding='utf-8-sig', index=False)\n",
    "print(df.head())"
   ]
  },
  {
   "cell_type": "code",
   "execution_count": 33,
   "id": "4a59b5e9",
   "metadata": {},
   "outputs": [
    {
     "name": "stdout",
     "output_type": "stream",
     "text": [
      "CSV 저장 완료: rank_data.csv\n"
     ]
    }
   ],
   "source": [
    "import requests\n",
    "from bs4 import BeautifulSoup\n",
    "import pandas as pd\n",
    "\n",
    "#url = 'https://datalab.naver.com/keyword/realtimeList.naver?where=main'\n",
    "url = \"https://datalab.naver.com/\"\n",
    "res = requests.get(url)\n",
    "soup = BeautifulSoup(res.content, 'html.parser')\n",
    "\n",
    "\n",
    "rank_list = soup.select(\"ul.rank_list em\")\n",
    "list_list = soup.select(\"ul.rank_list span\")\n",
    "import csv\n",
    "\n",
    "\n",
    "ranks = [rank.get_text(strip=True) for rank in rank_list]\n",
    "lists = [item.get_text(strip=True) for item in list_list]\n",
    "\n",
    "\n",
    "with open(\"rank_data.csv\", \"w\", newline=\"\", encoding=\"utf-8-sig\") as f:\n",
    "    writer = csv.writer(f)\n",
    "    writer.writerow([\"Rank\", \"List\"])\n",
    "\n",
    "    for r, l in zip(ranks, lists):\n",
    "        writer.writerow([r, l])\n",
    "\n",
    "print(\"CSV 저장 완료: rank_data.csv\")\n"
   ]
  },
  {
   "cell_type": "code",
   "execution_count": 45,
   "id": "b1a13b2b",
   "metadata": {},
   "outputs": [
    {
     "name": "stdout",
     "output_type": "stream",
     "text": [
      "            날짜  Rank         List\n",
      "0   2024-07-17     1          원피스\n",
      "1   2024-07-17     2           우비\n",
      "2   2024-07-17     3         블라우스\n",
      "3   2024-07-17     4          티셔츠\n",
      "4   2024-07-17     5        여름원피스\n",
      "5   2024-07-17     6       리스트원피스\n",
      "6   2024-07-17     7  써스데이아일랜드원피스\n",
      "7   2024-07-17     8       시슬리원피스\n",
      "8   2024-07-17     9       지고트원피스\n",
      "9   2024-07-17    10        듀엘원피스\n",
      "10  2024-07-18     1          원피스\n",
      "11  2024-07-18     2         블라우스\n",
      "12  2024-07-18     3          티셔츠\n",
      "13  2024-07-18     4        여름원피스\n",
      "14  2024-07-18     5  써스데이아일랜드원피스\n",
      "15  2024-07-18     6        듀엘원피스\n",
      "16  2024-07-18     7      쉬즈미스원피스\n",
      "17  2024-07-18     8       지고트원피스\n",
      "18  2024-07-18     9       시슬리원피스\n",
      "19  2024-07-18    10       잇미샤원피스\n"
     ]
    }
   ],
   "source": [
    "import pandas as pd\n",
    "\n",
    "# 1. 데이터 불러오기\n",
    "df = pd.read_csv('rank_data.csv')\n",
    "\n",
    "# 2. 날짜 리스트(예시: 17~26일까지 10개)\n",
    "dates = [f\"2024-07-{str(day).zfill(2)}\" for day in range(17, 29)]  # 17일~26일(10개)\n",
    "# 만약 17~28일까지 12개면 range(17,29)\n",
    "\n",
    "# 3. 날짜를 10개씩 반복해서 전체 데이터 수에 맞게 생성\n",
    "# (len(df) = 100이면, dates[0] * 10, dates[1] * 10, ...)\n",
    "date_col = []\n",
    "for d in dates:\n",
    "    date_col += [d] * 10\n",
    "\n",
    "# 4. 데이터 행 수와 날짜 리스트가 정확히 일치해야 함!\n",
    "df['날짜'] = date_col[:len(df)]\n",
    "\n",
    "# 5. 컬럼 순서 정리 후 저장\n",
    "df = df[['날짜', 'Rank', 'List']]\n",
    "df.to_csv('rank_data_10perday.csv', encoding='utf-8-sig', index=False)\n",
    "print(df.head(20))"
   ]
  },
  {
   "cell_type": "markdown",
   "id": "aa123cea",
   "metadata": {},
   "source": [
    "-----------------------------------------------------------------------------"
   ]
  }
 ],
 "metadata": {
  "kernelspec": {
   "display_name": "webcrawl_env",
   "language": "python",
   "name": "python3"
  },
  "language_info": {
   "codemirror_mode": {
    "name": "ipython",
    "version": 3
   },
   "file_extension": ".py",
   "mimetype": "text/x-python",
   "name": "python",
   "nbconvert_exporter": "python",
   "pygments_lexer": "ipython3",
   "version": "3.10.18"
  }
 },
 "nbformat": 4,
 "nbformat_minor": 5
}
