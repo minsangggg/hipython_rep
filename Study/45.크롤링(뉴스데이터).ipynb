{
 "cells": [
  {
   "cell_type": "code",
   "execution_count": null,
   "id": "048fc833",
   "metadata": {},
   "outputs": [],
   "source": [
    "import requests   #웹페이지 내용 받아오기\n",
    "from bs4 import BeautifulSoup #HTML/XML 등 웹 문서를 파싱(분석)해서 원하는 데이터를 뽑기"
   ]
  },
  {
   "cell_type": "code",
   "execution_count": null,
   "id": "be751845",
   "metadata": {},
   "outputs": [
    {
     "name": "stdout",
     "output_type": "stream",
     "text": [
      "기사 개수: 29\n"
     ]
    }
   ],
   "source": [
    "news_rss=requests.get('https://news.sbs.co.kr/news/SectionRssFeed.do?sectionId=07') #RSS주소에서 데이터 받아오기\n",
    "news_rss_soup=BeautifulSoup(news_rss.content,'xml') #RSS 데이터를 XML파서로 BeautifulSoup에 넣어서 태그 구조로 다루기 쉽게\n",
    "link_list=news_rss_soup.select('item > link') #각 뉴스 기사의 링크 태그만 모두 뽑아서 리스트로 저장\n",
    "print('기사 개수:', len(link_list))"
   ]
  },
  {
   "cell_type": "code",
   "execution_count": null,
   "id": "337e9510",
   "metadata": {},
   "outputs": [],
   "source": [
    "title_list=news_rss_soup.select('item>title') #각 뉴스 기사의 제목태그만 모두 뽑아 리스트로 저장\n",
    "title_list=[title.text for title in title_list] #.text로 텍스트만 추출해서 리스트 완성\n",
    "\n",
    "news_data=[] #뉴스 본문 데이터를 저장할 빈 리스트 생성\n",
    "\n",
    "for link in link_list:\n",
    "    news_response=requests.get(link.text) #각 뉴스 기사 웹페이지에 접속해서 받아옴\n",
    "    news_content_soup=BeautifulSoup(news_response.content, 'html.parser') #html.parser로 BeautifulSoup에 넣어 파싱\n",
    "    news_content=news_content_soup.select_one(\"div[itemprop=articleBody]\") #기사 본문 내용(div[itemprop=articleBody])만 추출\n",
    "    news_data.append(news_content) #결과를 news_data에 하나씩 저장"
   ]
  },
  {
   "cell_type": "code",
   "execution_count": null,
   "id": "b3edbf84",
   "metadata": {},
   "outputs": [
    {
     "name": "stdout",
     "output_type": "stream",
     "text": [
      "Save complete\n"
     ]
    }
   ],
   "source": [
    "import pandas as pd\n",
    "news_df=pd.DataFrame(data={'title': title_list,'content':news_data}) #제목과 본문을 dataframe으로 저장\n",
    "news_df.to_csv(\"news.csv\",encoding=\"utf-8-sig\", index=False)\n",
    "print(\"Save complete\")\n",
    "                           "
   ]
  },
  {
   "cell_type": "code",
   "execution_count": null,
   "id": "0b84a52b",
   "metadata": {},
   "outputs": [],
   "source": []
  }
 ],
 "metadata": {
  "kernelspec": {
   "display_name": "webcrawl_env",
   "language": "python",
   "name": "python3"
  },
  "language_info": {
   "codemirror_mode": {
    "name": "ipython",
    "version": 3
   },
   "file_extension": ".py",
   "mimetype": "text/x-python",
   "name": "python",
   "nbconvert_exporter": "python",
   "pygments_lexer": "ipython3",
   "version": "3.10.18"
  }
 },
 "nbformat": 4,
 "nbformat_minor": 5
}
