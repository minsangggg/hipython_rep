{
 "cells": [
  {
   "cell_type": "markdown",
   "id": "2fd438ea",
   "metadata": {},
   "source": [
    "## 상관관계"
   ]
  },
  {
   "cell_type": "markdown",
   "id": "56093fec",
   "metadata": {},
   "source": [
    "#### 키와 몸무게 간의 관계"
   ]
  },
  {
   "cell_type": "code",
   "execution_count": 41,
   "id": "bbcfa915",
   "metadata": {},
   "outputs": [
    {
     "name": "stdout",
     "output_type": "stream",
     "text": [
      "피어슨 상관계수: 0.99\n",
      "p-값: 0.0006\n"
     ]
    }
   ],
   "source": [
    "import pandas as pd\n",
    "from scipy.stats import pearsonr\n",
    "\n",
    "# 예시 데이터\n",
    "data = {\n",
    "    'height': [160, 165, 170, 175, 180],\n",
    "    'weight': [50, 55, 65, 70, 80]\n",
    "}\n",
    "df = pd.DataFrame(data)\n",
    "\n",
    "# 피어슨 상관계수 계산\n",
    "corr, p_value = pearsonr(df['height'], df['weight'])\n",
    "\n",
    "print(f\"피어슨 상관계수: {corr:.2f}\")\n",
    "print(f\"p-값: {p_value:.4f}\")\n"
   ]
  },
  {
   "cell_type": "markdown",
   "id": "672aef76",
   "metadata": {},
   "source": [
    "#### 스트레스와 우울에 대한 상관관계"
   ]
  },
  {
   "cell_type": "code",
   "execution_count": 84,
   "id": "5cd10180",
   "metadata": {},
   "outputs": [
    {
     "name": "stdout",
     "output_type": "stream",
     "text": [
      "Index(['날짜', '스트레스', '날짜.1', '우울'], dtype='object')\n",
      "피어슨 상관계수: 0.55\n",
      "p-값: 0.0000\n",
      "상관계수 (절대값 기준): 55.4%\n"
     ]
    }
   ],
   "source": [
    "import pandas as pd\n",
    "from scipy.stats import pearsonr\n",
    "import matplotlib.pyplot as plt\n",
    "\n",
    "# 1. 엑셀 파일 읽기 (필요 없는 행이 있다면 skiprows, header 옵션 활용)\n",
    "# 예: 컬럼명이 7번째 줄에 있다면, skiprows=6, header=0\n",
    "df = pd.read_excel('./datalab.xlsx', skiprows=0)   # 필요시 skiprows=6로 바꿔 시도\n",
    "\n",
    "# 2. 컬럼명 확인 및 정리\n",
    "print(df.columns)   # 실제 컬럼명 확인 (예: '날짜', '스트레스', '날짜.1', '우울')\n",
    "\n",
    "# 3. 컬럼명 한글 → 영문(혹은 분석하기 편한 이름)으로 변경\n",
    "df = df.rename(columns={\n",
    "    '스트레스': 'stress',\n",
    "    '우울': 'depress',\n",
    "    '날짜': 'date'\n",
    "})\n",
    "\n",
    "# 4. 필요 컬럼만 추출 (중복 날짜가 있으면 하나만 남기기)\n",
    "df = df[['date', 'stress', 'depress']]\n",
    "\n",
    "# 5. 데이터 타입 변환 (문자열이면 int로 변환)\n",
    "df['stress'] = df['stress'].astype(int)\n",
    "df['depress'] = df['depress'].astype(int)\n",
    "\n",
    "# 6. 상관계수 계산\n",
    "corr, p_value = pearsonr(df['stress'], df['depress'])\n",
    "corr_percent = abs(corr) * 100\n",
    "\n",
    "print(f\"피어슨 상관계수: {corr:.2f}\")\n",
    "print(f\"p-값: {p_value:.4f}\")\n",
    "print(f\"상관계수 (절대값 기준): {corr_percent:.1f}%\")\n"
   ]
  },
  {
   "cell_type": "code",
   "execution_count": 22,
   "id": "e195346c",
   "metadata": {},
   "outputs": [],
   "source": [
    "from matplotlib import rcParams\n",
    "rcParams['font.family'] = 'Gulim'  #한글 깨짐 방지\n",
    "rcParams['axes.unicode_minus'] = False     "
   ]
  },
  {
   "cell_type": "code",
   "execution_count": 82,
   "id": "9447498a",
   "metadata": {},
   "outputs": [
    {
     "data": {
      "image/png": "[encoded data removed]",
      "text/plain": [
       "<Figure size 700x500 with 1 Axes>"
      ]
     },
     "metadata": {},
     "output_type": "display_data"
    }
   ],
   "source": [
    "# 7. 산점도 시각화\n",
    "plt.figure(figsize=(7,5))\n",
    "plt.scatter(df['stress'], df['depress'])\n",
    "plt.title(f\"Stress vs. Depression\")\n",
    "plt.xlabel('Stress')\n",
    "plt.ylabel('Depression')\n",
    "plt.show()"
   ]
  },
  {
   "cell_type": "markdown",
   "id": "f747aed6",
   "metadata": {},
   "source": [
    "#### 스피어만 상관계수\n",
    "\n",
    "- 학생 성적 순위와 스포츠 성적 순위 간의 관계."
   ]
  },
  {
   "cell_type": "code",
   "execution_count": 83,
   "id": "f2e3d23e",
   "metadata": {},
   "outputs": [
    {
     "name": "stdout",
     "output_type": "stream",
     "text": [
      "스피어만 상관계수: 0.300\n",
      "p-value: 0.6238\n"
     ]
    }
   ],
   "source": [
    "import pandas as pd\n",
    "from scipy.stats import spearmanr\n",
    "\n",
    "# 데이터프레임 구성\n",
    "data = {\n",
    "    'student': ['A', 'B', 'C', 'D', 'E'],\n",
    "    'academic_rank': [1, 2, 3, 4, 5],\n",
    "    'sports_rank': [4, 2, 1, 3, 5]\n",
    "}\n",
    "df = pd.DataFrame(data)\n",
    "\n",
    "# 스피어만 상관계수 계산\n",
    "rho, pval = spearmanr(df['academic_rank'], df['sports_rank'])\n",
    "\n",
    "print(f\"스피어만 상관계수: {rho:.3f}\")\n",
    "print(f\"p-value: {pval:.4f}\")\n"
   ]
  }
 ],
 "metadata": {
  "kernelspec": {
   "display_name": "hipython",
   "language": "python",
   "name": "python3"
  },
  "language_info": {
   "codemirror_mode": {
    "name": "ipython",
    "version": 3
   },
   "file_extension": ".py",
   "mimetype": "text/x-python",
   "name": "python",
   "nbconvert_exporter": "python",
   "pygments_lexer": "ipython3",
   "version": "3.12.9"
  }
 },
 "nbformat": 4,
 "nbformat_minor": 5
}
