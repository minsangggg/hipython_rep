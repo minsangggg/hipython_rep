{
 "cells": [
  {
   "cell_type": "markdown",
   "id": "c8b36f35",
   "metadata": {},
   "source": [
    "# 파일 읽기"
   ]
  },
  {
   "cell_type": "code",
   "execution_count": 4,
   "id": "82e02572",
   "metadata": {},
   "outputs": [],
   "source": [
    "with open('abc/text.txt','w') as f:\n",
    "    f.write('hello')    "
   ]
  },
  {
   "cell_type": "code",
   "execution_count": 7,
   "id": "4c0c31f0",
   "metadata": {},
   "outputs": [],
   "source": [
    "f=open('abc/text.txt','r')\n",
    "f.read()\n",
    "f.close()"
   ]
  },
  {
   "cell_type": "code",
   "execution_count": 20,
   "id": "6b395702",
   "metadata": {},
   "outputs": [],
   "source": [
    "with open('abc/text.txt','w',encoding='utf-8') as f:\n",
    "    f.write('안녕하세요\\n')   \n",
    "    f.write('졸리네요\\n')    "
   ]
  },
  {
   "cell_type": "code",
   "execution_count": 21,
   "id": "d532ba4e",
   "metadata": {},
   "outputs": [
    {
     "name": "stdout",
     "output_type": "stream",
     "text": [
      "안녕하세요\n",
      "졸리네요\n",
      "\n"
     ]
    }
   ],
   "source": [
    "with open('abc/text.txt','r',encoding='utf-8') as f:\n",
    "    txtfile=f.read()   \n",
    "    print(txtfile)   "
   ]
  },
  {
   "cell_type": "code",
   "execution_count": 22,
   "id": "12f7ce70",
   "metadata": {},
   "outputs": [],
   "source": [
    "with open('abc/text.txt','a',encoding='utf-8') as f:\n",
    "    f.write('추가합니다\\n')   \n",
    "    f.write('야호')   "
   ]
  },
  {
   "cell_type": "code",
   "execution_count": 24,
   "id": "5da745e8",
   "metadata": {},
   "outputs": [
    {
     "name": "stdout",
     "output_type": "stream",
     "text": [
      "안녕하세요\n",
      "졸리네요\n",
      "추가합니다\n",
      "야호\n"
     ]
    }
   ],
   "source": [
    "with open('abc/text.txt','r',encoding='utf-8') as f:\n",
    "    txtfile=f.read()   \n",
    "    print(txtfile)   \n",
    "    "
   ]
  },
  {
   "cell_type": "code",
   "execution_count": 27,
   "id": "459462f6",
   "metadata": {},
   "outputs": [],
   "source": [
    "lines = [\n",
    "    \"Python 파일 입출력\\n\",\n",
    "    \"반복문을 사용하여 데이터를 저장합니다.\\n\",\n",
    "    \"데이터 처리가 편리합니다.\\n\"\n",
    "]\n",
    "\n",
    "with open(\"abc/text.txt\", \"w\", encoding=\"utf-8\") as file:\n",
    "    for line in lines:\n",
    "        file.write(line)"
   ]
  },
  {
   "cell_type": "code",
   "execution_count": 28,
   "id": "3ca34971",
   "metadata": {},
   "outputs": [],
   "source": [
    "lines=[\"첫 번째 줄입니다\\n\", \"두 번째 줄입니다\\n\",\"세 번째 줄입니다\\n\"]\n",
    "\n",
    "with open('output.txt','w') as f:\n",
    "    f.writelines(lines)"
   ]
  },
  {
   "cell_type": "code",
   "execution_count": 29,
   "id": "3a470899",
   "metadata": {},
   "outputs": [
    {
     "name": "stdout",
     "output_type": "stream",
     "text": [
      "Python 파일 입출력\n",
      "반복문을 사용하여 데이터를 저장합니다.\n",
      "데이터 처리가 편리합니다.\n",
      "\n"
     ]
    }
   ],
   "source": [
    "with open(\"abc/text.txt\", \"r\", encoding=\"utf-8\") as file:\n",
    "    content = file.read()\n",
    "    print(content)"
   ]
  },
  {
   "cell_type": "code",
   "execution_count": 44,
   "id": "34e05155",
   "metadata": {},
   "outputs": [
    {
     "name": "stdout",
     "output_type": "stream",
     "text": [
      "{'name': '홍길동', 'age': 30, 'scores': [90, 85, 88]}\n"
     ]
    }
   ],
   "source": [
    "import pickle\n",
    "\n",
    "# 직렬화할 데이터\n",
    "data = {\n",
    "    'name': '홍길동',\n",
    "    'age': 30,\n",
    "    'scores': [90, 85, 88]\n",
    "}\n",
    "\n",
    "# 직렬화하여 파일에 저장\n",
    "with open('data.pickle', 'wb') as f:\n",
    "    pickle.dump(data, f)\n",
    "\n",
    "# 파일에서 역직렬화하여 읽기\n",
    "with open('data.pickle', 'rb') as f:\n",
    "    loaded_data = pickle.load(f)\n",
    "\n",
    "print(loaded_data)  # 원본 데이터가 그대로 복원됨"
   ]
  },
  {
   "cell_type": "code",
   "execution_count": 55,
   "id": "8e4b11b3",
   "metadata": {},
   "outputs": [
    {
     "data": {
      "text/plain": [
       "[['name', 'age'], ['bob', 20], ['alice', 15]]"
      ]
     },
     "execution_count": 55,
     "metadata": {},
     "output_type": "execute_result"
    }
   ],
   "source": [
    "import csv\n",
    "data=[['name','age'],['bob',20],['alice',15]]\n",
    "data"
   ]
  },
  {
   "cell_type": "code",
   "execution_count": 49,
   "id": "3c82a194",
   "metadata": {},
   "outputs": [],
   "source": [
    "import json"
   ]
  },
  {
   "cell_type": "code",
   "execution_count": 54,
   "id": "6a4bfd20",
   "metadata": {},
   "outputs": [],
   "source": [
    "# 직렬화하여 파일에 저장\n",
    "with open('abc/data.json', 'w') as f:\n",
    "    json.dump(data, f, ensure_ascii=False)"
   ]
  },
  {
   "cell_type": "code",
   "execution_count": null,
   "id": "467a8a82",
   "metadata": {},
   "outputs": [
    {
     "name": "stdout",
     "output_type": "stream",
     "text": [
      "[['name', '홍길동'], ['bob', 20], ['alice', 15]]\n"
     ]
    }
   ],
   "source": [
    "with open('abc/data.json', 'r') as f:           #with문을 쓰면 작업이 끝난 후 자동으로 파일을 닫아줍니다\n",
    "    loaded_txt = json.load(f)         #json.load(f)는 JSON 형식의 문자열을 Python 객체로 변환합니다.\n",
    "\n",
    "print(loaded_txt)"
   ]
  },
  {
   "cell_type": "code",
   "execution_count": null,
   "id": "61a3f606",
   "metadata": {},
   "outputs": [],
   "source": [
    "with open('abc/data.csv', 'w') as f:\n",
    "    wrt=csv.writer(f)      #파일 객체 f를 이용해 CSV 파일에 데이터를 쓰기 위한 writer 객체를 생성합니다.\n",
    "    wrt.writerow(data)             #data의 각 요소를 쉼표로 구분해서 한줄씩 CSV파일에 기록\n"
   ]
  },
  {
   "cell_type": "code",
   "execution_count": 57,
   "id": "af6c4268",
   "metadata": {},
   "outputs": [
    {
     "data": {
      "text/html": [
       "<div>\n",
       "<style scoped>\n",
       "    .dataframe tbody tr th:only-of-type {\n",
       "        vertical-align: middle;\n",
       "    }\n",
       "\n",
       "    .dataframe tbody tr th {\n",
       "        vertical-align: top;\n",
       "    }\n",
       "\n",
       "    .dataframe thead th {\n",
       "        text-align: right;\n",
       "    }\n",
       "</style>\n",
       "<table border=\"1\" class=\"dataframe\">\n",
       "  <thead>\n",
       "    <tr style=\"text-align: right;\">\n",
       "      <th></th>\n",
       "      <th>0</th>\n",
       "      <th>1</th>\n",
       "    </tr>\n",
       "  </thead>\n",
       "  <tbody>\n",
       "    <tr>\n",
       "      <th>0</th>\n",
       "      <td>name</td>\n",
       "      <td>age</td>\n",
       "    </tr>\n",
       "    <tr>\n",
       "      <th>1</th>\n",
       "      <td>bob</td>\n",
       "      <td>20</td>\n",
       "    </tr>\n",
       "    <tr>\n",
       "      <th>2</th>\n",
       "      <td>alice</td>\n",
       "      <td>15</td>\n",
       "    </tr>\n",
       "  </tbody>\n",
       "</table>\n",
       "</div>"
      ],
      "text/plain": [
       "       0    1\n",
       "0   name  age\n",
       "1    bob   20\n",
       "2  alice   15"
      ]
     },
     "execution_count": 57,
     "metadata": {},
     "output_type": "execute_result"
    }
   ],
   "source": [
    "import pandas as pd\n",
    "\n",
    "df = pd.DataFrame(data)  #data->DataFrame(표 형태)로 변환\n",
    "df.to_csv('abc/data_df.csv')    #CSV파일로 저장(텍스트형태로 저장)\n",
    "df\n"
   ]
  },
  {
   "cell_type": "code",
   "execution_count": null,
   "id": "0467202b",
   "metadata": {},
   "outputs": [
    {
     "data": {
      "text/html": [
       "<div>\n",
       "<style scoped>\n",
       "    .dataframe tbody tr th:only-of-type {\n",
       "        vertical-align: middle;\n",
       "    }\n",
       "\n",
       "    .dataframe tbody tr th {\n",
       "        vertical-align: top;\n",
       "    }\n",
       "\n",
       "    .dataframe thead th {\n",
       "        text-align: right;\n",
       "    }\n",
       "</style>\n",
       "<table border=\"1\" class=\"dataframe\">\n",
       "  <thead>\n",
       "    <tr style=\"text-align: right;\">\n",
       "      <th></th>\n",
       "      <th>Unnamed: 0</th>\n",
       "      <th>0</th>\n",
       "      <th>1</th>\n",
       "    </tr>\n",
       "  </thead>\n",
       "  <tbody>\n",
       "    <tr>\n",
       "      <th>0</th>\n",
       "      <td>0</td>\n",
       "      <td>name</td>\n",
       "      <td>age</td>\n",
       "    </tr>\n",
       "    <tr>\n",
       "      <th>1</th>\n",
       "      <td>1</td>\n",
       "      <td>bob</td>\n",
       "      <td>20</td>\n",
       "    </tr>\n",
       "    <tr>\n",
       "      <th>2</th>\n",
       "      <td>2</td>\n",
       "      <td>alice</td>\n",
       "      <td>15</td>\n",
       "    </tr>\n",
       "  </tbody>\n",
       "</table>\n",
       "</div>"
      ],
      "text/plain": [
       "   Unnamed: 0      0    1\n",
       "0           0   name  age\n",
       "1           1    bob   20\n",
       "2           2  alice   15"
      ]
     },
     "execution_count": 52,
     "metadata": {},
     "output_type": "execute_result"
    }
   ],
   "source": [
    "pd.read_csv('abc/data_df.csv')  #CSV파일을 다시 읽어서 DataFrame으로 불러오기"
   ]
  }
 ],
 "metadata": {
  "kernelspec": {
   "display_name": "hipython",
   "language": "python",
   "name": "python3"
  },
  "language_info": {
   "codemirror_mode": {
    "name": "ipython",
    "version": 3
   },
   "file_extension": ".py",
   "mimetype": "text/x-python",
   "name": "python",
   "nbconvert_exporter": "python",
   "pygments_lexer": "ipython3",
   "version": "3.12.9"
  }
 },
 "nbformat": 4,
 "nbformat_minor": 5
}
