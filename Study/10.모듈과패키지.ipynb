{
 "cells": [
  {
   "cell_type": "markdown",
   "id": "0649c6e3-8a49-45a3-9410-4ef40eeb251b",
   "metadata": {},
   "source": [
    "#모듈은 파이썬 파일이다. 확장자가 .py여야 한다.  "
   ]
  },
  {
   "cell_type": "code",
   "execution_count": 2,
   "id": "e7a0056c-900b-48a3-b0de-9e1c9faf7edf",
   "metadata": {},
   "outputs": [
    {
     "name": "stdout",
     "output_type": "stream",
     "text": [
      "first module입니다\n",
      "the end..\n",
      "hello\n"
     ]
    }
   ],
   "source": [
    "import first\n",
    "\n",
    "first.my_func()"
   ]
  },
  {
   "cell_type": "code",
   "execution_count": 7,
   "id": "d3028f52-43ba-40c7-a1f8-0d873d55c405",
   "metadata": {},
   "outputs": [
    {
     "name": "stdout",
     "output_type": "stream",
     "text": [
      "2nd hello\n"
     ]
    }
   ],
   "source": [
    "first.my_func1()"
   ]
  },
  {
   "cell_type": "code",
   "execution_count": 6,
   "id": "3218635e-5b03-4dc0-86c6-ecec251cdcaa",
   "metadata": {},
   "outputs": [
    {
     "name": "stdout",
     "output_type": "stream",
     "text": [
      "hello\n"
     ]
    }
   ],
   "source": [
    "import first as fr\n",
    "fr.my_func()"
   ]
  },
  {
   "cell_type": "code",
   "execution_count": 1,
   "id": "c10cc0f1-343b-43f2-a9f9-5ef598b21fea",
   "metadata": {},
   "outputs": [
    {
     "name": "stdout",
     "output_type": "stream",
     "text": [
      "first module입니다\n",
      "3rd가 나올까?\n"
     ]
    }
   ],
   "source": [
    "import first as fr\n",
    "fr.my_func2()"
   ]
  },
  {
   "cell_type": "code",
   "execution_count": 5,
   "id": "47d4bb69-24d3-4435-ac29-e584949009e8",
   "metadata": {},
   "outputs": [
    {
     "name": "stdout",
     "output_type": "stream",
     "text": [
      "hello\n"
     ]
    }
   ],
   "source": [
    "from first import my_func\n",
    "my_func()"
   ]
  },
  {
   "cell_type": "code",
   "execution_count": 10,
   "id": "9a968c99-a55b-44db-8b2b-f8f6c13bd468",
   "metadata": {},
   "outputs": [
    {
     "data": {
      "text/plain": [
       "['__builtins__',\n",
       " '__cached__',\n",
       " '__doc__',\n",
       " '__file__',\n",
       " '__loader__',\n",
       " '__name__',\n",
       " '__package__',\n",
       " '__spec__',\n",
       " 'my_func',\n",
       " 'my_func1',\n",
       " 'my_func2']"
      ]
     },
     "execution_count": 10,
     "metadata": {},
     "output_type": "execute_result"
    }
   ],
   "source": [
    "dir(first)"
   ]
  },
  {
   "cell_type": "code",
   "execution_count": 1,
   "id": "9ad32ccf-5edb-493a-980d-461e81cc6593",
   "metadata": {},
   "outputs": [
    {
     "name": "stdout",
     "output_type": "stream",
     "text": [
      "first module입니다\n",
      "the end..\n"
     ]
    }
   ],
   "source": [
    "import my_first_package.second "
   ]
  },
  {
   "cell_type": "markdown",
   "id": "1371f53e-e078-41d0-bfa9-23905e01bda1",
   "metadata": {},
   "source": [
    "#모듈의 실행vs 모듈의 import구분  \n",
    "\n",
    "-모듈 단독 실행시에만 호출되는 코드  \n",
    "'if __name__=='__main__':     \n",
    "   실행함수   \n",
    "else:      \n",
    "   변수 설정  \n",
    "\n",
    "   import할 때는 실행되지 않는다  \n",
    "\n"
   ]
  },
  {
   "cell_type": "code",
   "execution_count": null,
   "id": "69bda844-1e5e-4f46-ac6b-4e5741b5d192",
   "metadata": {},
   "outputs": [],
   "source": []
  },
  {
   "cell_type": "markdown",
   "id": "39826736-f66e-4aac-bc10-4d555efc2295",
   "metadata": {},
   "source": [
    "#패키지: 모듈의 묶음  \n",
    "\n",
    "윈도우,리눅스:디렉토리/폴더  "
   ]
  },
  {
   "cell_type": "code",
   "execution_count": null,
   "id": "e10cc69c-5a71-45c9-9081-8893158bdd16",
   "metadata": {},
   "outputs": [],
   "source": []
  },
  {
   "cell_type": "code",
   "execution_count": null,
   "id": "832a7ac6-f9ef-4eae-be0a-a53152db7fcc",
   "metadata": {},
   "outputs": [],
   "source": [
    "%%writefile my_first_package.magic_calc."
   ]
  },
  {
   "cell_type": "code",
   "execution_count": null,
   "id": "8fe13be0-7d48-48a7-b137-4a24b0cb7ae5",
   "metadata": {},
   "outputs": [],
   "source": []
  },
  {
   "cell_type": "code",
   "execution_count": null,
   "id": "870f7e59-b671-42f4-a6ef-f4cc0ee15e8c",
   "metadata": {},
   "outputs": [],
   "source": []
  }
 ],
 "metadata": {
  "kernelspec": {
   "display_name": "Python 3(myenv)",
   "language": "python",
   "name": "myenv"
  },
  "language_info": {
   "codemirror_mode": {
    "name": "ipython",
    "version": 3
   },
   "file_extension": ".py",
   "mimetype": "text/x-python",
   "name": "python",
   "nbconvert_exporter": "python",
   "pygments_lexer": "ipython3",
   "version": "3.10.16"
  }
 },
 "nbformat": 4,
 "nbformat_minor": 5
}
