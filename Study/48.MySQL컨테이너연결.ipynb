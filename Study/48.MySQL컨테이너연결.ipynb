{
 "cells": [
  {
   "cell_type": "code",
   "execution_count": 2,
   "id": "7cc05352",
   "metadata": {},
   "outputs": [],
   "source": [
    "import pymysql\n",
    "\n",
    "# MySQL 연결 설정\n",
    "connection = pymysql.connect(\n",
    "    host='192.168.181.132',  # 도커 컨테이너가 로컬에서 실행 중이므로 localhost\n",
    "    port=3307,         # 도커 실행 시 매핑한 포트 (3307:3306)\n",
    "    user='root',       # MySQL 사용자 이름\n",
    "    password='1234',   # 도커 실행 시 설정한 루트 비밀번호\n",
    "    database='mysql'   # 기본 데이터베이스 (없으면 생성한 데이터베이스 이름)\n",
    ")\n"
   ]
  },
  {
   "cell_type": "code",
   "execution_count": 3,
   "id": "b981b69b",
   "metadata": {},
   "outputs": [
    {
     "name": "stdout",
     "output_type": "stream",
     "text": [
      "MySQL 버전: 9.4.0\n",
      "데이터베이스 목록:\n",
      "- information_schema\n",
      "- mysql\n",
      "- performance_schema\n",
      "- sys\n"
     ]
    }
   ],
   "source": [
    "try:\n",
    "    # 커서 생성\n",
    "    with connection.cursor() as cursor:\n",
    "        # SQL 쿼리 실행\n",
    "        cursor.execute(\"SELECT VERSION()\")\n",
    "        # 결과 가져오기\n",
    "        result = cursor.fetchone()\n",
    "        print(f\"MySQL 버전: {result[0]}\")\n",
    "        \n",
    "        # 데이터베이스 목록 조회\n",
    "        cursor.execute(\"SHOW DATABASES\")\n",
    "        databases = cursor.fetchall()\n",
    "        print(\"데이터베이스 목록:\")\n",
    "        for db in databases:\n",
    "            print(f\"- {db[0]}\")\n",
    "            \n",
    "finally:\n",
    "    # 연결 종료\n",
    "    connection.close()\n"
   ]
  }
 ],
 "metadata": {
  "kernelspec": {
   "display_name": "webcrawl_env",
   "language": "python",
   "name": "python3"
  },
  "language_info": {
   "codemirror_mode": {
    "name": "ipython",
    "version": 3
   },
   "file_extension": ".py",
   "mimetype": "text/x-python",
   "name": "python",
   "nbconvert_exporter": "python",
   "pygments_lexer": "ipython3",
   "version": "3.10.18"
  }
 },
 "nbformat": 4,
 "nbformat_minor": 5
}
