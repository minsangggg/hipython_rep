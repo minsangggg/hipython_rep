{
 "cells": [
  {
   "cell_type": "markdown",
   "id": "370ea72f",
   "metadata": {},
   "source": [
    "#### requset하면 요청받는곳"
   ]
  },
  {
   "cell_type": "code",
   "execution_count": 1,
   "id": "dff8b5ad",
   "metadata": {},
   "outputs": [],
   "source": [
    "html = \"\"\"\n",
    "<html>\n",
    "<head><title>HTML Sample</title>\n",
    "</head>\n",
    "<body>\n",
    "    <h1>Hello CSS</h1>\n",
    "    <div id=\"subject\">선택자</div>\n",
    "    <div class=\"contents\">선택자를 어떻게 작성하느냐에 따라\n",
    "      <span>다른 <b>요소가 반환</b></span> 됩니다.</div>\n",
    "    <div>CSS 선택자는 다양한 곳에서 <b>활용</b>됩니다.</div>\n",
    "</body>\n",
    "</html>\n",
    "\"\"\""
   ]
  },
  {
   "cell_type": "code",
   "execution_count": 2,
   "id": "27d539a7",
   "metadata": {},
   "outputs": [
    {
     "data": {
      "text/plain": [
       "'\\n<html>\\n<head><title>HTML Sample</title>\\n</head>\\n<body>\\n    <h1>Hello CSS</h1>\\n    <div id=\"subject\">선택자</div>\\n    <div class=\"contents\">선택자를 어떻게 작성하느냐에 따라\\n      <span>다른 <b>요소가 반환</b></span> 됩니다.</div>\\n    <div>CSS 선택자는 다양한 곳에서 <b>활용</b>됩니다.</div>\\n</body>\\n</html>\\n'"
      ]
     },
     "execution_count": 2,
     "metadata": {},
     "output_type": "execute_result"
    }
   ],
   "source": [
    "html"
   ]
  },
  {
   "cell_type": "code",
   "execution_count": 4,
   "id": "3d7c5ae4",
   "metadata": {},
   "outputs": [
    {
     "data": {
      "text/plain": [
       "\n",
       "<html>\n",
       "<head><title>HTML Sample</title>\n",
       "</head>\n",
       "<body>\n",
       "<h1>Hello CSS</h1>\n",
       "<div id=\"subject\">선택자</div>\n",
       "<div class=\"contents\">선택자를 어떻게 작성하느냐에 따라\n",
       "      <span>다른 <b>요소가 반환</b></span> 됩니다.</div>\n",
       "<div>CSS 선택자는 다양한 곳에서 <b>활용</b>됩니다.</div>\n",
       "</body>\n",
       "</html>"
      ]
     },
     "execution_count": 4,
     "metadata": {},
     "output_type": "execute_result"
    }
   ],
   "source": [
    "from bs4 import BeautifulSoup\n",
    "soup=BeautifulSoup(html, 'html.parser')\n",
    "soup"
   ]
  },
  {
   "cell_type": "markdown",
   "id": "fffb5764",
   "metadata": {},
   "source": [
    "soup은 이제 HTML 문서 전체를 자유자재로 검색, 추출, 조작할 수 있는 “도구 상자”가 된 것!\n",
    "\n",
    "#### 1. soup.select_one('h1') : h1 태그 하나 꺼내기  \n",
    "#### 2. soup.select('.myclass') : class가 myclass인 모든 요소 꺼내기  \n",
    "#### 3. soup.title.text : <title> 태그 안의 텍스트 추출  \n",
    "#### 4. soup.find_all('a') : 모든 a 태그 리스트  "
   ]
  },
  {
   "cell_type": "code",
   "execution_count": 5,
   "id": "4c967aca",
   "metadata": {},
   "outputs": [
    {
     "data": {
      "text/plain": [
       "<h1>Hello CSS</h1>"
      ]
     },
     "execution_count": 5,
     "metadata": {},
     "output_type": "execute_result"
    }
   ],
   "source": [
    "soup.select_one('h1') #h1태그가 싸고있는 요소를 통째로 꺼내기"
   ]
  },
  {
   "cell_type": "code",
   "execution_count": 6,
   "id": "e5010132",
   "metadata": {},
   "outputs": [
    {
     "data": {
      "text/plain": [
       "'Hello CSS'"
      ]
     },
     "execution_count": 6,
     "metadata": {},
     "output_type": "execute_result"
    }
   ],
   "source": [
    "el=soup.select_one('h1')   # 내용만 꺼내기\n",
    "el.text"
   ]
  },
  {
   "cell_type": "code",
   "execution_count": 7,
   "id": "25f74bb7",
   "metadata": {},
   "outputs": [
    {
     "data": {
      "text/plain": [
       "[<div id=\"subject\">선택자</div>,\n",
       " <div class=\"contents\">선택자를 어떻게 작성하느냐에 따라\n",
       "       <span>다른 <b>요소가 반환</b></span> 됩니다.</div>,\n",
       " <div>CSS 선택자는 다양한 곳에서 <b>활용</b>됩니다.</div>]"
      ]
     },
     "execution_count": 7,
     "metadata": {},
     "output_type": "execute_result"
    }
   ],
   "source": [
    "div_el=soup.select('div')\n",
    "div_el"
   ]
  },
  {
   "cell_type": "code",
   "execution_count": 8,
   "id": "5f173813",
   "metadata": {},
   "outputs": [
    {
     "data": {
      "text/plain": [
       "[<h1>Hello CSS</h1>, <span>다른 <b>요소가 반환</b></span>]"
      ]
     },
     "execution_count": 8,
     "metadata": {},
     "output_type": "execute_result"
    }
   ],
   "source": [
    "soup.select('h1,span')"
   ]
  },
  {
   "cell_type": "code",
   "execution_count": 9,
   "id": "afd2e48e",
   "metadata": {},
   "outputs": [
    {
     "data": {
      "text/plain": [
       "[<b>요소가 반환</b>, <b>활용</b>]"
      ]
     },
     "execution_count": 9,
     "metadata": {},
     "output_type": "execute_result"
    }
   ],
   "source": [
    "#div>span>b\n",
    "soup.select('div b')"
   ]
  },
  {
   "cell_type": "code",
   "execution_count": 10,
   "id": "26a6b62c",
   "metadata": {},
   "outputs": [
    {
     "data": {
      "text/plain": [
       "[<b>활용</b>]"
      ]
     },
     "execution_count": 10,
     "metadata": {},
     "output_type": "execute_result"
    }
   ],
   "source": [
    "soup.select('div> b')"
   ]
  },
  {
   "cell_type": "code",
   "execution_count": 11,
   "id": "18e4ae38",
   "metadata": {},
   "outputs": [
    {
     "data": {
      "text/plain": [
       "<b>활용</b>"
      ]
     },
     "execution_count": 11,
     "metadata": {},
     "output_type": "execute_result"
    }
   ],
   "source": [
    "soup.select_one('div> b')  #직계 div 바로 한 단계 아래(직계 자식)에 있는 <b> 태그 중 첫 번째만 반환."
   ]
  },
  {
   "cell_type": "code",
   "execution_count": 13,
   "id": "3efa4f76",
   "metadata": {},
   "outputs": [
    {
     "data": {
      "text/plain": [
       "[<div class=\"contents\">선택자를 어떻게 작성하느냐에 따라\n",
       "       <span>다른 <b>요소가 반환</b></span> 됩니다.</div>]"
      ]
     },
     "execution_count": 13,
     "metadata": {},
     "output_type": "execute_result"
    }
   ],
   "source": [
    "soup.select('.contents')"
   ]
  },
  {
   "cell_type": "code",
   "execution_count": 24,
   "id": "7c453107",
   "metadata": {},
   "outputs": [
    {
     "data": {
      "text/plain": [
       "[<div id=\"subject\">선택자</div>]"
      ]
     },
     "execution_count": 24,
     "metadata": {},
     "output_type": "execute_result"
    }
   ],
   "source": [
    "#아이디선택자\n",
    "soup.select('#subject')\n",
    "\n",
    "#속성 선택자\n",
    "soup.select('[id=subject]')"
   ]
  },
  {
   "cell_type": "code",
   "execution_count": 21,
   "id": "e49a117e",
   "metadata": {},
   "outputs": [
    {
     "data": {
      "text/plain": [
       "[<div class=\"contents\">선택자를 어떻게 작성하느냐에 따라\n",
       "       <span>다른 <b>요소가 반환</b></span> 됩니다.</div>]"
      ]
     },
     "execution_count": 21,
     "metadata": {},
     "output_type": "execute_result"
    }
   ],
   "source": [
    "#속성 선택자\n",
    "soup.select('[class=contents]')"
   ]
  },
  {
   "cell_type": "markdown",
   "id": "200f44d9",
   "metadata": {},
   "source": [
    "## 정규 표현식"
   ]
  },
  {
   "cell_type": "markdown",
   "id": "c9c94934",
   "metadata": {},
   "source": [
    "f - string\n",
    "f'dddd{code}'\n",
    "\n",
    "r- string"
   ]
  },
  {
   "cell_type": "code",
   "execution_count": 32,
   "id": "ed6bf992",
   "metadata": {},
   "outputs": [
    {
     "name": "stdout",
     "output_type": "stream",
     "text": [
      "123\n"
     ]
    }
   ],
   "source": [
    "import re\n",
    "pattern=re.compile(r'\\d+')\n",
    "match=pattern.match('123abc')\n",
    "if match:\n",
    "    print(match.group())"
   ]
  },
  {
   "cell_type": "code",
   "execution_count": 40,
   "id": "446f6f10",
   "metadata": {},
   "outputs": [
    {
     "name": "stdout",
     "output_type": "stream",
     "text": [
      "abc\n"
     ]
    }
   ],
   "source": [
    "import re\n",
    "pattern = re.compile(r'[a-z]+')\n",
    "match=pattern.search('123abc')\n",
    "if match:\n",
    "    print(match.group())"
   ]
  },
  {
   "cell_type": "code",
   "execution_count": 43,
   "id": "a129e41a",
   "metadata": {},
   "outputs": [],
   "source": [
    "import re\n",
    "string = 'hello parkss1234@gmail.com 010-222-3333 world 02-1345-2345$'"
   ]
  },
  {
   "cell_type": "code",
   "execution_count": 39,
   "id": "f038d553",
   "metadata": {},
   "outputs": [
    {
     "data": {
      "text/plain": [
       "<re.Match object; span=(27, 39), match='010-222-3333'>"
      ]
     },
     "execution_count": 39,
     "metadata": {},
     "output_type": "execute_result"
    }
   ],
   "source": [
    "# 패턴 정하기\n",
    "re.compile(r'\\d')\n",
    "\n",
    "#d는 숫자 찾기, {이상,이하} 반복횟수 저장\n",
    "pattern=re.compile(r'\\d{2,3}-\\d{3,4}-\\d{4}')\n",
    "#match_list=pattern.match(string)\n",
    "match_list=pattern.search(string)\n",
    "\n",
    "match_list"
   ]
  },
  {
   "cell_type": "code",
   "execution_count": 44,
   "id": "d71ee79d",
   "metadata": {},
   "outputs": [
    {
     "data": {
      "text/plain": [
       "['parkss1234@gmail.com']"
      ]
     },
     "execution_count": 44,
     "metadata": {},
     "output_type": "execute_result"
    }
   ],
   "source": [
    "# 이메일 패턴\n",
    "email_pattern = re.compile(r'[a-zA-Z0-9._%+-]+@[a-zA-Z0-9.-]+\\.[a-zA-Z]{2,}') \n",
    "email_pattern=email_pattern.findall(string)\n",
    "email_pattern"
   ]
  },
  {
   "cell_type": "code",
   "execution_count": 48,
   "id": "1d86e5d5",
   "metadata": {},
   "outputs": [
    {
     "data": {
      "text/plain": [
       "'abc***def***'"
      ]
     },
     "execution_count": 48,
     "metadata": {},
     "output_type": "execute_result"
    }
   ],
   "source": [
    "string2='abc123def456'\n",
    "result=re.compile(r'\\d+')\n",
    "#result.findall(string2)\n",
    "result.sub('***',string2)"
   ]
  },
  {
   "cell_type": "code",
   "execution_count": 49,
   "id": "c8b1da7b",
   "metadata": {},
   "outputs": [
    {
     "name": "stdout",
     "output_type": "stream",
     "text": [
      "4.34.2\n"
     ]
    }
   ],
   "source": [
    "import selenium\n",
    "print(selenium.__version__)"
   ]
  },
  {
   "cell_type": "code",
   "execution_count": 52,
   "id": "d193ecf6",
   "metadata": {},
   "outputs": [],
   "source": [
    "from selenium import webdriver\n",
    "driver=webdriver.Chrome()\n",
    "driver.get('https://www.python.org/')"
   ]
  },
  {
   "cell_type": "code",
   "execution_count": 53,
   "id": "0e12b71c",
   "metadata": {},
   "outputs": [],
   "source": [
    "driver.close()"
   ]
  },
  {
   "cell_type": "code",
   "execution_count": null,
   "id": "2d168556",
   "metadata": {},
   "outputs": [],
   "source": [
    "\n",
    "#크롬 실행 옵션 객체 생성\n",
    "chrome_options = Options()\n",
    "\n",
    "# 브라우저 종료 방지 옵션\n",
    "chrome_options.add_experimental_option(\"detach\", True)\n",
    "\n",
    "#설정된 옵션과 함께 크롬 브라우저를 실행\n",
    "driver = webdriver.Chrome(options=chrome_options)\n",
    "\n",
    "#지정한 URL을 자동으로 열기 \n",
    "driver.get('https://www.python.org')"
   ]
  }
 ],
 "metadata": {
  "kernelspec": {
   "display_name": "webcrawl_env",
   "language": "python",
   "name": "python3"
  },
  "language_info": {
   "codemirror_mode": {
    "name": "ipython",
    "version": 3
   },
   "file_extension": ".py",
   "mimetype": "text/x-python",
   "name": "python",
   "nbconvert_exporter": "python",
   "pygments_lexer": "ipython3",
   "version": "3.10.18"
  }
 },
 "nbformat": 4,
 "nbformat_minor": 5
}
