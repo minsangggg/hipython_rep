{
 "cells": [
  {
   "cell_type": "code",
   "execution_count": 6,
   "id": "f861705e-6ee3-4fdd-a2d2-8f1b8708159a",
   "metadata": {},
   "outputs": [],
   "source": [
    "def aaa(a):\n",
    "    result=a+1\n",
    "    return result"
   ]
  },
  {
   "cell_type": "code",
   "execution_count": 7,
   "id": "f8c22051-dd04-400c-b697-160d9406d82c",
   "metadata": {},
   "outputs": [
    {
     "data": {
      "text/plain": [
       "<function __main__.<lambda>(a)>"
      ]
     },
     "execution_count": 7,
     "metadata": {},
     "output_type": "execute_result"
    }
   ],
   "source": [
    "lambda a:a+1"
   ]
  },
  {
   "cell_type": "code",
   "execution_count": 8,
   "id": "c63ccbdc-e036-4361-8062-ffb23fe595f2",
   "metadata": {},
   "outputs": [
    {
     "data": {
      "text/plain": [
       "3"
      ]
     },
     "execution_count": 8,
     "metadata": {},
     "output_type": "execute_result"
    }
   ],
   "source": [
    "(lambda a:a+1)(2)"
   ]
  },
  {
   "cell_type": "code",
   "execution_count": 14,
   "id": "6e3ae147-6e0b-4099-88ad-e03a102e3ec6",
   "metadata": {},
   "outputs": [
    {
     "data": {
      "text/plain": [
       "['A', 'P', 'P', 'L', 'E']"
      ]
     },
     "execution_count": 14,
     "metadata": {},
     "output_type": "execute_result"
    }
   ],
   "source": [
    "fruits=['apple','banaba','cherry']\n",
    "#str.upper\n",
    "list(fruits[0].upper())"
   ]
  },
  {
   "cell_type": "code",
   "execution_count": 17,
   "id": "26181765-7f3a-466a-96ae-6e3340335971",
   "metadata": {},
   "outputs": [
    {
     "data": {
      "text/plain": [
       "['APPLE', 'BANABA', 'CHERRY']"
      ]
     },
     "execution_count": 17,
     "metadata": {},
     "output_type": "execute_result"
    }
   ],
   "source": [
    "list(map(str.upper,fruits))"
   ]
  },
  {
   "cell_type": "code",
   "execution_count": 16,
   "id": "14c873e7-8e8a-41c4-b542-450416a27880",
   "metadata": {},
   "outputs": [
    {
     "data": {
      "text/plain": [
       "'APPLE'"
      ]
     },
     "execution_count": 16,
     "metadata": {},
     "output_type": "execute_result"
    }
   ],
   "source": [
    "fruits[0].upper()"
   ]
  },
  {
   "cell_type": "code",
   "execution_count": 18,
   "id": "e2d7cc5f-1811-4ba9-ae1c-1cccbaebde1f",
   "metadata": {},
   "outputs": [
    {
     "data": {
      "text/plain": [
       "<map at 0x2e1740d0d30>"
      ]
     },
     "execution_count": 18,
     "metadata": {},
     "output_type": "execute_result"
    }
   ],
   "source": [
    "map(str.upper,fruits)"
   ]
  },
  {
   "cell_type": "code",
   "execution_count": 22,
   "id": "81dd7333-d9b4-4049-97b1-5b558efffa70",
   "metadata": {},
   "outputs": [
    {
     "data": {
      "text/plain": [
       "['1', '2', '3', '4', '5']"
      ]
     },
     "execution_count": 22,
     "metadata": {},
     "output_type": "execute_result"
    }
   ],
   "source": [
    "str_number='12345'\n",
    "list(str_number)"
   ]
  },
  {
   "cell_type": "code",
   "execution_count": 24,
   "id": "f21a212e-a3f3-45c5-8a70-a6ba7b72eebc",
   "metadata": {},
   "outputs": [
    {
     "data": {
      "text/plain": [
       "[1, 2, 3, 4, 5]"
      ]
     },
     "execution_count": 24,
     "metadata": {},
     "output_type": "execute_result"
    }
   ],
   "source": [
    "list(map(int,str_number))"
   ]
  },
  {
   "cell_type": "code",
   "execution_count": 26,
   "id": "f89321ec-dc04-4927-bfc0-1cab88599d0a",
   "metadata": {},
   "outputs": [
    {
     "data": {
      "text/plain": [
       "<map at 0x2e1740ab340>"
      ]
     },
     "execution_count": 26,
     "metadata": {},
     "output_type": "execute_result"
    }
   ],
   "source": [
    "numbers=list(map(int,str_number))\n",
    "map(lambda x:x**2,numbers)"
   ]
  },
  {
   "cell_type": "code",
   "execution_count": 28,
   "id": "7f7e74a5-c2da-470f-9d0c-e4970bdc2a4e",
   "metadata": {},
   "outputs": [
    {
     "data": {
      "text/plain": [
       "[1, 4, 9, 16, 25]"
      ]
     },
     "execution_count": 28,
     "metadata": {},
     "output_type": "execute_result"
    }
   ],
   "source": [
    "list(map(lambda x: x**2, numbers))"
   ]
  },
  {
   "cell_type": "code",
   "execution_count": 29,
   "id": "5278a05b-c279-46e6-9405-cbbfc46ea2c8",
   "metadata": {},
   "outputs": [
    {
     "data": {
      "text/plain": [
       "[5, 7, 9]"
      ]
     },
     "execution_count": 29,
     "metadata": {},
     "output_type": "execute_result"
    }
   ],
   "source": [
    "kor_score=[1,2,3]\n",
    "eng_score=[4,5,6]\n",
    "\n",
    "list(map(lambda x,y: x+y, kor_score, eng_score))"
   ]
  },
  {
   "cell_type": "code",
   "execution_count": 32,
   "id": "38a3d333-b284-4c2a-aa38-7bdb27de29b1",
   "metadata": {},
   "outputs": [
    {
     "data": {
      "text/plain": [
       "[4, 5, 6]"
      ]
     },
     "execution_count": 32,
     "metadata": {},
     "output_type": "execute_result"
    }
   ],
   "source": [
    "#평균, 최대값, 최소값\n",
    "list(map(lambda x,y: (x+y)/2, kor_score, eng_score))\n",
    "list(map(lambda x,y: max(x,y), kor_score, eng_score))"
   ]
  },
  {
   "cell_type": "code",
   "execution_count": null,
   "id": "49ea2b8a-3fca-4335-b509-de34968999ed",
   "metadata": {},
   "outputs": [],
   "source": [
    "list(map(lambda s:sum(s),zip(kor_score,eng_score,math_score)))"
   ]
  }
 ],
 "metadata": {
  "kernelspec": {
   "display_name": "Python 3(myenv)",
   "language": "python",
   "name": "myenv"
  },
  "language_info": {
   "codemirror_mode": {
    "name": "ipython",
    "version": 3
   },
   "file_extension": ".py",
   "mimetype": "text/x-python",
   "name": "python",
   "nbconvert_exporter": "python",
   "pygments_lexer": "ipython3",
   "version": "3.10.16"
  }
 },
 "nbformat": 4,
 "nbformat_minor": 5
}
