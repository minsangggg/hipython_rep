{
 "cells": [
  {
   "cell_type": "code",
   "execution_count": 44,
   "id": "5e41cc1d",
   "metadata": {},
   "outputs": [
    {
     "name": "stdout",
     "output_type": "stream",
     "text": [
      "c:\\githome\\hipython_rep\\Study\\html\\basic2.html\n",
      "c:\\githome\\hipython_rep\\Study/html/basic2.html\n"
     ]
    }
   ],
   "source": [
    "\n",
    "import os\n",
    "file_path = os.getcwd() + '/html/basic2.html'\n",
    "print(os.path.abspath('html/basic2.html')) #path\n",
    "print(file_path)"
   ]
  },
  {
   "cell_type": "code",
   "execution_count": 45,
   "id": "91a6db1a",
   "metadata": {},
   "outputs": [
    {
     "data": {
      "text/plain": [
       "'file:///c:\\\\githome\\\\hipython_rep\\\\Study/html/basic2.html'"
      ]
     },
     "execution_count": 45,
     "metadata": {},
     "output_type": "execute_result"
    }
   ],
   "source": [
    "\n",
    "url = 'file:///'+file_path\n",
    "url"
   ]
  },
  {
   "cell_type": "code",
   "execution_count": 46,
   "id": "e579c182",
   "metadata": {},
   "outputs": [],
   "source": [
    "\n",
    "from selenium import webdriver\n",
    "\n",
    "driver = webdriver.Chrome()\n",
    "driver.get(url)"
   ]
  },
  {
   "cell_type": "code",
   "execution_count": 47,
   "id": "41a8d478",
   "metadata": {},
   "outputs": [],
   "source": [
    "username_el=driver.find_element(by='name',value='username')\n",
    "username_el.send_keys('minsang')\n",
    "\n",
    "password = driver.find_element(by='name', value='password')\n",
    "password.send_keys(\"123456789\")"
   ]
  },
  {
   "cell_type": "code",
   "execution_count": 48,
   "id": "933bc23e",
   "metadata": {},
   "outputs": [],
   "source": [
    "link = driver.find_element(by='link text', value='파이썬전문가그룹')\n",
    "#link = driver.find_element(by='partial link text', value='파이썬')\n",
    "\n",
    "link.click()"
   ]
  },
  {
   "cell_type": "code",
   "execution_count": 49,
   "id": "3631e29e",
   "metadata": {},
   "outputs": [],
   "source": [
    "driver.back()\n"
   ]
  },
  {
   "cell_type": "markdown",
   "id": "45fc085b",
   "metadata": {},
   "source": [
    "## 검색결과 가져오기"
   ]
  },
  {
   "cell_type": "code",
   "execution_count": 50,
   "id": "5c033eae",
   "metadata": {},
   "outputs": [],
   "source": [
    "from selenium import webdriver\n",
    "\n",
    "driver = webdriver.Chrome()\n",
    "driver.get('https://www.python.org/')"
   ]
  },
  {
   "cell_type": "code",
   "execution_count": 51,
   "id": "1fceab25",
   "metadata": {},
   "outputs": [],
   "source": [
    "\n",
    "from selenium.webdriver.common.by import By"
   ]
  },
  {
   "cell_type": "code",
   "execution_count": 52,
   "id": "dc2fd4df",
   "metadata": {},
   "outputs": [],
   "source": [
    "\n",
    "input_el = driver.find_element(by=By.ID, value = 'id-search-field')\n",
    "input_el.send_keys('pycon')"
   ]
  },
  {
   "cell_type": "code",
   "execution_count": null,
   "id": "11017c11",
   "metadata": {},
   "outputs": [],
   "source": [
    "input_el2=driver.find_element(by='css selector', value='#id-search-field')\n",
    "input_el2.send_keys('hahahahah')   #검색"
   ]
  },
  {
   "cell_type": "markdown",
   "id": "cb7344ac",
   "metadata": {},
   "source": []
  },
  {
   "cell_type": "code",
   "execution_count": 85,
   "id": "168f9ac8",
   "metadata": {},
   "outputs": [],
   "source": [
    "from selenium import webdriver\n",
    "from selenium.webdriver.common.keys import Keys\n",
    "\n",
    "driver = webdriver.Chrome()\n",
    "driver.get('https://www.python.org/')\n",
    "input_el = driver.find_element(by=By.ID, value = 'id-search-field') #요소 찾아오기\n",
    "input_el.send_keys('pycon') \n",
    "input_el.send_keys(Keys.RETURN) #Enter\n"
   ]
  },
  {
   "cell_type": "code",
   "execution_count": 86,
   "id": "0a00c352",
   "metadata": {},
   "outputs": [
    {
     "name": "stdout",
     "output_type": "stream",
     "text": [
      "PSF PyCon Trademark Usage Policy\n",
      "PyCon Italia 2016 (PyCon Sette)\n",
      "PyCon Australia 2013\n",
      "PyCon AU 2019\n",
      "PyCon NL 2025\n",
      "PyCon Australia 2014\n",
      "PyCon Ireland 2012\n",
      "PyCon Ireland 2016\n",
      "PyCon Ireland 2022\n",
      "PyCon Australia 2014\n",
      "PyCon Ireland 2024\n",
      "PyCon APAC 2025\n",
      "PyCon AU 2018\n",
      "PyCon APAC 2022\n",
      "PyCon PH 2024\n",
      "PyCon Ireland 2023\n",
      "PyCon PL 2014\n",
      "PyCon MY 2015\n",
      "PyCon Ireland 2015\n",
      "PyCon AU 2015\n"
     ]
    }
   ],
   "source": [
    "driver.implicitly_wait(1) #명시적 대기\n",
    "\n",
    "#content > div > section > form > ul > li:nth-child(2) > h3 > a\n",
    "result_list=driver.find_elements(by='css selector',value='form li h3>a')\n",
    "#print(len(result_list))\n",
    "for result in  result_list:\n",
    "    print(result.text)\n",
    "    \n"
   ]
  },
  {
   "cell_type": "markdown",
   "id": "6adf528c",
   "metadata": {},
   "source": [
    "#### 날씨 정보를 일반적 조건으로 대기해서 가져오기"
   ]
  },
  {
   "cell_type": "code",
   "execution_count": 87,
   "id": "21b5374c",
   "metadata": {},
   "outputs": [],
   "source": [
    "import requests"
   ]
  },
  {
   "cell_type": "code",
   "execution_count": 89,
   "id": "729249ea",
   "metadata": {},
   "outputs": [
    {
     "data": {
      "text/plain": [
       "<Response [200]>"
      ]
     },
     "execution_count": 89,
     "metadata": {},
     "output_type": "execute_result"
    }
   ],
   "source": [
    "url='https://www.weather.go.kr/w/index.do'\n",
    "\n",
    "res=requests.get(url)\n",
    "res"
   ]
  },
  {
   "cell_type": "code",
   "execution_count": 91,
   "id": "41015ccf",
   "metadata": {},
   "outputs": [
    {
     "data": {
      "text/plain": [
       "[]"
      ]
     },
     "execution_count": 91,
     "metadata": {},
     "output_type": "execute_result"
    }
   ],
   "source": [
    "from bs4 import BeautifulSoup\n",
    "soup=BeautifulSoup(res.text, 'html.parser')\n",
    "soup.select(\".tmp\")"
   ]
  },
  {
   "cell_type": "markdown",
   "id": "b1d5854d",
   "metadata": {},
   "source": [
    "#### current-weather > div.cmp-cur-weather.wbg.wbg-type2.BGDB00 > ul.wrap-1 \n",
    "#### > li.w-icon.w-temp.no-w > span.tmp"
   ]
  },
  {
   "cell_type": "code",
   "execution_count": 95,
   "id": "c3d16432",
   "metadata": {},
   "outputs": [
    {
     "data": {
      "text/plain": [
       "'34.7℃'"
      ]
     },
     "execution_count": 95,
     "metadata": {},
     "output_type": "execute_result"
    }
   ],
   "source": [
    "from selenium.webdriver import Chrome\n",
    "import time\n",
    "res=requests.get(url)\n",
    "driver=Chrome()\n",
    "driver.get(url) #요청날아감\n",
    "time.sleep(3)   #3초기다림\n",
    "element=driver.find_element(by='css selector',value='div#current-weather span.tmp' )\n",
    "element.text"
   ]
  },
  {
   "cell_type": "code",
   "execution_count": 97,
   "id": "8d6299e0",
   "metadata": {},
   "outputs": [
    {
     "name": "stdout",
     "output_type": "stream",
     "text": [
      "35.7℃\n"
     ]
    }
   ],
   "source": [
    "# 일반적대기\n",
    "from selenium.webdriver import Chrome\n",
    "from selenium.webdriver.support import expected_conditions as EC\n",
    "from selenium.webdriver.support.ui import WebDriverWait\n",
    "driver=Chrome()\n",
    "driver.get(url)\n",
    "\n",
    "wait=WebDriverWait(driver,3)\n",
    "element2=wait.until(\n",
    "    EC.presence_of_element_located((\"css selector\", \"div#current-weather span.tmp\"))\n",
    "\n",
    ")\n",
    "print(element2.text)\n",
    "driver.close()"
   ]
  }
 ],
 "metadata": {
  "kernelspec": {
   "display_name": "webcrawl_env",
   "language": "python",
   "name": "python3"
  },
  "language_info": {
   "codemirror_mode": {
    "name": "ipython",
    "version": 3
   },
   "file_extension": ".py",
   "mimetype": "text/x-python",
   "name": "python",
   "nbconvert_exporter": "python",
   "pygments_lexer": "ipython3",
   "version": "3.10.18"
  }
 },
 "nbformat": 4,
 "nbformat_minor": 5
}
