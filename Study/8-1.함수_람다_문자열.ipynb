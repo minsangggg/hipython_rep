{
 "cells": [
  {
   "cell_type": "code",
   "execution_count": 2,
   "id": "2218f9d5-721a-43f8-95c8-bcadbeacf8e3",
   "metadata": {},
   "outputs": [
    {
     "data": {
      "text/plain": [
       "[2, 4]"
      ]
     },
     "execution_count": 2,
     "metadata": {},
     "output_type": "execute_result"
    }
   ],
   "source": [
    "numbers=[1,2,3,4,5]\n",
    "\n",
    "[x for x in numbers if x%2==0]"
   ]
  },
  {
   "cell_type": "code",
   "execution_count": 4,
   "id": "3856dcc4-6c81-492f-b898-e9c6e11b6720",
   "metadata": {},
   "outputs": [
    {
     "data": {
      "text/plain": [
       "[2, 4]"
      ]
     },
     "execution_count": 4,
     "metadata": {},
     "output_type": "execute_result"
    }
   ],
   "source": [
    "list(filter(lambda x: x%2==0,numbers))"
   ]
  },
  {
   "cell_type": "code",
   "execution_count": 6,
   "id": "b150a62a-5cc1-47b1-a624-3064f2f665a7",
   "metadata": {},
   "outputs": [
    {
     "data": {
      "text/plain": [
       "<filter at 0x1a7cf4a5300>"
      ]
     },
     "execution_count": 6,
     "metadata": {},
     "output_type": "execute_result"
    }
   ],
   "source": [
    "filter(lambda x: x%2==0, map(lambda x:x*x ,numbers))"
   ]
  },
  {
   "cell_type": "code",
   "execution_count": 8,
   "id": "d64a92f7-9520-4b78-aeec-2b3ac462c47a",
   "metadata": {},
   "outputs": [
    {
     "data": {
      "text/plain": [
       "[1, 3, 4, 5, 6, 7, 8, 9]"
      ]
     },
     "execution_count": 8,
     "metadata": {},
     "output_type": "execute_result"
    }
   ],
   "source": [
    "#sorted 함수\n",
    "numbers=[3,1,5,4,7,8,6,9]\n",
    "numbers.sort()\n",
    "numbers"
   ]
  },
  {
   "cell_type": "code",
   "execution_count": 11,
   "id": "ea971104-2964-467e-bb6f-23038c07dcae",
   "metadata": {},
   "outputs": [
    {
     "data": {
      "text/plain": [
       "[1, 3, 4, 5, 6, 7, 8, 9]"
      ]
     },
     "execution_count": 11,
     "metadata": {},
     "output_type": "execute_result"
    }
   ],
   "source": [
    "numbers=[3,1,5,4,7,8,6,9]\n",
    "nums=sorted(numbers)\n",
    "nums"
   ]
  },
  {
   "cell_type": "code",
   "execution_count": 15,
   "id": "5cdd3401-544a-4da5-8d15-abd47b0fd6bb",
   "metadata": {},
   "outputs": [
    {
     "data": {
      "text/plain": [
       "[1, -3, 5, -6, -6]"
      ]
     },
     "execution_count": 15,
     "metadata": {},
     "output_type": "execute_result"
    }
   ],
   "source": [
    "numbers1=[-3,1,5,-6,-6]\n",
    "sorted(numbers1,key=abs)"
   ]
  },
  {
   "cell_type": "code",
   "execution_count": 17,
   "id": "eafd60fc-a13d-4209-8ed5-fd02c2ac2425",
   "metadata": {},
   "outputs": [
    {
     "data": {
      "text/plain": [
       "['apple', 'banana', 'blueberry', 'cherry']"
      ]
     },
     "execution_count": 17,
     "metadata": {},
     "output_type": "execute_result"
    }
   ],
   "source": [
    "words=['apple','banana','cherry','blueberry']\n",
    "sorted(words)"
   ]
  },
  {
   "cell_type": "code",
   "execution_count": 19,
   "id": "996a79dc-a3a8-423c-9692-3062795eebc5",
   "metadata": {},
   "outputs": [
    {
     "data": {
      "text/plain": [
       "['blueberry', 'banana', 'cherry', 'apple']"
      ]
     },
     "execution_count": 19,
     "metadata": {},
     "output_type": "execute_result"
    }
   ],
   "source": [
    "sorted(words,key=len,reverse=True)"
   ]
  },
  {
   "cell_type": "code",
   "execution_count": 22,
   "id": "baa833f4-500b-4dba-b6dd-a5e0928c436d",
   "metadata": {},
   "outputs": [
    {
     "data": {
      "text/plain": [
       "['banana', 'apple', 'tomato', 'blueberry']"
      ]
     },
     "execution_count": 22,
     "metadata": {},
     "output_type": "execute_result"
    }
   ],
   "source": [
    "#마지막\n",
    "word=['apple','banana','tomato','blueberry']\n",
    "sorted(word,key=lambda g: g[-1])"
   ]
  },
  {
   "cell_type": "code",
   "execution_count": 24,
   "id": "bdc5de95-a4e9-4fba-9ac9-f3eb80185db2",
   "metadata": {},
   "outputs": [
    {
     "data": {
      "text/plain": [
       "[(3, 2), (2, 3), (1, 4)]"
      ]
     },
     "execution_count": 24,
     "metadata": {},
     "output_type": "execute_result"
    }
   ],
   "source": [
    "data=[(1,4),(2,3),(3,2)]   #오름차순 기본\n",
    "sorted(data,key=lambda x:x[1])"
   ]
  },
  {
   "cell_type": "code",
   "execution_count": 29,
   "id": "21018709-f32d-456e-9b9a-d53e1359e201",
   "metadata": {},
   "outputs": [
    {
     "data": {
      "text/plain": [
       "[('Bob', 22, 90), ('Charlie', 21, 78), ('Alice', 20, 85)]"
      ]
     },
     "execution_count": 29,
     "metadata": {},
     "output_type": "execute_result"
    }
   ],
   "source": [
    "#이름,나이,점수\n",
    "students=[(\"Alice\",20,85),(\"Bob\",22,90),(\"Charlie\",21,78)]\n",
    "#나이 기준으로 정렬\n",
    "sorted(students,key=lambda x:x[1],reverse=True)\n"
   ]
  },
  {
   "cell_type": "code",
   "execution_count": 31,
   "id": "b4ef13c7-3154-4b81-bf5f-ddeb28db520a",
   "metadata": {},
   "outputs": [
    {
     "data": {
      "text/plain": [
       "[('Bob', 22, 90), ('Alice', 20, 85), ('Charlie', 21, 78)]"
      ]
     },
     "execution_count": 31,
     "metadata": {},
     "output_type": "execute_result"
    }
   ],
   "source": [
    "#높은 점수순으로 정렬\n",
    "sorted(students,key=lambda x:x[2],reverse=True)"
   ]
  },
  {
   "cell_type": "code",
   "execution_count": 33,
   "id": "94447d43-7f25-4396-89c0-5f22bb765f15",
   "metadata": {},
   "outputs": [],
   "source": [
    "def to_string_list(lst):\n",
    "    result=[ ] #결과누적\n",
    "    #lst의 요소를 하나씩 꺼내서 문자열로 변환\n",
    "    for item in lst:\n",
    "        result.append(str(item))\n",
    "\n",
    "    return result\n",
    "\n"
   ]
  },
  {
   "cell_type": "code",
   "execution_count": 36,
   "id": "874dba79-da33-4c97-8bf5-368183584fe8",
   "metadata": {},
   "outputs": [
    {
     "data": {
      "text/plain": [
       "<function __main__.<lambda>(lst)>"
      ]
     },
     "execution_count": 36,
     "metadata": {},
     "output_type": "execute_result"
    }
   ],
   "source": [
    "to_string_list=lambda lst: list(map(str,lst))\n",
    "to_string_list"
   ]
  },
  {
   "cell_type": "code",
   "execution_count": 37,
   "id": "55022432-82c9-4b6a-9a70-17b2c75dc63b",
   "metadata": {},
   "outputs": [],
   "source": [
    "def concat_strings(s1,s2):\n",
    "    result=s1+s2\n",
    "    pass\n",
    "    return result"
   ]
  },
  {
   "cell_type": "code",
   "execution_count": 39,
   "id": "79360f94-7cb6-4ceb-a246-9ab15f1b7a5f",
   "metadata": {},
   "outputs": [
    {
     "name": "stdout",
     "output_type": "stream",
     "text": [
      "Helloworld\n"
     ]
    }
   ],
   "source": [
    "print(concat_strings(\"Hello\",\"world\"))"
   ]
  },
  {
   "cell_type": "code",
   "execution_count": 41,
   "id": "503bad33-e4e1-447b-87d6-e4911adce28c",
   "metadata": {},
   "outputs": [
    {
     "data": {
      "text/plain": [
       "<function __main__.<lambda>(s1, s2)>"
      ]
     },
     "execution_count": 41,
     "metadata": {},
     "output_type": "execute_result"
    }
   ],
   "source": [
    "def concat_strings(s1,s2):\n",
    "    result=s1+s2\n",
    "\n",
    "#lambda s1,s2:s1+s2\n",
    "(lambda s1,s2:s1+s2)"
   ]
  },
  {
   "cell_type": "code",
   "execution_count": 43,
   "id": "56288008-1c81-496d-8041-01c64cf56025",
   "metadata": {},
   "outputs": [
    {
     "data": {
      "text/plain": [
       "'가나다마바사'"
      ]
     },
     "execution_count": 43,
     "metadata": {},
     "output_type": "execute_result"
    }
   ],
   "source": [
    "concat_strings1=lambda s1,s2:s1+s2\n",
    "concat_strings1('가나다','마바사')"
   ]
  },
  {
   "cell_type": "code",
   "execution_count": 61,
   "id": "21e2c191-93df-45b0-8c11-b69ffb722b9a",
   "metadata": {},
   "outputs": [],
   "source": [
    "def remove_vowels(s):\n",
    "    result=' '\n",
    "    for ch in s:\n",
    "        if ch not in 'aeiou':\n",
    "            result+=ch\n",
    "    return result"
   ]
  },
  {
   "cell_type": "code",
   "execution_count": 62,
   "id": "8befa8da-885b-4ecd-be19-cd59e1105694",
   "metadata": {},
   "outputs": [],
   "source": [
    "remove_vowels2 = lambda s:  ''.join([ ch for ch in s if ch not in 'aeiou'])\n"
   ]
  },
  {
   "cell_type": "code",
   "execution_count": 56,
   "id": "4349db23-6a0a-49f1-9d08-0b18e7620e8c",
   "metadata": {},
   "outputs": [],
   "source": [
    "#def find_longest_word(s):\n",
    " #   pass\n",
    "#find_lingest_word=None"
   ]
  },
  {
   "cell_type": "code",
   "execution_count": 57,
   "id": "d089133c-7a5c-4edd-943f-009612305d39",
   "metadata": {},
   "outputs": [],
   "source": [
    "#print(find_longest_word(\"Life is for one generation a good name is forever.\"))"
   ]
  },
  {
   "cell_type": "code",
   "execution_count": 59,
   "id": "9f2107f3-5e0e-4fa3-b932-3628cb034457",
   "metadata": {},
   "outputs": [],
   "source": [
    "def find_longest_word(s):\n",
    "    words = s.split()\n",
    "    longest = words[0]\n",
    "    max_len = len(longest)\n",
    "\n",
    "    for w in words[1:] :\n",
    "        if len(w) > max_len:\n",
    "            longest = w\n",
    "            max_len = len(w)\n",
    "\n",
    "    return longest, max_len"
   ]
  },
  {
   "cell_type": "code",
   "execution_count": 71,
   "id": "157a6a79-a209-4e01-8700-60f311150512",
   "metadata": {},
   "outputs": [],
   "source": [
    "find_longest_word2 = lambda s : max( [(w, len(w)) for w in s.split()], key=lambda x:x[1] )"
   ]
  },
  {
   "cell_type": "code",
   "execution_count": 72,
   "id": "be03852a-1dc6-4aaa-ac11-cd13c82f5f82",
   "metadata": {},
   "outputs": [
    {
     "name": "stdout",
     "output_type": "stream",
     "text": [
      "('Life1111111111', 14)\n"
     ]
    }
   ],
   "source": [
    "print(find_longest_word2(\"Life1111111111 is for one generation a good name is forever.\")) "
   ]
  },
  {
   "cell_type": "code",
   "execution_count": 74,
   "id": "45eeb153-919d-457c-b97b-18bd44a4a0ed",
   "metadata": {},
   "outputs": [],
   "source": [
    "def split_numbers_letters(s):\n",
    "    # 1. 숫자를 담을 리스트, 문자를 담을 리스트를 만든다.\n",
    "    numbers = []\n",
    "    letters = []\n",
    "\n",
    "    for ch in s:\n",
    "        if ch.isdigit():\n",
    "            numbers.append(int(ch))\n",
    "        elif ch.isalpha():\n",
    "            letters.append(ch)\n",
    "    return numbers, letters"
   ]
  },
  {
   "cell_type": "code",
   "execution_count": 75,
   "id": "c2666c1c-c226-4175-8793-209b140e1870",
   "metadata": {},
   "outputs": [],
   "source": [
    "def split_numbers_letters1(s):\n",
    "    numbers = [ int(ch) for ch in s if ch.isdigit()]\n",
    "    letters = [ ch for ch in s if ch.isalpha() ]\n",
    "\n",
    "    return numbers, letters"
   ]
  },
  {
   "cell_type": "code",
   "execution_count": 76,
   "id": "ca03d191-7279-47ce-8f8d-4f1880239d6f",
   "metadata": {},
   "outputs": [],
   "source": [
    "def split_numbers_letters2(s):\n",
    "    numbers = list(map(int, filter(lambda ch: ch.isdigit() , s)))\n",
    "    letters = list(filter(lambda ch: ch.isalpha(), s))\n",
    "\n",
    "    return numbers, letters"
   ]
  },
  {
   "cell_type": "code",
   "execution_count": 77,
   "id": "2618cdcd-4f88-4e4b-8750-de2f4a58b3a9",
   "metadata": {},
   "outputs": [
    {
     "name": "stdout",
     "output_type": "stream",
     "text": [
      "([1, 2, 3, 4], ['a', 'b', 'c', 'd'])\n"
     ]
    }
   ],
   "source": [
    "print(split_numbers_letters1(\"a1b2c3d4\")) # [\"a\", \"b\", \"c\", \"d\"], [1, 2, 3, 4]"
   ]
  },
  {
   "cell_type": "code",
   "execution_count": 80,
   "id": "f44346fd-2db5-4589-ad9b-f1068e83b207",
   "metadata": {},
   "outputs": [],
   "source": [
    "#주어진 문자열(알파벳)을 입력 받아, 각 알파벳의 종류와 개수를 dict형으로  반환하는 함수를 만드세요.\n",
    "#답을 작성하세요.\n"
   ]
  },
  {
   "cell_type": "code",
   "execution_count": 84,
   "id": "b687f80d-4368-4ccc-a99a-5ade0b3c7636",
   "metadata": {},
   "outputs": [],
   "source": [
    "def count_alphabets(s):    \n",
    "    count_dict={}\n",
    "    \n",
    "    for ch in s:\n",
    "        if ch in count_dict:\n",
    "            count_didt[ch]+=1\n",
    "        else:\n",
    "            count_dict[ch]=1\n",
    "    return count_dict"
   ]
  },
  {
   "cell_type": "code",
   "execution_count": 85,
   "id": "2babe47f-fa6f-49c6-9c06-db348c93f7d8",
   "metadata": {},
   "outputs": [],
   "source": [
    "def count_alphabets1(s):\n",
    "    #딕셔너리 컴프리헨션\n",
    "    return { ch : s.count(ch) for ch in s }"
   ]
  },
  {
   "cell_type": "code",
   "execution_count": 86,
   "id": "224ccb8e-07e6-4f1b-8662-bf8b291ab374",
   "metadata": {},
   "outputs": [
    {
     "name": "stdout",
     "output_type": "stream",
     "text": [
      "{'h': 1, 'e': 4, 'l': 2, 'o': 1}\n"
     ]
    }
   ],
   "source": [
    "def count_alphabets1(s):\n",
    "    return{ ch: s.count(ch) for ch in s}\n",
    "print(count_alphabets1(\"heeeello\"))  # {\"h\": 1, \"e\": 1, \"l\": 2, \"o\": \"1\"}"
   ]
  }
 ],
 "metadata": {
  "kernelspec": {
   "display_name": "Python 3(myenv)",
   "language": "python",
   "name": "myenv"
  },
  "language_info": {
   "codemirror_mode": {
    "name": "ipython",
    "version": 3
   },
   "file_extension": ".py",
   "mimetype": "text/x-python",
   "name": "python",
   "nbconvert_exporter": "python",
   "pygments_lexer": "ipython3",
   "version": "3.10.16"
  }
 },
 "nbformat": 4,
 "nbformat_minor": 5
}
