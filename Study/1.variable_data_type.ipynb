{
 "cells": [
  {
   "cell_type": "code",
   "execution_count": 68,
   "id": "37c9cf4b-9b10-40f2-ac12-7391738f1ef4",
   "metadata": {},
   "outputs": [
    {
     "name": "stdout",
     "output_type": "stream",
     "text": [
      "8\n"
     ]
    }
   ],
   "source": [
    "result=3+5\n",
    "print(result)"
   ]
  },
  {
   "cell_type": "code",
   "execution_count": 69,
   "id": "8550ed91-e504-4a32-8db6-ccce291941c8",
   "metadata": {},
   "outputs": [
    {
     "name": "stdout",
     "output_type": "stream",
     "text": [
      "Hello World\n"
     ]
    }
   ],
   "source": [
    "ss='Hello World'\n",
    "print(ss)"
   ]
  },
  {
   "cell_type": "code",
   "execution_count": 70,
   "id": "2eec43fc-d152-4c02-991a-f511b9384e88",
   "metadata": {},
   "outputs": [],
   "source": [
    "# 주석처리: ctrl+/"
   ]
  },
  {
   "cell_type": "code",
   "execution_count": 71,
   "id": "3e20ffac-8a6a-48c9-bc99-684d643dae7c",
   "metadata": {},
   "outputs": [],
   "source": [
    "# age=input()\n",
    "# age"
   ]
  },
  {
   "cell_type": "code",
   "execution_count": 72,
   "id": "772eb151-a4a3-446c-b39e-083975417569",
   "metadata": {},
   "outputs": [
    {
     "name": "stdout",
     "output_type": "stream",
     "text": [
      "7\n"
     ]
    }
   ],
   "source": [
    "def calculate_sum(a,b):\n",
    "    result=a+b\n",
    "    return result\n",
    "print(calculate_sum(3,4))"
   ]
  },
  {
   "cell_type": "markdown",
   "id": "da3e285b-5e77-4d89-b1ee-e7b24847104b",
   "metadata": {},
   "source": [
    "#변수\n",
    "변수는 type sage: 변수를 선언할 때 타입(유형)을 지정하지 않아도 되는 특성   \n",
    "변수명=값\n",
    "\n",
    "##변수의 명명규칙##\n",
    "1. 문자, 숫자,밑줄을 가지고 만든다\n",
    "2. 숫자로 시작하면x\n",
    "3. 대소문자를 구분\n",
    "4. 예약어, 특수기호, 공백 전부x"
   ]
  },
  {
   "cell_type": "code",
   "execution_count": 73,
   "id": "5987b7de-70b3-46a2-af58-ce9f13348fe9",
   "metadata": {},
   "outputs": [
    {
     "data": {
      "text/plain": [
       "10"
      ]
     },
     "execution_count": 73,
     "metadata": {},
     "output_type": "execute_result"
    }
   ],
   "source": [
    "12345\n",
    "10"
   ]
  },
  {
   "cell_type": "code",
   "execution_count": 74,
   "id": "abd31fdf-2ce9-47f1-a5e6-18f4de1bca9c",
   "metadata": {},
   "outputs": [
    {
     "data": {
      "text/plain": [
       "'12345'"
      ]
     },
     "execution_count": 74,
     "metadata": {},
     "output_type": "execute_result"
    }
   ],
   "source": [
    "'12345'"
   ]
  },
  {
   "cell_type": "code",
   "execution_count": 75,
   "id": "adefd96f-42b3-4383-aa8d-e7817fb5e905",
   "metadata": {},
   "outputs": [
    {
     "data": {
      "text/plain": [
       "int"
      ]
     },
     "execution_count": 75,
     "metadata": {},
     "output_type": "execute_result"
    }
   ],
   "source": [
    "type(12345)"
   ]
  },
  {
   "cell_type": "code",
   "execution_count": 76,
   "id": "84e8b08d-11e3-43a4-9886-d523868d334f",
   "metadata": {},
   "outputs": [
    {
     "data": {
      "text/plain": [
       "str"
      ]
     },
     "execution_count": 76,
     "metadata": {},
     "output_type": "execute_result"
    }
   ],
   "source": [
    "type('12345')"
   ]
  },
  {
   "cell_type": "code",
   "execution_count": 77,
   "id": "768ee4af-b718-4588-8ad6-b8c99758c320",
   "metadata": {},
   "outputs": [
    {
     "data": {
      "text/plain": [
       "12355"
      ]
     },
     "execution_count": 77,
     "metadata": {},
     "output_type": "execute_result"
    }
   ],
   "source": [
    "12345+10"
   ]
  },
  {
   "cell_type": "code",
   "execution_count": 78,
   "id": "8ba4d596-16f5-4e70-855d-1069c8113558",
   "metadata": {},
   "outputs": [
    {
     "data": {
      "text/plain": [
       "str"
      ]
     },
     "execution_count": 78,
     "metadata": {},
     "output_type": "execute_result"
    }
   ],
   "source": [
    "type(\"12345\")"
   ]
  },
  {
   "cell_type": "code",
   "execution_count": 79,
   "id": "c8f06aa4-f9e2-4d8b-98d3-e9bd2d78ec18",
   "metadata": {},
   "outputs": [
    {
     "data": {
      "text/plain": [
       "'123451234512345'"
      ]
     },
     "execution_count": 79,
     "metadata": {},
     "output_type": "execute_result"
    }
   ],
   "source": [
    "'12345'*3"
   ]
  },
  {
   "cell_type": "code",
   "execution_count": 80,
   "id": "3936ff2d-1445-4388-8a56-ab2e5806c3e1",
   "metadata": {},
   "outputs": [
    {
     "name": "stdout",
     "output_type": "stream",
     "text": [
      "이름 입력 김이박\n"
     ]
    },
    {
     "data": {
      "text/plain": [
       "'김이박'"
      ]
     },
     "execution_count": 80,
     "metadata": {},
     "output_type": "execute_result"
    }
   ],
   "source": [
    "input(\"이름 입력\")"
   ]
  },
  {
   "cell_type": "code",
   "execution_count": 81,
   "id": "66dbd7eb-6d6e-4bd1-8d02-e730418af285",
   "metadata": {},
   "outputs": [
    {
     "name": "stdout",
     "output_type": "stream",
     "text": [
      "나이 입력 27\n"
     ]
    },
    {
     "data": {
      "text/plain": [
       "'27'"
      ]
     },
     "execution_count": 81,
     "metadata": {},
     "output_type": "execute_result"
    }
   ],
   "source": [
    "input('나이 입력')"
   ]
  },
  {
   "cell_type": "code",
   "execution_count": 82,
   "id": "868316e7-569b-4b6e-9068-9581e977c10e",
   "metadata": {},
   "outputs": [
    {
     "name": "stdout",
     "output_type": "stream",
     "text": [
      "나이 입력 27\n"
     ]
    },
    {
     "data": {
      "text/plain": [
       "'27'"
      ]
     },
     "execution_count": 82,
     "metadata": {},
     "output_type": "execute_result"
    }
   ],
   "source": [
    "age=input('나이 입력')\n",
    "age"
   ]
  },
  {
   "cell_type": "code",
   "execution_count": 83,
   "id": "d9d19f08-6272-42e4-b138-fa29fd7f7a1e",
   "metadata": {},
   "outputs": [
    {
     "data": {
      "text/plain": [
       "'27'"
      ]
     },
     "execution_count": 83,
     "metadata": {},
     "output_type": "execute_result"
    }
   ],
   "source": [
    "age"
   ]
  },
  {
   "cell_type": "code",
   "execution_count": 84,
   "id": "8f5012f9-621f-4ac9-97a7-0411af8f2de5",
   "metadata": {},
   "outputs": [],
   "source": [
    "#입력받은 name 출력"
   ]
  },
  {
   "cell_type": "code",
   "execution_count": 85,
   "id": "616c6576-9e63-4033-8a57-27504c563320",
   "metadata": {},
   "outputs": [
    {
     "data": {
      "text/plain": [
       "'김이박'"
      ]
     },
     "execution_count": 85,
     "metadata": {},
     "output_type": "execute_result"
    }
   ],
   "source": [
    "name=\"김이박\"\n",
    "name"
   ]
  },
  {
   "cell_type": "code",
   "execution_count": 86,
   "id": "f8bb5bff-b1e8-4df0-9937-d9e4eea5adc5",
   "metadata": {},
   "outputs": [
    {
     "name": "stdout",
     "output_type": "stream",
     "text": [
      "이름입력 김이박\n"
     ]
    },
    {
     "data": {
      "text/plain": [
       "'김이박'"
      ]
     },
     "execution_count": 86,
     "metadata": {},
     "output_type": "execute_result"
    }
   ],
   "source": [
    "input('이름입력')"
   ]
  },
  {
   "cell_type": "code",
   "execution_count": 87,
   "id": "fc6d8c04-56d0-4e9b-a3b4-105962b5224a",
   "metadata": {},
   "outputs": [
    {
     "data": {
      "text/plain": [
       "('27', '김이박')"
      ]
     },
     "execution_count": 87,
     "metadata": {},
     "output_type": "execute_result"
    }
   ],
   "source": [
    "age, name"
   ]
  },
  {
   "cell_type": "code",
   "execution_count": 88,
   "id": "cbc7e737-f9ee-4749-ac6b-688059499c3f",
   "metadata": {},
   "outputs": [
    {
     "name": "stdout",
     "output_type": "stream",
     "text": [
      "나는 김이박 이고 나이는 27 입니다\n"
     ]
    }
   ],
   "source": [
    "print('나는', name, '이고 나이는', age,'입니다')"
   ]
  },
  {
   "cell_type": "code",
   "execution_count": 89,
   "id": "369badc7-3734-4205-9039-3d5355d14ecf",
   "metadata": {},
   "outputs": [
    {
     "name": "stdout",
     "output_type": "stream",
     "text": [
      "나는김이박이고 나이는27입니다\n"
     ]
    }
   ],
   "source": [
    "print('나는' +name+ '이고 나이는' +age+ '입니다')"
   ]
  },
  {
   "cell_type": "code",
   "execution_count": 90,
   "id": "888ae1a0-1fe9-4a52-b1f6-d556bc945727",
   "metadata": {},
   "outputs": [
    {
     "data": {
      "text/plain": [
       "27"
      ]
     },
     "execution_count": 90,
     "metadata": {},
     "output_type": "execute_result"
    }
   ],
   "source": [
    "int(age)"
   ]
  },
  {
   "cell_type": "code",
   "execution_count": 91,
   "id": "cb9e9c60-8933-4f82-a919-047bdc8a55b2",
   "metadata": {},
   "outputs": [
    {
     "data": {
      "text/plain": [
       "37"
      ]
     },
     "execution_count": 91,
     "metadata": {},
     "output_type": "execute_result"
    }
   ],
   "source": [
    "int(age)+10"
   ]
  },
  {
   "cell_type": "code",
   "execution_count": 92,
   "id": "f1b57768-a8b8-4840-8a66-289b3d351759",
   "metadata": {},
   "outputs": [
    {
     "data": {
      "text/plain": [
       "37"
      ]
     },
     "execution_count": 92,
     "metadata": {},
     "output_type": "execute_result"
    }
   ],
   "source": [
    "age=int(age)\n",
    "age+10"
   ]
  },
  {
   "cell_type": "markdown",
   "id": "23a20b5c-cda6-4a85-a512-0a6d27c7df4b",
   "metadata": {},
   "source": [
    "# 연습"
   ]
  },
  {
   "cell_type": "code",
   "execution_count": 93,
   "id": "aa7c1031-d902-4e7c-97b2-b2dcb0ec2779",
   "metadata": {},
   "outputs": [
    {
     "name": "stdout",
     "output_type": "stream",
     "text": [
      "박:박 \n",
      "민:민상은 \n",
      "상:상상력이 풍부하다\n"
     ]
    }
   ],
   "source": [
    "#자기 이름으로 상행시 짓기\n",
    "\n",
    "print('박:박 ')\n",
    "print('민:민상은 ')\n",
    "print('상:상상력이 풍부하다')"
   ]
  },
  {
   "cell_type": "code",
   "execution_count": 94,
   "id": "8cdf678d-eced-4854-9f7b-df24a9d56ea8",
   "metadata": {},
   "outputs": [
    {
     "name": "stdout",
     "output_type": "stream",
     "text": [
      "박 박\n",
      "민 민상은\n",
      "상 상상력이 풍부하다\n"
     ]
    },
    {
     "name": "stdout",
     "output_type": "stream",
     "text": [
      "박 민상은 상상력이 풍부하다\n"
     ]
    }
   ],
   "source": [
    "str1=input('박')\n",
    "str2=input('민')\n",
    "str3=input('상')\n",
    "print(str1, str2, str3,sep=' ')"
   ]
  },
  {
   "cell_type": "code",
   "execution_count": 95,
   "id": "b83f6e71-9bc8-4004-ab34-60d7fd88e88c",
   "metadata": {},
   "outputs": [
    {
     "name": "stdout",
     "output_type": "stream",
     "text": [
      "박\n",
      "민상은\n",
      "상상력이 풍부하다\n"
     ]
    }
   ],
   "source": [
    "print(str1, str2, str3,sep='\\n')"
   ]
  },
  {
   "cell_type": "code",
   "execution_count": 96,
   "id": "ed07853d-41c6-48e8-839f-a0084447b49c",
   "metadata": {},
   "outputs": [
    {
     "name": "stdout",
     "output_type": "stream",
     "text": [
      "박\n",
      "민상은\n",
      "상상력이 풍부하다\n"
     ]
    }
   ],
   "source": [
    "삼행시=str1+'\\n'+str2+'\\n'+str3\n",
    "print(삼행시)"
   ]
  },
  {
   "cell_type": "code",
   "execution_count": 97,
   "id": "da8bc163-e672-4d5d-b2ee-a159ff6e7d95",
   "metadata": {},
   "outputs": [
    {
     "data": {
      "text/plain": [
       "(10, 'hello', 3.141592)"
      ]
     },
     "execution_count": 97,
     "metadata": {},
     "output_type": "execute_result"
    }
   ],
   "source": [
    "x=10\n",
    "y='hello'\n",
    "z=3.141592\n",
    "x,y,z"
   ]
  },
  {
   "cell_type": "code",
   "execution_count": 98,
   "id": "dbe88a47-8656-44b2-9e6d-ac06ffa8ecd7",
   "metadata": {},
   "outputs": [
    {
     "data": {
      "text/plain": [
       "(int, str, float)"
      ]
     },
     "execution_count": 98,
     "metadata": {},
     "output_type": "execute_result"
    }
   ],
   "source": [
    "type(x),type(y),type(z)"
   ]
  },
  {
   "cell_type": "code",
   "execution_count": 99,
   "id": "0119ed5c-1a0a-4d71-bef0-9d7e58884703",
   "metadata": {},
   "outputs": [
    {
     "name": "stdout",
     "output_type": "stream",
     "text": [
      "<class 'int'> <class 'str'> <class 'float'>\n"
     ]
    }
   ],
   "source": [
    "print(type(x),type(y),type(z))"
   ]
  },
  {
   "cell_type": "code",
   "execution_count": 100,
   "id": "326055f8-b11b-4b92-9314-c44b5f30cbae",
   "metadata": {},
   "outputs": [
    {
     "data": {
      "text/plain": [
       "(10, 20, 30)"
      ]
     },
     "execution_count": 100,
     "metadata": {},
     "output_type": "execute_result"
    }
   ],
   "source": [
    "a,b,c=10,20,30\n",
    "a,b,c"
   ]
  },
  {
   "cell_type": "code",
   "execution_count": 101,
   "id": "65bb8382-c26e-4dca-964d-7c72f8f386c5",
   "metadata": {},
   "outputs": [
    {
     "data": {
      "text/plain": [
       "(10, 10, 10)"
      ]
     },
     "execution_count": 101,
     "metadata": {},
     "output_type": "execute_result"
    }
   ],
   "source": [
    "a=10; b=10; c=10;\n",
    "a,b,c"
   ]
  },
  {
   "cell_type": "code",
   "execution_count": 102,
   "id": "ac005122-e884-45e7-af87-4870e2807a7d",
   "metadata": {},
   "outputs": [
    {
     "data": {
      "text/plain": [
       "(40, 40, 40)"
      ]
     },
     "execution_count": 102,
     "metadata": {},
     "output_type": "execute_result"
    }
   ],
   "source": [
    "a=b=c=40\n",
    "a,b,c"
   ]
  },
  {
   "cell_type": "code",
   "execution_count": 103,
   "id": "15f07813-ce74-4e46-a9b8-ae571741da44",
   "metadata": {},
   "outputs": [
    {
     "data": {
      "text/plain": [
       "(True, None)"
      ]
     },
     "execution_count": 103,
     "metadata": {},
     "output_type": "execute_result"
    }
   ],
   "source": [
    "d=True #bool형\n",
    "e=None\n",
    "d,e"
   ]
  },
  {
   "cell_type": "code",
   "execution_count": 104,
   "id": "a7cbf9b0-e33c-4232-b8cf-8d9b3037de0f",
   "metadata": {},
   "outputs": [
    {
     "data": {
      "text/plain": [
       "(10, 10)"
      ]
     },
     "execution_count": 104,
     "metadata": {},
     "output_type": "execute_result"
    }
   ],
   "source": [
    "a=10\n",
    "b=a\n",
    "a,b"
   ]
  },
  {
   "cell_type": "code",
   "execution_count": 105,
   "id": "82c47588-c12a-46b7-b5c6-50e19bbb65d5",
   "metadata": {},
   "outputs": [
    {
     "name": "stdout",
     "output_type": "stream",
     "text": [
      "20 10\n"
     ]
    }
   ],
   "source": [
    "a=20\n",
    "print(a,b)"
   ]
  },
  {
   "cell_type": "code",
   "execution_count": 106,
   "id": "819aa6e5-30c9-4fab-ac4d-3905bbce9846",
   "metadata": {},
   "outputs": [
    {
     "data": {
      "text/plain": [
       "(1599429083984, 1599429083664)"
      ]
     },
     "execution_count": 106,
     "metadata": {},
     "output_type": "execute_result"
    }
   ],
   "source": [
    "id(a),id(b)"
   ]
  },
  {
   "cell_type": "code",
   "execution_count": 107,
   "id": "a6ec2012-7688-4ed8-98ea-644c3008eb9e",
   "metadata": {},
   "outputs": [],
   "source": [
    "#의미 부여 하기  어려운 변수명\n",
    "x=100\n",
    "y=100\n",
    "\n",
    "#의미있는 변수명\n",
    "age=20\n",
    "name='홍길동'\n",
    "user_name='Alic'\n",
    "admin_name='Bob'\n",
    "\n",
    "PI=3.141592\n",
    "MAX_CONNECTIONS=10\n",
    "MIN_VALUE=0"
   ]
  },
  {
   "cell_type": "markdown",
   "id": "1906dc05-7e15-40f0-9e68-4efbdaefbc70",
   "metadata": {},
   "source": [
    "# NAME_SPACE\n",
    "\n",
    "변수가 최초로 정의된 영역에 따라 유효범위가 결정됩니다.\n",
    "\n",
    "-지역변수\n",
    "\n",
    "-전역변수: 함수 영역 밖에서 선언한 변수, global 키워드\n",
    "\n",
    "-정적변수\n"
   ]
  },
  {
   "cell_type": "code",
   "execution_count": 108,
   "id": "7bdc3f60-f59d-48b1-bd2f-30e12b86e31c",
   "metadata": {},
   "outputs": [
    {
     "name": "stdout",
     "output_type": "stream",
     "text": [
      "여기는 함수의 영역입니다 100\n"
     ]
    }
   ],
   "source": [
    "#지역변수\n",
    "def local_example():\n",
    "    local_var=100\n",
    "    print('여기는 함수의 영역입니다' , local_var)\n",
    "local_example()"
   ]
  },
  {
   "cell_type": "code",
   "execution_count": 109,
   "id": "f8ff44fb-ee9b-472c-87b8-9080ed976be8",
   "metadata": {},
   "outputs": [
    {
     "name": "stdout",
     "output_type": "stream",
     "text": [
      "나는 전역이다\n"
     ]
    }
   ],
   "source": [
    "#전역변수\n",
    "global_var='나는 전역이다'\n",
    "print(global_var)"
   ]
  },
  {
   "cell_type": "code",
   "execution_count": 110,
   "id": "e3e1c40f-6fea-4c47-b11b-b8d292fed6ef",
   "metadata": {},
   "outputs": [
    {
     "name": "stdout",
     "output_type": "stream",
     "text": [
      "나는 전역이다\n",
      "여기는 함수의 영역입니다 100 나는 전역이다\n"
     ]
    }
   ],
   "source": [
    "global_var='나는 전역이다'\n",
    "print(global_var)\n",
    "\n",
    "def global_example():\n",
    "    local_var=100\n",
    "    print('여기는 함수의 영역입니다' , local_var,global_var)\n",
    "\n",
    "global_example()"
   ]
  },
  {
   "cell_type": "code",
   "execution_count": 111,
   "id": "ff61679a-0ca5-4c8f-82cc-7cbc8aa40ce3",
   "metadata": {},
   "outputs": [
    {
     "name": "stdout",
     "output_type": "stream",
     "text": [
      "나는 전역이다\n",
      "여기는 함수의 영역입니다 100\n",
      "나는 전역이다\n"
     ]
    }
   ],
   "source": [
    "var_test='나는 전역이다'\n",
    "print(var_test)\n",
    "\n",
    "def global_example():\n",
    "    var_test=100\n",
    "    print('여기는 함수의 영역입니다' , var_test)\n",
    "\n",
    "global_example()\n",
    "print(var_test)"
   ]
  },
  {
   "cell_type": "code",
   "execution_count": 112,
   "id": "f021c2e3-2091-40b8-a091-11c1131b7ebe",
   "metadata": {},
   "outputs": [
    {
     "name": "stdout",
     "output_type": "stream",
     "text": [
      "카운터:  1\n",
      "카운터:  2\n",
      "카운터:  3\n"
     ]
    }
   ],
   "source": [
    "counter=0 #global\n",
    "\n",
    "def increment_counter():\n",
    "    global counter\n",
    "    counter += 1\n",
    "    print('카운터: ', counter)\n",
    "increment_counter()\n",
    "increment_counter()\n",
    "increment_counter()"
   ]
  },
  {
   "cell_type": "markdown",
   "id": "e857ab70-bab9-4b0c-a07d-2635d53df805",
   "metadata": {},
   "source": [
    "# 교재 변수연습"
   ]
  },
  {
   "cell_type": "code",
   "execution_count": 113,
   "id": "27288c60-3dfb-4bfa-b1ba-d9506025a19b",
   "metadata": {},
   "outputs": [
    {
     "data": {
      "text/plain": [
       "[1, 2, 3]"
      ]
     },
     "execution_count": 113,
     "metadata": {},
     "output_type": "execute_result"
    }
   ],
   "source": [
    "a=[1,2,3]\n",
    "b=a[:]\n",
    "a[1]=4\n",
    "a\n",
    "b"
   ]
  },
  {
   "cell_type": "code",
   "execution_count": 114,
   "id": "b5c73c97-1b53-46c4-bcc5-6e3a2631cc07",
   "metadata": {},
   "outputs": [
    {
     "name": "stdout",
     "output_type": "stream",
     "text": [
      "hello python\n"
     ]
    }
   ],
   "source": [
    "s=\"hello\"\n",
    "t=\"python\"\n",
    "print(s+\" \"+t)"
   ]
  },
  {
   "cell_type": "code",
   "execution_count": 115,
   "id": "2f09ec63-f963-472d-b100-780a0e4993b9",
   "metadata": {},
   "outputs": [
    {
     "data": {
      "text/plain": [
       "int"
      ]
     },
     "execution_count": 115,
     "metadata": {},
     "output_type": "execute_result"
    }
   ],
   "source": [
    "a=132\n",
    "type(a)"
   ]
  },
  {
   "cell_type": "code",
   "execution_count": 116,
   "id": "7dcf251c-00b4-46cf-b6eb-4a91cbac307e",
   "metadata": {},
   "outputs": [
    {
     "name": "stdout",
     "output_type": "stream",
     "text": [
      "100 <class 'str'>\n"
     ]
    }
   ],
   "source": [
    "num=100\n",
    "result=str(num)\n",
    "print(result,type(result))"
   ]
  },
  {
   "cell_type": "markdown",
   "id": "c025bcbb-3747-44f4-a85e-26ebd06febaa",
   "metadata": {},
   "source": [
    "|type|설명|예|\n",
    "|-------|--------|------|\n",
    "|정수형(int)|정수를 저장하는 자료형|1,-1,100|"
   ]
  },
  {
   "cell_type": "code",
   "execution_count": 117,
   "id": "a58bdf1b-3792-4780-8e71-8ce881b9b5ba",
   "metadata": {},
   "outputs": [
    {
     "data": {
      "text/plain": [
       "(3.14, float)"
      ]
     },
     "execution_count": 117,
     "metadata": {},
     "output_type": "execute_result"
    }
   ],
   "source": [
    "#floot\n",
    "b=3.14\n",
    "b,type(b)"
   ]
  },
  {
   "cell_type": "markdown",
   "id": "f592b854-6f61-4909-b2dc-d5f4163058c4",
   "metadata": {},
   "source": [
    "#지수의 표기\n",
    "\n",
    "숫자e2->10^2=10**2\n",
    "숫자e-2->10^-2=10**-2"
   ]
  },
  {
   "cell_type": "code",
   "execution_count": 120,
   "id": "92f5c7b2-af47-4b05-87ab-fe95437cc0bb",
   "metadata": {},
   "outputs": [
    {
     "data": {
      "text/plain": [
       "(1000.0, 100)"
      ]
     },
     "execution_count": 120,
     "metadata": {},
     "output_type": "execute_result"
    }
   ],
   "source": [
    "fa=10e2\n",
    "fa, 10**2"
   ]
  },
  {
   "cell_type": "code",
   "execution_count": 121,
   "id": "228af793-f51a-4c49-9997-d82f5af9296b",
   "metadata": {},
   "outputs": [
    {
     "data": {
      "text/plain": [
       "3141500000.0"
      ]
     },
     "execution_count": 121,
     "metadata": {},
     "output_type": "execute_result"
    }
   ],
   "source": [
    "fc=3.1415e9\n",
    "fc"
   ]
  },
  {
   "cell_type": "code",
   "execution_count": 123,
   "id": "17d4f923-9a60-463e-ba1f-2f203a0b9d14",
   "metadata": {},
   "outputs": [
    {
     "data": {
      "text/plain": [
       "(bool, str)"
      ]
     },
     "execution_count": 123,
     "metadata": {},
     "output_type": "execute_result"
    }
   ],
   "source": [
    "#boolean\n",
    "ba=True\n",
    "bb='true'\n",
    "type(ba),type(bb)"
   ]
  },
  {
   "cell_type": "code",
   "execution_count": 124,
   "id": "ab8e0b6f-95dd-4532-9773-25148875a933",
   "metadata": {},
   "outputs": [
    {
     "data": {
      "text/plain": [
       "True"
      ]
     },
     "execution_count": 124,
     "metadata": {},
     "output_type": "execute_result"
    }
   ],
   "source": [
    "ba==1"
   ]
  },
  {
   "cell_type": "code",
   "execution_count": 125,
   "id": "099787b8-86e1-4afa-855e-3b67777dd203",
   "metadata": {},
   "outputs": [
    {
     "data": {
      "text/plain": [
       "False"
      ]
     },
     "execution_count": 125,
     "metadata": {},
     "output_type": "execute_result"
    }
   ],
   "source": [
    "1+2!=3"
   ]
  },
  {
   "cell_type": "code",
   "execution_count": 126,
   "id": "5b50d505-5421-4ac0-9299-484963c20045",
   "metadata": {},
   "outputs": [
    {
     "data": {
      "text/plain": [
       "(10, 12)"
      ]
     },
     "execution_count": 126,
     "metadata": {},
     "output_type": "execute_result"
    }
   ],
   "source": [
    "a=10\n",
    "b=a+2\n",
    "a,b"
   ]
  },
  {
   "cell_type": "code",
   "execution_count": 127,
   "id": "42d07387-084a-44c1-97d5-bff6e27f9b48",
   "metadata": {},
   "outputs": [
    {
     "data": {
      "text/plain": [
       "9"
      ]
     },
     "execution_count": 127,
     "metadata": {},
     "output_type": "execute_result"
    }
   ],
   "source": [
    "a-=1\n",
    "a"
   ]
  },
  {
   "cell_type": "markdown",
   "id": "7994f272-c57b-49b8-9ecd-0760f678a6e5",
   "metadata": {},
   "source": [
    "#문자열 str"
   ]
  },
  {
   "cell_type": "code",
   "execution_count": null,
   "id": "1cdf9390-e372-4a38-ae5f-7f822b518138",
   "metadata": {},
   "outputs": [],
   "source": []
  },
  {
   "cell_type": "code",
   "execution_count": 128,
   "id": "c524ff6c-0561-40ca-b574-e3987165c173",
   "metadata": {},
   "outputs": [
    {
     "data": {
      "text/plain": [
       "'hellopython'"
      ]
     },
     "execution_count": 128,
     "metadata": {},
     "output_type": "execute_result"
    }
   ],
   "source": [
    "a='hello'\n",
    "b='python'\n",
    "a+b"
   ]
  },
  {
   "cell_type": "code",
   "execution_count": 129,
   "id": "386b0e58-c5d1-4c0d-9249-51e345aeee57",
   "metadata": {},
   "outputs": [
    {
     "data": {
      "text/plain": [
       "'**********'"
      ]
     },
     "execution_count": 129,
     "metadata": {},
     "output_type": "execute_result"
    }
   ],
   "source": [
    "c='*'\n",
    "c*10"
   ]
  },
  {
   "cell_type": "code",
   "execution_count": 130,
   "id": "8e77fc3f-d686-4edf-a7c4-6da706372523",
   "metadata": {},
   "outputs": [
    {
     "data": {
      "text/plain": [
       "\"Kim's Family\""
      ]
     },
     "execution_count": 130,
     "metadata": {},
     "output_type": "execute_result"
    }
   ],
   "source": [
    "d=\"Kim's Family\"\n",
    "d"
   ]
  },
  {
   "cell_type": "code",
   "execution_count": 131,
   "id": "7484616c-7583-42ea-9ce6-fe4d5d1f2325",
   "metadata": {},
   "outputs": [
    {
     "data": {
      "text/plain": [
       "True"
      ]
     },
     "execution_count": 131,
     "metadata": {},
     "output_type": "execute_result"
    }
   ],
   "source": [
    "e='1'\n",
    "e=='1'"
   ]
  },
  {
   "cell_type": "code",
   "execution_count": 132,
   "id": "e0994658-1256-4de0-a63f-49664060ef9e",
   "metadata": {},
   "outputs": [
    {
     "data": {
      "text/plain": [
       "'1'"
      ]
     },
     "execution_count": 132,
     "metadata": {},
     "output_type": "execute_result"
    }
   ],
   "source": [
    "a='20010331Rabdc'\n",
    "a[3]"
   ]
  },
  {
   "cell_type": "code",
   "execution_count": 133,
   "id": "d145ef14-45f3-40a0-91e0-02ab4ac4f691",
   "metadata": {},
   "outputs": [
    {
     "data": {
      "text/plain": [
       "'2001'"
      ]
     },
     "execution_count": 133,
     "metadata": {},
     "output_type": "execute_result"
    }
   ],
   "source": [
    "a[:4]"
   ]
  },
  {
   "cell_type": "code",
   "execution_count": 134,
   "id": "5fa02253-3ae4-4045-a444-f753909bbcf5",
   "metadata": {},
   "outputs": [
    {
     "data": {
      "text/plain": [
       "'2001'"
      ]
     },
     "execution_count": 134,
     "metadata": {},
     "output_type": "execute_result"
    }
   ],
   "source": [
    "a[0:4]"
   ]
  },
  {
   "cell_type": "code",
   "execution_count": 135,
   "id": "6a7a76a6-d7b8-4d89-8f24-bb53cd6edf55",
   "metadata": {},
   "outputs": [
    {
     "data": {
      "text/plain": [
       "'Rab'"
      ]
     },
     "execution_count": 135,
     "metadata": {},
     "output_type": "execute_result"
    }
   ],
   "source": [
    "a[8:11]"
   ]
  },
  {
   "cell_type": "code",
   "execution_count": 136,
   "id": "0a7eaf35-914e-4640-baf8-902f94347726",
   "metadata": {},
   "outputs": [
    {
     "data": {
      "text/plain": [
       "'abdc'"
      ]
     },
     "execution_count": 136,
     "metadata": {},
     "output_type": "execute_result"
    }
   ],
   "source": [
    "a[9:]"
   ]
  },
  {
   "cell_type": "code",
   "execution_count": 137,
   "id": "d56448a5-43ac-4fe9-ab70-44b38a05ee81",
   "metadata": {},
   "outputs": [
    {
     "data": {
      "text/plain": [
       "True"
      ]
     },
     "execution_count": 137,
     "metadata": {},
     "output_type": "execute_result"
    }
   ],
   "source": [
    "s='abc'\n",
    "a=s\n",
    "a is s"
   ]
  },
  {
   "cell_type": "code",
   "execution_count": 138,
   "id": "56fd1374-6d77-45c4-8c25-5a58271e9514",
   "metadata": {},
   "outputs": [
    {
     "data": {
      "text/plain": [
       "True"
      ]
     },
     "execution_count": 138,
     "metadata": {},
     "output_type": "execute_result"
    }
   ],
   "source": [
    "b=s[:]\n",
    "a is b"
   ]
  },
  {
   "cell_type": "code",
   "execution_count": 139,
   "id": "d6c5a4ef-e775-4583-9217-5afa670ef573",
   "metadata": {},
   "outputs": [
    {
     "data": {
      "text/plain": [
       "'20010331Rabdc'"
      ]
     },
     "execution_count": 139,
     "metadata": {},
     "output_type": "execute_result"
    }
   ],
   "source": [
    "a='20010331Rabdc'\n",
    "a[:]"
   ]
  },
  {
   "cell_type": "code",
   "execution_count": 1,
   "id": "d638c671-5bfb-4e6d-b15c-810fe6890a20",
   "metadata": {},
   "outputs": [
    {
     "name": "stdout",
     "output_type": "stream",
     "text": [
      "파이썬\n",
      "54028\n"
     ]
    }
   ],
   "source": [
    "text='파이썬'\n",
    "print(text)\n",
    "print(ord('파'))"
   ]
  },
  {
   "cell_type": "code",
   "execution_count": 2,
   "id": "7432f019-7ebc-49e3-86b3-09202ad736fe",
   "metadata": {},
   "outputs": [],
   "source": [
    "#유니코드: 글자 크기에 따라 utf-8, 16\n",
    "#euc-kr:예전에 우리나라에서 쓰던 한글코드"
   ]
  },
  {
   "cell_type": "code",
   "execution_count": 3,
   "id": "a75ff961-8e2f-4c4d-8cf8-e429f18bb68a",
   "metadata": {},
   "outputs": [
    {
     "data": {
      "text/plain": [
       "b'\\xed\\x8c\\x8c\\xec\\x9d\\xb4\\xec\\x8d\\xac'"
      ]
     },
     "execution_count": 3,
     "metadata": {},
     "output_type": "execute_result"
    }
   ],
   "source": [
    "#인코딩\n",
    "text.encode('utf-8')"
   ]
  },
  {
   "cell_type": "code",
   "execution_count": 4,
   "id": "947fa5e7-6809-42f0-b732-62fbb1b5fa0e",
   "metadata": {},
   "outputs": [
    {
     "data": {
      "text/plain": [
       "b'\\xed\\x8c\\x8c\\xec\\x9d\\xb4\\xec\\x8d\\xac'"
      ]
     },
     "execution_count": 4,
     "metadata": {},
     "output_type": "execute_result"
    }
   ],
   "source": [
    "enc_text=text.encode('utf-8')\n",
    "enc_text"
   ]
  },
  {
   "cell_type": "code",
   "execution_count": 5,
   "id": "8423a904-bd12-4f70-8ee8-f739892fb4c5",
   "metadata": {},
   "outputs": [
    {
     "data": {
      "text/plain": [
       "'파이썬'"
      ]
     },
     "execution_count": 5,
     "metadata": {},
     "output_type": "execute_result"
    }
   ],
   "source": [
    "dec_text=enc_text.decode('utf-8')\n",
    "dec_text"
   ]
  },
  {
   "cell_type": "code",
   "execution_count": 6,
   "id": "adfb8471-b530-4519-b3f6-302ece0b62bc",
   "metadata": {},
   "outputs": [
    {
     "data": {
      "text/plain": [
       "'docstring\\n\\nstart\\n\\nend\\n'"
      ]
     },
     "execution_count": 6,
     "metadata": {},
     "output_type": "execute_result"
    }
   ],
   "source": [
    "'''docstring\\n\n",
    "start\\n\n",
    "end\n",
    "'''"
   ]
  },
  {
   "cell_type": "code",
   "execution_count": 7,
   "id": "0e419ecb-c8e9-47a2-8a91-d5f9b8ac5d59",
   "metadata": {},
   "outputs": [
    {
     "name": "stdout",
     "output_type": "stream",
     "text": [
      "docstring \n",
      "\n",
      "start \n",
      "\n",
      "end \n",
      "\n",
      "\n"
     ]
    }
   ],
   "source": [
    "doc_string='''docstring \\n\n",
    "start \\n\n",
    "end \\n\n",
    "'''\n",
    "print(doc_string)"
   ]
  },
  {
   "cell_type": "code",
   "execution_count": 8,
   "id": "52b319bc-e5b5-451a-9bd4-81d6316fc9e1",
   "metadata": {},
   "outputs": [
    {
     "data": {
      "text/plain": [
       "' docstring \\n\\nstart \\n\\nend \\n\\n'"
      ]
     },
     "execution_count": 8,
     "metadata": {},
     "output_type": "execute_result"
    }
   ],
   "source": [
    "doc_string=''' docstring \\n\n",
    "start \\n\n",
    "end \\n\n",
    "'''\n",
    "doc_string"
   ]
  },
  {
   "cell_type": "code",
   "execution_count": 9,
   "id": "ae3f20a8-8843-424a-b601-85118698cf80",
   "metadata": {},
   "outputs": [
    {
     "data": {
      "text/plain": [
       "['__add__',\n",
       " '__class__',\n",
       " '__contains__',\n",
       " '__delattr__',\n",
       " '__dir__',\n",
       " '__doc__',\n",
       " '__eq__',\n",
       " '__format__',\n",
       " '__ge__',\n",
       " '__getattribute__',\n",
       " '__getitem__',\n",
       " '__getnewargs__',\n",
       " '__gt__',\n",
       " '__hash__',\n",
       " '__init__',\n",
       " '__init_subclass__',\n",
       " '__iter__',\n",
       " '__le__',\n",
       " '__len__',\n",
       " '__lt__',\n",
       " '__mod__',\n",
       " '__mul__',\n",
       " '__ne__',\n",
       " '__new__',\n",
       " '__reduce__',\n",
       " '__reduce_ex__',\n",
       " '__repr__',\n",
       " '__rmod__',\n",
       " '__rmul__',\n",
       " '__setattr__',\n",
       " '__sizeof__',\n",
       " '__str__',\n",
       " '__subclasshook__',\n",
       " 'capitalize',\n",
       " 'casefold',\n",
       " 'center',\n",
       " 'count',\n",
       " 'encode',\n",
       " 'endswith',\n",
       " 'expandtabs',\n",
       " 'find',\n",
       " 'format',\n",
       " 'format_map',\n",
       " 'index',\n",
       " 'isalnum',\n",
       " 'isalpha',\n",
       " 'isascii',\n",
       " 'isdecimal',\n",
       " 'isdigit',\n",
       " 'isidentifier',\n",
       " 'islower',\n",
       " 'isnumeric',\n",
       " 'isprintable',\n",
       " 'isspace',\n",
       " 'istitle',\n",
       " 'isupper',\n",
       " 'join',\n",
       " 'ljust',\n",
       " 'lower',\n",
       " 'lstrip',\n",
       " 'maketrans',\n",
       " 'partition',\n",
       " 'removeprefix',\n",
       " 'removesuffix',\n",
       " 'replace',\n",
       " 'rfind',\n",
       " 'rindex',\n",
       " 'rjust',\n",
       " 'rpartition',\n",
       " 'rsplit',\n",
       " 'rstrip',\n",
       " 'split',\n",
       " 'splitlines',\n",
       " 'startswith',\n",
       " 'strip',\n",
       " 'swapcase',\n",
       " 'title',\n",
       " 'translate',\n",
       " 'upper',\n",
       " 'zfill']"
      ]
     },
     "execution_count": 9,
     "metadata": {},
     "output_type": "execute_result"
    }
   ],
   "source": [
    "dir(text)     #적용가능한 함수"
   ]
  },
  {
   "cell_type": "code",
   "execution_count": 10,
   "id": "2ada7662-0d92-4181-9f26-da1bc5ebde86",
   "metadata": {},
   "outputs": [
    {
     "data": {
      "text/plain": [
       "'파이썬4'"
      ]
     },
     "execution_count": 10,
     "metadata": {},
     "output_type": "execute_result"
    }
   ],
   "source": [
    "text.__add__(\"4\")"
   ]
  },
  {
   "cell_type": "code",
   "execution_count": 11,
   "id": "1dbbd823-07ae-4fdb-b15b-0cd039acbbe8",
   "metadata": {},
   "outputs": [
    {
     "data": {
      "text/plain": [
       "1"
      ]
     },
     "execution_count": 11,
     "metadata": {},
     "output_type": "execute_result"
    }
   ],
   "source": [
    "text.count(text)"
   ]
  },
  {
   "cell_type": "code",
   "execution_count": 12,
   "id": "f731f6b3-7f8b-4f3d-828d-b5097fd00966",
   "metadata": {},
   "outputs": [
    {
     "name": "stdout",
     "output_type": "stream",
     "text": [
      "hello\n",
      "world's\n"
     ]
    }
   ],
   "source": [
    "print(\"hello\\nworld's\")  #escape 문자는 특수문자를 그냥 텍스트로 인식하게 한다."
   ]
  },
  {
   "cell_type": "code",
   "execution_count": 13,
   "id": "ebb7bd29-f937-4885-8bf6-d84bd459da16",
   "metadata": {},
   "outputs": [
    {
     "data": {
      "text/plain": [
       "'파이썬파이썬파이썬파이썬'"
      ]
     },
     "execution_count": 13,
     "metadata": {},
     "output_type": "execute_result"
    }
   ],
   "source": [
    "text*4"
   ]
  },
  {
   "cell_type": "code",
   "execution_count": 14,
   "id": "e46fc8c3-873b-41bd-8840-35252c152d92",
   "metadata": {},
   "outputs": [
    {
     "data": {
      "text/plain": [
       "'파이썬파이썬파이썬파이썬'"
      ]
     },
     "execution_count": 14,
     "metadata": {},
     "output_type": "execute_result"
    }
   ],
   "source": [
    "text.__mul__(4)"
   ]
  },
  {
   "cell_type": "code",
   "execution_count": 15,
   "id": "1ae01ad7-66aa-4b2a-86d0-b16fda1e324f",
   "metadata": {},
   "outputs": [
    {
     "data": {
      "text/plain": [
       "'12//4'"
      ]
     },
     "execution_count": 15,
     "metadata": {},
     "output_type": "execute_result"
    }
   ],
   "source": [
    "str_1='12//4'\n",
    "str_1"
   ]
  },
  {
   "cell_type": "code",
   "execution_count": 16,
   "id": "d1d2685b-d89b-4019-b895-97c7e89a1c11",
   "metadata": {},
   "outputs": [
    {
     "data": {
      "text/plain": [
       "'12//4'"
      ]
     },
     "execution_count": 16,
     "metadata": {},
     "output_type": "execute_result"
    }
   ],
   "source": [
    "raw_str=r'12//4'\n",
    "raw_str"
   ]
  },
  {
   "cell_type": "code",
   "execution_count": 17,
   "id": "bee4c93e-cca5-4aef-af25-cda6e5af0faa",
   "metadata": {},
   "outputs": [
    {
     "name": "stdout",
     "output_type": "stream",
     "text": [
      "Hello\\nworld\n"
     ]
    }
   ],
   "source": [
    "raw_str_1=r'Hello\\nworld'\n",
    "raw_str_1\n",
    "print(raw_str_1)"
   ]
  },
  {
   "cell_type": "code",
   "execution_count": 18,
   "id": "e7b575b6-1888-4e72-8656-c49c40012900",
   "metadata": {},
   "outputs": [],
   "source": [
    "b=2\n",
    "c='3'\n",
    "#b+c #typeerror"
   ]
  },
  {
   "cell_type": "code",
   "execution_count": 19,
   "id": "98c980af-1862-4ba4-8c36-236e82dd4bed",
   "metadata": {},
   "outputs": [
    {
     "data": {
      "text/plain": [
       "5"
      ]
     },
     "execution_count": 19,
     "metadata": {},
     "output_type": "execute_result"
    }
   ],
   "source": [
    "b=2\n",
    "c='3'\n",
    "int(c)+b"
   ]
  },
  {
   "cell_type": "code",
   "execution_count": 20,
   "id": "2d3da49e-7dd6-4beb-9479-08492ab53e28",
   "metadata": {},
   "outputs": [],
   "source": [
    "c='3a'\n",
    "#b+int(c) #valueEroor"
   ]
  },
  {
   "cell_type": "code",
   "execution_count": 21,
   "id": "17f2514e-3093-40fb-882c-5c336bd8577a",
   "metadata": {},
   "outputs": [
    {
     "data": {
      "text/plain": [
       "5"
      ]
     },
     "execution_count": 21,
     "metadata": {},
     "output_type": "execute_result"
    }
   ],
   "source": [
    "c='3a'\n",
    "b+int(c[:1])"
   ]
  },
  {
   "cell_type": "markdown",
   "id": "bb81bf50-e273-45a9-86ee-737196a5fca1",
   "metadata": {},
   "source": [
    "f{수식}} 문자열이에요{변수}'"
   ]
  },
  {
   "cell_type": "code",
   "execution_count": 22,
   "id": "99547bad-4bb5-4a14-889e-914e095d0551",
   "metadata": {},
   "outputs": [
    {
     "name": "stdout",
     "output_type": "stream",
     "text": [
      "제 이름은 pminsang 내 나이는 25\n"
     ]
    }
   ],
   "source": [
    "name= 'pminsang'\n",
    "age=25\n",
    "\n",
    "print('제 이름은',name,'내 나이는',age)"
   ]
  },
  {
   "cell_type": "code",
   "execution_count": 23,
   "id": "29e01958-d437-4203-a82c-eaa485e17e3b",
   "metadata": {},
   "outputs": [
    {
     "data": {
      "text/plain": [
       "'제 이름은pminsang 내 나이는 25입니다.'"
      ]
     },
     "execution_count": 23,
     "metadata": {},
     "output_type": "execute_result"
    }
   ],
   "source": [
    "f_str_1=f'제 이름은{name} 내 나이는 {age}입니다.'\n",
    "f_str_1"
   ]
  },
  {
   "cell_type": "code",
   "execution_count": 24,
   "id": "018ea32c-a13a-4306-a678-d0b9c39ec21a",
   "metadata": {},
   "outputs": [
    {
     "name": "stdout",
     "output_type": "stream",
     "text": [
      "이름을 입력하세요:  홍길동\n",
      "자기소개를 입력하세요:  안녕하세요\n"
     ]
    },
    {
     "name": "stdout",
     "output_type": "stream",
     "text": [
      "안녕하세요, 홍길동님!\n",
      "자기소개: 안녕하세요\n"
     ]
    }
   ],
   "source": [
    "#이름과 자기소개를 입력받아서 출력하는 프로그램 작성\n",
    "\n",
    "name = input(\"이름을 입력하세요: \")\n",
    "intro = input(\"자기소개를 입력하세요: \")\n",
    "\n",
    "print(f\"안녕하세요, {name}님!\")\n",
    "print(f\"자기소개: {intro}\")"
   ]
  },
  {
   "cell_type": "code",
   "execution_count": 25,
   "id": "3968de6d-4a33-4823-b968-71d498468192",
   "metadata": {},
   "outputs": [
    {
     "data": {
      "text/plain": [
       "' 99.99 dollars are worth US$ 100입니다'"
      ]
     },
     "execution_count": 25,
     "metadata": {},
     "output_type": "execute_result"
    }
   ],
   "source": [
    "#dir(f_str_1)\n",
    "format_str=' {0:.2f} {1:s} are worth US$ {2:d}입니다' #template\n",
    "format_str.format(99.99, 'dollars',100)"
   ]
  },
  {
   "cell_type": "code",
   "execution_count": 26,
   "id": "42a02397-4290-4f20-b70c-38f686d30e9c",
   "metadata": {},
   "outputs": [
    {
     "name": "stdout",
     "output_type": "stream",
     "text": [
      "주문할 메뉴를 입력하세요 돼지고기\n",
      "한 개 가격이 얼마인가요? 5000\n",
      "몇 개나 주문하세요? 3\n"
     ]
    },
    {
     "name": "stdout",
     "output_type": "stream",
     "text": [
      "돼지고기메뉴의 3개 가격은 총 15000입니다.\n"
     ]
    }
   ],
   "source": [
    "menu=input('주문할 메뉴를 입력하세요')\n",
    "price=int(input('한 개 가격이 얼마인가요?'))\n",
    "count=int(input('몇 개나 주문하세요?'))\n",
    "\n",
    "total=price*count\n",
    "msg='{}메뉴의 {}개 가격은 총 {}입니다.'\n",
    "print(msg.format(menu,count,total))"
   ]
  },
  {
   "cell_type": "code",
   "execution_count": 27,
   "id": "693c21d6-8d86-460c-87fa-ef9c979e1ad6",
   "metadata": {},
   "outputs": [
    {
     "name": "stdout",
     "output_type": "stream",
     "text": [
      "상품명               가격        수량        총액\n",
      "__________________________________________________\n",
      "아메리카노           3000원         2        6000\n",
      "카페라떼            4000원         1        4000\n",
      "샌드위치            5500원         3       16500\n"
     ]
    }
   ],
   "source": [
    "items = [\n",
    "    {\"name\": \"아메리카노\", \"price\": 3000, \"qty\": 2},\n",
    "    {\"name\": \"카페라떼\", \"price\": 4000, \"qty\": 1},\n",
    "    {\"name\": \"샌드위치\", \"price\": 5500, \"qty\": 3}\n",
    "]\n",
    "\n",
    "# 각 열 너비를 10으로 고정하고, 정렬 지정\n",
    "header_str = '{:<10}{:>10}{:>10}{:>10}'\n",
    "data_str = '{:<10}{:>10}원{:>10}{:>12}'\n",
    "\n",
    "print(header_str.format('상품명', '가격', '수량', '총액'))\n",
    "print('_' * 50)\n",
    "\n",
    "for item in items:\n",
    "    total_price = item['price'] * item['qty']\n",
    "    print(data_str.format(item['name'], item['price'], item['qty'], total_price))\n"
   ]
  },
  {
   "cell_type": "code",
   "execution_count": null,
   "id": "69975274-a384-4ba9-a084-ed700f7974fc",
   "metadata": {},
   "outputs": [],
   "source": []
  },
  {
   "cell_type": "code",
   "execution_count": null,
   "id": "0d17c8b6-8d57-4db1-be7c-2e738f8e17af",
   "metadata": {},
   "outputs": [],
   "source": []
  },
  {
   "cell_type": "code",
   "execution_count": null,
   "id": "dd90a7d2-aca0-4fbd-956b-b00730ad1ad7",
   "metadata": {},
   "outputs": [],
   "source": []
  },
  {
   "cell_type": "code",
   "execution_count": null,
   "id": "00c19828-815b-4478-a777-257665e44915",
   "metadata": {},
   "outputs": [],
   "source": []
  }
 ],
 "metadata": {
  "kernelspec": {
   "display_name": "Python 3(myenv)",
   "language": "python",
   "name": "myenv"
  },
  "language_info": {
   "codemirror_mode": {
    "name": "ipython",
    "version": 3
   },
   "file_extension": ".py",
   "mimetype": "text/x-python",
   "name": "python",
   "nbconvert_exporter": "python",
   "pygments_lexer": "ipython3",
   "version": "3.10.16"
  }
 },
 "nbformat": 4,
 "nbformat_minor": 5
}
