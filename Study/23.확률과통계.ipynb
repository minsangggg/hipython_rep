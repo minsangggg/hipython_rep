{
 "cells": [
  {
   "cell_type": "code",
   "execution_count": 32,
   "id": "71b29b59",
   "metadata": {},
   "outputs": [],
   "source": [
    "import numpy as np\n",
    "import scipy\n",
    "from scipy import linalg as la\n",
    "import scipy.stats as stats\n",
    "import pandas as pd\n",
    "import matplotlib.pyplot as plt\n",
    "%matplotlib inline\n",
    "import seaborn as sns"
   ]
  },
  {
   "cell_type": "markdown",
   "id": "83074ceb",
   "metadata": {},
   "source": [
    "P(A) 사전확률 - 암 P(B) 사후확률 - 양성\n",
    "\n",
    "P(A|B) -> P(B|A)?\n",
    "\n",
    "베이즈의 정리 P(A|B) = P(B|A) * P(A) / P(B)\n",
    "\n",
    "문제) 양성B 진단 -> 실제 암A일 확률은?, 진단의 정확도 95%, 암환자의 비율 10%\n",
    "\n",
    "- 5% 오진 P(양성|암') = 0.05 = P(B|A')\n",
    "- 95% 정확 P(양성|암) = 0.95 = P(B|A)\n",
    "암 P(A) = 0.1 암' P(A') = 0.9\n",
    "\n",
    "양성 P(B) = 암&양성 + 암'&양성 = 0.095 + 0.045 = 0.14 암&양성 = P(A교집합B) = P(A)P(B|A) = 0.10.95 암'&양성 = P(A'교집합B) = P(A') * P(B|A') = 0.9*0.05\n",
    "\n",
    "베이즈의 정리 P(A|B) = P(B|A) * P(A) / P(B) = 0.95 * 0.1 /0.14 ="
   ]
  },
  {
   "cell_type": "code",
   "execution_count": 33,
   "id": "dfea590b",
   "metadata": {},
   "outputs": [
    {
     "data": {
      "text/plain": [
       "0.6785714285714285"
      ]
     },
     "execution_count": 33,
     "metadata": {},
     "output_type": "execute_result"
    }
   ],
   "source": [
    "P_A = 0.1 #암의 확률\n",
    "P_not_A = 1 - P_A #암이 아닐 확률\n",
    "P_B_given_A = 0.95 #양성판정의 정확도\n",
    "P_B_given_not_A = 0.05  #암이 아닌데, 양성 판정이 나온 확률\n",
    "\n",
    "#베이즈의 정리\n",
    "P_A_given_B = P_B_given_A * P_A / ((P_B_given_A*P_A)+(P_B_given_not_A*P_not_A))\n",
    "P_A_given_B"
   ]
  },
  {
   "cell_type": "markdown",
   "id": "78eb1ca3",
   "metadata": {},
   "source": [
    "# 확률의 계산"
   ]
  },
  {
   "cell_type": "code",
   "execution_count": 35,
   "id": "12f815f0",
   "metadata": {},
   "outputs": [
    {
     "data": {
      "text/plain": [
       "0.16666666666666666"
      ]
     },
     "execution_count": 35,
     "metadata": {},
     "output_type": "execute_result"
    }
   ],
   "source": [
    "## 동전던지기\n",
    "\n",
    "동전_표본공간=['앞면','뒷면']\n",
    "동전_사건=['앞면']\n",
    "\n",
    "prob=lambda event,space: len(event)/len(space)\n",
    "prob(event,space)"
   ]
  },
  {
   "cell_type": "code",
   "execution_count": 3,
   "id": "f0616b33",
   "metadata": {},
   "outputs": [
    {
     "data": {
      "text/plain": [
       "0.16666666666666666"
      ]
     },
     "execution_count": 3,
     "metadata": {},
     "output_type": "execute_result"
    }
   ],
   "source": [
    "#주사위 던지기\n",
    "#1번 던져 3이 나올 확률\n",
    "space=[1,2,3,4,5,6]\n",
    "event=[3]\n",
    "prob(event,space)"
   ]
  },
  {
   "cell_type": "markdown",
   "id": "3a9ea971",
   "metadata": {},
   "source": [
    "# 확률의 덧셈\n",
    "\n",
    "### 주사위에서 짝수이거나 4보다 큰 수가 나올 확률"
   ]
  },
  {
   "cell_type": "code",
   "execution_count": 40,
   "id": "248fbe3e",
   "metadata": {},
   "outputs": [],
   "source": [
    "space= {1,2,3,4,5,6}\n",
    "event_A={2,4,6}\n",
    "event_B = {5,6}"
   ]
  },
  {
   "cell_type": "code",
   "execution_count": 41,
   "id": "4fb0b670",
   "metadata": {},
   "outputs": [
    {
     "data": {
      "text/plain": [
       "{2, 4, 5, 6}"
      ]
     },
     "execution_count": 41,
     "metadata": {},
     "output_type": "execute_result"
    }
   ],
   "source": [
    "합집합 = event_A | event_B\n",
    "합집합"
   ]
  },
  {
   "cell_type": "code",
   "execution_count": 42,
   "id": "31f666bc",
   "metadata": {},
   "outputs": [
    {
     "data": {
      "text/plain": [
       "0.6666666666666666"
      ]
     },
     "execution_count": 42,
     "metadata": {},
     "output_type": "execute_result"
    }
   ],
   "source": [
    "합집합의갯수 = len(합집합)\n",
    "전체경우의수 = len(space)\n",
    "확률_1 = 합집합의갯수 / 전체경우의수\n",
    "확률_1 #짝수 또는 4보다 큰 눈이 나올 확률"
   ]
  },
  {
   "cell_type": "code",
   "execution_count": 43,
   "id": "ba37c668",
   "metadata": {},
   "outputs": [
    {
     "data": {
      "text/plain": [
       "0.6666666666666666"
      ]
     },
     "execution_count": 43,
     "metadata": {},
     "output_type": "execute_result"
    }
   ],
   "source": [
    "#2이하이거나 5이상인 눈이 나올 확률\n",
    "\n",
    "event_C={1,2}\n",
    "event_D={5,6}\n",
    "union_C_D=event_C | event_D\n",
    "확률_2=len(union_C_D)/전체경우의수\n",
    "확률_2"
   ]
  },
  {
   "cell_type": "markdown",
   "id": "2d2c6ae8",
   "metadata": {},
   "source": [
    "### 확률의 교집합\n",
    "\n",
    "##### 주사위를 던져 짝수&2일 확률"
   ]
  },
  {
   "cell_type": "code",
   "execution_count": 55,
   "id": "1220e7a8",
   "metadata": {},
   "outputs": [
    {
     "data": {
      "text/plain": [
       "{2}"
      ]
     },
     "execution_count": 55,
     "metadata": {},
     "output_type": "execute_result"
    }
   ],
   "source": [
    "#조건부 확률\n",
    "\n",
    "sample_space = [1,2,3,4,5,6]\n",
    "event_A = [2,4,6]\n",
    "event_B = [2]\n",
    "P_A = len(event_A)/len(sample_space) #A일 확률\n",
    "P_B = len(event_B)/len(sample_space) #B일 확률\n",
    "P_B_and_A_ele = set(event_A) & set(event_B) #교집합의 원소, set은 원소를 추출\n",
    "P_B_and_A_ele"
   ]
  },
  {
   "cell_type": "code",
   "execution_count": 56,
   "id": "ee4c2dfa",
   "metadata": {},
   "outputs": [
    {
     "data": {
      "text/plain": [
       "0.16666666666666666"
      ]
     },
     "execution_count": 56,
     "metadata": {},
     "output_type": "execute_result"
    }
   ],
   "source": [
    "P_B_and_A = len(P_B_and_A_ele)/len(sample_space) #교집합이 나올 확률, len은 확률\n",
    "P_B_and_A"
   ]
  },
  {
   "cell_type": "code",
   "execution_count": 57,
   "id": "f27d90f9",
   "metadata": {},
   "outputs": [
    {
     "data": {
      "text/plain": [
       "0.3333333333333333"
      ]
     },
     "execution_count": 57,
     "metadata": {},
     "output_type": "execute_result"
    }
   ],
   "source": [
    "#조건부확률 : 짝수일때 2가 나올 확률\n",
    "#P(B|A) = P(B_and_A)/P_A\n",
    "P_B_given_A = P_B_and_A/P_A\n",
    "P_B_given_A"
   ]
  },
  {
   "cell_type": "markdown",
   "id": "7c020bd9",
   "metadata": {},
   "source": [
    "## 우도와 확률값\n",
    "\n",
    "#### 동전 10번던지고, 8번 앞면이 나왔다 우도는? "
   ]
  },
  {
   "cell_type": "code",
   "execution_count": 8,
   "id": "9ec5d58e",
   "metadata": {},
   "outputs": [],
   "source": [
    "from scipy.stats import binom"
   ]
  },
  {
   "cell_type": "code",
   "execution_count": 61,
   "id": "da1e9c98",
   "metadata": {},
   "outputs": [
    {
     "data": {
      "text/plain": [
       "(np.float64(0.04394531250000005), np.float64(0.30198988799999993))"
      ]
     },
     "execution_count": 61,
     "metadata": {},
     "output_type": "execute_result"
    }
   ],
   "source": [
    "n= 10\n",
    "k = 8 #앞면의 횟수\n",
    "\n",
    "#가설1 - 공정한 동전일 것이다\n",
    "p1 = 0.5 #앞면이 나올 확률 - 공정할 경우\n",
    "p1_likelihood = binom.pmf(k, n, p1) #조건, 총사건, 확률\n",
    "#가설2\n",
    "p2 = 0.8\n",
    "p2_likelihood = binom.pmf(k, n, p2) #조건, 총사건, 확률\n",
    "\n",
    "p1_likelihood, p2_likelihood\n"
   ]
  },
  {
   "cell_type": "markdown",
   "id": "9a0a756e",
   "metadata": {},
   "source": [
    "가설1의 경우, 앞면이 8번 나올 확률은 4.4% 가설2의 경우, 앞면이 8번 나올 확률은 30.2%\n",
    "\n",
    "앞면 8번 나오는 관측값은 p=0.8인 모델이 더 잘 설명한다. (우도가 크다)"
   ]
  },
  {
   "cell_type": "markdown",
   "id": "5b7b1340",
   "metadata": {},
   "source": [
    "가설1의 경우 앞면이 8번 나올 확률은 4.4%\n",
    "가설2의 경우 앞면이 8번 나올 확률은 30.2%\n",
    "\n",
    "앞면 8번 나오는 관측값은 p=0.8인 모델이 더 잘 설명한다. (우도가 크다)"
   ]
  },
  {
   "cell_type": "markdown",
   "id": "52db44ae",
   "metadata": {},
   "source": [
    "# 기대값\n",
    "x의 확률들의 평균"
   ]
  },
  {
   "cell_type": "code",
   "execution_count": 62,
   "id": "25c0cfdc",
   "metadata": {},
   "outputs": [
    {
     "name": "stdout",
     "output_type": "stream",
     "text": [
      "기대값: 2.16667\n"
     ]
    }
   ],
   "source": [
    "x_values=[1,2,3]\n",
    "p_x=[1/6,3/6,2/6]\n",
    "\n",
    "exp_value=0\n",
    "#기대값\n",
    "for i in range(len(x_values)):\n",
    "    exp_value += x_values[i] *p_x[i]\n",
    "\n",
    "print(f'기대값: {exp_value:.5f}')\n"
   ]
  },
  {
   "cell_type": "code",
   "execution_count": 21,
   "id": "3c885847",
   "metadata": {},
   "outputs": [],
   "source": [
    "import numpy as np\n",
    "from scipy.stats import norm\n",
    "import matplotlib.pyplot as plt\n"
   ]
  },
  {
   "cell_type": "code",
   "execution_count": 22,
   "id": "dd608573",
   "metadata": {},
   "outputs": [
    {
     "data": {
      "image/png": "[encoded data removed]",
      "text/plain": [
       "<Figure size 640x480 with 1 Axes>"
      ]
     },
     "metadata": {},
     "output_type": "display_data"
    }
   ],
   "source": [
    "mu=0\n",
    "sigma=1\n",
    "\n",
    "x=np.linspace(-4,4,1000) #-4부터 4까지 1000개의 숫자를 만듦\n",
    "y=norm.pdf(x,loc=mu,scale=sigma)\n",
    "plt.plot(x,y)\n",
    "plt.show()\n"
   ]
  },
  {
   "cell_type": "markdown",
   "id": "c399da2e",
   "metadata": {},
   "source": [
    "## 표집분포"
   ]
  },
  {
   "cell_type": "code",
   "execution_count": 69,
   "id": "ef2c9dbd",
   "metadata": {},
   "outputs": [
    {
     "data": {
      "image/png": "[encoded data removed]",
      "text/plain": [
       "<Figure size 640x480 with 1 Axes>"
      ]
     },
     "metadata": {},
     "output_type": "display_data"
    }
   ],
   "source": [
    "np.random.seed(0)\n",
    "X_pop = np.random.exponential(scale = 10, size=10000)\n",
    "sample_mean = [np.mean(np.random.choice(X_pop, size=30))\n",
    "               for _ in range(10000)]\n",
    "\n",
    "plt.hist(sample_mean, bins=300)\n",
    "plt.show()"
   ]
  },
  {
   "cell_type": "markdown",
   "id": "f5725e29",
   "metadata": {},
   "source": [
    "## # z점수"
   ]
  },
  {
   "cell_type": "code",
   "execution_count": 38,
   "id": "09225b19",
   "metadata": {},
   "outputs": [
    {
     "data": {
      "text/plain": [
       "(1.0, 2.5)"
      ]
     },
     "execution_count": 38,
     "metadata": {},
     "output_type": "execute_result"
    }
   ],
   "source": [
    "mu=100\n",
    "sigma=10\n",
    "\n",
    "x1=110 #z점수를 계산하려고 하는 원래 점수\n",
    "x2=125\n",
    "\n",
    "#z점수=(원점수-평균)/표준편차\n",
    "\n",
    "z_x1=(x1-mu)/sigma\n",
    "z_x2=(x2-mu)/sigma\n",
    "z_x1,z_x2"
   ]
  },
  {
   "cell_type": "code",
   "execution_count": 44,
   "id": "df753330",
   "metadata": {},
   "outputs": [
    {
     "data": {
      "text/plain": [
       "np.float64(0.15244558860568092)"
      ]
     },
     "execution_count": 44,
     "metadata": {},
     "output_type": "execute_result"
    }
   ],
   "source": [
    "area_z_x1=norm.cdf(z_x1)-norm.cdf(0)\n",
    "area_z_x2=norm.cdf(z_x2)-norm.cdf(0)\n",
    "diff_area=area_z_x2-area_z_x1\n",
    "diff_area\n",
    "#norm.cdf(0): 표준정규분포에서 0보다 작거나 같은 값이 나올 확률, 왼쪽면적"
   ]
  },
  {
   "cell_type": "code",
   "execution_count": 53,
   "id": "c0306cf0",
   "metadata": {},
   "outputs": [
    {
     "data": {
      "image/png": "[encoded data removed]",
      "text/plain": [
       "<Figure size 640x480 with 1 Axes>"
      ]
     },
     "metadata": {},
     "output_type": "display_data"
    }
   ],
   "source": [
    "#시각화 \n",
    "\n",
    "x=np.linspace(mu-4*sigma, mu+4*sigma, 1000)\n",
    "y=norm.pdf(x,mu,sigma)\n",
    "plt.plot(x,y)\n",
    "plt.fill_between(x,y,where=(x>=100)&(x<=110),color='skyblue')\n",
    "plt.fill_between(x,y,where=(x>=110)&(x<=125),color='lightgreen')\n",
    "plt.show()\n",
    "#면적의 계산값은 15"
   ]
  }
 ],
 "metadata": {
  "kernelspec": {
   "display_name": "hipython",
   "language": "python",
   "name": "python3"
  },
  "language_info": {
   "codemirror_mode": {
    "name": "ipython",
    "version": 3
   },
   "file_extension": ".py",
   "mimetype": "text/x-python",
   "name": "python",
   "nbconvert_exporter": "python",
   "pygments_lexer": "ipython3",
   "version": "3.12.9"
  }
 },
 "nbformat": 4,
 "nbformat_minor": 5
}
