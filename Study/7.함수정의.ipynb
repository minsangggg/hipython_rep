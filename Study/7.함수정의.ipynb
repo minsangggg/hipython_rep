{
 "cells": [
  {
   "cell_type": "code",
   "execution_count": null,
   "id": "11ebdb86-1178-42b2-a750-4597fb3b0939",
   "metadata": {},
   "outputs": [],
   "source": [
    "def show_menu():\n",
    "\n",
    "\n",
    "\n",
    "def show_cart(cart, total_price):\n",
    "\n",
    "\n",
    "\n",
    "def add_item(cart, total_price):\n",
    "\n",
    "\n",
    "\n",
    "def delete_item(cart, total_price):\n",
    "\n",
    "\n",
    "\n",
    "def countdown():\n",
    "\n",
    "\n",
    "\n",
    "\n",
    "def process_payment(total_price, order_num):\n",
    "    "
   ]
  }
 ],
 "metadata": {
  "kernelspec": {
   "display_name": "Python 3(myenv)",
   "language": "python",
   "name": "myenv"
  },
  "language_info": {
   "codemirror_mode": {
    "name": "ipython",
    "version": 3
   },
   "file_extension": ".py",
   "mimetype": "text/x-python",
   "name": "python",
   "nbconvert_exporter": "python",
   "pygments_lexer": "ipython3",
   "version": "3.10.16"
  }
 },
 "nbformat": 4,
 "nbformat_minor": 5
}
