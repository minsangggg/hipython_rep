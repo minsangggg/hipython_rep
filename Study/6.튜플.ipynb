{
 "cells": [
  {
   "cell_type": "markdown",
   "id": "01afd6e4-abb2-458e-8ed2-035081c69d62",
   "metadata": {},
   "source": [
    "#튜플  \n",
    "\n",
    "리스트랑 비슷, 변경안됨"
   ]
  },
  {
   "cell_type": "code",
   "execution_count": 2,
   "id": "ebcafb6f-9980-4e5b-a0cc-14a70af3b69f",
   "metadata": {},
   "outputs": [
    {
     "data": {
      "text/plain": [
       "((), tuple)"
      ]
     },
     "execution_count": 2,
     "metadata": {},
     "output_type": "execute_result"
    }
   ],
   "source": [
    "a=tuple()\n",
    "a, type(a)"
   ]
  },
  {
   "cell_type": "code",
   "execution_count": 4,
   "id": "455464c6-ca92-4e02-8214-18a4cc7c058b",
   "metadata": {},
   "outputs": [
    {
     "data": {
      "text/plain": [
       "(1, int)"
      ]
     },
     "execution_count": 4,
     "metadata": {},
     "output_type": "execute_result"
    }
   ],
   "source": [
    "b=(1)\n",
    "b, type(b)"
   ]
  },
  {
   "cell_type": "code",
   "execution_count": 82,
   "id": "462af8e1-451c-45d8-a6bd-fea5f17ed5ff",
   "metadata": {},
   "outputs": [
    {
     "data": {
      "text/plain": [
       "((1,), tuple)"
      ]
     },
     "execution_count": 82,
     "metadata": {},
     "output_type": "execute_result"
    }
   ],
   "source": [
    "bb=(1, )\n",
    "bb, type(bb)"
   ]
  },
  {
   "cell_type": "code",
   "execution_count": 85,
   "id": "66e38e6b-154d-4630-ad97-11c32d37b6a0",
   "metadata": {},
   "outputs": [
    {
     "data": {
      "text/plain": [
       "(1, 2, (3, 4), '5', [1, 2, 3])"
      ]
     },
     "execution_count": 85,
     "metadata": {},
     "output_type": "execute_result"
    }
   ],
   "source": [
    "c=(1,2,(3,4), '5', [1,2,3])\n",
    "c"
   ]
  },
  {
   "cell_type": "code",
   "execution_count": 86,
   "id": "b2c18541-1fa5-403c-abac-1fbc545b3110",
   "metadata": {},
   "outputs": [
    {
     "data": {
      "text/plain": [
       "1"
      ]
     },
     "execution_count": 86,
     "metadata": {},
     "output_type": "execute_result"
    }
   ],
   "source": [
    "c[0]"
   ]
  },
  {
   "cell_type": "code",
   "execution_count": 83,
   "id": "5c4931fd-6d0e-43f2-88a9-ac03260443b8",
   "metadata": {},
   "outputs": [
    {
     "data": {
      "text/plain": [
       "(('사과', '복숭아', '딸기'), tuple)"
      ]
     },
     "execution_count": 83,
     "metadata": {},
     "output_type": "execute_result"
    }
   ],
   "source": [
    "#tuple()의 괄호는 생략가능하다\n",
    "#쉼표로 요소는 하나 이상이어야 한다\n",
    "fruits='사과','복숭아','딸기'\n",
    "fruits, type(fruits)"
   ]
  },
  {
   "cell_type": "code",
   "execution_count": 12,
   "id": "474d714c-faa7-4ece-aa47-564788caa588",
   "metadata": {},
   "outputs": [
    {
     "data": {
      "text/plain": [
       "(1, 2, 3)"
      ]
     },
     "execution_count": 12,
     "metadata": {},
     "output_type": "execute_result"
    }
   ],
   "source": [
    "#패킹, 언패킹\n",
    "\n",
    "nums=[1,2,3]  #이건 리스트임\n",
    "a,b,c=nums  #list unpacking\n",
    "a,b,c"
   ]
  },
  {
   "cell_type": "code",
   "execution_count": 14,
   "id": "0be40b29-a922-489b-ad5e-0822d368709d",
   "metadata": {},
   "outputs": [
    {
     "data": {
      "text/plain": [
       "1"
      ]
     },
     "execution_count": 14,
     "metadata": {},
     "output_type": "execute_result"
    }
   ],
   "source": [
    "a"
   ]
  },
  {
   "cell_type": "code",
   "execution_count": 16,
   "id": "86d91a0d-c81c-4d75-8eb3-2df315fd1f2b",
   "metadata": {},
   "outputs": [
    {
     "data": {
      "text/plain": [
       "'h'"
      ]
     },
     "execution_count": 16,
     "metadata": {},
     "output_type": "execute_result"
    }
   ],
   "source": [
    "s='hi'\n",
    "a,b=s\n",
    "a"
   ]
  },
  {
   "cell_type": "code",
   "execution_count": 17,
   "id": "2a27a237-2965-432d-9776-388c6b8af788",
   "metadata": {},
   "outputs": [
    {
     "data": {
      "text/plain": [
       "('h', ['e', 'l', 'l', 'o'])"
      ]
     },
     "execution_count": 17,
     "metadata": {},
     "output_type": "execute_result"
    }
   ],
   "source": [
    "s='hello'\n",
    "a,*b=s     #나머지 너가 다가져\n",
    "a,b"
   ]
  },
  {
   "cell_type": "code",
   "execution_count": 18,
   "id": "876fd4c5-4fe2-4b79-b060-ab55000c39c5",
   "metadata": {},
   "outputs": [
    {
     "data": {
      "text/plain": [
       "('h', ['e', 'l', 'l'], 'o')"
      ]
     },
     "execution_count": 18,
     "metadata": {},
     "output_type": "execute_result"
    }
   ],
   "source": [
    "s='hello'\n",
    "a,*b,c=s     #나머지 너가 다가져\n",
    "a,b,c"
   ]
  },
  {
   "cell_type": "code",
   "execution_count": 20,
   "id": "9734ebe7-416e-4449-a0e4-0a7a04f9884d",
   "metadata": {},
   "outputs": [
    {
     "data": {
      "text/plain": [
       "('홍길동', 20, '1학년')"
      ]
     },
     "execution_count": 20,
     "metadata": {},
     "output_type": "execute_result"
    }
   ],
   "source": [
    "student=('홍길동',20,'1학년') #패킹\n",
    "student"
   ]
  },
  {
   "cell_type": "code",
   "execution_count": 22,
   "id": "7907a399-0564-442f-be7e-f1cbc0873d00",
   "metadata": {},
   "outputs": [
    {
     "data": {
      "text/plain": [
       "'이름은 홍길동이고요, 나이는20이고요, 학년은1학년입니다.'"
      ]
     },
     "execution_count": 22,
     "metadata": {},
     "output_type": "execute_result"
    }
   ],
   "source": [
    "name,age,grade=student #언패킹\n",
    "f'이름은 {name}이고요, 나이는{age}이고요, 학년은{grade}입니다.'"
   ]
  },
  {
   "cell_type": "code",
   "execution_count": 27,
   "id": "86d969f1-ccc4-4d6f-bb91-1bd47bbe1856",
   "metadata": {},
   "outputs": [
    {
     "name": "stdout",
     "output_type": "stream",
     "text": [
      "x= 2 y= 1\n"
     ]
    }
   ],
   "source": [
    "x=1\n",
    "y=2\n",
    "x,y=y,x\n",
    "print(\"x=\",x,\"y=\",y)\n",
    "\n",
    "\n",
    "#결과 x=2, y=1"
   ]
  },
  {
   "cell_type": "code",
   "execution_count": 29,
   "id": "5d8bc618-75d4-44c5-b047-5cd858a87c9a",
   "metadata": {},
   "outputs": [
    {
     "data": {
      "text/plain": [
       "5"
      ]
     },
     "execution_count": 29,
     "metadata": {},
     "output_type": "execute_result"
    }
   ],
   "source": [
    "def func_a(a):\n",
    "    return a\n",
    "\n",
    "result=func_a(5)\n",
    "result"
   ]
  },
  {
   "cell_type": "code",
   "execution_count": 30,
   "id": "c75ae3be-96dc-4bd4-ac61-15a3ca9599f6",
   "metadata": {},
   "outputs": [
    {
     "data": {
      "text/plain": [
       "(3, 4, 5)"
      ]
     },
     "execution_count": 30,
     "metadata": {},
     "output_type": "execute_result"
    }
   ],
   "source": [
    "def func_a(a,b,c):\n",
    "    \n",
    "    return c,b,a\n",
    "\n",
    "result=func_a(5,4,3)\n",
    "result"
   ]
  },
  {
   "cell_type": "code",
   "execution_count": 31,
   "id": "5cd4631d-b680-48f9-84c1-51676ae6c1ba",
   "metadata": {},
   "outputs": [
    {
     "name": "stdout",
     "output_type": "stream",
     "text": [
      "5 4 3\n"
     ]
    },
    {
     "data": {
      "text/plain": [
       "(3, 4, 5)"
      ]
     },
     "execution_count": 31,
     "metadata": {},
     "output_type": "execute_result"
    }
   ],
   "source": [
    "def func_a(a,b,c):\n",
    "    print(a,b,c)\n",
    "    return c,b,a\n",
    "\n",
    "result=func_a(5,4,3)\n",
    "result"
   ]
  },
  {
   "cell_type": "code",
   "execution_count": 32,
   "id": "ee9db6a4-eb2f-42f0-9b5f-22e4a559cfd3",
   "metadata": {},
   "outputs": [
    {
     "name": "stdout",
     "output_type": "stream",
     "text": [
      "1 2 3\n"
     ]
    },
    {
     "data": {
      "text/plain": [
       "(3, 2, 1)"
      ]
     },
     "execution_count": 32,
     "metadata": {},
     "output_type": "execute_result"
    }
   ],
   "source": [
    "a1,b1,c1=func_a(1,2,3)\n",
    "a1,b1,c1"
   ]
  },
  {
   "cell_type": "code",
   "execution_count": 39,
   "id": "57110a4f-bfdb-4d07-b11f-c8b2b7b10ebf",
   "metadata": {},
   "outputs": [
    {
     "data": {
      "text/plain": [
       "('가연', '지훈', '지희')"
      ]
     },
     "execution_count": 39,
     "metadata": {},
     "output_type": "execute_result"
    }
   ],
   "source": [
    "#튜플에 값추가\n",
    "\n",
    "name_tuple=('가연','지훈','지희')\n",
    "name_tuple"
   ]
  },
  {
   "cell_type": "code",
   "execution_count": 40,
   "id": "7f6f8c55-132e-4a4c-b141-0e6f998e46ac",
   "metadata": {},
   "outputs": [
    {
     "data": {
      "text/plain": [
       "['가연', '지훈', '지희']"
      ]
     },
     "execution_count": 40,
     "metadata": {},
     "output_type": "execute_result"
    }
   ],
   "source": [
    "name_list=list(name_tuple)\n",
    "name_list"
   ]
  },
  {
   "cell_type": "code",
   "execution_count": 41,
   "id": "26df497d-4d9f-4ea5-9f23-6a0c7f6a50f5",
   "metadata": {},
   "outputs": [
    {
     "data": {
      "text/plain": [
       "['가연', '지훈', '지희', '유석']"
      ]
     },
     "execution_count": 41,
     "metadata": {},
     "output_type": "execute_result"
    }
   ],
   "source": [
    "name_list.append('유석')\n",
    "name_list"
   ]
  },
  {
   "cell_type": "code",
   "execution_count": 42,
   "id": "4918f087-8d15-4072-9613-e342ec98cba7",
   "metadata": {},
   "outputs": [
    {
     "data": {
      "text/plain": [
       "('가연', '지훈', '지희', '유석')"
      ]
     },
     "execution_count": 42,
     "metadata": {},
     "output_type": "execute_result"
    }
   ],
   "source": [
    "name_tuple=tuple(name_list)\n",
    "name_tuple"
   ]
  },
  {
   "cell_type": "code",
   "execution_count": 43,
   "id": "190ffa9c-bb41-4101-a07d-c38093b3770c",
   "metadata": {},
   "outputs": [],
   "source": [
    "li=(1,2,3)"
   ]
  },
  {
   "cell_type": "code",
   "execution_count": 48,
   "id": "d3163393-3b6d-4ae7-8bcb-ef250bed97db",
   "metadata": {},
   "outputs": [
    {
     "data": {
      "text/plain": [
       "(1, 2, 3, 4, 5, 6)"
      ]
     },
     "execution_count": 48,
     "metadata": {},
     "output_type": "execute_result"
    }
   ],
   "source": [
    "t1=(1,2,3)\n",
    "t2=(4,5,6)\n",
    "t1+t2"
   ]
  },
  {
   "cell_type": "code",
   "execution_count": 49,
   "id": "b7438212-c6d7-4379-b39c-753497c5ab71",
   "metadata": {},
   "outputs": [
    {
     "data": {
      "text/plain": [
       "(1, 2, 3, 1, 2, 3)"
      ]
     },
     "execution_count": 49,
     "metadata": {},
     "output_type": "execute_result"
    }
   ],
   "source": [
    "t3=t1*2\n",
    "t3"
   ]
  },
  {
   "cell_type": "code",
   "execution_count": 50,
   "id": "2a6562be-4da1-42c4-9d72-1834b8896ed1",
   "metadata": {},
   "outputs": [
    {
     "data": {
      "text/plain": [
       "1"
      ]
     },
     "execution_count": 50,
     "metadata": {},
     "output_type": "execute_result"
    }
   ],
   "source": [
    "t3[0]"
   ]
  },
  {
   "cell_type": "code",
   "execution_count": 51,
   "id": "b7a669c6-85a7-467c-9850-c9dabbbe660f",
   "metadata": {},
   "outputs": [
    {
     "data": {
      "text/plain": [
       "(1, 2, 3)"
      ]
     },
     "execution_count": 51,
     "metadata": {},
     "output_type": "execute_result"
    }
   ],
   "source": [
    "t3[:3]"
   ]
  },
  {
   "cell_type": "markdown",
   "id": "b94230e7-58f2-437d-94fc-427bd38392af",
   "metadata": {},
   "source": [
    "#집합  \n",
    "  \n",
    "set(),   {}    \n",
    "중복이 안된다, 순서도 없다, 키도없다  \n",
    "속도가 빠르다, 해싱을 하는 자료형(딕셔너리, 집합)    "
   ]
  },
  {
   "cell_type": "code",
   "execution_count": 57,
   "id": "9cbf3944-f67b-4fff-836b-f3638531ab8c",
   "metadata": {},
   "outputs": [
    {
     "data": {
      "text/plain": [
       "{1, 2, 3}"
      ]
     },
     "execution_count": 57,
     "metadata": {},
     "output_type": "execute_result"
    }
   ],
   "source": [
    "s=set([1,2,3])\n",
    "s"
   ]
  },
  {
   "cell_type": "code",
   "execution_count": 59,
   "id": "e3540bdf-2534-41f1-91d3-a58416e0f44f",
   "metadata": {},
   "outputs": [
    {
     "data": {
      "text/plain": [
       "{1, 2, 3}"
      ]
     },
     "execution_count": 59,
     "metadata": {},
     "output_type": "execute_result"
    }
   ],
   "source": [
    "s1={1,2,3}\n",
    "s1"
   ]
  },
  {
   "cell_type": "code",
   "execution_count": 61,
   "id": "fe4a108c-e978-4ac7-9349-dd4090142efd",
   "metadata": {},
   "outputs": [
    {
     "data": {
      "text/plain": [
       "{1, 2, 3}"
      ]
     },
     "execution_count": 61,
     "metadata": {},
     "output_type": "execute_result"
    }
   ],
   "source": [
    "s2={1,2,3,1}\n",
    "s2"
   ]
  },
  {
   "cell_type": "code",
   "execution_count": 63,
   "id": "f300457d-9371-474b-a0d7-d0cc2f51addf",
   "metadata": {},
   "outputs": [
    {
     "data": {
      "text/plain": [
       "[1, 2, 3, 1, 2, 3]"
      ]
     },
     "execution_count": 63,
     "metadata": {},
     "output_type": "execute_result"
    }
   ],
   "source": [
    "l2=[1,2,3]\n",
    "l2=l2*2\n",
    "l2"
   ]
  },
  {
   "cell_type": "code",
   "execution_count": 65,
   "id": "4b4bbb32-d3ba-440e-962f-40c44a9fa8cd",
   "metadata": {},
   "outputs": [
    {
     "data": {
      "text/plain": [
       "{1, 2, 3}"
      ]
     },
     "execution_count": 65,
     "metadata": {},
     "output_type": "execute_result"
    }
   ],
   "source": [
    "s3=set(l2) #set으로 중복 제거\n",
    "s3"
   ]
  },
  {
   "cell_type": "code",
   "execution_count": 67,
   "id": "8fb2e30f-e3d8-48c2-98cd-6efe5bb482c2",
   "metadata": {},
   "outputs": [
    {
     "data": {
      "text/plain": [
       "[1, 2, 3, 1, 2, 3, [4, 5, 6]]"
      ]
     },
     "execution_count": 67,
     "metadata": {},
     "output_type": "execute_result"
    }
   ],
   "source": [
    "l2.append([4,5,6])\n",
    "l2"
   ]
  },
  {
   "cell_type": "code",
   "execution_count": 69,
   "id": "30ba0f3d-5a8f-4db5-8602-c2eb605df369",
   "metadata": {},
   "outputs": [
    {
     "data": {
      "text/plain": [
       "([1, 2, 3, 1, 2, 3, [4, 5, 6]], list)"
      ]
     },
     "execution_count": 69,
     "metadata": {},
     "output_type": "execute_result"
    }
   ],
   "source": [
    "l2, type(l2)"
   ]
  },
  {
   "cell_type": "code",
   "execution_count": 71,
   "id": "d0d7cdc1-5e29-42fd-a595-c03d12d18e21",
   "metadata": {},
   "outputs": [
    {
     "data": {
      "text/plain": [
       "-5603212970937269882"
      ]
     },
     "execution_count": 71,
     "metadata": {},
     "output_type": "execute_result"
    }
   ],
   "source": [
    "hash('hi')"
   ]
  },
  {
   "cell_type": "code",
   "execution_count": 72,
   "id": "2b40921b-9a28-41a1-920d-0057e99ce383",
   "metadata": {},
   "outputs": [
    {
     "data": {
      "text/plain": [
       "123"
      ]
     },
     "execution_count": 72,
     "metadata": {},
     "output_type": "execute_result"
    }
   ],
   "source": [
    "hash(123)"
   ]
  },
  {
   "cell_type": "code",
   "execution_count": 87,
   "id": "fc28275b-bcf0-4be0-a7cd-cf52d6b66af7",
   "metadata": {},
   "outputs": [
    {
     "data": {
      "text/plain": [
       "{123, 'hi'}"
      ]
     },
     "execution_count": 87,
     "metadata": {},
     "output_type": "execute_result"
    }
   ],
   "source": [
    "set(['hi',123])"
   ]
  },
  {
   "cell_type": "code",
   "execution_count": 74,
   "id": "f8142337-276a-4ad1-a061-b9c11581cc8b",
   "metadata": {},
   "outputs": [
    {
     "data": {
      "text/plain": [
       "{3, 4}"
      ]
     },
     "execution_count": 74,
     "metadata": {},
     "output_type": "execute_result"
    }
   ],
   "source": [
    "s=set([1,2,3,4])\n",
    "x={2,3,4}\n",
    "y={3,4,5} \n",
    "x&y        #교집합"
   ]
  },
  {
   "cell_type": "code",
   "execution_count": 75,
   "id": "7a120c1b-5ef8-497e-a9b9-b3552c7380fa",
   "metadata": {},
   "outputs": [
    {
     "data": {
      "text/plain": [
       "{3, 4}"
      ]
     },
     "execution_count": 75,
     "metadata": {},
     "output_type": "execute_result"
    }
   ],
   "source": [
    "x.intersection(y)"
   ]
  },
  {
   "cell_type": "code",
   "execution_count": 88,
   "id": "12ff0cc2-86d9-45d4-b38f-6478404fdbc7",
   "metadata": {},
   "outputs": [
    {
     "data": {
      "text/plain": [
       "{2, 3, 4, 5}"
      ]
     },
     "execution_count": 88,
     "metadata": {},
     "output_type": "execute_result"
    }
   ],
   "source": [
    "x|y    #합집합"
   ]
  },
  {
   "cell_type": "code",
   "execution_count": 80,
   "id": "df4b3b9f-4ac3-4540-89e8-9cc3321b5c7c",
   "metadata": {},
   "outputs": [
    {
     "data": {
      "text/plain": [
       "{2}"
      ]
     },
     "execution_count": 80,
     "metadata": {},
     "output_type": "execute_result"
    }
   ],
   "source": [
    "#차집합\n",
    "x.difference(y)"
   ]
  },
  {
   "cell_type": "code",
   "execution_count": 89,
   "id": "305543c5-2f4a-4c11-a71b-21fe8606fc3c",
   "metadata": {},
   "outputs": [
    {
     "data": {
      "text/plain": [
       "{2}"
      ]
     },
     "execution_count": 89,
     "metadata": {},
     "output_type": "execute_result"
    }
   ],
   "source": [
    "x - y"
   ]
  },
  {
   "cell_type": "code",
   "execution_count": 79,
   "id": "febcd203-0929-4685-b01b-3ebb83e63ee0",
   "metadata": {},
   "outputs": [
    {
     "data": {
      "text/plain": [
       "['__and__',\n",
       " '__class__',\n",
       " '__class_getitem__',\n",
       " '__contains__',\n",
       " '__delattr__',\n",
       " '__dir__',\n",
       " '__doc__',\n",
       " '__eq__',\n",
       " '__format__',\n",
       " '__ge__',\n",
       " '__getattribute__',\n",
       " '__gt__',\n",
       " '__hash__',\n",
       " '__iand__',\n",
       " '__init__',\n",
       " '__init_subclass__',\n",
       " '__ior__',\n",
       " '__isub__',\n",
       " '__iter__',\n",
       " '__ixor__',\n",
       " '__le__',\n",
       " '__len__',\n",
       " '__lt__',\n",
       " '__ne__',\n",
       " '__new__',\n",
       " '__or__',\n",
       " '__rand__',\n",
       " '__reduce__',\n",
       " '__reduce_ex__',\n",
       " '__repr__',\n",
       " '__ror__',\n",
       " '__rsub__',\n",
       " '__rxor__',\n",
       " '__setattr__',\n",
       " '__sizeof__',\n",
       " '__str__',\n",
       " '__sub__',\n",
       " '__subclasshook__',\n",
       " '__xor__',\n",
       " 'add',\n",
       " 'clear',\n",
       " 'copy',\n",
       " 'difference',\n",
       " 'difference_update',\n",
       " 'discard',\n",
       " 'intersection',\n",
       " 'intersection_update',\n",
       " 'isdisjoint',\n",
       " 'issubset',\n",
       " 'issuperset',\n",
       " 'pop',\n",
       " 'remove',\n",
       " 'symmetric_difference',\n",
       " 'symmetric_difference_update',\n",
       " 'union',\n",
       " 'update']"
      ]
     },
     "execution_count": 79,
     "metadata": {},
     "output_type": "execute_result"
    }
   ],
   "source": [
    "dir(x)"
   ]
  },
  {
   "cell_type": "code",
   "execution_count": 90,
   "id": "0afcd44a-ba97-45bf-9695-cc3214da097b",
   "metadata": {},
   "outputs": [
    {
     "data": {
      "text/plain": [
       "110"
      ]
     },
     "execution_count": 90,
     "metadata": {},
     "output_type": "execute_result"
    }
   ],
   "source": [
    "numbers = [10, 20,  30,  40,  50,  60, 70, 80, 90, 100]\n",
    "numbers[0]+numbers[9]"
   ]
  },
  {
   "cell_type": "code",
   "execution_count": 92,
   "id": "849ce6c1-9224-4fcc-bec5-27f29f41305c",
   "metadata": {},
   "outputs": [
    {
     "data": {
      "text/plain": [
       "['red', 'green', 'blue', 'orange', 'black']"
      ]
     },
     "execution_count": 92,
     "metadata": {},
     "output_type": "execute_result"
    }
   ],
   "source": [
    "colors = [\"red\", \"green\", \"blue\", \"yellow\", \"purple\", \"orange\", \"black\"]\n",
    "colors[:3]+colors[-2:]"
   ]
  },
  {
   "cell_type": "code",
   "execution_count": 120,
   "id": "58b5431b-2f73-4d77-a5fa-a74c4abf03d8",
   "metadata": {},
   "outputs": [
    {
     "data": {
      "text/plain": [
       "'korean'"
      ]
     },
     "execution_count": 120,
     "metadata": {},
     "output_type": "execute_result"
    }
   ],
   "source": [
    "list_a = [\n",
    "    [1, 2, 3],\n",
    "    [\"red\", \"green\", \"blue\"],\n",
    "    [False, \"korean\", True]\n",
    "]\n",
    "list_a[2][1]"
   ]
  },
  {
   "cell_type": "code",
   "execution_count": 124,
   "id": "cb69ad8f-90c4-488c-99a8-f6324285f8f1",
   "metadata": {},
   "outputs": [],
   "source": [
    "#for sub in list_a:\n",
    "    #for item in sub:\n",
    "        #print(item)\n",
    "      #  if item==\"korean\":\n",
    "        # print(item)"
   ]
  },
  {
   "cell_type": "code",
   "execution_count": 99,
   "id": "179cc3b1-9453-4e8b-89ff-4b416390a589",
   "metadata": {},
   "outputs": [
    {
     "data": {
      "text/plain": [
       "[1, 2, 3, 4, 5, 6]"
      ]
     },
     "execution_count": 99,
     "metadata": {},
     "output_type": "execute_result"
    }
   ],
   "source": [
    "list_a = [1, 2, 3]\n",
    "list_b = [4, 5, 6]\n",
    "list_c=list_a+list_b\n",
    "list_c"
   ]
  },
  {
   "cell_type": "code",
   "execution_count": 104,
   "id": "d8676f4d-ed05-4f18-b550-ed62bcae1563",
   "metadata": {},
   "outputs": [
    {
     "name": "stdout",
     "output_type": "stream",
     "text": [
      "('apple', 'blueberry', 'cherry')\n"
     ]
    }
   ],
   "source": [
    "tuple_a = (\"apple\", \"banana\", \"cherry\")\n",
    "\n",
    "# 튜플을 리스트로 변환\n",
    "temp_list = list(tuple_a)\n",
    "\n",
    "# 리스트에서 값 변경\n",
    "temp_list[1] = \"blueberry\"\n",
    "\n",
    "# 다시 튜플로 변환\n",
    "tuple_a = tuple(temp_list)\n",
    "\n",
    "print(tuple_a)"
   ]
  },
  {
   "cell_type": "code",
   "execution_count": 105,
   "id": "0f530257-b184-4b13-a866-6641bf5ef19f",
   "metadata": {},
   "outputs": [
    {
     "name": "stdout",
     "output_type": "stream",
     "text": [
      "(5, 10, 15)\n"
     ]
    }
   ],
   "source": [
    "a = 5\n",
    "b = 10\n",
    "c = 15\n",
    "\n",
    "tuple_a=(a,b,c)\n",
    "print(tuple_a)"
   ]
  },
  {
   "cell_type": "code",
   "execution_count": 110,
   "id": "bc0269a2-d2c4-461d-aa23-5c1b538c8561",
   "metadata": {},
   "outputs": [
    {
     "name": "stdout",
     "output_type": "stream",
     "text": [
      "최대값: 92\n",
      "최소값: 19\n"
     ]
    }
   ],
   "source": [
    "numbers = (92, 89, 72, 31, 71, 33, 19)\n",
    "tuple_max=max(numbers)\n",
    "tuple_min=min(numbers)\n",
    "print(\"최대값:\",tuple_max)\n",
    "print(\"최소값:\",tuple_min)"
   ]
  },
  {
   "cell_type": "code",
   "execution_count": 116,
   "id": "ecdaabd2-df93-474b-971c-c4e9f7b73076",
   "metadata": {},
   "outputs": [
    {
     "name": "stdout",
     "output_type": "stream",
     "text": [
      "{'name': 'Alice', 'age': 24, 'major': 'Computer Science'}\n"
     ]
    }
   ],
   "source": [
    "student = {\n",
    "    \"name\": \"Alice\",\n",
    "    \"age\": 24,\n",
    "    \"major\": \"Computer Science\"\n",
    "}\n",
    "\n",
    "print(student)"
   ]
  },
  {
   "cell_type": "code",
   "execution_count": 126,
   "id": "2999861e-58ab-4429-be4e-0b57c626eda3",
   "metadata": {},
   "outputs": [],
   "source": [
    "# student={}\n",
    "# student[\"name\"]=Alice\n",
    "# student[\"age\"]=24\n",
    "# student[\"major\"]=Computer Science\n",
    "# print(student)"
   ]
  },
  {
   "cell_type": "code",
   "execution_count": 127,
   "id": "c5b189a8-20eb-4229-bba1-131248eb8b72",
   "metadata": {},
   "outputs": [
    {
     "name": "stdout",
     "output_type": "stream",
     "text": [
      "name: Alice\n",
      "age: 24\n",
      "major: Computer Science\n",
      "major\n"
     ]
    }
   ],
   "source": [
    "student = {\n",
    "    \"name\": \"Alice\",\n",
    "    \"age\": 24,\n",
    "    \"major\": \"Computer Science\"\n",
    "}\n",
    "\n",
    "for key, value in student.items():\n",
    "    print(f\"{key}: {value}\")\n",
    "\n"
   ]
  },
  {
   "cell_type": "code",
   "execution_count": 128,
   "id": "b33871ab-ae9a-4293-bf1e-7aa3b876922f",
   "metadata": {},
   "outputs": [
    {
     "name": "stdout",
     "output_type": "stream",
     "text": [
      "{'name': 'Alice', 'age': 26, 'major': 'Computer Science'}\n"
     ]
    }
   ],
   "source": [
    "student[\"age\"]=26\n",
    "print(student)"
   ]
  },
  {
   "cell_type": "code",
   "execution_count": 129,
   "id": "38d66d4d-2d58-4d8c-9727-9413cc6bd872",
   "metadata": {},
   "outputs": [],
   "source": [
    "students = {\n",
    "    \"student1\": {\"name\": \"Alice\", \"age\": 24},\n",
    "    \"student2\": {\"name\": \"Bob\", \"age\": 22},\n",
    "    \"student3\": {\"name\": \"Charlie\", \"age\": 23}\n",
    "}"
   ]
  },
  {
   "cell_type": "code",
   "execution_count": 132,
   "id": "78d0077b-f6c3-4950-86c8-9b113fbb1f8f",
   "metadata": {},
   "outputs": [
    {
     "data": {
      "text/plain": [
       "(['Alice', 'Bob', 'Charlie'], (24, 22, 23))"
      ]
     },
     "execution_count": 132,
     "metadata": {},
     "output_type": "execute_result"
    }
   ],
   "source": [
    "name_list=[]\n",
    "age_list=[]\n",
    "\n",
    "for key in students.keys():\n",
    "    stu=students[key]\n",
    "    name_list.append(stu['name'])\n",
    "    age_list.append(stu['age'])\n",
    "\n",
    "age_tuple=tuple(age_list)\n",
    "name_list, age_tuple\n",
    "    \n",
    "    "
   ]
  }
 ],
 "metadata": {
  "kernelspec": {
   "display_name": "Python 3(myenv)",
   "language": "python",
   "name": "myenv"
  },
  "language_info": {
   "codemirror_mode": {
    "name": "ipython",
    "version": 3
   },
   "file_extension": ".py",
   "mimetype": "text/x-python",
   "name": "python",
   "nbconvert_exporter": "python",
   "pygments_lexer": "ipython3",
   "version": "3.10.16"
  }
 },
 "nbformat": 4,
 "nbformat_minor": 5
}
