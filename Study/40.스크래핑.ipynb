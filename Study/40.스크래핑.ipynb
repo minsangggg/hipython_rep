{
 "cells": [
  {
   "cell_type": "code",
   "execution_count": 82,
   "id": "70fe9fdd",
   "metadata": {},
   "outputs": [],
   "source": [
    "import requests"
   ]
  },
  {
   "cell_type": "code",
   "execution_count": 83,
   "id": "39cddf3d",
   "metadata": {},
   "outputs": [
    {
     "name": "stdout",
     "output_type": "stream",
     "text": [
      "c:\\githome\\hipython_rep\\Study\n",
      "c:\\githome\\hipython_rep\\Study\\html\\sample.html\n"
     ]
    }
   ],
   "source": [
    "import os \n",
    "print(os.getcwd()) #현재 파이썬 프로그램이 실행 중인 디렉터리(폴더) 경로를 출력\n",
    "print(os.path.abspath('html/sample.html'))"
   ]
  },
  {
   "cell_type": "code",
   "execution_count": 84,
   "id": "89b3b3e0",
   "metadata": {},
   "outputs": [],
   "source": [
    "import urllib.request #웹 요청 및 파일 URL 열 때 사용하는 표준 라이브러리 불"
   ]
  },
  {
   "cell_type": "code",
   "execution_count": 85,
   "id": "ec6da287",
   "metadata": {},
   "outputs": [
    {
     "name": "stdout",
     "output_type": "stream",
     "text": [
      "<!DOCTYPE html>\n",
      "<html lang=\"en\">\n",
      "<head>\n",
      "    <meta charset=\"UTF-8\">\n",
      "    <meta name=\"viewport\" con\n"
     ]
    }
   ],
   "source": [
    "#파일의 절대경로 \n",
    "abs_path=os.path.abspath('html/sample.html')  #경로를 변수에 저장\n",
    "\n",
    "url_path=\"file:///\"+abs_path  #경로를 file URL로 변환\n",
    "\n",
    "with urllib.request.urlopen(url_path) as f: #urlopen()으로 file URL 경로의 파일을 읽기 모드로 엶\n",
    "   html= f.read().decode('utf-8') #HTML 텍스트가 html 변수에 저장됨\n",
    "print(html[:100])"
   ]
  },
  {
   "cell_type": "code",
   "execution_count": 86,
   "id": "a3aeb072",
   "metadata": {},
   "outputs": [
    {
     "name": "stdout",
     "output_type": "stream",
     "text": [
      "200\n",
      "<!DOCTYPE html>\n",
      "<html lang=\"en\">\n",
      "<head>\n",
      "    <meta charset=\"UTF-8\">\n",
      "    <meta name=\"viewport\" con\n"
     ]
    }
   ],
   "source": [
    "res=requests.get('http://localhost:5500/Study/html/sample.html')\n",
    "print(res.status_code)\n",
    "print(res.text[:100])"
   ]
  },
  {
   "cell_type": "code",
   "execution_count": 87,
   "id": "f0aceea1",
   "metadata": {},
   "outputs": [
    {
     "data": {
      "text/plain": [
       "<!DOCTYPE html>\n",
       "\n",
       "<html lang=\"en\">\n",
       "<head>\n",
       "<meta charset=\"utf-8\"/>\n",
       "<meta content=\"width=device-width, initial-scale=1.0\" name=\"viewport\"/>\n",
       "<title>Hello LGU+ SWBootCamp</title>\n",
       "</head>\n",
       "<body>\n",
       "<h1>Hello scrapping</h1>\n",
       "<div id=\"\" subject\"=\"\">선택자</div>\n",
       "<div class=\"contents\">\n",
       "        선택자가 중요합니다. 잘 찾아주세요\n",
       "        <span>다른 <b>요소가 나올수도 </b>있습니다.</span>\n",
       "</div>\n",
       "<div>CSS 선택자에서는 요소 선택자, 클래스 선택자, ID 선택자가 있습니다.</div>\n",
       "<!-- Code injected by live-server -->\n",
       "<script>\n",
       "\t// <![CDATA[  <-- For SVG support\n",
       "\tif ('WebSocket' in window) {\n",
       "\t\t(function () {\n",
       "\t\t\tfunction refreshCSS() {\n",
       "\t\t\t\tvar sheets = [].slice.call(document.getElementsByTagName(\"link\"));\n",
       "\t\t\t\tvar head = document.getElementsByTagName(\"head\")[0];\n",
       "\t\t\t\tfor (var i = 0; i < sheets.length; ++i) {\n",
       "\t\t\t\t\tvar elem = sheets[i];\n",
       "\t\t\t\t\tvar parent = elem.parentElement || head;\n",
       "\t\t\t\t\tparent.removeChild(elem);\n",
       "\t\t\t\t\tvar rel = elem.rel;\n",
       "\t\t\t\t\tif (elem.href && typeof rel != \"string\" || rel.length == 0 || rel.toLowerCase() == \"stylesheet\") {\n",
       "\t\t\t\t\t\tvar url = elem.href.replace(/(&|\\?)_cacheOverride=\\d+/, '');\n",
       "\t\t\t\t\t\telem.href = url + (url.indexOf('?') >= 0 ? '&' : '?') + '_cacheOverride=' + (new Date().valueOf());\n",
       "\t\t\t\t\t}\n",
       "\t\t\t\t\tparent.appendChild(elem);\n",
       "\t\t\t\t}\n",
       "\t\t\t}\n",
       "\t\t\tvar protocol = window.location.protocol === 'http:' ? 'ws://' : 'wss://';\n",
       "\t\t\tvar address = protocol + window.location.host + window.location.pathname + '/ws';\n",
       "\t\t\tvar socket = new WebSocket(address);\n",
       "\t\t\tsocket.onmessage = function (msg) {\n",
       "\t\t\t\tif (msg.data == 'reload') window.location.reload();\n",
       "\t\t\t\telse if (msg.data == 'refreshcss') refreshCSS();\n",
       "\t\t\t};\n",
       "\t\t\tif (sessionStorage && !sessionStorage.getItem('IsThisFirstTime_Log_From_LiveServer')) {\n",
       "\t\t\t\tconsole.log('Live reload enabled.');\n",
       "\t\t\t\tsessionStorage.setItem('IsThisFirstTime_Log_From_LiveServer', true);\n",
       "\t\t\t}\n",
       "\t\t})();\n",
       "\t}\n",
       "\telse {\n",
       "\t\tconsole.error('Upgrade your browser. This Browser is NOT supported WebSocket for Live-Reloading.');\n",
       "\t}\n",
       "\t// ]]>\n",
       "</script>\n",
       "</body>\n",
       "</html>"
      ]
     },
     "execution_count": 87,
     "metadata": {},
     "output_type": "execute_result"
    }
   ],
   "source": [
    "from bs4 import BeautifulSoup\n",
    "soup=BeautifulSoup(res.text, 'html.parser')\n",
    "soup"
   ]
  },
  {
   "cell_type": "code",
   "execution_count": 88,
   "id": "220360cc",
   "metadata": {},
   "outputs": [
    {
     "data": {
      "text/plain": [
       "[<div id=\"\" subject\"=\"\">선택자</div>,\n",
       " <div class=\"contents\">\n",
       "         선택자가 중요합니다. 잘 찾아주세요\n",
       "         <span>다른 <b>요소가 나올수도 </b>있습니다.</span>\n",
       " </div>,\n",
       " <div>CSS 선택자에서는 요소 선택자, 클래스 선택자, ID 선택자가 있습니다.</div>]"
      ]
     },
     "execution_count": 88,
     "metadata": {},
     "output_type": "execute_result"
    }
   ],
   "source": [
    "soup.select('div',class_='contents')"
   ]
  },
  {
   "cell_type": "code",
   "execution_count": 89,
   "id": "02ef6837",
   "metadata": {},
   "outputs": [
    {
     "data": {
      "text/plain": [
       "[<div class=\"contents\">\n",
       "         선택자가 중요합니다. 잘 찾아주세요\n",
       "         <span>다른 <b>요소가 나올수도 </b>있습니다.</span>\n",
       " </div>]"
      ]
     },
     "execution_count": 89,
     "metadata": {},
     "output_type": "execute_result"
    }
   ],
   "source": [
    "soup.select('div.contents') #class 선택자는 ."
   ]
  },
  {
   "cell_type": "code",
   "execution_count": 90,
   "id": "79b381c2",
   "metadata": {},
   "outputs": [
    {
     "data": {
      "text/plain": [
       "[]"
      ]
     },
     "execution_count": 90,
     "metadata": {},
     "output_type": "execute_result"
    }
   ],
   "source": [
    "soup.select(\"#subject\") # id 선택자는 #"
   ]
  },
  {
   "cell_type": "code",
   "execution_count": 91,
   "id": "b2bdd87b",
   "metadata": {},
   "outputs": [
    {
     "data": {
      "text/plain": [
       "[<h1>Hello scrapping</h1>]"
      ]
     },
     "execution_count": 91,
     "metadata": {},
     "output_type": "execute_result"
    }
   ],
   "source": [
    "soup.select('h1', class_='scrapping')"
   ]
  },
  {
   "cell_type": "code",
   "execution_count": 92,
   "id": "97a98ca7",
   "metadata": {},
   "outputs": [
    {
     "data": {
      "text/plain": [
       "[<title>Hello LGU+ SWBootCamp</title>]"
      ]
     },
     "execution_count": 92,
     "metadata": {},
     "output_type": "execute_result"
    }
   ],
   "source": [
    "soup.select('title',class_='LG')"
   ]
  },
  {
   "cell_type": "code",
   "execution_count": 93,
   "id": "358d395b",
   "metadata": {},
   "outputs": [
    {
     "data": {
      "text/plain": [
       "[<span>다른 <b>요소가 나올수도 </b>있습니다.</span>]"
      ]
     },
     "execution_count": 93,
     "metadata": {},
     "output_type": "execute_result"
    }
   ],
   "source": [
    "soup.select('span',class_='다른')"
   ]
  },
  {
   "cell_type": "code",
   "execution_count": 94,
   "id": "b0f4173d",
   "metadata": {},
   "outputs": [
    {
     "data": {
      "text/plain": [
       "<div id=\"\" subject\"=\"\">선택자</div>"
      ]
     },
     "execution_count": 94,
     "metadata": {},
     "output_type": "execute_result"
    }
   ],
   "source": [
    "soup.select_one('div')"
   ]
  },
  {
   "cell_type": "markdown",
   "id": "6590f5fc",
   "metadata": {},
   "source": [
    "### 네이버 환율 정보 가져오기"
   ]
  },
  {
   "cell_type": "code",
   "execution_count": 128,
   "id": "45cee715",
   "metadata": {},
   "outputs": [
    {
     "data": {
      "text/plain": [
       "<Response [200]>"
      ]
     },
     "execution_count": 128,
     "metadata": {},
     "output_type": "execute_result"
    }
   ],
   "source": [
    "url=\"https://finance.naver.com/marketindex/\"\n",
    "m_index=requests.get(url)\n",
    "m_index"
   ]
  },
  {
   "cell_type": "code",
   "execution_count": 130,
   "id": "8f67197f",
   "metadata": {},
   "outputs": [],
   "source": [
    "#exchangeList > li.on > a.head.usd > div > span.value\n",
    "#worldExchangeList > li.on > a.head.jpy_usd > div > span.value"
   ]
  },
  {
   "cell_type": "code",
   "execution_count": 97,
   "id": "f374933d",
   "metadata": {},
   "outputs": [
    {
     "name": "stdout",
     "output_type": "stream",
     "text": [
      "146.7900\n"
     ]
    }
   ],
   "source": [
    "if m_index.status_code==200:\n",
    "    soup=BeautifulSoup(m_index.content,'html.parser')\n",
    "    jp_price=soup.select_one('a.head.jpy_usd>div>span.value')\n",
    "    print(jp_price.text)"
   ]
  },
  {
   "cell_type": "code",
   "execution_count": 98,
   "id": "16a80e2c",
   "metadata": {},
   "outputs": [
    {
     "name": "stdout",
     "output_type": "stream",
     "text": [
      "1,378.70\n"
     ]
    }
   ],
   "source": [
    "if m_index.status_code==200:\n",
    "    soup=BeautifulSoup(m_index.content,'html.parser')\n",
    "    #price=soup.select_one('span.value')\n",
    "    us_price=soup.select_one('a.head.usd>div>span.value')\n",
    "    print(us_price.text)"
   ]
  },
  {
   "cell_type": "code",
   "execution_count": 124,
   "id": "54bea2f1",
   "metadata": {},
   "outputs": [],
   "source": [
    "import requests\n",
    "from bs4 import BeautifulSoup\n",
    "\n",
    "# 네이버 환율 페이지 URL\n",
    "url = 'https://finance.naver.com/marketindex/'"
   ]
  },
  {
   "cell_type": "code",
   "execution_count": 125,
   "id": "5b2974cb",
   "metadata": {},
   "outputs": [],
   "source": [
    "#웹 페이지 가져오기\n",
    "response=requests.get(url)\n",
    "response.encoding='euc-kr'\n",
    "\n",
    "soup = BeautifulSoup(response.text, \"html.parser\")"
   ]
  },
  {
   "cell_type": "code",
   "execution_count": 126,
   "id": "22442226",
   "metadata": {},
   "outputs": [],
   "source": [
    "#환율 항목을 모두 선택\n",
    "currency_items=soup.select(\"ul.data_lst li\")"
   ]
  },
  {
   "cell_type": "code",
   "execution_count": 127,
   "id": "a959da1a",
   "metadata": {},
   "outputs": [
    {
     "name": "stdout",
     "output_type": "stream",
     "text": [
      "미국 USD : 1,379.50\n",
      "일본 JPY(100엔) : 936.75\n",
      "유럽연합 EUR : 1,621.40\n",
      "중국 CNY : 192.45\n",
      "달러/일본 엔 : 146.7900\n",
      "유로/달러 : 1.1765\n",
      "영국 파운드/달러 : 1.3540\n",
      "달러인덱스 : 97.1200\n",
      "WTI : 66.03\n",
      "휘발유 : 1667.38\n",
      "국제 금 : 3373.5\n",
      "국내 금 : 148944.37\n"
     ]
    }
   ],
   "source": [
    "result = {}                     # 결과 저장용 딕셔너리\n",
    "\n",
    "\n",
    "for item in currency_items:     # 각 환율 항목 순회\n",
    "    name_tag = item.select_one(\"h3.h_lst\")\n",
    "    country_tag = name_tag.get_text(strip=True)\n",
    "    value_tag = item.select_one(\"span.value\")\n",
    "    if country_tag and value_tag:\n",
    "        result[country_tag] = value_tag.get_text(strip=True)\n",
    "\n",
    "# 출력\n",
    "for code, rate in result.items():\n",
    "    print(f\"{code} : {rate}\")"
   ]
  },
  {
   "cell_type": "code",
   "execution_count": 99,
   "id": "6a2f633b",
   "metadata": {},
   "outputs": [],
   "source": [
    "#basic.html을 읽어서 셀렉터로 꺼내기"
   ]
  },
  {
   "cell_type": "code",
   "execution_count": 105,
   "id": "f91c21ad",
   "metadata": {},
   "outputs": [
    {
     "name": "stdout",
     "output_type": "stream",
     "text": [
      "c:\\githome\\hipython_rep\\Study\n",
      "c:\\githome\\hipython_rep\\Study\\html\\basic.html\n"
     ]
    }
   ],
   "source": [
    "import os \n",
    "print(os.getcwd()) #현재 파이썬 프로그램이 실행 중인 디렉터리(폴더) 경로를 출력\n",
    "print(os.path.abspath('html/basic.html'))\n",
    "\n",
    "\n",
    "import urllib.request #웹 요청 및 파일 URL 열 때 사용하는 표준 라이브러리 불러오기\n"
   ]
  },
  {
   "cell_type": "code",
   "execution_count": 107,
   "id": "e23ed54c",
   "metadata": {},
   "outputs": [
    {
     "name": "stdout",
     "output_type": "stream",
     "text": [
      "<!DOCTYPE html>\n",
      "<html lang=\"en\">\n",
      "<head>\n",
      "    <meta charset=\"UTF-8\">\n",
      "    <meta name=\"viewport\" con\n"
     ]
    }
   ],
   "source": [
    "#파일의 절대경로 \n",
    "abs_path=os.path.abspath('html/sample.html')  #경로를 변수에 저장\n",
    "\n",
    "url_path=\"file:///\"+abs_path  #경로를 file URL로 변환\n",
    "\n",
    "with urllib.request.urlopen(url_path) as f: #urlopen()으로 file URL 경로의 파일을 읽기 모드로 엶\n",
    "   html= f.read().decode('utf-8') #HTML 텍스트가 html 변수에 저장됨\n",
    "print(html[:100])\n"
   ]
  },
  {
   "cell_type": "code",
   "execution_count": 108,
   "id": "2fc3c598",
   "metadata": {},
   "outputs": [
    {
     "name": "stdout",
     "output_type": "stream",
     "text": [
      "200\n",
      "<!DOCTYPE html>\n",
      "<html>\n",
      "  <head>\n",
      "    <meta charset=\"UTF-8\" />\n",
      "    <meta name=\"viewport\" content=\"\n"
     ]
    }
   ],
   "source": [
    "res=requests.get('http://localhost:5500/Study/html/basic.html')\n",
    "print(res.status_code)\n",
    "print(res.text[:100])\n"
   ]
  },
  {
   "cell_type": "code",
   "execution_count": 109,
   "id": "8b5d64b7",
   "metadata": {},
   "outputs": [
    {
     "data": {
      "text/plain": [
       "<!DOCTYPE html>\n",
       "\n",
       "<html>\n",
       "<head>\n",
       "<meta charset=\"utf-8\"/>\n",
       "<meta content=\"width=device-width, initial-scale=1.0\" name=\"viewport\"/>\n",
       "<title>문서의 제목</title>\n",
       "<link href=\"default.css\" rel=\"styleshee\"/>\n",
       "<style type=\"text/css\">\n",
       "      /* css 스타일 지정 */\n",
       "    </style>\n",
       "<script type=\"text/javascript\">\n",
       "      //자바스크립트 코드\n",
       "    </script>\n",
       "</head>\n",
       "<body>\n",
       "<!-- 주석 -->\n",
       "    본문의 내용...\n",
       "  <!-- Code injected by live-server -->\n",
       "<script>\n",
       "\t// <![CDATA[  <-- For SVG support\n",
       "\tif ('WebSocket' in window) {\n",
       "\t\t(function () {\n",
       "\t\t\tfunction refreshCSS() {\n",
       "\t\t\t\tvar sheets = [].slice.call(document.getElementsByTagName(\"link\"));\n",
       "\t\t\t\tvar head = document.getElementsByTagName(\"head\")[0];\n",
       "\t\t\t\tfor (var i = 0; i < sheets.length; ++i) {\n",
       "\t\t\t\t\tvar elem = sheets[i];\n",
       "\t\t\t\t\tvar parent = elem.parentElement || head;\n",
       "\t\t\t\t\tparent.removeChild(elem);\n",
       "\t\t\t\t\tvar rel = elem.rel;\n",
       "\t\t\t\t\tif (elem.href && typeof rel != \"string\" || rel.length == 0 || rel.toLowerCase() == \"stylesheet\") {\n",
       "\t\t\t\t\t\tvar url = elem.href.replace(/(&|\\?)_cacheOverride=\\d+/, '');\n",
       "\t\t\t\t\t\telem.href = url + (url.indexOf('?') >= 0 ? '&' : '?') + '_cacheOverride=' + (new Date().valueOf());\n",
       "\t\t\t\t\t}\n",
       "\t\t\t\t\tparent.appendChild(elem);\n",
       "\t\t\t\t}\n",
       "\t\t\t}\n",
       "\t\t\tvar protocol = window.location.protocol === 'http:' ? 'ws://' : 'wss://';\n",
       "\t\t\tvar address = protocol + window.location.host + window.location.pathname + '/ws';\n",
       "\t\t\tvar socket = new WebSocket(address);\n",
       "\t\t\tsocket.onmessage = function (msg) {\n",
       "\t\t\t\tif (msg.data == 'reload') window.location.reload();\n",
       "\t\t\t\telse if (msg.data == 'refreshcss') refreshCSS();\n",
       "\t\t\t};\n",
       "\t\t\tif (sessionStorage && !sessionStorage.getItem('IsThisFirstTime_Log_From_LiveServer')) {\n",
       "\t\t\t\tconsole.log('Live reload enabled.');\n",
       "\t\t\t\tsessionStorage.setItem('IsThisFirstTime_Log_From_LiveServer', true);\n",
       "\t\t\t}\n",
       "\t\t})();\n",
       "\t}\n",
       "\telse {\n",
       "\t\tconsole.error('Upgrade your browser. This Browser is NOT supported WebSocket for Live-Reloading.');\n",
       "\t}\n",
       "\t// ]]>\n",
       "</script>\n",
       "</body>\n",
       "</html>"
      ]
     },
     "execution_count": 109,
     "metadata": {},
     "output_type": "execute_result"
    }
   ],
   "source": [
    "from bs4 import BeautifulSoup\n",
    "soup=BeautifulSoup(res.text, 'html.parser')\n",
    "soup\n"
   ]
  },
  {
   "cell_type": "code",
   "execution_count": 112,
   "id": "b7418cfb",
   "metadata": {},
   "outputs": [
    {
     "name": "stdout",
     "output_type": "stream",
     "text": [
      "\n",
      "      /* css 스타일 지정 */\n",
      "    \n"
     ]
    }
   ],
   "source": [
    "txt = soup.select_one('style')\n",
    "print(txt.text)"
   ]
  },
  {
   "cell_type": "code",
   "execution_count": 113,
   "id": "c95712f5",
   "metadata": {},
   "outputs": [
    {
     "data": {
      "text/plain": [
       "[<style type=\"text/css\">\n",
       "       /* css 스타일 지정 */\n",
       "     </style>]"
      ]
     },
     "execution_count": 113,
     "metadata": {},
     "output_type": "execute_result"
    }
   ],
   "source": [
    "soup.select('style',class_='스타일')"
   ]
  }
 ],
 "metadata": {
  "kernelspec": {
   "display_name": "webcrawl_env",
   "language": "python",
   "name": "python3"
  },
  "language_info": {
   "codemirror_mode": {
    "name": "ipython",
    "version": 3
   },
   "file_extension": ".py",
   "mimetype": "text/x-python",
   "name": "python",
   "nbconvert_exporter": "python",
   "pygments_lexer": "ipython3",
   "version": "3.10.18"
  }
 },
 "nbformat": 4,
 "nbformat_minor": 5
}
