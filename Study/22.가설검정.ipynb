{
 "cells": [
  {
   "cell_type": "code",
   "execution_count": 8,
   "id": "969965c8",
   "metadata": {},
   "outputs": [],
   "source": [
    "import numpy as np\n",
    "import pandas as pd\n",
    "import matplotlib.pyplot as plt\n",
    "import scipy.stats as stats\n",
    "%matplotlib inline\n",
    "plt.rc('figure', figsize=(10, 6))\n",
    "from matplotlib import rcParams\n",
    "rcParams['font.family'] = 'New Gulim'\n",
    "rcParams['font.size'] = 10\n",
    "rcParams['axes.unicode_minus'] = False"
   ]
  },
  {
   "cell_type": "markdown",
   "id": "09ec7064",
   "metadata": {},
   "source": [
    "# 가설검정 단계"
   ]
  },
  {
   "cell_type": "code",
   "execution_count": 14,
   "id": "5d7af1dd",
   "metadata": {},
   "outputs": [
    {
     "name": "stdout",
     "output_type": "stream",
     "text": [
      "평균: 71.45122132522103\n",
      "p-value: 0.4251117060285713\n",
      "검정결과: 귀무가설 채택\n",
      "대한민국 남성의 평균 몸무게는 70kg이다\n"
     ]
    }
   ],
   "source": [
    "#1.가설수립: \n",
    "#귀무가설: 대한민국 남성의 평균 몸무게는 70kg이다.(차이가없다)\n",
    "#대립가설: 대한민국 남성의 평균 몸무게는 70kg이 아니다.\n",
    "\n",
    "#2.통계랑 산출-데이터 수집\n",
    "np.random.seed(121)\n",
    "weight=np.random.uniform(40,100,100)\n",
    "weight             #100개 임의 추출\n",
    "\n",
    "test_result=stats.ttest_1samp(weight,70)\n",
    "#np.mean(weight)\n",
    "print(f'평균: {np.mean(weight)}')\n",
    "print(f'p-value: {test_result.pvalue}')\n",
    "\n",
    "#3.기각/채택 여부 판단\n",
    "print(f'검정결과: {'귀무가설 기각' if test_result.pvalue<0.05 else '귀무가설 채택'}')\n",
    "\n",
    "#4.결정\n",
    "if test_result.pvalue<0.05:\n",
    "    print('대한민국 남성의 평균 몸무게는 70kg이 아니다')\n",
    "else:\n",
    "    print('대한민국 남성의 평균 몸무게는 70kg이다')"
   ]
  },
  {
   "cell_type": "markdown",
   "id": "72f08a86",
   "metadata": {},
   "source": [
    "# T검정\n",
    "- ### 예제 1: 평균 비교 - 일표본(단표본) t검정\n",
    "\n",
    "**문제:** 하루 커피 섭취량이 평균 2.5잔이라고 알려져 있다.   \n",
    "실제 설문조사에서 2.8잔이 나왔다. 과연 차이가 통계적으로 유의한가?"
   ]
  },
  {
   "cell_type": "code",
   "execution_count": null,
   "id": "ea502283",
   "metadata": {},
   "outputs": [
    {
     "name": "stdout",
     "output_type": "stream",
     "text": [
      "t값 = 7.031, p값 = 0.0000000986\n",
      "검정결과: 귀무가설 기각\n",
      "차이가 유의하다\n"
     ]
    }
   ],
   "source": [
    "from scipy import stats\n",
    "\n",
    "# 1. 표본 데이터 (30명)\n",
    "coffee_data = [2.9, 2.4, 2.7, 3.0, 2.6, 2.8, 2.9, 3.1, 2.7, 2.6,\n",
    "               2.8, 2.5, 3.2, 3.0, 2.4, 2.6, 2.7, 3.1, 2.8, 2.7,\n",
    "               2.5, 2.9, 2.6, 2.8, 2.9, 2.5, 2.7, 2.8, 3.0, 2.9]\n",
    "\n",
    "# 2. 단일표본 t-검정, stats.ttest_1samp는 단일표본 t-검정(One-sample t-test)을 수행하는 함수\n",
    "test_result = stats.ttest_1samp(coffee_data, popmean=2.5)\n",
    "\n",
    "\n",
    "#t값은 t-검정에서 “표본 평균이 기준값(또는 다른 집단 평균)과 얼마나 차이 나는지”를\n",
    "#표준오차로 나눈 비율 즉,표본평균이 기준값에서 얼마나 떨어져있나? 를 보는것\n",
    "print(f\"t값 = {test_result.statistic:.3f}, p값 = {test_result.pvalue:.10f}\")\n",
    "\n",
    "# 3. 기각/채택 여부 판단\n",
    "print(f'검정결과: {\"귀무가설 기각\" if test_result.pvalue < 0.05 else \"귀무가설 채택\"}')\n",
    "\n",
    "# 4. 결정\n",
    "if test_result.pvalue < 0.05:\n",
    "    print('차이가 유의하다')\n",
    "else:\n",
    "    print('차이가 유의하지않다')"
   ]
  },
  {
   "cell_type": "markdown",
   "id": "597b249f",
   "metadata": {},
   "source": [
    "### 예제 2: 두 그룹 비교 - 이표본(독립표본) t검정\n",
    "\n",
    "**문제:** A와 B 수업의 시험 평균 점수가 차이가 있는가?"
   ]
  },
  {
   "cell_type": "code",
   "execution_count": 25,
   "id": "8e07a51f",
   "metadata": {},
   "outputs": [
    {
     "name": "stdout",
     "output_type": "stream",
     "text": [
      "t값 = 5.331, p값 = 0.0000604698\n",
      "검정결과: 귀무가설 기각\n",
      "수업 간 유의한 점수 차이가 있음\n"
     ]
    }
   ],
   "source": [
    "group_A = [78, 85, 82, 88, 76, 81, 79, 84, 82, 80]\n",
    "group_B = [72, 75, 78, 74, 71, 77, 70, 76, 75, 73]\n",
    "\n",
    "t_stat, p_value = stats.ttest_ind(group_A, group_B, equal_var=False)\n",
    "print(f\"t값 = {t_stat:.3f}, p값 = {p_value:.10f}\")\n",
    "\n",
    "# 기각/채택 여부 판단\n",
    "print(f'검정결과: {\"귀무가설 기각\" if test_result.pvalue < 0.05 else \"귀무가설 채택\"}')\n",
    "\n",
    "#  결정\n",
    "if test_result.pvalue < 0.05:\n",
    "    print('수업 간 유의한 점수 차이가 있음')\n",
    "else:\n",
    "    print('수업 간 유의한 점수 차이가 없음')"
   ]
  }
 ],
 "metadata": {
  "kernelspec": {
   "display_name": "hipython",
   "language": "python",
   "name": "python3"
  },
  "language_info": {
   "codemirror_mode": {
    "name": "ipython",
    "version": 3
   },
   "file_extension": ".py",
   "mimetype": "text/x-python",
   "name": "python",
   "nbconvert_exporter": "python",
   "pygments_lexer": "ipython3",
   "version": "3.12.9"
  }
 },
 "nbformat": 4,
 "nbformat_minor": 5
}
