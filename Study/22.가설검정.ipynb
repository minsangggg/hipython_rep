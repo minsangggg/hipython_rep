{
 "cells": [
  {
   "cell_type": "code",
   "execution_count": 3,
   "id": "969965c8",
   "metadata": {},
   "outputs": [],
   "source": [
    "import numpy as np\n",
    "import pandas as pd\n",
    "import matplotlib.pyplot as plt\n",
    "import scipy.stats as stats\n",
    "%matplotlib inline\n",
    "plt.rc('figure', figsize=(10, 6))\n",
    "from matplotlib import rcParams\n",
    "rcParams['font.family'] = 'New Gulim'\n",
    "rcParams['font.size'] = 10\n",
    "rcParams['axes.unicode_minus'] = False"
   ]
  },
  {
   "cell_type": "markdown",
   "id": "09ec7064",
   "metadata": {},
   "source": [
    "# 가설검정 단계"
   ]
  },
  {
   "cell_type": "code",
   "execution_count": 14,
   "id": "5d7af1dd",
   "metadata": {},
   "outputs": [
    {
     "name": "stdout",
     "output_type": "stream",
     "text": [
      "평균: 71.45122132522103\n",
      "p-value: 0.4251117060285713\n",
      "검정결과: 귀무가설 채택\n",
      "대한민국 남성의 평균 몸무게는 70kg이다\n"
     ]
    }
   ],
   "source": [
    "#1.가설수립: \n",
    "#귀무가설: 대한민국 남성의 평균 몸무게는 70kg이다.(차이가없다)\n",
    "#대립가설: 대한민국 남성의 평균 몸무게는 70kg이 아니다.\n",
    "\n",
    "#2.통계랑 산출-데이터 수집\n",
    "np.random.seed(121)\n",
    "weight=np.random.uniform(40,100,100)\n",
    "weight             #100개 임의 추출\n",
    "\n",
    "test_result=stats.ttest_1samp(weight,70)\n",
    "#np.mean(weight)\n",
    "print(f'평균: {np.mean(weight)}')\n",
    "print(f'p-value: {test_result.pvalue}')\n",
    "\n",
    "#3.기각/채택 여부 판단\n",
    "print(f'검정결과: {'귀무가설 기각' if test_result.pvalue<0.05 else '귀무가설 채택'}')\n",
    "\n",
    "#4.결정\n",
    "if test_result.pvalue<0.05:\n",
    "    print('대한민국 남성의 평균 몸무게는 70kg이 아니다')\n",
    "else:\n",
    "    print('대한민국 남성의 평균 몸무게는 70kg이다')"
   ]
  },
  {
   "cell_type": "markdown",
   "id": "72f08a86",
   "metadata": {},
   "source": [
    "# T검정\n",
    " ### 예제 1: 평균 비교 - 일표본(단표본) t검정\n",
    "\n",
    "**문제:** 하루 커피 섭취량이 평균 2.5잔이라고 알려져 있다.   \n",
    "실제 설문조사에서 2.8잔이 나왔다. 과연 차이가 통계적으로 유의한가?"
   ]
  },
  {
   "cell_type": "code",
   "execution_count": null,
   "id": "ea502283",
   "metadata": {},
   "outputs": [
    {
     "name": "stdout",
     "output_type": "stream",
     "text": [
      "t값 = 7.031, p값 = 0.0000000986\n",
      "검정결과: 귀무가설 기각\n",
      "차이가 유의하다\n"
     ]
    }
   ],
   "source": [
    "from scipy import stats\n",
    "\n",
    "# 1. 표본 데이터 (30명)\n",
    "coffee_data = [2.9, 2.4, 2.7, 3.0, 2.6, 2.8, 2.9, 3.1, 2.7, 2.6,\n",
    "               2.8, 2.5, 3.2, 3.0, 2.4, 2.6, 2.7, 3.1, 2.8, 2.7,\n",
    "               2.5, 2.9, 2.6, 2.8, 2.9, 2.5, 2.7, 2.8, 3.0, 2.9]\n",
    "\n",
    "# 2. 단일표본 t-검정, stats.ttest_1samp는 단일표본 t-검정(One-sample t-test)을 수행하는 함수\n",
    "test_result = stats.ttest_1samp(coffee_data, popmean=2.5)\n",
    "\n",
    "\n",
    "#t값은 t-검정에서 “표본 평균이 기준값(또는 다른 집단 평균)과 얼마나 차이 나는지”를\n",
    "#표준오차로 나눈 비율 즉,표본평균이 기준값에서 얼마나 떨어져있나? 를 보는것\n",
    "print(f\"t값 = {test_result.statistic:.3f}, p값 = {test_result.pvalue:.10f}\")\n",
    "\n",
    "# 3. 기각/채택 여부 판단\n",
    "print(f'검정결과: {\"귀무가설 기각\" if test_result.pvalue < 0.05 else \"귀무가설 채택\"}')\n",
    "\n",
    "# 4. 결정\n",
    "if test_result.pvalue < 0.05:\n",
    "    print('차이가 유의하다')\n",
    "else:\n",
    "    print('차이가 유의하지않다')"
   ]
  },
  {
   "cell_type": "markdown",
   "id": "597b249f",
   "metadata": {},
   "source": [
    "### 예제 2: 두 그룹 비교 - 이표본(독립표본) t검정\n",
    "\n",
    "**문제:** A와 B 수업의 시험 평균 점수가 차이가 있는가?"
   ]
  },
  {
   "cell_type": "code",
   "execution_count": 7,
   "id": "8e07a51f",
   "metadata": {},
   "outputs": [
    {
     "name": "stdout",
     "output_type": "stream",
     "text": [
      "t값 = 5.331, p값 = 0.0000604698\n",
      "검정결과: 귀무가설(H0) 기각\n",
      "수업 간 유의한 점수 차이가 있음\n"
     ]
    }
   ],
   "source": [
    "group_A = [78, 85, 82, 88, 76, 81, 79, 84, 82, 80]\n",
    "group_B = [72, 75, 78, 74, 71, 77, 70, 76, 75, 73]\n",
    "\n",
    "# equal_var=False는 두 집단의 분산이 서로 다르다고 가정\n",
    "t_stat, p_value = stats.ttest_ind(group_A, group_B, equal_var=False)\n",
    "print(f\"t값 = {t_stat:.3f}, p값 = {p_value:.10f}\")\n",
    "\n",
    "# 기각/채택 여부 판단\n",
    "print(f'검정결과: {\"귀무가설(H0) 기각\" if p_value < 0.05 else \"귀무가설(H1) 채택\"}')\n",
    "\n",
    "#  결정\n",
    "if p_value < 0.05:\n",
    "    print('수업 간 유의한 점수 차이가 있음')\n",
    "else:\n",
    "    print('수업 간 유의한 점수 차이가 없음')"
   ]
  },
  {
   "cell_type": "markdown",
   "id": "e174a1ae",
   "metadata": {},
   "source": [
    "### 예제 3: 전후의 비교 -  대응 표본 T 검정 "
   ]
  },
  {
   "cell_type": "code",
   "execution_count": 9,
   "id": "4f5df831",
   "metadata": {},
   "outputs": [
    {
     "name": "stdout",
     "output_type": "stream",
     "text": [
      "t값 = 25.327, p값 = 0.0000000011\n",
      "검정결과:귀무가설 기각\n",
      "약물 투여 전후 혈압에 유의한 차이가 있음\n"
     ]
    }
   ],
   "source": [
    "# 대응 표본 t-검정 예제: 약물 투여 전후 혈압 비교\n",
    "before = [120, 122, 143, 130, 135, 118, 127, 140, 132, 125]\n",
    "after = [115, 117, 138, 125, 129, 112, 120, 135, 126, 119]\n",
    "\n",
    "t_stat, p_value = stats.ttest_rel(before, after)\n",
    "print(f\"t값 = {t_stat:.3f}, p값 = {p_value:.10f}\")\n",
    "\n",
    "#기각/채택 여부 판단\n",
    "print (f'검정결과:{'귀무가설 기각' if p_value<0.05 else \"귀무가설 채책\"}')\n",
    "\n",
    "#결정\n",
    "if p_value<0.05:\n",
    "    print('약물 투여 전후 혈압에 유의한 차이가 있음')\n",
    "else:\n",
    "    print('약물 투여 전후 혈압에 유의한 차이가 없음')"
   ]
  },
  {
   "cell_type": "markdown",
   "id": "81bab276",
   "metadata": {},
   "source": [
    "t값이 클수록 p값이 작아지고, 유의수준(보통 0.05)보다 p값이 더 작아지면 귀무가설을 기각할 수 있습니다."
   ]
  },
  {
   "cell_type": "markdown",
   "id": "a009d103",
   "metadata": {},
   "source": [
    "### 예제 4: 범주형 변수 - 카이제곱 검정\n",
    "\n",
    "**문제:** 성별에 따라 커피를 더 선호하는지?"
   ]
  },
  {
   "cell_type": "code",
   "execution_count": 11,
   "id": "9e99c627",
   "metadata": {},
   "outputs": [
    {
     "name": "stdout",
     "output_type": "stream",
     "text": [
      "chi2 = 3.857, p값 = 0.0495346134\n",
      "검정결과:귀무가설 기각\n",
      "성별에 따라 커피선호도가 연관이 있다\n"
     ]
    }
   ],
   "source": [
    "import numpy as np\n",
    "obs = np.array([[40, 10],  # 남자 (좋아함, 안좋아함) 교차표\n",
    "                [30, 20]]) # 여자\n",
    "\n",
    "chi2, p, dof, expected = stats.chi2_contingency(obs)\n",
    "print(f\"chi2 = {chi2:.3f}, p값 = {p:.10f}\")\n",
    "\n",
    "#기각/채택 여부 판단\n",
    "print (f'검정결과:{'귀무가설 기각' if p_value<0.05 else \"귀무가설 채책\"}')\n",
    "\n",
    "#결정\n",
    "if p_value<0.05:\n",
    "    print('성별에 따라 커피선호도가 연관이 있다')\n",
    "else:\n",
    "    print('성별에 따라 커피선호도와 관련없다')"
   ]
  },
  {
   "cell_type": "markdown",
   "id": "8c3fb574",
   "metadata": {},
   "source": [
    "### ANOVA (ANalysis Of VAriance)"
   ]
  },
  {
   "cell_type": "code",
   "execution_count": 14,
   "id": "9d8ae2b4",
   "metadata": {},
   "outputs": [
    {
     "name": "stdout",
     "output_type": "stream",
     "text": [
      "F값: 24.28, p값: 0.00132998\n",
      "검정결과:귀무가설 기각\n",
      "3개 그룹간 평균은 차이가 없다, 즉 같다\n"
     ]
    }
   ],
   "source": [
    "from scipy.stats import f_oneway\n",
    "\n",
    "# 세 그룹의 점수\n",
    "group1 = [80, 85, 90]\n",
    "group2 = [70, 75, 78]\n",
    "group3 = [60, 65, 62]\n",
    "\n",
    "f_stat, p_value = f_oneway(group1, group2, group3)\n",
    "print(f\"F값: {f_stat:.2f}, p값: {p_value:.8f}\")\n",
    "\n",
    "#기각/채택 여부 판단\n",
    "print (f'검정결과:{'귀무가설 기각' if p_value<0.05 else \"귀무가설 채책\"}')\n",
    "\n",
    "#결정\n",
    "if p_value<0.05:\n",
    "    print('3개 그룹간 평균은 차이가 없다, 즉 같다')\n",
    "else:\n",
    "    print('적어도 1개는 다르다')\n",
    "    \n",
    "#f값 24는 그룹간 분산의 차이가 그룹내 분산보다 크다.\n",
    "#p-value는 유의수준보다 작다\n",
    "#따라서 귀무가설을 기각하고, 그룹간 평균은 유의미한 차이가 있다."
   ]
  }
 ],
 "metadata": {
  "kernelspec": {
   "display_name": "hipython",
   "language": "python",
   "name": "python3"
  },
  "language_info": {
   "codemirror_mode": {
    "name": "ipython",
    "version": 3
   },
   "file_extension": ".py",
   "mimetype": "text/x-python",
   "name": "python",
   "nbconvert_exporter": "python",
   "pygments_lexer": "ipython3",
   "version": "3.12.9"
  }
 },
 "nbformat": 4,
 "nbformat_minor": 5
}
