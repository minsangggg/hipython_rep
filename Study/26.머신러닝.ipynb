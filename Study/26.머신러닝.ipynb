{
 "cells": [
  {
   "cell_type": "markdown",
   "id": "c84a584b",
   "metadata": {},
   "source": [
    "### 일반 프로그램"
   ]
  },
  {
   "cell_type": "code",
   "execution_count": 1,
   "id": "8710d1a4",
   "metadata": {},
   "outputs": [
    {
     "name": "stdout",
     "output_type": "stream",
     "text": [
      "57\n"
     ]
    }
   ],
   "source": [
    "def my_function(x):\n",
    "  return 5 * x + 7\n",
    "\n",
    "val = int(input('숫자를 입력하세요 : '))\n",
    "ret = my_function(val)\n",
    "print(ret)"
   ]
  },
  {
   "cell_type": "markdown",
   "id": "392edf5a",
   "metadata": {},
   "source": [
    "### 머신러닝 \n",
    "\n",
    "- 규칙이 아닌 모델을 선정\n",
    "- 과정: 데이터를 넣어준다>학습시킨다. -> fit()\n",
    "- 예측: predict([ ])"
   ]
  },
  {
   "cell_type": "code",
   "execution_count": 3,
   "id": "8cc6e43d",
   "metadata": {},
   "outputs": [
    {
     "name": "stdout",
     "output_type": "stream",
     "text": [
      "[52.]\n"
     ]
    }
   ],
   "source": [
    "import numpy\n",
    "from sklearn import linear_model\n",
    "\n",
    "#1. 데이터, 입력 값과 결과 값\n",
    "#입력 값 - 2차원임\n",
    "X_train=numpy.array([1,2,3,4,5,6,7]).reshape(-1,1)\n",
    "\n",
    "#결과 값 - 정답 1차원임, 입력을 넣었을 나올 정답 (5 * x + 7임을 알아차릴까?)\n",
    "y_train= numpy.array([12, 17, 22, 27, 32, 37, 42])\n",
    "\n",
    "#2. 기계학습의 가장 큰 특징 - 어떤 모델을 사용할 것인가 알려줘야 함\n",
    "model=linear_model.LinearRegression()\n",
    "\n",
    "#3. 학습\n",
    "model.fit(X_train, y_train)\n",
    "\n",
    "#4. 예측\n",
    "predict = model.predict([[9]])\n",
    "\n",
    "#예측한 결과 값\n",
    "print(predict)"
   ]
  },
  {
   "cell_type": "markdown",
   "id": "a24185a9",
   "metadata": {},
   "source": [
    "### 딥러닝\n",
    "- 모델이 정해져있어 입력값과 결과값만 주면 됨\n",
    "- 계층: 입력, 은닉층, 출력\n",
    "1. 모델 생성(계층)\n",
    "2. 모델 설정:compile\n",
    "3. 모델 학습(데이터): fit\n",
    "4. 학습한 모델로 예측: predict"
   ]
  },
  {
   "cell_type": "code",
   "execution_count": 5,
   "id": "52250d1d",
   "metadata": {},
   "outputs": [
    {
     "name": "stderr",
     "output_type": "stream",
     "text": [
      "c:\\Users\\Admin\\miniconda3\\envs\\hipython\\Lib\\site-packages\\requests\\__init__.py:86: RequestsDependencyWarning: Unable to find acceptable character detection dependency (chardet or charset_normalizer).\n",
      "  warnings.warn(\n"
     ]
    },
    {
     "name": "stdout",
     "output_type": "stream",
     "text": [
      "\u001b[1m1/1\u001b[0m \u001b[32m━━━━━━━━━━━━━━━━━━━━\u001b[0m\u001b[37m\u001b[0m \u001b[1m0s\u001b[0m 31ms/step\n",
      "[[52.09983]]\n"
     ]
    }
   ],
   "source": [
    "import tensorflow as tf\n",
    "\n",
    "X_train=numpy.array([1,2,3,4,5,6,7]).reshape(-1,1)\n",
    "y_train= numpy.array([12, 17, 22, 27, 32, 37, 42])\n",
    "\n",
    "# 모델 생성- 계층\n",
    "inputs= tf.keras.layers.Input(shape=(1,))\n",
    "outputs=tf.keras.layers.Dense(units=1)(inputs)\n",
    "\n",
    "model=tf.keras.models.Model(inputs,outputs)\n",
    "\n",
    "#loss 손실함수 -> MeanSquaredError, 최적화 함수(성능이 좋아짐) -> SGD\n",
    "model.compile(\n",
    "    loss=tf.keras.losses.MeanSquaredError(),\n",
    "    optimizer=tf.keras.optimizers.SGD()\n",
    ")\n",
    "\n",
    "#3. 모델 학습하기\n",
    "model.fit(X_train, y_train, epochs=1000, verbose=0)\n",
    "\n",
    "#4. 예측 epochs = 100 : '55.xx', 1000:52.xx\n",
    "predict = model.predict(numpy.array([[9]])) #예측값을 numpy 배열 2차원으로 변환\n",
    "\n",
    "#예측한 결과 값\n",
    "print(predict)"
   ]
  }
 ],
 "metadata": {
  "kernelspec": {
   "display_name": "hipython",
   "language": "python",
   "name": "python3"
  },
  "language_info": {
   "codemirror_mode": {
    "name": "ipython",
    "version": 3
   },
   "file_extension": ".py",
   "mimetype": "text/x-python",
   "name": "python",
   "nbconvert_exporter": "python",
   "pygments_lexer": "ipython3",
   "version": "3.12.9"
  }
 },
 "nbformat": 4,
 "nbformat_minor": 5
}
