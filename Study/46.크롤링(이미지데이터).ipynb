{
 "cells": [
  {
   "cell_type": "code",
   "execution_count": null,
   "id": "afc4cba6",
   "metadata": {},
   "outputs": [],
   "source": [
    "import requests\n",
    "from bs4 import BeautifulSoup\n",
    "from io import BytesIO #바이트 단위로 파일처럼 다루는 객체, 이미지를 저장 없이 곧바로 사용가능\n",
    "from PIL import Image # 이미지 파일을 열고, 자르고, 변환하고, 저장하는 등 이미지 처리 기능을 제공\n",
    "import re #문자열에서 패턴 검색, 치환, 추출, 검사 등에 사용\n",
    "import os #운영체제와 상호작용"
   ]
  },
  {
   "cell_type": "code",
   "execution_count": 4,
   "id": "7a7d23fa",
   "metadata": {},
   "outputs": [],
   "source": [
    "movie_ranking=requests.get(\"https://www.moviechart.co.kr/rank/realtime/index/image\") #해당 홈페이지\n",
    "#get요청으로 웹페이지의 html,이미지 등을 가져옴\n",
    "\n",
    "image_dir='images' #image폴더를 저장용 생성\n",
    "if not os.path.exists(image_dir):\n",
    "    os.makedirs(image_dir)\n",
    "    \n",
    "pattern = r'[\\\\/:\"*?<>|]'  #파일명에 쓸 수 없는 모든 문자 지정"
   ]
  },
  {
   "cell_type": "code",
   "execution_count": null,
   "id": "d10035ac",
   "metadata": {},
   "outputs": [],
   "source": [
    "#content > div.wArea.space > div.movieBox > ul > li:nth-child(2) > a > img"
   ]
  },
  {
   "cell_type": "code",
   "execution_count": 5,
   "id": "b7346093",
   "metadata": {},
   "outputs": [
    {
     "name": "stdout",
     "output_type": "stream",
     "text": [
      "영화 정보를 출력합니다.\n",
      "수집한 영화 수: 20\n"
     ]
    }
   ],
   "source": [
    "if movie_ranking.status_code==200:\n",
    "    print(\"영화 정보를 출력합니다.\")\n",
    "    soup=BeautifulSoup(movie_ranking.content, 'html.parser')\n",
    "    title_list=soup.select(\".movieBox-list .movie-title a\")\n",
    "    image_list=soup.select(\".movieBox-list .movieBox-item img\")\n",
    "    print(f'수집한 영화 수: {len(title_list)}')"
   ]
  },
  {
   "cell_type": "code",
   "execution_count": null,
   "id": "6e268fb2",
   "metadata": {},
   "outputs": [
    {
     "name": "stdout",
     "output_type": "stream",
     "text": [
      "좀비딸\n",
      "F1 더 무비\n",
      "전지적 독자 시점\n",
      "킹 오브 킹스\n",
      "판타스틱 4: 새로운 출발\n",
      "악마가 이사왔다\n",
      "명탐정 코난: 척안의 잔상\n",
      "발레리나\n",
      "배드 가이즈 2\n",
      "베베핀 극장판: 사라진 베베핀과 핑크퐁 대모험\n",
      "쥬라기 월드: 새로운 시작\n",
      "노이즈\n",
      "콘스탄틴\n",
      "극장판 도라에몽: 진구의 그림이야기\n",
      "꼬마마법사 주니토니\n",
      "고고다이노 극장판: 게코도마뱀의 꿈\n",
      "슈퍼맨\n",
      "미세리코르디아\n",
      "강령: 귀신놀이\n",
      "추적\n",
      "페이지에 연결할 수 없습니다.\n"
     ]
    }
   ],
   "source": [
    "for title, image in zip(title_list, image_list):\n",
    "        image_src = image.get('src') #해당 영화 포스터 이미지 주소(src 속성값) 추출\n",
    "        image_response = requests.get(\"https://www.moviechart.co.kr\" + image_src) #이미지 파일 다운로드\n",
    "        img = Image.open(BytesIO(image_response.content)) #다운로드한 이미지 바이트 데이터를 메모리상 파일 객체(ByteslO)로 변환\n",
    "        image_filename = re.sub(pattern, '', title.text) #영화 제목에서 이상한 문자 정규표현식으로 삭제\n",
    "        img.save(os.path.join(image_dir, image_filename + \".png\"))\n",
    "        print(title.text, )\n",
    "else:\n",
    "    print(\"페이지에 연결할 수 없습니다.\")"
   ]
  }
 ],
 "metadata": {
  "kernelspec": {
   "display_name": "webcrawl_env",
   "language": "python",
   "name": "python3"
  },
  "language_info": {
   "codemirror_mode": {
    "name": "ipython",
    "version": 3
   },
   "file_extension": ".py",
   "mimetype": "text/x-python",
   "name": "python",
   "nbconvert_exporter": "python",
   "pygments_lexer": "ipython3",
   "version": "3.10.18"
  }
 },
 "nbformat": 4,
 "nbformat_minor": 5
}
