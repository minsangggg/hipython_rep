{
 "cells": [
  {
   "cell_type": "markdown",
   "id": "e471ac97-78d6-4d58-9a31-4e21fcd6e309",
   "metadata": {},
   "source": [
    "#함수\n",
    "\n",
    "-인자=매개변수,입력,파라미터  \n",
    "-반환값=리턴값,결과값  \n",
    "-함수이름  \n",
    "\n",
    "-함수 정의>호출  "
   ]
  },
  {
   "cell_type": "code",
   "execution_count": 7,
   "id": "80031772-6c4b-4227-bb3b-b92e2c12fd06",
   "metadata": {},
   "outputs": [
    {
     "name": "stdout",
     "output_type": "stream",
     "text": [
      "my first function\n",
      "hello\n",
      "good job\n"
     ]
    },
    {
     "data": {
      "text/plain": [
       "'hello'"
      ]
     },
     "execution_count": 7,
     "metadata": {},
     "output_type": "execute_result"
    }
   ],
   "source": [
    "#리턴이 있는 경우\n",
    "def my_func():\n",
    "    print('my first function')\n",
    "    print('hello')\n",
    "    print('good job')\n",
    "    return 'hello'\n",
    "my_func()"
   ]
  },
  {
   "cell_type": "code",
   "execution_count": 2,
   "id": "c141e871-fdca-4f22-bbca-2d4e2c3525af",
   "metadata": {},
   "outputs": [
    {
     "data": {
      "text/plain": [
       "function"
      ]
     },
     "execution_count": 2,
     "metadata": {},
     "output_type": "execute_result"
    }
   ],
   "source": [
    "type(my_func)"
   ]
  },
  {
   "cell_type": "code",
   "execution_count": 54,
   "id": "778365af-aa0d-471e-afcb-a7ec594e0b04",
   "metadata": {},
   "outputs": [
    {
     "name": "stdout",
     "output_type": "stream",
     "text": [
      "hello\n"
     ]
    }
   ],
   "source": [
    "print(my_func_var)"
   ]
  },
  {
   "cell_type": "code",
   "execution_count": 55,
   "id": "a7b2b69a-fb42-4dba-944c-0395d7d22e66",
   "metadata": {},
   "outputs": [
    {
     "name": "stdout",
     "output_type": "stream",
     "text": [
      "my first function\n",
      "hello\n",
      "good job\n"
     ]
    },
    {
     "data": {
      "text/plain": [
       "'hello'"
      ]
     },
     "execution_count": 55,
     "metadata": {},
     "output_type": "execute_result"
    }
   ],
   "source": [
    "my_func_var2=my_func()\n",
    "my_func_var2"
   ]
  },
  {
   "cell_type": "code",
   "execution_count": 56,
   "id": "863ce4f5-ffb4-4963-b3e2-a8c6f7d25edb",
   "metadata": {},
   "outputs": [
    {
     "data": {
      "text/plain": [
       "'hello'"
      ]
     },
     "execution_count": 56,
     "metadata": {},
     "output_type": "execute_result"
    }
   ],
   "source": [
    "my_func_var2"
   ]
  },
  {
   "cell_type": "code",
   "execution_count": 10,
   "id": "91174bc7-45d8-468d-bfab-a16be05180ab",
   "metadata": {},
   "outputs": [
    {
     "name": "stdout",
     "output_type": "stream",
     "text": [
      "my first function\n",
      "hello\n",
      "good job\n"
     ]
    },
    {
     "data": {
      "text/plain": [
       "'hello'"
      ]
     },
     "execution_count": 10,
     "metadata": {},
     "output_type": "execute_result"
    }
   ],
   "source": [
    "my_func()"
   ]
  },
  {
   "cell_type": "markdown",
   "id": "f9eebd78-2494-422b-a5ff-ef2250835093",
   "metadata": {},
   "source": [
    "#입력값이 있는 함수"
   ]
  },
  {
   "cell_type": "code",
   "execution_count": 13,
   "id": "16c1b474-3364-49f2-b177-0b709d20b8bf",
   "metadata": {},
   "outputs": [],
   "source": [
    "def my_calc(x):\n",
    "    print(f'{x} 을(를) 계산합니다.')"
   ]
  },
  {
   "cell_type": "code",
   "execution_count": 14,
   "id": "90a115c9-69eb-4edf-94c1-e8f650edfb3f",
   "metadata": {},
   "outputs": [
    {
     "name": "stdout",
     "output_type": "stream",
     "text": [
      "10 을(를) 계산합니다.\n"
     ]
    }
   ],
   "source": [
    "my_calc(10)"
   ]
  },
  {
   "cell_type": "code",
   "execution_count": 16,
   "id": "584c10cb-2a86-4761-bca5-5c04c1d75bb7",
   "metadata": {},
   "outputs": [],
   "source": [
    "def my_calc1(x):\n",
    "    print(f'{x} 을(를) 계산합니다.')\n",
    "    z=x*20\n",
    "    return z"
   ]
  },
  {
   "cell_type": "code",
   "execution_count": 18,
   "id": "d787ab18-d95d-4824-8595-3d5ada7db653",
   "metadata": {},
   "outputs": [
    {
     "name": "stdout",
     "output_type": "stream",
     "text": [
      "10 을(를) 계산합니다.\n",
      "200\n"
     ]
    }
   ],
   "source": [
    "result=my_calc1(10)\n",
    "print(result)"
   ]
  },
  {
   "cell_type": "code",
   "execution_count": 20,
   "id": "8701269a-9ec1-4172-9c92-80d1d23d7805",
   "metadata": {},
   "outputs": [],
   "source": [
    "def my_calc2(x,y):\n",
    "    print(f'{x}와 {y}을(를) 계산합니다.')\n",
    "    add_result=x+y\n",
    "    mul_result=x*y\n",
    "    return add_result, mul_result"
   ]
  },
  {
   "cell_type": "code",
   "execution_count": 21,
   "id": "1f6c21d7-dd96-4e4b-84fc-1300c9cdbb59",
   "metadata": {},
   "outputs": [
    {
     "name": "stdout",
     "output_type": "stream",
     "text": [
      "10와 20을(를) 계산합니다.\n"
     ]
    },
    {
     "data": {
      "text/plain": [
       "(30, 200)"
      ]
     },
     "execution_count": 21,
     "metadata": {},
     "output_type": "execute_result"
    }
   ],
   "source": [
    "my_calc2(10,20)"
   ]
  },
  {
   "cell_type": "code",
   "execution_count": null,
   "id": "4b5c6db1-de79-479a-896c-f4a905624a98",
   "metadata": {},
   "outputs": [],
   "source": []
  },
  {
   "cell_type": "code",
   "execution_count": 60,
   "id": "d6553ac9-6392-4286-b28c-a739bfc784e7",
   "metadata": {},
   "outputs": [
    {
     "name": "stdout",
     "output_type": "stream",
     "text": [
      "10와 20을(를) 계산합니다.\n"
     ]
    },
    {
     "data": {
      "text/plain": [
       "30"
      ]
     },
     "execution_count": 60,
     "metadata": {},
     "output_type": "execute_result"
    }
   ],
   "source": [
    "func_result, f2=my_calc2(10,20)\n",
    "func_result"
   ]
  },
  {
   "cell_type": "code",
   "execution_count": 62,
   "id": "137ba016-8431-4fa3-9d47-154de846a741",
   "metadata": {},
   "outputs": [
    {
     "name": "stdout",
     "output_type": "stream",
     "text": [
      "10와 20을(를) 계산합니다.\n"
     ]
    },
    {
     "data": {
      "text/plain": [
       "30"
      ]
     },
     "execution_count": 62,
     "metadata": {},
     "output_type": "execute_result"
    }
   ],
   "source": [
    "func_result10, f2 = my_calc2(10,20) #unpacking\n",
    "func_result10"
   ]
  },
  {
   "cell_type": "code",
   "execution_count": 24,
   "id": "eecde932-16d2-43f9-883b-3a918202e59b",
   "metadata": {},
   "outputs": [],
   "source": [
    "def my_calc3(a,lst1):\n",
    "    a +=1\n",
    "    lst1.append(a)\n",
    "    return a"
   ]
  },
  {
   "cell_type": "code",
   "execution_count": 26,
   "id": "65bdfe2e-28b0-4b4d-b18a-ac9e98ef919a",
   "metadata": {},
   "outputs": [
    {
     "name": "stdout",
     "output_type": "stream",
     "text": [
      "before:10,[1, 2, '12']\n",
      "after:10,[1, 2, '12', 11]\n"
     ]
    }
   ],
   "source": [
    "num=10\n",
    "lst_num=[1,2,'12']\n",
    "\n",
    "print(f'before:{num},{lst_num}')\n",
    "\n",
    "my_calc3(num,lst_num)\n",
    "print(f'after:{num},{lst_num}')"
   ]
  },
  {
   "cell_type": "code",
   "execution_count": 63,
   "id": "89a90efc-7b27-460a-84c2-b2e4b0b47473",
   "metadata": {},
   "outputs": [
    {
     "data": {
      "text/plain": [
       "11"
      ]
     },
     "execution_count": 63,
     "metadata": {},
     "output_type": "execute_result"
    }
   ],
   "source": [
    "my_calc3(a=num, lst1=lst_num)"
   ]
  },
  {
   "cell_type": "code",
   "execution_count": 64,
   "id": "a215c407-1e7f-42f3-a329-46c93a11237e",
   "metadata": {},
   "outputs": [
    {
     "data": {
      "text/plain": [
       "11"
      ]
     },
     "execution_count": 64,
     "metadata": {},
     "output_type": "execute_result"
    }
   ],
   "source": [
    "my_calc3(lst1=lst_num, a=num, )"
   ]
  },
  {
   "cell_type": "code",
   "execution_count": 34,
   "id": "0456fe23-9ff6-4cf2-9d2e-4ccc7574ad87",
   "metadata": {},
   "outputs": [
    {
     "name": "stdout",
     "output_type": "stream",
     "text": [
      "hello,minsu\n"
     ]
    }
   ],
   "source": [
    "def greeting(name,greeting='hi'):\n",
    "    print(f'{greeting},{name}')\n",
    "\n",
    "greeting('minsu','hello')"
   ]
  },
  {
   "cell_type": "code",
   "execution_count": 37,
   "id": "9f8a3205-4f66-46d2-a507-816e41f47647",
   "metadata": {},
   "outputs": [
    {
     "name": "stdout",
     "output_type": "stream",
     "text": [
      "hi,alice\n"
     ]
    }
   ],
   "source": [
    "greeting('alice','hi')"
   ]
  },
  {
   "cell_type": "code",
   "execution_count": 32,
   "id": "48a25f3a-9937-4fd0-859a-4b1267370290",
   "metadata": {},
   "outputs": [
    {
     "name": "stdout",
     "output_type": "stream",
     "text": [
      "hello,bob\n"
     ]
    }
   ],
   "source": [
    "greeting('bob')"
   ]
  },
  {
   "cell_type": "code",
   "execution_count": 66,
   "id": "54a40785-a6fd-403c-9712-4c5aa83cd2b9",
   "metadata": {},
   "outputs": [
    {
     "data": {
      "text/plain": [
       "15"
      ]
     },
     "execution_count": 66,
     "metadata": {},
     "output_type": "execute_result"
    }
   ],
   "source": [
    "#가변인자\n",
    "def sum_all( *args ):\n",
    "    return sum(args)\n",
    "\n",
    "sum_all(1,2,3,4,5)"
   ]
  },
  {
   "cell_type": "code",
   "execution_count": 67,
   "id": "2d57ef28-5b75-4af6-9d81-cc4f0cd1e8f1",
   "metadata": {},
   "outputs": [
    {
     "name": "stdout",
     "output_type": "stream",
     "text": [
      "(3, 4, 5)\n"
     ]
    },
    {
     "data": {
      "text/plain": [
       "15"
      ]
     },
     "execution_count": 67,
     "metadata": {},
     "output_type": "execute_result"
    }
   ],
   "source": [
    "#def sum_all( arg1, *args , arg2):\n",
    "def sum_all( arg1, arg2, *args):\n",
    "    print(args)\n",
    "    result = arg1+arg2+sum(args)\n",
    "    return result\n",
    "sum_all(1,2,3,4,5)"
   ]
  },
  {
   "cell_type": "code",
   "execution_count": 68,
   "id": "7c684211-5542-4f5a-ac03-4376b049f1f3",
   "metadata": {},
   "outputs": [
    {
     "name": "stdout",
     "output_type": "stream",
     "text": [
      "name, hong\n",
      "age, 20\n",
      "city, seoul\n",
      "nick_name, bob\n"
     ]
    }
   ],
   "source": [
    "## **kargs\n",
    "def print_info(**kwargs):\n",
    "    for k,v in kwargs.items():\n",
    "        print(f'{k}, {v}')\n",
    "print_info( name='hong', age=20, city = 'seoul', nick_name='bob' )"
   ]
  },
  {
   "cell_type": "markdown",
   "id": "db8667e1-b140-4f81-b9bf-2c67bbab0e93",
   "metadata": {},
   "source": [
    "##요일 구하는 함수 정의  "
   ]
  },
  {
   "cell_type": "code",
   "execution_count": 69,
   "id": "95b9c3ea-cbc1-4051-8b25-38607680109c",
   "metadata": {},
   "outputs": [],
   "source": [
    "year=2025\n",
    "month=6\n",
    "day=5"
   ]
  },
  {
   "cell_type": "code",
   "execution_count": 70,
   "id": "9807ce3c-7f2b-4711-8e6a-7a9e2b59308a",
   "metadata": {},
   "outputs": [
    {
     "name": "stdout",
     "output_type": "stream",
     "text": [
      "739251\n",
      "739402\n",
      "739407\n",
      "목요일\n"
     ]
    }
   ],
   "source": [
    "# 날짜 - 연,월,일  year=2025 month=06, day=05\n",
    "\n",
    "total_days = 0\n",
    "#년도일수 입력년도-1 * 365\n",
    "#윤년인지 체크\n",
    "#2월이 29일\n",
    "\n",
    "for i in range(1,year):\n",
    "    #윤년: 400으로 나누어 나머지가 0, 4로 나누어 나머지가 0\n",
    "    #평년: 100으로 나누어 나머지가 0\n",
    "\n",
    "    if i%400 == 0:\n",
    "        total_days += 366\n",
    "    elif i%100 == 0:\n",
    "        total_days += 365\n",
    "    elif i%4 == 0:\n",
    "        total_days += 366\n",
    "    else:\n",
    "        total_days += 365\n",
    "\n",
    "print(total_days)\n",
    "#월일수 입력한 월 -1 * 30\n",
    "#월별 일수\n",
    "month_days = [0,31,28,31,30,31,30,31,31,30,31,30,31]\n",
    "for m in range(1,month):\n",
    "    total_days += month_days[m]\n",
    "\n",
    "#올해가 윤년인지\n",
    "if month>=3 :\n",
    "    if year%400 == 0:\n",
    "        total_days += 1\n",
    "    elif year%100 == 0:\n",
    "        total_days += 0\n",
    "    elif year%4 == 0:\n",
    "        total_days += 1\n",
    "    else:\n",
    "        total_days += 0\n",
    "        \n",
    "print(total_days)\n",
    "\n",
    "#일수 입력한 일\n",
    "total_days += day\n",
    "\n",
    "print(total_days)\n",
    "\n",
    "#요일정하기\n",
    "remain_days = total_days % 7\n",
    "\n",
    "if remain_days == 1:\n",
    "    print('월요일')\n",
    "elif remain_days == 2:\n",
    "    print('화요일')\n",
    "elif remain_days == 3:\n",
    "    print('수요일')\n",
    "elif remain_days == 4:\n",
    "    print('목요일')\n",
    "elif remain_days == 5:\n",
    "    print('금요일')\n",
    "elif remain_days == 6:\n",
    "    print('토요일')\n",
    "else:\n",
    "    print('일요일')"
   ]
  },
  {
   "cell_type": "code",
   "execution_count": 72,
   "id": "a0aa5d87-0fbf-41be-a4c8-0debfdb9b311",
   "metadata": {},
   "outputs": [],
   "source": [
    "def 윤년체크(year):\n",
    "    #윤년: 400으로 나누어 나머지가 0, 4로 나누어 나머지가 0\n",
    "    #평년: 100으로 나누어 나머지가 0\n",
    "   \n",
    "    if year%400 == 0:\n",
    "        return True\n",
    "    elif year%100 == 0:\n",
    "        return False\n",
    "    elif year%4 == 0:\n",
    "        return True\n",
    "    else:\n",
    "        return False"
   ]
  },
  {
   "cell_type": "code",
   "execution_count": 73,
   "id": "327c78bb-ace9-4983-a395-4497522a00d8",
   "metadata": {},
   "outputs": [
    {
     "data": {
      "text/plain": [
       "True"
      ]
     },
     "execution_count": 73,
     "metadata": {},
     "output_type": "execute_result"
    }
   ],
   "source": [
    "윤년체크(2028)"
   ]
  },
  {
   "cell_type": "code",
   "execution_count": 74,
   "id": "e83eac38-3883-4ee5-a3f8-50912718581f",
   "metadata": {},
   "outputs": [],
   "source": [
    "def 요일찾기(year, month, day):\n",
    "    week_day_name = '일요일'\n",
    "    total_days = 0\n",
    "    \n",
    "    for i in range(1,year):\n",
    "\n",
    "        if 윤년체크(i):\n",
    "            total_days += 366\n",
    "        else :\n",
    "            total_days += 365\n",
    "        \n",
    "    #print(total_days)\n",
    "    \n",
    "    #월일수 입력한 월 -1 * 30\n",
    "    #월별 일수\n",
    "    month_days = [0,31,28,31,30,31,30,31,31,30,31,30,31]\n",
    "    for m in range(1,month):\n",
    "        total_days += month_days[m]\n",
    "    \n",
    "    #올해가 윤년인지\n",
    "    if month>=3 :\n",
    "        if 윤년체크(year):\n",
    "            total_days += 1\n",
    "            \n",
    "    #print(total_days)\n",
    "    \n",
    "    #일수 입력한 일\n",
    "    total_days += day\n",
    "    \n",
    "    #print(total_days)\n",
    "    \n",
    "    #요일정하기\n",
    "    remain_days = total_days % 7\n",
    "    \n",
    "    day_names = ['일요일','월요일','화요일','수요일','목요일','금요일','토요일']\n",
    "    week_day_name = day_names[remain_days]\n",
    "    \n",
    "        \n",
    "    return week_day_name"
   ]
  },
  {
   "cell_type": "code",
   "execution_count": 75,
   "id": "3b1cc2da-a0ee-4187-a387-fc996706db8c",
   "metadata": {},
   "outputs": [
    {
     "name": "stdout",
     "output_type": "stream",
     "text": [
      "입력하신 날짜는 수요일입니다.\n"
     ]
    }
   ],
   "source": [
    "year=2025\n",
    "month=6\n",
    "day=4\n",
    "\n",
    "day_name = 요일찾기(year, month, day)\n",
    "print(f'입력하신 날짜는 {day_name}입니다.')"
   ]
  },
  {
   "cell_type": "code",
   "execution_count": 49,
   "id": "4be50fe0-4dd3-4704-95be-72f85d46d8c4",
   "metadata": {},
   "outputs": [],
   "source": [
    "#성적처리 시스템\n",
    "\n",
    "# calc_total()\n",
    "# calc_everage()\n",
    "# calc_order()\n",
    "\n",
    "# print_student(students)\n",
    "# print_class()#반평균, 각 곽목별 평균 출력"
   ]
  },
  {
   "cell_type": "code",
   "execution_count": 83,
   "id": "34239711-e607-48a6-a3ce-1871614cb23f",
   "metadata": {},
   "outputs": [
    {
     "name": "stdout",
     "output_type": "stream",
     "text": [
      "이름\t국어\t영어\t수학\t총점\t평균\t석차\n",
      "철수\t90\t80\t70\t240\t80.0\t2\n",
      "영희\t100\t90\t95\t285\t95.0\t1\n",
      "민수\t85\t75\t80\t240\t80.0\t2\n",
      "\n",
      "[반 평균]\n",
      "국어: 91.67, 영어: 81.67, 수학: 81.67\n"
     ]
    }
   ],
   "source": [
    "# 학생 성적 데이터\n",
    "students = [\n",
    "    {'name': '철수', 'kor': 90, 'eng': 80, 'math': 70},\n",
    "    {'name': '영희', 'kor': 100, 'eng': 90, 'math': 95},\n",
    "    {'name': '민수', 'kor': 85, 'eng': 75, 'math': 80}\n",
    "]\n",
    "\n",
    "# 총점 계산\n",
    "def calc_total():\n",
    "    for student in students:\n",
    "        student['total'] = student['kor'] + student['eng'] + student['math']\n",
    "\n",
    "# 평균 계산\n",
    "def calc_average():\n",
    "    for student in students:\n",
    "        student['average'] = student['total'] / 3\n",
    "\n",
    "# 석차 계산\n",
    "def calc_order():\n",
    "    for student in students:\n",
    "        student['rank'] = 1  # 초기 석차\n",
    "        for other in students:\n",
    "            if student['average'] < other['average']:\n",
    "                student['rank'] += 1\n",
    "\n",
    "# 각 학생 정보 출력\n",
    "def print_student(students):\n",
    "    print(\"이름\\t국어\\t영어\\t수학\\t총점\\t평균\\t석차\")\n",
    "    for s in students:\n",
    "        print(f\"{s['name']}\\t{s['kor']}\\t{s['eng']}\\t{s['math']}\\t{s['total']}\\t{s['average']:}\\t{s['rank']}\")\n",
    "\n",
    "# 반 평균, 과목별 평균 출력\n",
    "def print_class():\n",
    "    total_kor = total_eng = total_math = 0\n",
    "    for s in students:\n",
    "        total_kor += s['kor']\n",
    "        total_eng += s['eng']\n",
    "        total_math += s['math']\n",
    "    count = len(students)\n",
    "    print(\"\\n[반 평균]\")\n",
    "    print(f\"국어: {total_kor / count:.2f}, 영어: {total_eng / count:.2f}, 수학: {total_math / count:.2f}\")\n",
    "\n",
    "# 함수 실행\n",
    "calc_total()\n",
    "calc_average()\n",
    "calc_order()\n",
    "\n",
    "print_student(students)\n",
    "print_class()"
   ]
  }
 ],
 "metadata": {
  "kernelspec": {
   "display_name": "Python 3(myenv)",
   "language": "python",
   "name": "myenv"
  },
  "language_info": {
   "codemirror_mode": {
    "name": "ipython",
    "version": 3
   },
   "file_extension": ".py",
   "mimetype": "text/x-python",
   "name": "python",
   "nbconvert_exporter": "python",
   "pygments_lexer": "ipython3",
   "version": "3.10.16"
  }
 },
 "nbformat": 4,
 "nbformat_minor": 5
}
