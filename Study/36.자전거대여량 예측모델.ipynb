{
 "cells": [
  {
   "cell_type": "markdown",
   "id": "1053c13a",
   "metadata": {},
   "source": [
    "## 자전거대여량 예측모델"
   ]
  },
  {
   "cell_type": "markdown",
   "id": "261ce34d",
   "metadata": {},
   "source": [
    "#### 0. 라이브러리 "
   ]
  },
  {
   "cell_type": "code",
   "execution_count": 1,
   "id": "9aa6c273",
   "metadata": {},
   "outputs": [
    {
     "name": "stderr",
     "output_type": "stream",
     "text": [
      "c:\\Users\\Admin\\miniconda3\\envs\\hi_ml_env\\lib\\site-packages\\xgboost\\compat.py:105: UserWarning: pkg_resources is deprecated as an API. See https://setuptools.pypa.io/en/latest/pkg_resources.html. The pkg_resources package is slated for removal as early as 2025-11-30. Refrain from using this package or pin to Setuptools<81.\n",
      "  import pkg_resources\n"
     ]
    }
   ],
   "source": [
    "# 데이터 처리 및 분석\n",
    "import numpy as np\n",
    "import pandas as pd\n",
    "\n",
    "# 시각화\n",
    "import matplotlib.pyplot as plt\n",
    "import seaborn as sns\n",
    "\n",
    "# 전처리 및 피처 엔지니어링\n",
    "from sklearn.model_selection import train_test_split, GridSearchCV\n",
    "from sklearn.preprocessing import StandardScaler, OneHotEncoder, LabelEncoder\n",
    "\n",
    "# 머신러닝 모델\n",
    "from sklearn.linear_model import LinearRegression, Ridge, Lasso\n",
    "from sklearn.ensemble import RandomForestRegressor, GradientBoostingRegressor\n",
    "from xgboost import XGBRegressor\n",
    "from lightgbm import LGBMRegressor\n",
    "\n",
    "# 평가 지표\n",
    "from sklearn.metrics import mean_squared_log_error, mean_squared_error, r2_score\n",
    "\n",
    "# 기타\n",
    "import warnings\n",
    "warnings.filterwarnings(\"ignore\")\n",
    "\n",
    "# 한글 시각화 (Windows 기준)\n",
    "plt.rcParams['font.family'] = 'Malgun Gothic'"
   ]
  },
  {
   "cell_type": "markdown",
   "id": "7a433384",
   "metadata": {},
   "source": [
    "### 1. 데이터 불러오기"
   ]
  },
  {
   "cell_type": "code",
   "execution_count": 2,
   "id": "4ef85004",
   "metadata": {},
   "outputs": [
    {
     "data": {
      "text/html": [
       "<div>\n",
       "<style scoped>\n",
       "    .dataframe tbody tr th:only-of-type {\n",
       "        vertical-align: middle;\n",
       "    }\n",
       "\n",
       "    .dataframe tbody tr th {\n",
       "        vertical-align: top;\n",
       "    }\n",
       "\n",
       "    .dataframe thead th {\n",
       "        text-align: right;\n",
       "    }\n",
       "</style>\n",
       "<table border=\"1\" class=\"dataframe\">\n",
       "  <thead>\n",
       "    <tr style=\"text-align: right;\">\n",
       "      <th></th>\n",
       "      <th>datetime</th>\n",
       "      <th>season</th>\n",
       "      <th>holiday</th>\n",
       "      <th>workingday</th>\n",
       "      <th>weather</th>\n",
       "      <th>temp</th>\n",
       "      <th>atemp</th>\n",
       "      <th>humidity</th>\n",
       "      <th>windspeed</th>\n",
       "    </tr>\n",
       "  </thead>\n",
       "  <tbody>\n",
       "    <tr>\n",
       "      <th>0</th>\n",
       "      <td>2011-01-20 00:00:00</td>\n",
       "      <td>1</td>\n",
       "      <td>0</td>\n",
       "      <td>1</td>\n",
       "      <td>1</td>\n",
       "      <td>10.66</td>\n",
       "      <td>11.365</td>\n",
       "      <td>56</td>\n",
       "      <td>26.0027</td>\n",
       "    </tr>\n",
       "    <tr>\n",
       "      <th>1</th>\n",
       "      <td>2011-01-20 01:00:00</td>\n",
       "      <td>1</td>\n",
       "      <td>0</td>\n",
       "      <td>1</td>\n",
       "      <td>1</td>\n",
       "      <td>10.66</td>\n",
       "      <td>13.635</td>\n",
       "      <td>56</td>\n",
       "      <td>0.0000</td>\n",
       "    </tr>\n",
       "    <tr>\n",
       "      <th>2</th>\n",
       "      <td>2011-01-20 02:00:00</td>\n",
       "      <td>1</td>\n",
       "      <td>0</td>\n",
       "      <td>1</td>\n",
       "      <td>1</td>\n",
       "      <td>10.66</td>\n",
       "      <td>13.635</td>\n",
       "      <td>56</td>\n",
       "      <td>0.0000</td>\n",
       "    </tr>\n",
       "    <tr>\n",
       "      <th>3</th>\n",
       "      <td>2011-01-20 03:00:00</td>\n",
       "      <td>1</td>\n",
       "      <td>0</td>\n",
       "      <td>1</td>\n",
       "      <td>1</td>\n",
       "      <td>10.66</td>\n",
       "      <td>12.880</td>\n",
       "      <td>56</td>\n",
       "      <td>11.0014</td>\n",
       "    </tr>\n",
       "    <tr>\n",
       "      <th>4</th>\n",
       "      <td>2011-01-20 04:00:00</td>\n",
       "      <td>1</td>\n",
       "      <td>0</td>\n",
       "      <td>1</td>\n",
       "      <td>1</td>\n",
       "      <td>10.66</td>\n",
       "      <td>12.880</td>\n",
       "      <td>56</td>\n",
       "      <td>11.0014</td>\n",
       "    </tr>\n",
       "    <tr>\n",
       "      <th>5</th>\n",
       "      <td>2011-01-20 05:00:00</td>\n",
       "      <td>1</td>\n",
       "      <td>0</td>\n",
       "      <td>1</td>\n",
       "      <td>1</td>\n",
       "      <td>9.84</td>\n",
       "      <td>11.365</td>\n",
       "      <td>60</td>\n",
       "      <td>15.0013</td>\n",
       "    </tr>\n",
       "    <tr>\n",
       "      <th>6</th>\n",
       "      <td>2011-01-20 06:00:00</td>\n",
       "      <td>1</td>\n",
       "      <td>0</td>\n",
       "      <td>1</td>\n",
       "      <td>1</td>\n",
       "      <td>9.02</td>\n",
       "      <td>10.605</td>\n",
       "      <td>60</td>\n",
       "      <td>15.0013</td>\n",
       "    </tr>\n",
       "    <tr>\n",
       "      <th>7</th>\n",
       "      <td>2011-01-20 07:00:00</td>\n",
       "      <td>1</td>\n",
       "      <td>0</td>\n",
       "      <td>1</td>\n",
       "      <td>1</td>\n",
       "      <td>9.02</td>\n",
       "      <td>10.605</td>\n",
       "      <td>55</td>\n",
       "      <td>15.0013</td>\n",
       "    </tr>\n",
       "    <tr>\n",
       "      <th>8</th>\n",
       "      <td>2011-01-20 08:00:00</td>\n",
       "      <td>1</td>\n",
       "      <td>0</td>\n",
       "      <td>1</td>\n",
       "      <td>1</td>\n",
       "      <td>9.02</td>\n",
       "      <td>10.605</td>\n",
       "      <td>55</td>\n",
       "      <td>19.0012</td>\n",
       "    </tr>\n",
       "    <tr>\n",
       "      <th>9</th>\n",
       "      <td>2011-01-20 09:00:00</td>\n",
       "      <td>1</td>\n",
       "      <td>0</td>\n",
       "      <td>1</td>\n",
       "      <td>2</td>\n",
       "      <td>9.84</td>\n",
       "      <td>11.365</td>\n",
       "      <td>52</td>\n",
       "      <td>15.0013</td>\n",
       "    </tr>\n",
       "  </tbody>\n",
       "</table>\n",
       "</div>"
      ],
      "text/plain": [
       "              datetime  season  holiday  workingday  weather   temp   atemp  \\\n",
       "0  2011-01-20 00:00:00       1        0           1        1  10.66  11.365   \n",
       "1  2011-01-20 01:00:00       1        0           1        1  10.66  13.635   \n",
       "2  2011-01-20 02:00:00       1        0           1        1  10.66  13.635   \n",
       "3  2011-01-20 03:00:00       1        0           1        1  10.66  12.880   \n",
       "4  2011-01-20 04:00:00       1        0           1        1  10.66  12.880   \n",
       "5  2011-01-20 05:00:00       1        0           1        1   9.84  11.365   \n",
       "6  2011-01-20 06:00:00       1        0           1        1   9.02  10.605   \n",
       "7  2011-01-20 07:00:00       1        0           1        1   9.02  10.605   \n",
       "8  2011-01-20 08:00:00       1        0           1        1   9.02  10.605   \n",
       "9  2011-01-20 09:00:00       1        0           1        2   9.84  11.365   \n",
       "\n",
       "   humidity  windspeed  \n",
       "0        56    26.0027  \n",
       "1        56     0.0000  \n",
       "2        56     0.0000  \n",
       "3        56    11.0014  \n",
       "4        56    11.0014  \n",
       "5        60    15.0013  \n",
       "6        60    15.0013  \n",
       "7        55    15.0013  \n",
       "8        55    19.0012  \n",
       "9        52    15.0013  "
      ]
     },
     "execution_count": 2,
     "metadata": {},
     "output_type": "execute_result"
    }
   ],
   "source": [
    "train_df=pd.read_csv('./data/train.csv')\n",
    "test_df=pd.read_csv('./data/test.csv')\n",
    "\n",
    "train_df.head(10)\n",
    "test_df.head(10)\n",
    "\n",
    "\n"
   ]
  },
  {
   "cell_type": "code",
   "execution_count": 3,
   "id": "0a61de66",
   "metadata": {},
   "outputs": [
    {
     "data": {
      "text/plain": [
       "['datetime',\n",
       " 'season',\n",
       " 'holiday',\n",
       " 'workingday',\n",
       " 'weather',\n",
       " 'temp',\n",
       " 'atemp',\n",
       " 'humidity',\n",
       " 'windspeed',\n",
       " 'casual',\n",
       " 'registered',\n",
       " 'count']"
      ]
     },
     "execution_count": 3,
     "metadata": {},
     "output_type": "execute_result"
    }
   ],
   "source": [
    "train_df.columns.tolist()"
   ]
  },
  {
   "cell_type": "code",
   "execution_count": 4,
   "id": "145983b0",
   "metadata": {},
   "outputs": [
    {
     "data": {
      "text/plain": [
       "['datetime',\n",
       " 'season',\n",
       " 'holiday',\n",
       " 'workingday',\n",
       " 'weather',\n",
       " 'temp',\n",
       " 'atemp',\n",
       " 'humidity',\n",
       " 'windspeed']"
      ]
     },
     "execution_count": 4,
     "metadata": {},
     "output_type": "execute_result"
    }
   ],
   "source": [
    "test_df.columns.tolist()"
   ]
  },
  {
   "cell_type": "code",
   "execution_count": 5,
   "id": "a9a77757",
   "metadata": {},
   "outputs": [
    {
     "name": "stdout",
     "output_type": "stream",
     "text": [
      "<class 'pandas.core.frame.DataFrame'>\n",
      "RangeIndex: 10886 entries, 0 to 10885\n",
      "Data columns (total 12 columns):\n",
      " #   Column      Non-Null Count  Dtype  \n",
      "---  ------      --------------  -----  \n",
      " 0   datetime    10886 non-null  object \n",
      " 1   season      10886 non-null  int64  \n",
      " 2   holiday     10886 non-null  int64  \n",
      " 3   workingday  10886 non-null  int64  \n",
      " 4   weather     10886 non-null  int64  \n",
      " 5   temp        10886 non-null  float64\n",
      " 6   atemp       10886 non-null  float64\n",
      " 7   humidity    10886 non-null  int64  \n",
      " 8   windspeed   10886 non-null  float64\n",
      " 9   casual      10886 non-null  int64  \n",
      " 10  registered  10886 non-null  int64  \n",
      " 11  count       10886 non-null  int64  \n",
      "dtypes: float64(3), int64(8), object(1)\n",
      "memory usage: 1020.7+ KB\n"
     ]
    }
   ],
   "source": [
    "train_df.info()"
   ]
  },
  {
   "cell_type": "code",
   "execution_count": 11,
   "id": "218f8667",
   "metadata": {},
   "outputs": [
    {
     "name": "stdout",
     "output_type": "stream",
     "text": [
      "<class 'pandas.core.frame.DataFrame'>\n",
      "RangeIndex: 6493 entries, 0 to 6492\n",
      "Data columns (total 9 columns):\n",
      " #   Column      Non-Null Count  Dtype  \n",
      "---  ------      --------------  -----  \n",
      " 0   datetime    6493 non-null   object \n",
      " 1   season      6493 non-null   int64  \n",
      " 2   holiday     6493 non-null   int64  \n",
      " 3   workingday  6493 non-null   int64  \n",
      " 4   weather     6493 non-null   int64  \n",
      " 5   temp        6493 non-null   float64\n",
      " 6   atemp       6493 non-null   float64\n",
      " 7   humidity    6493 non-null   int64  \n",
      " 8   windspeed   6493 non-null   float64\n",
      "dtypes: float64(3), int64(5), object(1)\n",
      "memory usage: 456.7+ KB\n"
     ]
    }
   ],
   "source": [
    "test_df.info()"
   ]
  },
  {
   "cell_type": "code",
   "execution_count": 12,
   "id": "899cc56e",
   "metadata": {},
   "outputs": [
    {
     "data": {
      "text/html": [
       "<div>\n",
       "<style scoped>\n",
       "    .dataframe tbody tr th:only-of-type {\n",
       "        vertical-align: middle;\n",
       "    }\n",
       "\n",
       "    .dataframe tbody tr th {\n",
       "        vertical-align: top;\n",
       "    }\n",
       "\n",
       "    .dataframe thead th {\n",
       "        text-align: right;\n",
       "    }\n",
       "</style>\n",
       "<table border=\"1\" class=\"dataframe\">\n",
       "  <thead>\n",
       "    <tr style=\"text-align: right;\">\n",
       "      <th></th>\n",
       "      <th>season</th>\n",
       "      <th>holiday</th>\n",
       "      <th>workingday</th>\n",
       "      <th>weather</th>\n",
       "      <th>temp</th>\n",
       "      <th>atemp</th>\n",
       "      <th>humidity</th>\n",
       "      <th>windspeed</th>\n",
       "      <th>casual</th>\n",
       "      <th>registered</th>\n",
       "      <th>count</th>\n",
       "    </tr>\n",
       "  </thead>\n",
       "  <tbody>\n",
       "    <tr>\n",
       "      <th>count</th>\n",
       "      <td>10886.000000</td>\n",
       "      <td>10886.000000</td>\n",
       "      <td>10886.000000</td>\n",
       "      <td>10886.000000</td>\n",
       "      <td>10886.00000</td>\n",
       "      <td>10886.000000</td>\n",
       "      <td>10886.000000</td>\n",
       "      <td>10886.000000</td>\n",
       "      <td>10886.000000</td>\n",
       "      <td>10886.000000</td>\n",
       "      <td>10886.000000</td>\n",
       "    </tr>\n",
       "    <tr>\n",
       "      <th>mean</th>\n",
       "      <td>2.506614</td>\n",
       "      <td>0.028569</td>\n",
       "      <td>0.680875</td>\n",
       "      <td>1.418427</td>\n",
       "      <td>20.23086</td>\n",
       "      <td>23.655084</td>\n",
       "      <td>61.886460</td>\n",
       "      <td>12.799395</td>\n",
       "      <td>36.021955</td>\n",
       "      <td>155.552177</td>\n",
       "      <td>191.574132</td>\n",
       "    </tr>\n",
       "    <tr>\n",
       "      <th>std</th>\n",
       "      <td>1.116174</td>\n",
       "      <td>0.166599</td>\n",
       "      <td>0.466159</td>\n",
       "      <td>0.633839</td>\n",
       "      <td>7.79159</td>\n",
       "      <td>8.474601</td>\n",
       "      <td>19.245033</td>\n",
       "      <td>8.164537</td>\n",
       "      <td>49.960477</td>\n",
       "      <td>151.039033</td>\n",
       "      <td>181.144454</td>\n",
       "    </tr>\n",
       "    <tr>\n",
       "      <th>min</th>\n",
       "      <td>1.000000</td>\n",
       "      <td>0.000000</td>\n",
       "      <td>0.000000</td>\n",
       "      <td>1.000000</td>\n",
       "      <td>0.82000</td>\n",
       "      <td>0.760000</td>\n",
       "      <td>0.000000</td>\n",
       "      <td>0.000000</td>\n",
       "      <td>0.000000</td>\n",
       "      <td>0.000000</td>\n",
       "      <td>1.000000</td>\n",
       "    </tr>\n",
       "    <tr>\n",
       "      <th>25%</th>\n",
       "      <td>2.000000</td>\n",
       "      <td>0.000000</td>\n",
       "      <td>0.000000</td>\n",
       "      <td>1.000000</td>\n",
       "      <td>13.94000</td>\n",
       "      <td>16.665000</td>\n",
       "      <td>47.000000</td>\n",
       "      <td>7.001500</td>\n",
       "      <td>4.000000</td>\n",
       "      <td>36.000000</td>\n",
       "      <td>42.000000</td>\n",
       "    </tr>\n",
       "    <tr>\n",
       "      <th>50%</th>\n",
       "      <td>3.000000</td>\n",
       "      <td>0.000000</td>\n",
       "      <td>1.000000</td>\n",
       "      <td>1.000000</td>\n",
       "      <td>20.50000</td>\n",
       "      <td>24.240000</td>\n",
       "      <td>62.000000</td>\n",
       "      <td>12.998000</td>\n",
       "      <td>17.000000</td>\n",
       "      <td>118.000000</td>\n",
       "      <td>145.000000</td>\n",
       "    </tr>\n",
       "    <tr>\n",
       "      <th>75%</th>\n",
       "      <td>4.000000</td>\n",
       "      <td>0.000000</td>\n",
       "      <td>1.000000</td>\n",
       "      <td>2.000000</td>\n",
       "      <td>26.24000</td>\n",
       "      <td>31.060000</td>\n",
       "      <td>77.000000</td>\n",
       "      <td>16.997900</td>\n",
       "      <td>49.000000</td>\n",
       "      <td>222.000000</td>\n",
       "      <td>284.000000</td>\n",
       "    </tr>\n",
       "    <tr>\n",
       "      <th>max</th>\n",
       "      <td>4.000000</td>\n",
       "      <td>1.000000</td>\n",
       "      <td>1.000000</td>\n",
       "      <td>4.000000</td>\n",
       "      <td>41.00000</td>\n",
       "      <td>45.455000</td>\n",
       "      <td>100.000000</td>\n",
       "      <td>56.996900</td>\n",
       "      <td>367.000000</td>\n",
       "      <td>886.000000</td>\n",
       "      <td>977.000000</td>\n",
       "    </tr>\n",
       "  </tbody>\n",
       "</table>\n",
       "</div>"
      ],
      "text/plain": [
       "             season       holiday    workingday       weather         temp  \\\n",
       "count  10886.000000  10886.000000  10886.000000  10886.000000  10886.00000   \n",
       "mean       2.506614      0.028569      0.680875      1.418427     20.23086   \n",
       "std        1.116174      0.166599      0.466159      0.633839      7.79159   \n",
       "min        1.000000      0.000000      0.000000      1.000000      0.82000   \n",
       "25%        2.000000      0.000000      0.000000      1.000000     13.94000   \n",
       "50%        3.000000      0.000000      1.000000      1.000000     20.50000   \n",
       "75%        4.000000      0.000000      1.000000      2.000000     26.24000   \n",
       "max        4.000000      1.000000      1.000000      4.000000     41.00000   \n",
       "\n",
       "              atemp      humidity     windspeed        casual    registered  \\\n",
       "count  10886.000000  10886.000000  10886.000000  10886.000000  10886.000000   \n",
       "mean      23.655084     61.886460     12.799395     36.021955    155.552177   \n",
       "std        8.474601     19.245033      8.164537     49.960477    151.039033   \n",
       "min        0.760000      0.000000      0.000000      0.000000      0.000000   \n",
       "25%       16.665000     47.000000      7.001500      4.000000     36.000000   \n",
       "50%       24.240000     62.000000     12.998000     17.000000    118.000000   \n",
       "75%       31.060000     77.000000     16.997900     49.000000    222.000000   \n",
       "max       45.455000    100.000000     56.996900    367.000000    886.000000   \n",
       "\n",
       "              count  \n",
       "count  10886.000000  \n",
       "mean     191.574132  \n",
       "std      181.144454  \n",
       "min        1.000000  \n",
       "25%       42.000000  \n",
       "50%      145.000000  \n",
       "75%      284.000000  \n",
       "max      977.000000  "
      ]
     },
     "execution_count": 12,
     "metadata": {},
     "output_type": "execute_result"
    }
   ],
   "source": [
    "train_df.describe()"
   ]
  },
  {
   "cell_type": "code",
   "execution_count": 13,
   "id": "adb6525f",
   "metadata": {},
   "outputs": [
    {
     "data": {
      "text/html": [
       "<div>\n",
       "<style scoped>\n",
       "    .dataframe tbody tr th:only-of-type {\n",
       "        vertical-align: middle;\n",
       "    }\n",
       "\n",
       "    .dataframe tbody tr th {\n",
       "        vertical-align: top;\n",
       "    }\n",
       "\n",
       "    .dataframe thead th {\n",
       "        text-align: right;\n",
       "    }\n",
       "</style>\n",
       "<table border=\"1\" class=\"dataframe\">\n",
       "  <thead>\n",
       "    <tr style=\"text-align: right;\">\n",
       "      <th></th>\n",
       "      <th>season</th>\n",
       "      <th>holiday</th>\n",
       "      <th>workingday</th>\n",
       "      <th>weather</th>\n",
       "      <th>temp</th>\n",
       "      <th>atemp</th>\n",
       "      <th>humidity</th>\n",
       "      <th>windspeed</th>\n",
       "    </tr>\n",
       "  </thead>\n",
       "  <tbody>\n",
       "    <tr>\n",
       "      <th>count</th>\n",
       "      <td>6493.000000</td>\n",
       "      <td>6493.000000</td>\n",
       "      <td>6493.000000</td>\n",
       "      <td>6493.000000</td>\n",
       "      <td>6493.000000</td>\n",
       "      <td>6493.000000</td>\n",
       "      <td>6493.000000</td>\n",
       "      <td>6493.000000</td>\n",
       "    </tr>\n",
       "    <tr>\n",
       "      <th>mean</th>\n",
       "      <td>2.493300</td>\n",
       "      <td>0.029108</td>\n",
       "      <td>0.685815</td>\n",
       "      <td>1.436778</td>\n",
       "      <td>20.620607</td>\n",
       "      <td>24.012865</td>\n",
       "      <td>64.125212</td>\n",
       "      <td>12.631157</td>\n",
       "    </tr>\n",
       "    <tr>\n",
       "      <th>std</th>\n",
       "      <td>1.091258</td>\n",
       "      <td>0.168123</td>\n",
       "      <td>0.464226</td>\n",
       "      <td>0.648390</td>\n",
       "      <td>8.059583</td>\n",
       "      <td>8.782741</td>\n",
       "      <td>19.293391</td>\n",
       "      <td>8.250151</td>\n",
       "    </tr>\n",
       "    <tr>\n",
       "      <th>min</th>\n",
       "      <td>1.000000</td>\n",
       "      <td>0.000000</td>\n",
       "      <td>0.000000</td>\n",
       "      <td>1.000000</td>\n",
       "      <td>0.820000</td>\n",
       "      <td>0.000000</td>\n",
       "      <td>16.000000</td>\n",
       "      <td>0.000000</td>\n",
       "    </tr>\n",
       "    <tr>\n",
       "      <th>25%</th>\n",
       "      <td>2.000000</td>\n",
       "      <td>0.000000</td>\n",
       "      <td>0.000000</td>\n",
       "      <td>1.000000</td>\n",
       "      <td>13.940000</td>\n",
       "      <td>16.665000</td>\n",
       "      <td>49.000000</td>\n",
       "      <td>7.001500</td>\n",
       "    </tr>\n",
       "    <tr>\n",
       "      <th>50%</th>\n",
       "      <td>3.000000</td>\n",
       "      <td>0.000000</td>\n",
       "      <td>1.000000</td>\n",
       "      <td>1.000000</td>\n",
       "      <td>21.320000</td>\n",
       "      <td>25.000000</td>\n",
       "      <td>65.000000</td>\n",
       "      <td>11.001400</td>\n",
       "    </tr>\n",
       "    <tr>\n",
       "      <th>75%</th>\n",
       "      <td>3.000000</td>\n",
       "      <td>0.000000</td>\n",
       "      <td>1.000000</td>\n",
       "      <td>2.000000</td>\n",
       "      <td>27.060000</td>\n",
       "      <td>31.060000</td>\n",
       "      <td>81.000000</td>\n",
       "      <td>16.997900</td>\n",
       "    </tr>\n",
       "    <tr>\n",
       "      <th>max</th>\n",
       "      <td>4.000000</td>\n",
       "      <td>1.000000</td>\n",
       "      <td>1.000000</td>\n",
       "      <td>4.000000</td>\n",
       "      <td>40.180000</td>\n",
       "      <td>50.000000</td>\n",
       "      <td>100.000000</td>\n",
       "      <td>55.998600</td>\n",
       "    </tr>\n",
       "  </tbody>\n",
       "</table>\n",
       "</div>"
      ],
      "text/plain": [
       "            season      holiday   workingday      weather         temp  \\\n",
       "count  6493.000000  6493.000000  6493.000000  6493.000000  6493.000000   \n",
       "mean      2.493300     0.029108     0.685815     1.436778    20.620607   \n",
       "std       1.091258     0.168123     0.464226     0.648390     8.059583   \n",
       "min       1.000000     0.000000     0.000000     1.000000     0.820000   \n",
       "25%       2.000000     0.000000     0.000000     1.000000    13.940000   \n",
       "50%       3.000000     0.000000     1.000000     1.000000    21.320000   \n",
       "75%       3.000000     0.000000     1.000000     2.000000    27.060000   \n",
       "max       4.000000     1.000000     1.000000     4.000000    40.180000   \n",
       "\n",
       "             atemp     humidity    windspeed  \n",
       "count  6493.000000  6493.000000  6493.000000  \n",
       "mean     24.012865    64.125212    12.631157  \n",
       "std       8.782741    19.293391     8.250151  \n",
       "min       0.000000    16.000000     0.000000  \n",
       "25%      16.665000    49.000000     7.001500  \n",
       "50%      25.000000    65.000000    11.001400  \n",
       "75%      31.060000    81.000000    16.997900  \n",
       "max      50.000000   100.000000    55.998600  "
      ]
     },
     "execution_count": 13,
     "metadata": {},
     "output_type": "execute_result"
    }
   ],
   "source": [
    "test_df.describe()"
   ]
  },
  {
   "cell_type": "markdown",
   "id": "bb189a31",
   "metadata": {},
   "source": [
    "### 결측치 확인"
   ]
  },
  {
   "cell_type": "code",
   "execution_count": 14,
   "id": "e6943c3c",
   "metadata": {},
   "outputs": [
    {
     "data": {
      "text/plain": [
       "datetime      0\n",
       "season        0\n",
       "holiday       0\n",
       "workingday    0\n",
       "weather       0\n",
       "temp          0\n",
       "atemp         0\n",
       "humidity      0\n",
       "windspeed     0\n",
       "casual        0\n",
       "registered    0\n",
       "count         0\n",
       "dtype: int64"
      ]
     },
     "execution_count": 14,
     "metadata": {},
     "output_type": "execute_result"
    }
   ],
   "source": [
    "(train_df.isnull().sum())"
   ]
  },
  {
   "cell_type": "code",
   "execution_count": 15,
   "id": "c62fed87",
   "metadata": {},
   "outputs": [
    {
     "data": {
      "text/plain": [
       "datetime      0\n",
       "season        0\n",
       "holiday       0\n",
       "workingday    0\n",
       "weather       0\n",
       "temp          0\n",
       "atemp         0\n",
       "humidity      0\n",
       "windspeed     0\n",
       "dtype: int64"
      ]
     },
     "execution_count": 15,
     "metadata": {},
     "output_type": "execute_result"
    }
   ],
   "source": [
    "test_df.isnull().sum()"
   ]
  },
  {
   "cell_type": "markdown",
   "id": "03be9ac5",
   "metadata": {},
   "source": [
    "#### # 범주형, 날짜 등 주요 컬럼 분포 확인"
   ]
  },
  {
   "cell_type": "code",
   "execution_count": 16,
   "id": "705c6549",
   "metadata": {},
   "outputs": [
    {
     "name": "stdout",
     "output_type": "stream",
     "text": [
      "\n",
      "[season unique]: [1 2 3 4]\n",
      "[season value counts]:\n",
      " season\n",
      "4    2734\n",
      "2    2733\n",
      "3    2733\n",
      "1    2686\n",
      "Name: count, dtype: int64\n",
      "\n",
      "[holiday unique]: [0 1]\n",
      "[holiday value counts]:\n",
      " holiday\n",
      "0    10575\n",
      "1      311\n",
      "Name: count, dtype: int64\n",
      "\n",
      "[workingday unique]: [0 1]\n",
      "[workingday value counts]:\n",
      " workingday\n",
      "1    7412\n",
      "0    3474\n",
      "Name: count, dtype: int64\n",
      "\n",
      "[weather unique]: [1 2 3 4]\n",
      "[weather value counts]:\n",
      " weather\n",
      "1    7192\n",
      "2    2834\n",
      "3     859\n",
      "4       1\n",
      "Name: count, dtype: int64\n"
     ]
    }
   ],
   "source": [
    "for col in ['season', 'holiday', 'workingday', 'weather']:\n",
    "    print(f\"\\n[{col} unique]:\", train_df[col].unique())\n",
    "    print(f\"[{col} value counts]:\\n\", train_df[col].value_counts())"
   ]
  },
  {
   "cell_type": "markdown",
   "id": "fe2c08ed",
   "metadata": {},
   "source": [
    "## 2.데이터 전처리"
   ]
  },
  {
   "cell_type": "markdown",
   "id": "7806f7f8",
   "metadata": {},
   "source": [
    "#### 날짜/시간 파생 정보 생성"
   ]
  },
  {
   "cell_type": "code",
   "execution_count": 17,
   "id": "179b3723",
   "metadata": {},
   "outputs": [],
   "source": [
    "# datetime 컬럼을 datetime 타입으로 변환\n",
    "train_df['datetime'] = pd.to_datetime(train_df['datetime'])\n",
    "test_df['datetime'] = pd.to_datetime(test_df['datetime'])\n",
    "\n",
    "# 연, 월, 일, 시간, 요일 파생\n",
    "for df in [train_df, test_df]:\n",
    "    df['year'] = df['datetime'].dt.year\n",
    "    df['month'] = df['datetime'].dt.month\n",
    "    df['day'] = df['datetime'].dt.day\n",
    "    df['hour'] = df['datetime'].dt.hour\n",
    "    df['weekday'] = df['datetime'].dt.weekday"
   ]
  },
  {
   "cell_type": "markdown",
   "id": "28fcb542",
   "metadata": {},
   "source": [
    "#### 불필요한 컬럼제거\n",
    "\n",
    " \\- train: 'casual', 'registered', 'datetime' 제거\n",
    "\n",
    " \\- test: 'datetime' 제거\n",
    "\n",
    " 이유:  \n",
    " 1. 'casual', 'registered' (train에만 존재)    \n",
    "  이 두 컬럼은 train 데이터에만 존재함.   \n",
    "\n",
    " 2. test 데이터에는 이 값이 아예 없음 → 예측 시 사용 불가  \n",
    "\n",
    "3. 만약 train에서 casual, registered를 feature로 사용해서 학습하면   \n",
    "모델은 test 데이터에 없는 정보에 의존하게 되고  \n",
    "test set에서는 에러가 발생하거나,  \n",
    "\"데이터 누수(data leakage)\" 문제가 생김  \n",
    "\n",
    "결론: 실제 예측에 쓸 수 없는 정보이므로 반드시 제외해야 함  "
   ]
  },
  {
   "cell_type": "code",
   "execution_count": 18,
   "id": "1083a6a0",
   "metadata": {},
   "outputs": [],
   "source": [
    "drop_cols=['casual','registered','datetime']\n",
    "X=train_df.drop(drop_cols+['count'],axis=1)\n",
    "y=train_df['count']\n",
    "X_test=test_df.drop(['datetime'],axis=1)"
   ]
  },
  {
   "cell_type": "markdown",
   "id": "4eb49e9d",
   "metadata": {},
   "source": [
    "#### 범주형 변수 인코딩"
   ]
  },
  {
   "cell_type": "code",
   "execution_count": 19,
   "id": "0e3608c6",
   "metadata": {},
   "outputs": [],
   "source": [
    "# Label Encoding (트리계열, 카테고리 적을 때 선호)\n",
    "from sklearn.preprocessing import LabelEncoder\n",
    "\n",
    "cat_cols = ['season', 'weather', 'holiday', 'workingday', 'month', 'hour', 'weekday']\n",
    "for col in cat_cols:\n",
    "    le = LabelEncoder()\n",
    "    X[col] = le.fit_transform(X[col])\n",
    "    X_test[col] = le.transform(X_test[col])  # train/test 값 일치 주의!"
   ]
  },
  {
   "cell_type": "markdown",
   "id": "8082050f",
   "metadata": {},
   "source": [
    "#### 타겟 로그 변환\n",
    "\n",
    "- 예측 분포가 정규분포(가우시안)에 더 가까워짐"
   ]
  },
  {
   "cell_type": "code",
   "execution_count": null,
   "id": "6807ac5f",
   "metadata": {},
   "outputs": [],
   "source": [
    "import numpy as np     \n",
    "y_log = np.log1p(y)   # log(1 + y)"
   ]
  },
  {
   "cell_type": "markdown",
   "id": "6280f3d2",
   "metadata": {},
   "source": [
    "## 3. 학습/테스트 데이터 분리"
   ]
  },
  {
   "cell_type": "code",
   "execution_count": 24,
   "id": "ee098f3f",
   "metadata": {},
   "outputs": [],
   "source": [
    "from sklearn.model_selection import train_test_split\n",
    "X_train, X_test, y_train_log, y_test_log=train_test_split(X, y_log, \n",
    "                                                         test_size=0.2, random_state=42)"
   ]
  },
  {
   "cell_type": "markdown",
   "id": "1dc05e9b",
   "metadata": {},
   "source": [
    "## 4.모델 선택 및 학습"
   ]
  },
  {
   "cell_type": "code",
   "execution_count": 32,
   "id": "0cbdd1c6",
   "metadata": {},
   "outputs": [],
   "source": [
    "from sklearn.ensemble import RandomForestRegressor, GradientBoostingRegressor\n",
    "from xgboost import XGBRegressor\n",
    "from lightgbm import LGBMRegressor\n",
    "\n",
    "models = {\n",
    "    \"RandomForest\": RandomForestRegressor(random_state=42, n_jobs=-1),\n",
    "    \"GradientBoosting\": GradientBoostingRegressor(random_state=42),\n",
    "}\n"
   ]
  },
  {
   "cell_type": "code",
   "execution_count": 35,
   "id": "c90763de",
   "metadata": {},
   "outputs": [
    {
     "name": "stdout",
     "output_type": "stream",
     "text": [
      "RandomForest RMSE: 41.08071 , R2 Score: 0.95106\n",
      "GradientBoosting RMSE: 41.08071 , R2 Score: 0.82597\n"
     ]
    }
   ],
   "source": [
    "from sklearn.metrics import mean_squared_error\n",
    "import numpy as np\n",
    "\n",
    "for name, model in models.items():\n",
    "    \n",
    "    model.fit(X_train.values, y_train_log.values.ravel()) #학습\n",
    "    pred_log = model.predict(X_test.values)   # 예측 (로그)\n",
    "   \n",
    "    pred = np.expm1(pred_log)  # 원래 스케일로 역변환\n",
    "    y_true = np.expm1(y_test_log.values)\n",
    "    \n",
    "    r2 = r2_score(y_true, pred)\n",
    "    print(f'{name} RMSE: {rmse:.5f} , R2 Score: {r2:.5f}')"
   ]
  },
  {
   "cell_type": "markdown",
   "id": "9d02beb8",
   "metadata": {},
   "source": [
    "## RandomForest 하이퍼파라미터 튜닝"
   ]
  },
  {
   "cell_type": "code",
   "execution_count": 40,
   "id": "20a18e57",
   "metadata": {},
   "outputs": [
    {
     "name": "stdout",
     "output_type": "stream",
     "text": [
      "Fitting 3 folds for each of 108 candidates, totalling 324 fits\n",
      "Best Parameters: {'max_depth': 20, 'min_samples_leaf': 1, 'min_samples_split': 2, 'n_estimators': 300}\n",
      "Best R2 Score (CV): 0.9495141572258464\n"
     ]
    }
   ],
   "source": [
    "from sklearn.ensemble import RandomForestRegressor\n",
    "from sklearn.model_selection import GridSearchCV\n",
    "\n",
    "# 튜닝할 하이퍼파라미터 그리드 설정\n",
    "param_grid = {\n",
    "    'n_estimators': [100, 200, 300],        # 트리 개수\n",
    "    'max_depth': [10, 20, 30, None],        # 트리 최대 깊이\n",
    "    'min_samples_split': [2, 5, 10],        # 내부 노드 분할 최소 샘플 수\n",
    "    'min_samples_leaf': [1, 3, 5]           # 리프노드 최소 샘플 수\n",
    "}\n",
    "\n",
    "# 모델과 GridSearchCV 세팅\n",
    "rf = RandomForestRegressor(random_state=42, n_jobs=-1)\n",
    "grid = GridSearchCV(rf, param_grid, \n",
    "                    scoring='r2',       # r2 score 기준\n",
    "                    cv=3,               # 3-fold 교차검증\n",
    "                    n_jobs=-1, \n",
    "                    verbose=2)\n",
    "\n",
    "# 튜닝/학습\n",
    "grid.fit(X_train.values, y_train_log.values.ravel())\n",
    "\n",
    "# 결과 확인\n",
    "print(\"Best Parameters:\", grid.best_params_)\n",
    "print(\"Best R2 Score (CV):\", grid.best_score_)"
   ]
  },
  {
   "cell_type": "markdown",
   "id": "83f21d96",
   "metadata": {},
   "source": [
    "## GradientBoosting 하이퍼파라미터 튜닝"
   ]
  },
  {
   "cell_type": "code",
   "execution_count": 39,
   "id": "5342f42a",
   "metadata": {},
   "outputs": [
    {
     "name": "stdout",
     "output_type": "stream",
     "text": [
      "Fitting 3 folds for each of 243 candidates, totalling 729 fits\n",
      "Best Parameters: {'learning_rate': 0.1, 'max_depth': 5, 'min_samples_leaf': 3, 'min_samples_split': 2, 'n_estimators': 300}\n",
      "Best R2 Score (CV): 0.9587019510299232\n"
     ]
    }
   ],
   "source": [
    "from sklearn.ensemble import GradientBoostingRegressor\n",
    "from sklearn.model_selection import GridSearchCV\n",
    "\n",
    "# 하이퍼파라미터 그리드 정의\n",
    "param_grid = {\n",
    "    'learning_rate': [0.05, 0.1, 0.2],\n",
    "    'n_estimators': [100, 200, 300],\n",
    "    'max_depth': [3, 5, 7],\n",
    "    'min_samples_split': [2, 5, 10],\n",
    "    'min_samples_leaf': [1, 3, 5]\n",
    "}\n",
    "\n",
    "gbr = GradientBoostingRegressor(random_state=42)\n",
    "grid = GridSearchCV(\n",
    "    gbr, param_grid,\n",
    "    scoring='r2',\n",
    "    cv=3,\n",
    "    n_jobs=-1,\n",
    "    verbose=2\n",
    ")\n",
    "\n",
    "grid.fit(X_train.values, y_train_log.values.ravel())\n",
    "\n",
    "# 결과 확인\n",
    "print(\"Best Parameters:\", grid.best_params_)\n",
    "print(\"Best R2 Score (CV):\", grid.best_score_)"
   ]
  },
  {
   "cell_type": "markdown",
   "id": "4c0eea9c",
   "metadata": {},
   "source": [
    "1. 랜덤포레스트 하이퍼파라미터 과정을 거치면 R2 Score값이 떨어짐\n",
    "2. GradientBoostingRegressor 하이퍼파라미터 과정을 거치면 R2 Score값이 높아짐"
   ]
  },
  {
   "cell_type": "code",
   "execution_count": 47,
   "id": "af945ab1",
   "metadata": {},
   "outputs": [
    {
     "name": "stdout",
     "output_type": "stream",
     "text": [
      "XGBoost RMSE: 38.98941\n",
      "LightGBM RMSE: 41.08071\n"
     ]
    }
   ],
   "source": [
    "from xgboost import XGBRegressor\n",
    "from lightgbm import LGBMRegressor\n",
    "from sklearn.metrics import mean_squared_error\n",
    "import numpy as np\n",
    "\n",
    "# 모델 준비\n",
    "xgb = XGBRegressor(random_state=42, n_jobs=-1)\n",
    "lgbm = LGBMRegressor(random_state=42, n_jobs=-1)\n",
    "\n",
    "# XGBoost 학습 및 예측\n",
    "xgb.fit(X_train.values, y_train_log.values.ravel())\n",
    "xgb_pred_log = xgb.predict(X_test.values)\n",
    "xgb_pred = np.expm1(xgb_pred_log)\n",
    "y_true = np.expm1(y_test_log.values)\n",
    "xgb_rmse = np.sqrt(mean_squared_error(y_true, xgb_pred))\n",
    "print(f'XGBoost RMSE: {xgb_rmse:.5f}')\n",
    "\n",
    "# LightGBM 학습 및 예측\n",
    "lgbm.fit(X_train.values, y_train_log.values.ravel())\n",
    "lgbm_pred_log = lgbm.predict(X_test.values)\n",
    "lgbm_pred = np.expm1(lgbm_pred_log)\n",
    "lgbm_rmse = np.sqrt(mean_squared_error(y_true, lgbm_pred))\n",
    "print(f'LightGBM RMSE: {lgbm_rmse:.5f}')"
   ]
  },
  {
   "cell_type": "code",
   "execution_count": 48,
   "id": "2ea32533",
   "metadata": {},
   "outputs": [
    {
     "name": "stdout",
     "output_type": "stream",
     "text": [
      "XGBoost R2 Score: 0.95394\n",
      "LightGBM R2 Score: 0.94887\n"
     ]
    }
   ],
   "source": [
    "from sklearn.metrics import r2_score\n",
    "import numpy as np\n",
    "\n",
    "# XGBoost R² 계산\n",
    "xgb_pred_log = xgb.predict(X_test.values)\n",
    "xgb_pred = np.expm1(xgb_pred_log)\n",
    "y_true = np.expm1(y_test_log.values)\n",
    "xgb_r2 = r2_score(y_true, xgb_pred)\n",
    "print(f'XGBoost R2 Score: {xgb_r2:.5f}')\n",
    "\n",
    "# LightGBM R² 계산\n",
    "lgbm_pred_log = lgbm.predict(X_test.values)\n",
    "lgbm_pred = np.expm1(lgbm_pred_log)\n",
    "lgbm_r2 = r2_score(y_true, lgbm_pred)\n",
    "print(f'LightGBM R2 Score: {lgbm_r2:.5f}')"
   ]
  },
  {
   "cell_type": "markdown",
   "id": "ecae5900",
   "metadata": {},
   "source": [
    "## LGBM 하이퍼파라미터 "
   ]
  },
  {
   "cell_type": "code",
   "execution_count": 44,
   "id": "853835e2",
   "metadata": {},
   "outputs": [
    {
     "name": "stdout",
     "output_type": "stream",
     "text": [
      "Fitting 3 folds for each of 729 candidates, totalling 2187 fits\n",
      "LGBM Best RMSE: 38.39651, R2 Score: 0.95533\n"
     ]
    }
   ],
   "source": [
    "from lightgbm import LGBMRegressor\n",
    "from sklearn.model_selection import GridSearchCV\n",
    "from sklearn.metrics import mean_squared_error, r2_score\n",
    "import numpy as np\n",
    "\n",
    "param_grid = {\n",
    "    'n_estimators': [100, 200, 300],\n",
    "    'learning_rate': [0.05, 0.1, 0.2],\n",
    "    'max_depth': [4, 6, 8],\n",
    "    'num_leaves': [16, 32, 64],\n",
    "    'subsample': [0.7, 0.9, 1.0],\n",
    "    'colsample_bytree': [0.7, 0.9, 1.0]\n",
    "}\n",
    "\n",
    "lgbm = LGBMRegressor(random_state=42, n_jobs=-1)\n",
    "grid = GridSearchCV(\n",
    "    lgbm, param_grid,\n",
    "    scoring='neg_root_mean_squared_error',\n",
    "    cv=3,\n",
    "    n_jobs=-1,\n",
    "    verbose=2\n",
    ")\n",
    "grid.fit(X_train.values, y_train_log.values.ravel())\n",
    "\n",
    "# 베스트 모델 추출\n",
    "best_lgbm = grid.best_estimator_\n",
    "\n",
    "# 검증셋 예측 및 역변환\n",
    "lgbm_pred_log = best_lgbm.predict(X_test.values)\n",
    "lgbm_pred = np.expm1(lgbm_pred_log)\n",
    "y_true = np.expm1(y_test_log.values)\n",
    "\n",
    "# RMSE, R2 계산 및 출력\n",
    "lgbm_rmse = np.sqrt(mean_squared_error(y_true, lgbm_pred))\n",
    "lgbm_r2 = r2_score(y_true, lgbm_pred)\n",
    "print(f\"LGBM Best RMSE: {lgbm_rmse:.5f}, R2 Score: {lgbm_r2:.5f}\")"
   ]
  },
  {
   "cell_type": "markdown",
   "id": "bd25a6b6",
   "metadata": {},
   "source": [
    "## XGBoosting 하이퍼파라미터"
   ]
  },
  {
   "cell_type": "code",
   "execution_count": 49,
   "id": "22bfb2be",
   "metadata": {},
   "outputs": [
    {
     "name": "stdout",
     "output_type": "stream",
     "text": [
      "Fitting 3 folds for each of 243 candidates, totalling 729 fits\n",
      "XGBoost Best RMSE: 37.47060, R2 Score: 0.95746\n"
     ]
    }
   ],
   "source": [
    "from xgboost import XGBRegressor\n",
    "from sklearn.model_selection import GridSearchCV\n",
    "from sklearn.metrics import mean_squared_error, r2_score\n",
    "import numpy as np\n",
    "\n",
    "param_grid = {\n",
    "    'n_estimators': [100, 200, 300],\n",
    "    'max_depth': [4, 6, 8],\n",
    "    'learning_rate': [0.05, 0.1, 0.2],\n",
    "    'subsample': [0.7, 0.9, 1.0],\n",
    "    'colsample_bytree': [0.7, 0.9, 1.0]\n",
    "}\n",
    "\n",
    "xgb = XGBRegressor(random_state=42, n_jobs=-1)\n",
    "grid = GridSearchCV(\n",
    "    xgb, param_grid,\n",
    "    scoring='neg_root_mean_squared_error',\n",
    "    cv=3,\n",
    "    n_jobs=-1,\n",
    "    verbose=2\n",
    ")\n",
    "grid.fit(X_train.values, y_train_log.values.ravel())\n",
    "\n",
    "# 최적 모델로 예측 (로그)\n",
    "xgb_pred_log = grid.best_estimator_.predict(X_test.values)\n",
    "# 역변환 (원래 단위)\n",
    "xgb_pred = np.expm1(xgb_pred_log)\n",
    "y_true = np.expm1(y_test_log.values)\n",
    "\n",
    "# RMSE, R2 계산\n",
    "xgb_rmse = np.sqrt(mean_squared_error(y_true, xgb_pred))\n",
    "xgb_r2 = r2_score(y_true, xgb_pred)\n",
    "print(f\"XGBoost Best RMSE: {xgb_rmse:.5f}, R2 Score: {xgb_r2:.5f}\")"
   ]
  },
  {
   "cell_type": "code",
   "execution_count": 54,
   "id": "6a5ac4bd",
   "metadata": {},
   "outputs": [
    {
     "data": {
      "text/html": [
       "<div>\n",
       "<style scoped>\n",
       "    .dataframe tbody tr th:only-of-type {\n",
       "        vertical-align: middle;\n",
       "    }\n",
       "\n",
       "    .dataframe tbody tr th {\n",
       "        vertical-align: top;\n",
       "    }\n",
       "\n",
       "    .dataframe thead th {\n",
       "        text-align: right;\n",
       "    }\n",
       "</style>\n",
       "<table border=\"1\" class=\"dataframe\">\n",
       "  <thead>\n",
       "    <tr style=\"text-align: right;\">\n",
       "      <th></th>\n",
       "      <th>모델</th>\n",
       "      <th>튜닝여부</th>\n",
       "      <th>RMSE</th>\n",
       "      <th>R2 Score</th>\n",
       "      <th>(log) RMSE</th>\n",
       "      <th>(log) R2</th>\n",
       "      <th>Best Parameters</th>\n",
       "    </tr>\n",
       "  </thead>\n",
       "  <tbody>\n",
       "    <tr>\n",
       "      <th>0</th>\n",
       "      <td>RandomForest</td>\n",
       "      <td>기본</td>\n",
       "      <td>41.08071</td>\n",
       "      <td>0.95106</td>\n",
       "      <td>NaN</td>\n",
       "      <td>NaN</td>\n",
       "      <td>-</td>\n",
       "    </tr>\n",
       "    <tr>\n",
       "      <th>1</th>\n",
       "      <td>RandomForest</td>\n",
       "      <td>튜닝</td>\n",
       "      <td>NaN</td>\n",
       "      <td>0.94951</td>\n",
       "      <td>NaN</td>\n",
       "      <td>NaN</td>\n",
       "      <td>'max_depth': 20, 'min_samples_leaf': 1, 'min_samples_split': 2, 'n_estimators': 300</td>\n",
       "    </tr>\n",
       "    <tr>\n",
       "      <th>2</th>\n",
       "      <td>GradientBoosting</td>\n",
       "      <td>기본</td>\n",
       "      <td>41.08071</td>\n",
       "      <td>0.82597</td>\n",
       "      <td>NaN</td>\n",
       "      <td>NaN</td>\n",
       "      <td>-</td>\n",
       "    </tr>\n",
       "    <tr>\n",
       "      <th>3</th>\n",
       "      <td>GradientBoosting</td>\n",
       "      <td>튜닝</td>\n",
       "      <td>NaN</td>\n",
       "      <td>0.95870</td>\n",
       "      <td>NaN</td>\n",
       "      <td>NaN</td>\n",
       "      <td>'max_depth': 5, 'min_samples_leaf': 3, 'min_samples_split': 2, 'n_estimators': 300}</td>\n",
       "    </tr>\n",
       "    <tr>\n",
       "      <th>4</th>\n",
       "      <td>XGBoost</td>\n",
       "      <td>기본</td>\n",
       "      <td>38.98941</td>\n",
       "      <td>0.95394</td>\n",
       "      <td>NaN</td>\n",
       "      <td>NaN</td>\n",
       "      <td>-</td>\n",
       "    </tr>\n",
       "    <tr>\n",
       "      <th>5</th>\n",
       "      <td>XGBoost</td>\n",
       "      <td>튜닝</td>\n",
       "      <td>37.47060</td>\n",
       "      <td>0.95746</td>\n",
       "      <td>0.27665</td>\n",
       "      <td>0.96282</td>\n",
       "      <td>'max_depth': [4, 6, 8],'n_estimators': [100, 200, 300]</td>\n",
       "    </tr>\n",
       "    <tr>\n",
       "      <th>6</th>\n",
       "      <td>LightGBM</td>\n",
       "      <td>기본</td>\n",
       "      <td>41.08071</td>\n",
       "      <td>0.94887</td>\n",
       "      <td>NaN</td>\n",
       "      <td>NaN</td>\n",
       "      <td>-</td>\n",
       "    </tr>\n",
       "    <tr>\n",
       "      <th>7</th>\n",
       "      <td>LightGBM</td>\n",
       "      <td>튜닝</td>\n",
       "      <td>38.39651</td>\n",
       "      <td>0.95533</td>\n",
       "      <td>NaN</td>\n",
       "      <td>NaN</td>\n",
       "      <td>'max_depth': [4, 6, 8],n_estimators': [100, 200, 300]</td>\n",
       "    </tr>\n",
       "  </tbody>\n",
       "</table>\n",
       "</div>"
      ],
      "text/plain": [
       "                 모델 튜닝여부      RMSE  R2 Score  (log) RMSE  (log) R2  \\\n",
       "0      RandomForest   기본  41.08071   0.95106         NaN       NaN   \n",
       "1      RandomForest   튜닝       NaN   0.94951         NaN       NaN   \n",
       "2  GradientBoosting   기본  41.08071   0.82597         NaN       NaN   \n",
       "3  GradientBoosting   튜닝       NaN   0.95870         NaN       NaN   \n",
       "4           XGBoost   기본  38.98941   0.95394         NaN       NaN   \n",
       "5           XGBoost   튜닝  37.47060   0.95746     0.27665   0.96282   \n",
       "6          LightGBM   기본  41.08071   0.94887         NaN       NaN   \n",
       "7          LightGBM   튜닝  38.39651   0.95533         NaN       NaN   \n",
       "\n",
       "                                                                       Best Parameters  \n",
       "0                                                                                    -  \n",
       "1  'max_depth': 20, 'min_samples_leaf': 1, 'min_samples_split': 2, 'n_estimators': 300  \n",
       "2                                                                                    -  \n",
       "3  'max_depth': 5, 'min_samples_leaf': 3, 'min_samples_split': 2, 'n_estimators': 300}  \n",
       "4                                                                                    -  \n",
       "5                               'max_depth': [4, 6, 8],'n_estimators': [100, 200, 300]  \n",
       "6                                                                                    -  \n",
       "7                                'max_depth': [4, 6, 8],n_estimators': [100, 200, 300]  "
      ]
     },
     "execution_count": 54,
     "metadata": {},
     "output_type": "execute_result"
    }
   ],
   "source": [
    "import pandas as pd\n",
    "\n",
    "results = [\n",
    "    [\"RandomForest\", \"기본\",        41.08071, 0.95106,    None,      None,    \"-\"],\n",
    "    [\"RandomForest\", \"튜닝\",        None,     0.94951,    None,      None,    \"'max_depth': 20, 'min_samples_leaf': 1, 'min_samples_split': 2, 'n_estimators': 300\"],\n",
    "    [\"GradientBoosting\", \"기본\",    41.08071, 0.82597,    None,      None,    \"-\"],\n",
    "    [\"GradientBoosting\", \"튜닝\",    None,     0.95870,    None,      None,    \"'max_depth': 5, 'min_samples_leaf': 3, 'min_samples_split': 2, 'n_estimators': 300}\"],\n",
    "    [\"XGBoost\", \"기본\",             38.98941, 0.95394,    None,      None,    \"-\"],\n",
    "    [\"XGBoost\", \"튜닝\",             37.47060, 0.95746,    0.27665,   0.96282, \"'max_depth': [4, 6, 8],'n_estimators': [100, 200, 300]\"],\n",
    "    [\"LightGBM\", \"기본\",            41.08071, 0.94887,    None,      None,    \"-\"],\n",
    "    [\"LightGBM\", \"튜닝\",            38.39651, 0.95533,    None,      None,    \"'max_depth': [4, 6, 8],n_estimators': [100, 200, 300]\"]\n",
    "]\n",
    "\n",
    "columns = [\"모델\", \"튜닝여부\", \"RMSE\", \"R2 Score\", \"(log) RMSE\", \"(log) R2\", \"Best Parameters\"]\n",
    "\n",
    "\n",
    "# 열의 최대 너비(최대 문자 수) 설정 (기본값: 50, 충분히 크게)\n",
    "pd.set_option('display.max_colwidth', 200)\n",
    "# 행 전체(줄 바꿈 포함) 최대 행 수 설정 (필요시)\n",
    "pd.set_option('display.max_rows', 20)\n",
    "\n",
    "\n",
    "df_results = pd.DataFrame(results, columns=columns)\n",
    "df_results"
   ]
  }
 ],
 "metadata": {
  "kernelspec": {
   "display_name": "hi_ml_env",
   "language": "python",
   "name": "python3"
  },
  "language_info": {
   "codemirror_mode": {
    "name": "ipython",
    "version": 3
   },
   "file_extension": ".py",
   "mimetype": "text/x-python",
   "name": "python",
   "nbconvert_exporter": "python",
   "pygments_lexer": "ipython3",
   "version": "3.10.18"
  }
 },
 "nbformat": 4,
 "nbformat_minor": 5
}
