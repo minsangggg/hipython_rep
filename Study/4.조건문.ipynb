{
 "cells": [
  {
   "cell_type": "markdown",
   "id": "a9d9c5d5-1c0f-4f28-a3e6-693f17f02486",
   "metadata": {},
   "source": [
    "# 조건문"
   ]
  },
  {
   "cell_type": "code",
   "execution_count": 11,
   "id": "bfeff1f6-fee1-4caa-ab60-205378af3d38",
   "metadata": {},
   "outputs": [
    {
     "name": "stdout",
     "output_type": "stream",
     "text": [
      "pass\n"
     ]
    }
   ],
   "source": [
    "kor_score=98\n",
    "if kor_score>90:\n",
    "    print('pass')\n",
    "    "
   ]
  },
  {
   "cell_type": "code",
   "execution_count": 12,
   "id": "fc286b8a-9b3f-4f52-ad1f-04389bd9f880",
   "metadata": {},
   "outputs": [
    {
     "name": "stdout",
     "output_type": "stream",
     "text": [
      "pass\n"
     ]
    }
   ],
   "source": [
    "if kor_score>90:print('pass')"
   ]
  },
  {
   "cell_type": "code",
   "execution_count": 13,
   "id": "bc7d4946-4800-45a5-9f3a-3543777732cd",
   "metadata": {},
   "outputs": [
    {
     "name": "stdout",
     "output_type": "stream",
     "text": [
      "pass\n"
     ]
    }
   ],
   "source": [
    "if kor_score>90:\n",
    "    print('pass')\n",
    "else: \n",
    "    print('fail')"
   ]
  },
  {
   "cell_type": "code",
   "execution_count": 15,
   "id": "ff1054ed-ad28-4233-a527-ecee5a61eb39",
   "metadata": {},
   "outputs": [
    {
     "name": "stdout",
     "output_type": "stream",
     "text": [
      "pass\n"
     ]
    }
   ],
   "source": [
    "print('pass') if kor_score>90 else print('fail')"
   ]
  },
  {
   "cell_type": "code",
   "execution_count": 21,
   "id": "c1d31b42-f6a4-4e2b-91a7-d9d6aa087bb3",
   "metadata": {},
   "outputs": [
    {
     "name": "stdout",
     "output_type": "stream",
     "text": [
      "점수를 입력하세요 95\n"
     ]
    },
    {
     "name": "stdout",
     "output_type": "stream",
     "text": [
      "수\n"
     ]
    }
   ],
   "source": [
    "score=int(input(\"점수를 입력하세요\"))\n",
    "if score>=90:\n",
    "    print(\"수\")\n",
    "else:\n",
    "    if score>=80:\n",
    "        print(\"우\")\n",
    "    else:\n",
    "        if score >=70:\n",
    "            print(\"미\")\n",
    "        else:\n",
    "            if score>=60:\n",
    "                print(\"양\")\n",
    "            else:\n",
    "                print(\"가\")"
   ]
  },
  {
   "cell_type": "code",
   "execution_count": 25,
   "id": "73f2c711-003d-4f20-a766-d739d501d707",
   "metadata": {},
   "outputs": [
    {
     "name": "stdout",
     "output_type": "stream",
     "text": [
      "점수를 입력하시오:  95\n"
     ]
    },
    {
     "name": "stdout",
     "output_type": "stream",
     "text": [
      "수\n"
     ]
    }
   ],
   "source": [
    "score=int(input('점수를 입력하시오: '))\n",
    "if score>=90:\n",
    "    print('수')\n",
    "elif score>=80:\n",
    "    print('우')\n",
    "elif score>=70:\n",
    "    print('미')\n",
    "elif score>=60:\n",
    "    print('양')\n",
    "else:\n",
    "    print('가')"
   ]
  },
  {
   "cell_type": "code",
   "execution_count": 37,
   "id": "aa98db81-ea6d-4c62-ba65-fd8dacf300dd",
   "metadata": {},
   "outputs": [
    {
     "name": "stdout",
     "output_type": "stream",
     "text": [
      "수식을 입력하세요 (예20*40) 20 ^ 3\n"
     ]
    },
    {
     "data": {
      "text/plain": [
       "('20', '^', '3')"
      ]
     },
     "execution_count": 37,
     "metadata": {},
     "output_type": "execute_result"
    }
   ],
   "source": [
    "formula=input('수식을 입력하세요 (예20*40)')\n",
    "num1,opr,num2=formula.split()\n",
    "num1,opr,num2"
   ]
  },
  {
   "cell_type": "code",
   "execution_count": 38,
   "id": "4f0325cc-47d6-41a5-9846-59a85d29b4cd",
   "metadata": {},
   "outputs": [
    {
     "name": "stdout",
     "output_type": "stream",
     "text": [
      "지원하지 않는 연산입니다\n"
     ]
    }
   ],
   "source": [
    "num1 = float(num1)\n",
    "num2 = float(num2)\n",
    "\n",
    "opr_list = ['+', '-', '*','/']\n",
    "\n",
    "if opr == '+':\n",
    "    result = num1 + num2\n",
    "elif opr == '-':\n",
    "    result = num1 - num2\n",
    "elif opr=='*':\n",
    "    result=num1*num2\n",
    "elif opr== '/':\n",
    "    result=num/num2\n",
    "else:\n",
    "    result=None\n",
    "if result==None:\n",
    "    print('지원하지 않는 연산입니다')\n",
    "else:\n",
    "    print(f'{num1} {opr} {num2} = {result}')"
   ]
  },
  {
   "cell_type": "code",
   "execution_count": 61,
   "id": "16b7e9a3-135c-4377-a2d5-b48e5a25a353",
   "metadata": {},
   "outputs": [
    {
     "name": "stdout",
     "output_type": "stream",
     "text": [
      "수식을 입력하세요. (예. 20 * 40)  20*6\n"
     ]
    },
    {
     "ename": "ValueError",
     "evalue": "not enough values to unpack (expected 3, got 1)",
     "output_type": "error",
     "traceback": [
      "\u001b[1;31m---------------------------------------------------------------------------\u001b[0m",
      "\u001b[1;31mValueError\u001b[0m                                Traceback (most recent call last)",
      "Cell \u001b[1;32mIn[61], line 2\u001b[0m\n\u001b[0;32m      1\u001b[0m formula \u001b[38;5;241m=\u001b[39m \u001b[38;5;28minput\u001b[39m(\u001b[38;5;124m'\u001b[39m\u001b[38;5;124m수식을 입력하세요. (예. 20 * 40) \u001b[39m\u001b[38;5;124m'\u001b[39m)\n\u001b[1;32m----> 2\u001b[0m num1, opr, num2 \u001b[38;5;241m=\u001b[39m formula\u001b[38;5;241m.\u001b[39msplit()\n\u001b[0;32m      3\u001b[0m \u001b[38;5;66;03m#num1, opr, num2\u001b[39;00m\n\u001b[0;32m      5\u001b[0m \u001b[38;5;28;01mif\u001b[39;00m opr \u001b[38;5;129;01mnot\u001b[39;00m \u001b[38;5;129;01min\u001b[39;00m opr_list :\n",
      "\u001b[1;31mValueError\u001b[0m: not enough values to unpack (expected 3, got 1)"
     ]
    }
   ],
   "source": [
    "formula = input('수식을 입력하세요. (예. 20 * 40) ')\n",
    "num1, opr, num2 = formula.split()\n",
    "#num1, opr, num2\n",
    "\n",
    "if opr not in opr_list :\n",
    "    print('지원하지 않는 연산자입니다.')\n",
    "else :\n",
    "    if opr == '+' :\n",
    "        result = num1 + num2 \n",
    "    elif opr == '-' :\n",
    "        result = num1 - num2 \n",
    "    elif opr == '*' :\n",
    "        result = num1 * num2 \n",
    "    elif opr == '/' :\n",
    "        result = num1 / num2 \n",
    "    print(f'{num1} {opr} {num2} = {result}')"
   ]
  },
  {
   "cell_type": "code",
   "execution_count": 44,
   "id": "3efc55d2-17a3-4699-8ad9-5466d758376c",
   "metadata": {},
   "outputs": [
    {
     "name": "stdout",
     "output_type": "stream",
     "text": [
      "홀수\n"
     ]
    }
   ],
   "source": [
    "num=7\n",
    "# if num%2 : print('짝수') else print('홀수')\n",
    "print('짝수' if num%2==0 else '홀수')"
   ]
  },
  {
   "cell_type": "code",
   "execution_count": null,
   "id": "8ff6faa4-5b8e-4610-9e2d-c1bc9608798a",
   "metadata": {},
   "outputs": [],
   "source": []
  },
  {
   "cell_type": "code",
   "execution_count": 48,
   "id": "61710cf4-f226-46e3-88ab-2ef9926fa356",
   "metadata": {},
   "outputs": [
    {
     "name": "stdout",
     "output_type": "stream",
     "text": [
      "쉽시다\n"
     ]
    }
   ],
   "source": [
    "졸려=True\n",
    "action='쉽시다' if 졸려==True else '화이팅'\n",
    "print(action)"
   ]
  },
  {
   "cell_type": "code",
   "execution_count": 62,
   "id": "6cc2f877-a79e-412a-9189-eaed9be5d0bb",
   "metadata": {},
   "outputs": [
    {
     "data": {
      "text/plain": [
       "'패'"
      ]
     },
     "execution_count": 62,
     "metadata": {},
     "output_type": "execute_result"
    }
   ],
   "source": [
    "player = '가위'\n",
    "computer = '바위'\n",
    "#result = '승' '패' '무승부'\n",
    "result = '승' if (player == '가위' and computer == '보')  else \\\n",
    "        '무승부' if player == computer else '패'\n",
    "result"
   ]
  },
  {
   "cell_type": "code",
   "execution_count": 51,
   "id": "317a5b3c-ed09-4a5a-9500-e27552062a9c",
   "metadata": {},
   "outputs": [
    {
     "name": "stdout",
     "output_type": "stream",
     "text": [
      "B\n"
     ]
    }
   ],
   "source": [
    "#학점 A,B,C,D 출력하는 1줄 조건식\n",
    "score = 85\n",
    "grade = 'A' if score >= 90 else 'B' if score >= 80 else 'C' if score >= 70 else 'D'\n",
    "print(grade)  "
   ]
  },
  {
   "cell_type": "code",
   "execution_count": 52,
   "id": "73ca9ad2-9d67-4ea8-ba7d-6839339ae8e4",
   "metadata": {},
   "outputs": [
    {
     "name": "stdout",
     "output_type": "stream",
     "text": [
      "현재 검사 중인 숫자: 1\n",
      "현재 검사 중인 숫자: 3\n",
      "현재 검사 중인 숫자: 5\n",
      "현재 검사 중인 숫자: 7\n",
      "9를 찾았습니다!\n"
     ]
    }
   ],
   "source": [
    "numbers = [1, 3, 5, 7, 9, 11, 13, 15]\n",
    "search_number = 9\n",
    "\n",
    "for num in numbers:\n",
    "    if num == search_number:\n",
    "        print(f\"{search_number}를 찾았습니다!\")\n",
    "        break\n",
    "    print(f\"현재 검사 중인 숫자: {num}\")\n"
   ]
  },
  {
   "cell_type": "code",
   "execution_count": 58,
   "id": "9485dd44-fcc1-43e3-8ab9-1c9e9d476a30",
   "metadata": {},
   "outputs": [],
   "source": [
    "condition=True\n",
    "if condition: \n",
    "    pass  # 나중에 구현할 예정\n",
    "else:\n",
    "    print(\"else 구문 실행\")"
   ]
  },
  {
   "cell_type": "code",
   "execution_count": null,
   "id": "ffc0df3c-6c1d-4326-a798-00f11632625d",
   "metadata": {},
   "outputs": [],
   "source": []
  },
  {
   "cell_type": "code",
   "execution_count": null,
   "id": "9e51897a-0f94-4d24-a848-1add62f99cba",
   "metadata": {},
   "outputs": [],
   "source": []
  },
  {
   "cell_type": "code",
   "execution_count": null,
   "id": "bb1a8628-02d0-4640-b094-cbfef170b378",
   "metadata": {},
   "outputs": [],
   "source": []
  },
  {
   "cell_type": "code",
   "execution_count": null,
   "id": "d924f367-4aec-4114-b260-b9eff9397914",
   "metadata": {},
   "outputs": [],
   "source": []
  },
  {
   "cell_type": "code",
   "execution_count": null,
   "id": "1d958ffe-3187-4446-a7a9-eae0434471ae",
   "metadata": {},
   "outputs": [],
   "source": []
  },
  {
   "cell_type": "code",
   "execution_count": null,
   "id": "250a197b-11a1-4dca-9c44-5f7e22cd7db4",
   "metadata": {},
   "outputs": [],
   "source": []
  },
  {
   "cell_type": "code",
   "execution_count": null,
   "id": "1f64c3bb-bdd5-414b-b14c-abb910730ded",
   "metadata": {},
   "outputs": [],
   "source": []
  },
  {
   "cell_type": "code",
   "execution_count": null,
   "id": "ddeced1d-f4b7-4fb6-bf60-0df858b87b2d",
   "metadata": {},
   "outputs": [],
   "source": []
  },
  {
   "cell_type": "code",
   "execution_count": null,
   "id": "6b814c17-f2bc-4f78-8380-066409d9c3fb",
   "metadata": {},
   "outputs": [],
   "source": []
  }
 ],
 "metadata": {
  "kernelspec": {
   "display_name": "Python 3(myenv)",
   "language": "python",
   "name": "myenv"
  },
  "language_info": {
   "codemirror_mode": {
    "name": "ipython",
    "version": 3
   },
   "file_extension": ".py",
   "mimetype": "text/x-python",
   "name": "python",
   "nbconvert_exporter": "python",
   "pygments_lexer": "ipython3",
   "version": "3.10.16"
  }
 },
 "nbformat": 4,
 "nbformat_minor": 5
}
