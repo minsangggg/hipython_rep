{
 "cells": [
  {
   "cell_type": "markdown",
   "id": "ce70d9bd-7904-4df7-abf8-95caa702a35c",
   "metadata": {},
   "source": [
    "#복합자료 리스트\n",
    "\n",
    "여러개의 값을 묶어서 하나의 변수로 다루는 자료형\n",
    "\n",
    "생성법  \n",
    "1.[ ] 대괄호를 사용  \n",
    "2.데이터는 , 쉼표로 구분  \n",
    "3.[] 빈 대괄호는 초기화  \n",
    "4.숫자, 문자, bool, 리스트 같은 객체 모두 담을 수 있다  \n",
    "5. 순서 index를 가진다 0시작  \n",
    "6. 음수, 인덱스도 가진다    "
   ]
  },
  {
   "cell_type": "code",
   "execution_count": 2,
   "id": "c06711fd-33b2-47ff-beb6-f7438a797958",
   "metadata": {},
   "outputs": [
    {
     "data": {
      "text/plain": [
       "30"
      ]
     },
     "execution_count": 2,
     "metadata": {},
     "output_type": "execute_result"
    }
   ],
   "source": [
    "score=[30,50,90,80,100]\n",
    "score[0]"
   ]
  },
  {
   "cell_type": "code",
   "execution_count": 4,
   "id": "05a30d98-03c7-4f25-b0ae-78f8a7de0232",
   "metadata": {},
   "outputs": [
    {
     "data": {
      "text/plain": [
       "(list, int)"
      ]
     },
     "execution_count": 4,
     "metadata": {},
     "output_type": "execute_result"
    }
   ],
   "source": [
    "type(score), type(score[0])"
   ]
  },
  {
   "cell_type": "code",
   "execution_count": 6,
   "id": "8f05895a-6400-45ac-ac1d-bcbfce143187",
   "metadata": {},
   "outputs": [
    {
     "data": {
      "text/plain": [
       "['__add__',\n",
       " '__class__',\n",
       " '__class_getitem__',\n",
       " '__contains__',\n",
       " '__delattr__',\n",
       " '__delitem__',\n",
       " '__dir__',\n",
       " '__doc__',\n",
       " '__eq__',\n",
       " '__format__',\n",
       " '__ge__',\n",
       " '__getattribute__',\n",
       " '__getitem__',\n",
       " '__gt__',\n",
       " '__hash__',\n",
       " '__iadd__',\n",
       " '__imul__',\n",
       " '__init__',\n",
       " '__init_subclass__',\n",
       " '__iter__',\n",
       " '__le__',\n",
       " '__len__',\n",
       " '__lt__',\n",
       " '__mul__',\n",
       " '__ne__',\n",
       " '__new__',\n",
       " '__reduce__',\n",
       " '__reduce_ex__',\n",
       " '__repr__',\n",
       " '__reversed__',\n",
       " '__rmul__',\n",
       " '__setattr__',\n",
       " '__setitem__',\n",
       " '__sizeof__',\n",
       " '__str__',\n",
       " '__subclasshook__',\n",
       " 'append',\n",
       " 'clear',\n",
       " 'copy',\n",
       " 'count',\n",
       " 'extend',\n",
       " 'index',\n",
       " 'insert',\n",
       " 'pop',\n",
       " 'remove',\n",
       " 'reverse',\n",
       " 'sort']"
      ]
     },
     "execution_count": 6,
     "metadata": {},
     "output_type": "execute_result"
    }
   ],
   "source": [
    "dir(score)"
   ]
  },
  {
   "cell_type": "code",
   "execution_count": 12,
   "id": "13a93a79-e27a-43a3-b536-6d68a72dfcc0",
   "metadata": {},
   "outputs": [],
   "source": [
    "ra=range(2,20,2)"
   ]
  },
  {
   "cell_type": "code",
   "execution_count": 18,
   "id": "d4ec55b3-36a0-409b-ae2b-dab110683eaf",
   "metadata": {},
   "outputs": [
    {
     "data": {
      "text/plain": [
       "[2, 4, 6, 8, 10, 12, 14, 16, 18]"
      ]
     },
     "execution_count": 18,
     "metadata": {},
     "output_type": "execute_result"
    }
   ],
   "source": [
    "num_list=list(ra)\n",
    "num_list"
   ]
  },
  {
   "cell_type": "code",
   "execution_count": 20,
   "id": "ad4a27a2-51b6-4750-9ef9-20dfd2511614",
   "metadata": {},
   "outputs": [
    {
     "data": {
      "text/plain": [
       "18"
      ]
     },
     "execution_count": 20,
     "metadata": {},
     "output_type": "execute_result"
    }
   ],
   "source": [
    "num_list[-1]"
   ]
  },
  {
   "cell_type": "code",
   "execution_count": 23,
   "id": "35cd23d5-285b-4176-be4f-8c2567eada96",
   "metadata": {},
   "outputs": [
    {
     "data": {
      "text/plain": [
       "9"
      ]
     },
     "execution_count": 23,
     "metadata": {},
     "output_type": "execute_result"
    }
   ],
   "source": [
    "ra.__len__()"
   ]
  },
  {
   "cell_type": "code",
   "execution_count": 32,
   "id": "b080956f-35ad-4285-8eba-ffe42f2b1c72",
   "metadata": {},
   "outputs": [
    {
     "data": {
      "text/plain": [
       "0"
      ]
     },
     "execution_count": 32,
     "metadata": {},
     "output_type": "execute_result"
    }
   ],
   "source": [
    "num_list.count(17)"
   ]
  },
  {
   "cell_type": "markdown",
   "id": "63159881-80cc-4179-9016-4b48879b351a",
   "metadata": {},
   "source": [
    "Method와 function\n",
    "\n",
    "1.method: 객체에 한해서 공작하는 함수>객체명.함수()  \n",
    "2.function: 함수(매개변수)>매개변수 필요  \n",
    "\n",
    "dir() >function  \n",
    "list_obj.__len__()>method  "
   ]
  },
  {
   "cell_type": "code",
   "execution_count": 34,
   "id": "dd9a892e-f1fc-404b-a521-8da60739f6d4",
   "metadata": {},
   "outputs": [
    {
     "data": {
      "text/plain": [
       "'h'"
      ]
     },
     "execution_count": 34,
     "metadata": {},
     "output_type": "execute_result"
    }
   ],
   "source": [
    "str_1='hello'\n",
    "str_1[:1]"
   ]
  },
  {
   "cell_type": "code",
   "execution_count": 37,
   "id": "41b3c647-db75-46ad-bf8e-3cdd2cc1e32b",
   "metadata": {},
   "outputs": [
    {
     "data": {
      "text/plain": [
       "['h', 'e', 'l', 'l', 'o']"
      ]
     },
     "execution_count": 37,
     "metadata": {},
     "output_type": "execute_result"
    }
   ],
   "source": [
    "list(str_1)"
   ]
  },
  {
   "cell_type": "code",
   "execution_count": 40,
   "id": "fb18ac93-50e4-4e2c-8051-9b80d6dfba52",
   "metadata": {},
   "outputs": [
    {
     "data": {
      "text/plain": [
       "['H', 'e', 'l', 'l', 'o']"
      ]
     },
     "execution_count": 40,
     "metadata": {},
     "output_type": "execute_result"
    }
   ],
   "source": [
    "str_2=list(str_1)\n",
    "str_2[0]='H'\n",
    "str_2"
   ]
  },
  {
   "cell_type": "code",
   "execution_count": 42,
   "id": "82c1d654-f7a4-416e-ad8b-9635f9ca8e0e",
   "metadata": {},
   "outputs": [
    {
     "data": {
      "text/plain": [
       "\"['H', 'e', 'l', 'l', 'o']\""
      ]
     },
     "execution_count": 42,
     "metadata": {},
     "output_type": "execute_result"
    }
   ],
   "source": [
    "str(str_2)"
   ]
  },
  {
   "cell_type": "code",
   "execution_count": 46,
   "id": "e57964eb-bb1c-4b2f-8b80-55387db29fb8",
   "metadata": {},
   "outputs": [
    {
     "data": {
      "text/plain": [
       "'Hello'"
      ]
     },
     "execution_count": 46,
     "metadata": {},
     "output_type": "execute_result"
    }
   ],
   "source": [
    "''.join(str_2)"
   ]
  },
  {
   "cell_type": "code",
   "execution_count": 47,
   "id": "958ee053-4200-48c8-83e0-2f82e9ade550",
   "metadata": {},
   "outputs": [],
   "source": [
    "a=list()\n",
    "a=[]\n",
    "b=[1,2,3,4,5]\n",
    "c=['aaa','bbb','ccc']\n",
    "d=[1,2,'aaa','bbb']\n",
    "e=[c,d]"
   ]
  },
  {
   "cell_type": "code",
   "execution_count": 49,
   "id": "0eab4258-b42f-4d21-876a-57db840a4215",
   "metadata": {},
   "outputs": [
    {
     "data": {
      "text/plain": [
       "(['aaa', 'bbb', 'ccc'], list)"
      ]
     },
     "execution_count": 49,
     "metadata": {},
     "output_type": "execute_result"
    }
   ],
   "source": [
    "e[0],type(e[1])"
   ]
  },
  {
   "cell_type": "code",
   "execution_count": 50,
   "id": "3e2bcf76-2952-4765-9827-d3ee7e404464",
   "metadata": {},
   "outputs": [
    {
     "data": {
      "text/plain": [
       "([1, 2, 'aaa', 'bbb'], [1, 2, 'aaa', 'bbb'])"
      ]
     },
     "execution_count": 50,
     "metadata": {},
     "output_type": "execute_result"
    }
   ],
   "source": [
    "e[1],e[-1]"
   ]
  },
  {
   "cell_type": "code",
   "execution_count": 51,
   "id": "d5fdfce3-7e8a-4c3f-8f0c-8a90d8f958be",
   "metadata": {},
   "outputs": [
    {
     "data": {
      "text/plain": [
       "'aaa'"
      ]
     },
     "execution_count": 51,
     "metadata": {},
     "output_type": "execute_result"
    }
   ],
   "source": [
    "e[1][2]"
   ]
  },
  {
   "cell_type": "code",
   "execution_count": 52,
   "id": "2cfa7c32-5611-4402-b172-e627676122bd",
   "metadata": {},
   "outputs": [
    {
     "data": {
      "text/plain": [
       "[[1, 2], [3, 4]]"
      ]
     },
     "execution_count": 52,
     "metadata": {},
     "output_type": "execute_result"
    }
   ],
   "source": [
    "score=[[1,2],[3,4]]\n",
    "score"
   ]
  },
  {
   "cell_type": "markdown",
   "id": "cfa0656b-9bf1-483d-b02d-0c635c67a47c",
   "metadata": {},
   "source": [
    "복사  \n",
    "1. 얕은복사 shallow copy\n",
    "2. 깊은복사 deep copy  "
   ]
  },
  {
   "cell_type": "code",
   "execution_count": 54,
   "id": "3dc3d1ef-e32e-4aa4-bd7b-3365dc4c321e",
   "metadata": {},
   "outputs": [
    {
     "data": {
      "text/plain": [
       "[[100, 2], [3, 4]]"
      ]
     },
     "execution_count": 54,
     "metadata": {},
     "output_type": "execute_result"
    }
   ],
   "source": [
    "new_score=score[:]                #얕은카피\n",
    "new_score[0][0]=100                       #리스트 안 숫자 바꾸기\n",
    "new_score"
   ]
  },
  {
   "cell_type": "code",
   "execution_count": 55,
   "id": "4f405f8c-9744-4b9d-ab77-489e78da7812",
   "metadata": {},
   "outputs": [
    {
     "data": {
      "text/plain": [
       "[[100, 2], [3, 4]]"
      ]
     },
     "execution_count": 55,
     "metadata": {},
     "output_type": "execute_result"
    }
   ],
   "source": [
    "score"
   ]
  },
  {
   "cell_type": "code",
   "execution_count": 56,
   "id": "c986183e-5058-4297-9e02-c1fbb43b3455",
   "metadata": {},
   "outputs": [
    {
     "data": {
      "text/plain": [
       "[[100, 99], [3, 4]]"
      ]
     },
     "execution_count": 56,
     "metadata": {},
     "output_type": "execute_result"
    }
   ],
   "source": [
    "import copy\n",
    "copied=copy.copy(score)\n",
    "copied[0][1]=99\n",
    "copied"
   ]
  },
  {
   "cell_type": "code",
   "execution_count": 57,
   "id": "9b00a8fb-078b-456b-9e47-5d8990bca787",
   "metadata": {},
   "outputs": [
    {
     "data": {
      "text/plain": [
       "[[100, 99], [3, 4]]"
      ]
     },
     "execution_count": 57,
     "metadata": {},
     "output_type": "execute_result"
    }
   ],
   "source": [
    "score"
   ]
  },
  {
   "cell_type": "code",
   "execution_count": 59,
   "id": "e73e37b3-940e-46a6-970b-603fcff430c1",
   "metadata": {},
   "outputs": [
    {
     "data": {
      "text/plain": [
       "[[100, 99], [100, 4]]"
      ]
     },
     "execution_count": 59,
     "metadata": {},
     "output_type": "execute_result"
    }
   ],
   "source": [
    "deepcopied= copy.deepcopy(score)        #참조와 상관없이 값만 복제\n",
    "deepcopied[1][0]=100\n",
    "deepcopied                            #원본은 놔두고 테스트,시뮬레이션 하고싶으면 deepcopy"
   ]
  },
  {
   "cell_type": "code",
   "execution_count": 61,
   "id": "37c51f83-ba1f-43b7-a514-993fa493718c",
   "metadata": {},
   "outputs": [
    {
     "data": {
      "text/plain": [
       "[[100, 99], [3, 4]]"
      ]
     },
     "execution_count": 61,
     "metadata": {},
     "output_type": "execute_result"
    }
   ],
   "source": [
    "score"
   ]
  },
  {
   "cell_type": "markdown",
   "id": "136b3423-e82e-4386-8399-eaf8d6ded20d",
   "metadata": {},
   "source": [
    "#리스트의 연산  \n",
    "\n",
    "-'+'__add__()  \n",
    "-'*'__mul__()  \n",
    "- del list[항목]\n",
    "- in list ->True/False"
   ]
  },
  {
   "cell_type": "code",
   "execution_count": 79,
   "id": "5acb9c92-1d34-46fa-944e-724ce0f25fe4",
   "metadata": {},
   "outputs": [
    {
     "data": {
      "text/plain": [
       "['해물라면', '샐러드', '떡볶이', '오무라이스', '볶음밥', '떡뽂이', '제육', '주먹밥']"
      ]
     },
     "execution_count": 79,
     "metadata": {},
     "output_type": "execute_result"
    }
   ],
   "source": [
    "lunch1=['해물라면','샐러드','떡볶이']\n",
    "lunch2=['오무라이스','볶음밥','떡뽂이','제육','주먹밥']\n",
    "lunch1+lunch2"
   ]
  },
  {
   "cell_type": "code",
   "execution_count": 80,
   "id": "dfe2972c-8e16-49ce-a03f-d0f9a2eaf60b",
   "metadata": {},
   "outputs": [
    {
     "data": {
      "text/plain": [
       "['해물라면', '샐러드', '떡볶이', '해물라면', '샐러드', '떡볶이']"
      ]
     },
     "execution_count": 80,
     "metadata": {},
     "output_type": "execute_result"
    }
   ],
   "source": [
    "lunch1*2"
   ]
  },
  {
   "cell_type": "code",
   "execution_count": 81,
   "id": "2ac36d17-d44f-4f9e-9bbb-0901541911ce",
   "metadata": {},
   "outputs": [
    {
     "data": {
      "text/plain": [
       "['샐러드', '떡볶이']"
      ]
     },
     "execution_count": 81,
     "metadata": {},
     "output_type": "execute_result"
    }
   ],
   "source": [
    "del lunch1[0]\n",
    "lunch1"
   ]
  },
  {
   "cell_type": "code",
   "execution_count": 129,
   "id": "f5afee47-560d-414f-9045-28d9e0ad9664",
   "metadata": {},
   "outputs": [
    {
     "data": {
      "text/plain": [
       "['샐러드', '오무라이스', '볶음밥', '떡뽂이', '제육', '주먹밥']"
      ]
     },
     "execution_count": 129,
     "metadata": {},
     "output_type": "execute_result"
    }
   ],
   "source": [
    "#lunch1과 lunch2를 합하고 '떡뽁이'1개를 제외하시오\n",
    "lunch3=lunch1+lunch2\n",
    "del lunch3[1]\n",
    "lunch3"
   ]
  },
  {
   "cell_type": "code",
   "execution_count": 130,
   "id": "e33f4591-06a4-446c-8f60-3bda0a55c1df",
   "metadata": {},
   "outputs": [
    {
     "data": {
      "text/plain": [
       "True"
      ]
     },
     "execution_count": 130,
     "metadata": {},
     "output_type": "execute_result"
    }
   ],
   "source": [
    "'떡뽂이' in lunch3"
   ]
  },
  {
   "cell_type": "code",
   "execution_count": 25,
   "id": "4dd2e284-c451-47d4-80a9-75f03086848e",
   "metadata": {},
   "outputs": [
    {
     "name": "stdin",
     "output_type": "stream",
     "text": [
      "먹고 싶은 간식을 추가하세요.  단, 쉼표(,)로 연결하세요 홈런볼, 사이다\n"
     ]
    }
   ],
   "source": [
    "# 간식박스 관리 프로그램 1\n",
    "snack_box = ['초코파이']\n",
    "new_snack = input('먹고 싶은 간식을 추가하세요.  단, 쉼표(,)로 연결하세요').split(',')\n",
    "snack_box += new_snack"
   ]
  },
  {
   "cell_type": "code",
   "execution_count": 26,
   "id": "4f954f07-e5fd-4af0-986d-a8f23d2ea33d",
   "metadata": {},
   "outputs": [
    {
     "data": {
      "text/plain": [
       "['초코파이', '홈런볼', ' 사이다']"
      ]
     },
     "execution_count": 26,
     "metadata": {},
     "output_type": "execute_result"
    }
   ],
   "source": [
    "snack_box"
   ]
  },
  {
   "cell_type": "code",
   "execution_count": 27,
   "id": "5f0e950a-a087-4be3-b471-65b08ebea803",
   "metadata": {},
   "outputs": [
    {
     "name": "stdin",
     "output_type": "stream",
     "text": [
      "간식박스를 몇 세트로 포장할까요? 예:2->2box 2\n"
     ]
    }
   ],
   "source": [
    "qty=int(input('간식박스를 몇 세트로 포장할까요? 예:2->2box'))"
   ]
  },
  {
   "cell_type": "code",
   "execution_count": null,
   "id": "14d75ad2-5f9d-4ef8-ba4e-dfab21182236",
   "metadata": {},
   "outputs": [],
   "source": []
  },
  {
   "cell_type": "code",
   "execution_count": 28,
   "id": "35d8817f-9924-482e-a339-e9f3f7be7ff7",
   "metadata": {},
   "outputs": [
    {
     "data": {
      "text/plain": [
       "['초코파이', '홈런볼', ' 사이다', '초코파이', '홈런볼', ' 사이다']"
      ]
     },
     "execution_count": 28,
     "metadata": {},
     "output_type": "execute_result"
    }
   ],
   "source": [
    "snack_box*=qty\n",
    "snack_box"
   ]
  },
  {
   "cell_type": "code",
   "execution_count": 29,
   "id": "a6ec0ba8-fed9-45e6-893a-328356aa119f",
   "metadata": {},
   "outputs": [
    {
     "name": "stdout",
     "output_type": "stream",
     "text": [
      "주문하신 간식상자는 초코파이,홈런볼, 사이다 등입니다. 확인해주세요\n"
     ]
    }
   ],
   "source": [
    "print(f'주문하신 간식상자는 {snack_box[0]},{snack_box[1]},{snack_box[2]} 등입니다. 확인해주세요')"
   ]
  },
  {
   "cell_type": "code",
   "execution_count": null,
   "id": "139fbc68-903f-4b8a-ab9f-08a287f26441",
   "metadata": {},
   "outputs": [],
   "source": []
  },
  {
   "cell_type": "code",
   "execution_count": null,
   "id": "6d9c7603-efc4-457e-b46b-28a8d17a4c43",
   "metadata": {},
   "outputs": [],
   "source": []
  },
  {
   "cell_type": "code",
   "execution_count": 31,
   "id": "2421cec7-54be-4d44-b62f-c1a6c8c2e216",
   "metadata": {},
   "outputs": [
    {
     "name": "stdin",
     "output_type": "stream",
     "text": [
      "혹시 빼고싶은 간식이 있으면 번호를 입력하세요(0~5) 2\n"
     ]
    }
   ],
   "source": [
    "msg=f'혹시 빼고싶은 간식이 있으면 번호를 입력하세요(0~{len(snack_box)-1})'\n",
    "snack_no=int(input(msg))"
   ]
  },
  {
   "cell_type": "code",
   "execution_count": 32,
   "id": "9473e5ef-8a47-4c91-9bce-82399f492571",
   "metadata": {},
   "outputs": [],
   "source": [
    "del snack_box[snack_no]"
   ]
  },
  {
   "cell_type": "code",
   "execution_count": null,
   "id": "68e9eb4e-97d7-4efb-b354-be31eb954ffa",
   "metadata": {},
   "outputs": [],
   "source": [
    "#간식박스 관리 프로그램4\n",
    "#찾고싶은 간식번호를 입력하세요"
   ]
  },
  {
   "cell_type": "code",
   "execution_count": 33,
   "id": "1e8b7266-8d89-4387-a0be-aec307865bd8",
   "metadata": {
    "scrolled": true
   },
   "outputs": [
    {
     "data": {
      "text/plain": [
       "['초코파이', '홈런볼', '초코파이', '홈런볼', ' 사이다']"
      ]
     },
     "execution_count": 33,
     "metadata": {},
     "output_type": "execute_result"
    }
   ],
   "source": [
    "snack_box  "
   ]
  },
  {
   "cell_type": "code",
   "execution_count": 34,
   "id": "90015422-a763-41c2-840e-70178558cd44",
   "metadata": {},
   "outputs": [
    {
     "name": "stdin",
     "output_type": "stream",
     "text": [
      "찾고 싶은 간식을 입력하세요 사이다\n"
     ]
    },
    {
     "name": "stdout",
     "output_type": "stream",
     "text": [
      "없어요\n"
     ]
    }
   ],
   "source": [
    "snack_name=input('찾고 싶은 간식을 입력하세요')\n",
    "if snack_name in snack_box:\n",
    "    print('있어요')\n",
    "else:\n",
    "    print('없어요')"
   ]
  },
  {
   "cell_type": "code",
   "execution_count": 35,
   "id": "81572d24-edf1-4718-b987-ff025327cd97",
   "metadata": {},
   "outputs": [
    {
     "name": "stdout",
     "output_type": "stream",
     "text": [
      "주문하신 간식박스는 뒤에서부터 다음과 같습니다.\n",
      "[' 사이다', '홈런볼', '초코파이', '홈런볼', '초코파이']\n",
      "[' 사이다', '홈런볼', '초코파이', '홈런볼', '초코파이'],총 5개\n"
     ]
    }
   ],
   "source": [
    "#간식박스 관리 프로그램5\n",
    "print('주문하신 간식박스는 뒤에서부터 다음과 같습니다.')\n",
    "print(snack_box[::-1])\n",
    "print(f'{snack_box[::-1]},총 {len(snack_box)}개')"
   ]
  }
 ],
 "metadata": {
  "kernelspec": {
   "display_name": "Python 3(myenv)",
   "language": "python",
   "name": "myenv"
  },
  "language_info": {
   "codemirror_mode": {
    "name": "ipython",
    "version": 3
   },
   "file_extension": ".py",
   "mimetype": "text/x-python",
   "name": "python",
   "nbconvert_exporter": "python",
   "pygments_lexer": "ipython3",
   "version": "3.10.16"
  }
 },
 "nbformat": 4,
 "nbformat_minor": 5
}
