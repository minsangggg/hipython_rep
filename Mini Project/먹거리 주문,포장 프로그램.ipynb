{
 "cells": [
  {
   "cell_type": "code",
   "execution_count": 5,
   "id": "162b3211-0a2d-4288-96f3-626e293381a4",
   "metadata": {},
   "outputs": [],
   "source": [
    "#1.간식박스 생성 create\n",
    "\n",
    "def make_snack_box():\n",
    "    snack_box=['초코파이']          #처음\n",
    "    new_snack=input('먹고 싶은 간식을 추가하세요:').split(',')   #간식 추가\n",
    "    snack_box+=new_snack  #기존 초코파이에 연결해서 추가\n",
    "    return snack_box"
   ]
  },
  {
   "cell_type": "code",
   "execution_count": 6,
   "id": "b5ee481b-78ec-465e-9736-51beae51d068",
   "metadata": {},
   "outputs": [],
   "source": [
    "#2.간식세트 포장 update\n",
    "def multiply_snack_box(snack_box):\n",
    "    qty=int(input('간식박스 몇 세트로 포장할까?'))\n",
    "    return snack_box*qty"
   ]
  },
  {
   "cell_type": "code",
   "execution_count": 7,
   "id": "69d0b3a0-d767-4cc4-b9f9-444c38cc5810",
   "metadata": {},
   "outputs": [],
   "source": [
    "#간식박스 전체보기\n",
    "def display_snack_box(snack_box):\n",
    "    print(f'{snack_box[::-1]}, 총 {len(snack_box)}개 입니다')"
   ]
  },
  {
   "cell_type": "code",
   "execution_count": 8,
   "id": "2c7c8cdf-351f-480d-ab47-52e9251ef417",
   "metadata": {},
   "outputs": [],
   "source": [
    "def preview_snack_box(snack_box):\n",
    "    preview=','.join(snack_box[:3])\n",
    "    print(f'선택하신 간식은 {preview}입니다')"
   ]
  },
  {
   "cell_type": "code",
   "execution_count": 9,
   "id": "0333cf5d-5a7a-43d6-8369-c1cd763b2104",
   "metadata": {},
   "outputs": [],
   "source": [
    "#간식찾기 search\n",
    "def search_snack_box(snack_box):\n",
    "    snack_name=input('찾고 싶은 간식을 입력하세요')\n",
    "    print('있어요' if snack_name in snack_box else '없어요')"
   ]
  },
  {
   "cell_type": "code",
   "execution_count": 10,
   "id": "f0d389b1-6ee0-4899-ae11-d838d69cddd7",
   "metadata": {},
   "outputs": [],
   "source": [
    "def remove_snack_box(snack_box):\n",
    "    #예외처리\n",
    "    if not snack_box:\n",
    "        print('간식박스가 비어 있어요')\n",
    "        return\n",
    "\n",
    "    display_snack_box(snack_box)\n",
    "\n",
    "    msg = f'혹시 빼고싶은 간식이 있으면 번호를 입력하세요 (0~{len(snack_box)-1})'\n",
    "    snack_no = int(input(msg))\n",
    "\n",
    "    #snack_no validation\n",
    "\n",
    "    del snack_box[snack_no]\n",
    "    return snack_box"
   ]
  },
  {
   "cell_type": "code",
   "execution_count": 11,
   "id": "98e365c8-5d82-49e0-a192-eded78376c32",
   "metadata": {},
   "outputs": [],
   "source": [
    "def summarize_snacks(snack_box):\n",
    "    summary={}\n",
    "    for snack in snack_box:\n",
    "        summary[snack]=summary.get(snack,0)+1\n",
    "\n",
    "        print('간식박스 정리')\n",
    "        for snack, qty in summary.items():\n",
    "            print(f'- {snack}:{qty}개')"
   ]
  },
  {
   "cell_type": "code",
   "execution_count": 13,
   "id": "ec00aa74-4692-4d75-9be4-6078888e906f",
   "metadata": {},
   "outputs": [
    {
     "name": "stdout",
     "output_type": "stream",
     "text": [
      "먹고 싶은 간식을 추가하세요: 초밥,치킨\n"
     ]
    },
    {
     "name": "stdout",
     "output_type": "stream",
     "text": [
      "간식박스가 만들어졌어요\n",
      "['치킨', '초밥', '초코파이'], 총 3개 입니다\n"
     ]
    },
    {
     "name": "stdout",
     "output_type": "stream",
     "text": [
      "간식박스 몇 세트로 포장할까? 2\n"
     ]
    },
    {
     "name": "stdout",
     "output_type": "stream",
     "text": [
      "간식박스 정리\n",
      "- 초코파이:1개\n",
      "간식박스 정리\n",
      "- 초코파이:1개\n",
      "- 초밥:1개\n",
      "간식박스 정리\n",
      "- 초코파이:1개\n",
      "- 초밥:1개\n",
      "- 치킨:1개\n",
      "간식박스 정리\n",
      "- 초코파이:2개\n",
      "- 초밥:1개\n",
      "- 치킨:1개\n",
      "간식박스 정리\n",
      "- 초코파이:2개\n",
      "- 초밥:2개\n",
      "- 치킨:1개\n",
      "간식박스 정리\n",
      "- 초코파이:2개\n",
      "- 초밥:2개\n",
      "- 치킨:2개\n"
     ]
    },
    {
     "name": "stdout",
     "output_type": "stream",
     "text": [
      "찾고 싶은 간식을 입력하세요 초밥\n"
     ]
    },
    {
     "name": "stdout",
     "output_type": "stream",
     "text": [
      "있어요\n",
      "['치킨', '초밥', '초코파이', '치킨', '초밥', '초코파이'], 총 6개 입니다\n"
     ]
    },
    {
     "name": "stdout",
     "output_type": "stream",
     "text": [
      "혹시 빼고싶은 간식이 있으면 번호를 입력하세요 (0~5) 3\n"
     ]
    },
    {
     "name": "stdout",
     "output_type": "stream",
     "text": [
      "['치킨', '초밥', '치킨', '초밥', '초코파이'], 총 5개 입니다\n"
     ]
    }
   ],
   "source": [
    "box=make_snack_box()\n",
    "print('간식박스가 만들어졌어요')\n",
    "display_snack_box(box)\n",
    "box=multiply_snack_box(box)\n",
    "summarize_snacks(box)\n",
    "\n",
    "search_snack_box(box)\n",
    "remove_snack_box(box)\n",
    "display_snack_box(box)"
   ]
  },
  {
   "cell_type": "markdown",
   "id": "d6fe5645-fa7f-4c97-af35-13415e3a5593",
   "metadata": {},
   "source": [
    "메뉴 형식으로 구조를 개편  "
   ]
  },
  {
   "cell_type": "code",
   "execution_count": 40,
   "id": "7c2b9aa0-dd38-4e2f-a489-5c20b7dcc1d9",
   "metadata": {},
   "outputs": [],
   "source": [
    "#선택반복"
   ]
  },
  {
   "cell_type": "code",
   "execution_count": 24,
   "id": "d6024cc4-920d-4c17-9771-540a99ce52eb",
   "metadata": {},
   "outputs": [],
   "source": [
    "def get_valid_text_input(msg):\n",
    "    user_input=input(msg).strip()\n",
    "    if not user_input:\n",
    "        print('입력값을 확인하세요')\n",
    "        return None\n",
    "    return user_input\n",
    "\n",
    "def get_valid_number_input(msg, min_no=1, max_no=5):\n",
    "    try:\n",
    "        number=int(input(msg))\n",
    "        if number<min_no:\n",
    "            print(f'{min_no}이상 숫자를 입력하세여')\n",
    "            return None\n",
    "        elif number>max_no:\n",
    "            print(f'{max_no}이하 숫자를 입력하세요')\n",
    "            return None\n",
    "        else:\n",
    "            return number\n",
    "    except ValueError:\n",
    "        print('숫자로 입력하세여')\n",
    "        return None"
   ]
  },
  {
   "cell_type": "code",
   "execution_count": 25,
   "id": "e452e89d-7eed-40d5-a213-818d1b0f94cd",
   "metadata": {},
   "outputs": [],
   "source": [
    "#-- 기본 함수 정의\n",
    "#1. 간식박스 생성 create\n",
    "def make_snack_box():\n",
    "    snack_box = ['초코파이']\n",
    "    make_msg = '먹고 싶은 간식을 추가하세요.  단, 쉼표(,)로 연결하세요'\n",
    "    new_snack = get_valid_text_input(make_msg).split(',')\n",
    "    snack_box += new_snack\n",
    "    return snack_box\n",
    "    \n",
    "#2. 간식세트 포장 *2 update\n",
    "def multiply_snack_box(snack_box) :\n",
    "    mul_msg = '간식박스 몇 세트로 포장할까요? 예: 2 -> 2box'\n",
    "    qty = get_valid_number_input(mul_msg, 2, 5)\n",
    "    return snack_box * qty\n",
    "\n",
    "#6. 간식박스 전체보기 read\n",
    "def display_snack_box(snack_box):\n",
    "    print(f'{snack_box[::-1]}, 총 {len(snack_box)}개 입니다. ')\n",
    "\n",
    "#3. 간식박스 미리보기(3개만) read - signature\n",
    "def preview_snack_box(snack_box):\n",
    "    preview = ','.join(snack_box[:3])\n",
    "    print(f'선택하신 간식은 {preview}등 입니다.')\n",
    "\n",
    "#4. 간식삭제 delete\n",
    "def remove_snack_box(snack_box):\n",
    "    #예외처리\n",
    "    if not snack_box:\n",
    "        print('간식박스가 비어 있어요')\n",
    "        return\n",
    "        \n",
    "    display_snack_box(snack_box)\n",
    "\n",
    "    snack_cnt = len(snack_box)-1\n",
    "    rem_msg = f'혹시 빼고싶은 간식이 있으면 번호를 입력하세요 (0~{snack_cnt})'\n",
    "    snack_no = get_valid_number_input(rem_msg, 0, snack_cnt)\n",
    "    \n",
    "    del snack_box[snack_no]\n",
    "    return snack_box\n",
    "\n",
    "#5. 간식찾기 search\n",
    "def search_snack(snack_box):\n",
    "    search_msg = '찾고 싶은 간식을 입력하세요'\n",
    "    snack_name = get_valid_text_input(search_msg)\n",
    "    print('있어요' if snack_name in snack_box else '없어요')\n",
    "\n",
    "#7. 간식박스 요약\n",
    "def summarize_snacks(snack_box):\n",
    "    summary = {}\n",
    "    for snack in snack_box:\n",
    "        summary[snack] = summary.get(snack,0)+1\n",
    "\n",
    "    print('간식박스 정리')\n",
    "    for snack, qty in summary.items():\n",
    "        print(f'- {snack} : {qty}개')"
   ]
  },
  {
   "cell_type": "code",
   "execution_count": 26,
   "id": "6e1f091a-bf74-4e9f-9957-e86c68995f2a",
   "metadata": {},
   "outputs": [],
   "source": [
    "def run_menu_program():\n",
    "    snack_box = []\n",
    "    while True:\n",
    "        print('간식박스 관리 프로그램 메뉴')\n",
    "        print('1. 간식박스 생성')\n",
    "        print('2. 세트 생성')\n",
    "        print('3. 세트 미리보기')\n",
    "        print('4. 간식 삭제')\n",
    "        print('5. 간식 검색')\n",
    "        print('6. 간식박스 요약')\n",
    "        print('7. 최종 간식박스 확인')\n",
    "\n",
    "        choice = input('원하는 메뉴 번호를 입력하세요 : ')\n",
    "\n",
    "        if choice == '1':\n",
    "            snack_box = make_snack_box()\n",
    "        elif choice == '2':\n",
    "            snack_box = multiply_snack_box(snack_box)\n",
    "        elif choice == '3':\n",
    "            preview_snack_box(snack_box)\n",
    "        elif choice == '4':\n",
    "            remove_snack_box(snack_box)\n",
    "        elif choice == '5':\n",
    "            search_snack(snack_box)\n",
    "        elif choice == '6': \n",
    "            summarize_snacks(snack_box)\n",
    "        elif choice == '7':\n",
    "            display_snack_box(snack_box)\n",
    "\n",
    "        \n"
   ]
  },
  {
   "cell_type": "code",
   "execution_count": null,
   "id": "1acc27d8-2b23-45e4-b9c8-081511554235",
   "metadata": {},
   "outputs": [],
   "source": []
  }
 ],
 "metadata": {
  "kernelspec": {
   "display_name": "Python 3(myenv)",
   "language": "python",
   "name": "myenv"
  },
  "language_info": {
   "codemirror_mode": {
    "name": "ipython",
    "version": 3
   },
   "file_extension": ".py",
   "mimetype": "text/x-python",
   "name": "python",
   "nbconvert_exporter": "python",
   "pygments_lexer": "ipython3",
   "version": "3.10.16"
  }
 },
 "nbformat": 4,
 "nbformat_minor": 5
}
