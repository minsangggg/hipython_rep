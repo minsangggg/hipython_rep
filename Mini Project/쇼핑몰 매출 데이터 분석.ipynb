{
 "cells": [
  {
   "cell_type": "markdown",
   "id": "e0861ed7",
   "metadata": {},
   "source": [
    "#  문제1.\n",
    "\n",
    "Q. 매출 데이터에서 일일 평균 매출 계산하기  \n",
    "\n",
    "-설명: 30일 동안의 쇼핑몰 매출 데이터를 배열로 제공할 때, 일일 평균 매출을 계산하세요.  \n",
    "-힌트: np.mean() 함수를 사용하여 배열의 평균값을 계산합니다.  "
   ]
  },
  {
   "cell_type": "code",
   "execution_count": 2,
   "id": "4c8c0745",
   "metadata": {},
   "outputs": [
    {
     "data": {
      "text/plain": [
       "array([2200, 2350, 2500, 2750, 3000, 3100, 2700, 2600, 2900, 3200, 3400,\n",
       "       3600, 3300, 3100, 2900, 2700, 2800, 2900, 3100, 3200, 3300, 3400,\n",
       "       3500, 3700, 3600, 3500, 3400, 3300, 3000, 3100])"
      ]
     },
     "execution_count": 2,
     "metadata": {},
     "output_type": "execute_result"
    }
   ],
   "source": [
    "import numpy as np\n",
    "sales_data = np.array([2200, 2350, 2500, 2750, 3000, 3100, 2700, 2600, 2900, 3200,\n",
    "                       3400, 3600, 3300, 3100, 2900, 2700, 2800, 2900, 3100, 3200,\n",
    "                       3300, 3400, 3500, 3700, 3600, 3500, 3400, 3300, 3000, 3100])\n",
    "sales_data"
   ]
  },
  {
   "cell_type": "code",
   "execution_count": 5,
   "id": "025bcb4b",
   "metadata": {},
   "outputs": [
    {
     "name": "stdout",
     "output_type": "stream",
     "text": [
      "3070.0\n",
      "3070.0\n"
     ]
    }
   ],
   "source": [
    "avg_sales=np.mean(sales_data)\n",
    "print(avg_sales)\n",
    "#행렬의 합/행렬의 요소수\n",
    "avg_sales=sales_data.sum()/sales_data.size\n",
    "print(avg_sales)"
   ]
  },
  {
   "cell_type": "markdown",
   "id": "893ebf00",
   "metadata": {},
   "source": [
    "# 문제2. \n",
    " - 매출 데이터에서 최대 매출일과 최소 매출일 찾기  \n",
    " - 설명: 매출 데이터에서 가장 높은 매출과 가장 낮은 매출을 기록한 날짜를 찾아보세요.  \n",
    " - 힌트: np.argmax(), np.argmin()을 사용하여 최대값, 최소값의 인덱스를 찾습니다."
   ]
  },
  {
   "cell_type": "code",
   "execution_count": 7,
   "id": "d81f174d",
   "metadata": {},
   "outputs": [
    {
     "data": {
      "text/plain": [
       "(30,)"
      ]
     },
     "execution_count": 7,
     "metadata": {},
     "output_type": "execute_result"
    }
   ],
   "source": [
    "sales_data.shape"
   ]
  },
  {
   "cell_type": "code",
   "execution_count": 14,
   "id": "968f5c5d",
   "metadata": {},
   "outputs": [
    {
     "name": "stdout",
     "output_type": "stream",
     "text": [
      "최대 매출일: 24, 최소 매출일:1\n"
     ]
    }
   ],
   "source": [
    "max_day,min_day=sales_data.argmax(), sales_data.argmin()\n",
    "print(f'최대 매출일: {max_day+1}, 최소 매출일:{min_day+1}')"
   ]
  },
  {
   "cell_type": "markdown",
   "id": "435d16d8",
   "metadata": {},
   "source": [
    "# 문제3.\n",
    "\n",
    "- 7일 단위로 매출 합계 계산하기  \n",
    "- 설명: 30일 매출 데이터를 7일 단위로 나누어 각 주차별 매출 합계를 계산하세요.  \n",
    "- 힌트: 배열을 슬라이싱하거나 reshape()를 사용하여 배열을 변환합니다."
   ]
  },
  {
   "cell_type": "code",
   "execution_count": 16,
   "id": "8421a67b",
   "metadata": {},
   "outputs": [
    {
     "name": "stdout",
     "output_type": "stream",
     "text": [
      "1주차 매출 합계: 18600\n",
      "2주차 매출 합계: 22100\n",
      "3주차 매출 합계: 20900\n",
      "4주차 매출 합계: 24400\n",
      "남은 날짜 매출 합계: 6100\n"
     ]
    }
   ],
   "source": [
    "weeks=sales_data[:28].reshape(4,7)\n",
    "weekly_sums=np.sum(weeks,axis=1)  #각 행의 합계\n",
    "\n",
    "for i,total in enumerate(weekly_sums,1):\n",
    "    print(f\"{i}주차 매출 합계: {total}\")\n",
    "    \n",
    "#weekly_data.sum(axis=0),요일별합계\n",
    "#weekly_data.sum(axis=1), 주별 합계   \n",
    "#남은 2일 계산\n",
    "letfover=np.sum(sales_data[28:])\n",
    "print(\"남은 날짜 매출 합계:\",letfover)"
   ]
  },
  {
   "cell_type": "markdown",
   "id": "f99d2c15",
   "metadata": {},
   "source": [
    "# 문제4.\n",
    "- 매출 데이터에서 특정 조건에 맞는 매출 데이터를 필터랑하시오.  \n",
    "- 설명: 매출이 3000 이상인 날들의 매출만 필터링하여 보여주세요.  \n",
    "- 힌트: 배열에서 조건 필터링을 사용하는 방법을 익힙니다."
   ]
  },
  {
   "cell_type": "code",
   "execution_count": 40,
   "id": "396f4edf",
   "metadata": {},
   "outputs": [
    {
     "data": {
      "text/plain": [
       "array([3000, 3100, 3200, 3400, 3600, 3300, 3100, 3100, 3200, 3300, 3400,\n",
       "       3500, 3700, 3600, 3500, 3400, 3300, 3000, 3100])"
      ]
     },
     "execution_count": 40,
     "metadata": {},
     "output_type": "execute_result"
    }
   ],
   "source": [
    "#filter()\n",
    "high_sales = list(filter(lambda x: x>=3000, sales_data))\n",
    "np.array(high_sales)\n",
    "\n",
    "#filtered_sales=sales_data[sales_data>=3000]\n",
    "#print(\"3000이상인 날들의 매출:\")\n",
    "#print(filtered_sales)"
   ]
  },
  {
   "cell_type": "markdown",
   "id": "7dc53049",
   "metadata": {},
   "source": [
    "# 문제5.\n",
    "\n",
    "- 특정 범위 내 매출의 평균값 계산하기.  \n",
    "- 설명: 매출이 2800에서 3500 사이인 날들의 평균 매출을 계산하세요.  \n",
    "- 힌트: 조건 필터링 후 np.mean()을 사용하여 계산합니다."
   ]
  },
  {
   "cell_type": "code",
   "execution_count": 41,
   "id": "5dc41c26",
   "metadata": {},
   "outputs": [
    {
     "data": {
      "text/plain": [
       "np.float64(3170.0)"
      ]
     },
     "execution_count": 41,
     "metadata": {},
     "output_type": "execute_result"
    }
   ],
   "source": [
    "#filtered_sales2=np.mean(sales_data[(sales_data>=2800) & (sales_data<=3500)])\n",
    "#print(f' 매출이 2800과 3500사이인 날들의 평균 매출 계산:{filtered_sales2}')\n",
    "#print(\"2800 이상 3500 이하 매출의 평균:\", filtered_sales2)\n",
    "\n",
    "cond = (sales_data>=2800)& (sales_data<=3500)\n",
    "sales_data[cond].mean()"
   ]
  },
  {
   "cell_type": "markdown",
   "id": "6d870835",
   "metadata": {},
   "source": [
    "# 주차별 평균계산"
   ]
  },
  {
   "cell_type": "code",
   "execution_count": 26,
   "id": "15b9fc41",
   "metadata": {},
   "outputs": [
    {
     "data": {
      "text/plain": [
       "np.float64(3100.0)"
      ]
     },
     "execution_count": 26,
     "metadata": {},
     "output_type": "execute_result"
    }
   ],
   "source": [
    "#매출의 중앙값\n",
    "med=np.median(sales_data)\n",
    "med"
   ]
  },
  {
   "cell_type": "code",
   "execution_count": 30,
   "id": "02b80681",
   "metadata": {},
   "outputs": [
    {
     "name": "stdout",
     "output_type": "stream",
     "text": [
      "매출이 증가한 날:18일\n",
      "매출이 감소한 날:11일\n"
     ]
    }
   ],
   "source": [
    "#매출이 증가한 날, 감소한 날 카운트\n",
    "df=np.diff(sales_data)\n",
    "increase_days=np.sum(df>0)\n",
    "decrease_days=np.sum(df<0)\n",
    "\n",
    "print(f'매출이 증가한 날:{increase_days}일')\n",
    "print(f'매출이 감소한 날:{decrease_days}일')"
   ]
  },
  {
   "cell_type": "markdown",
   "id": "280935ac",
   "metadata": {},
   "source": [
    "# 각 주차별로 가장 매출이 높았던 날 찾기"
   ]
  },
  {
   "cell_type": "code",
   "execution_count": 37,
   "id": "6541c711",
   "metadata": {},
   "outputs": [
    {
     "name": "stdout",
     "output_type": "stream",
     "text": [
      "1주차: 가장 매출이  높은 날은6일차 (매출:3100)\n",
      "2주차: 가장 매출이  높은 날은12일차 (매출:3600)\n",
      "3주차: 가장 매출이  높은 날은21일차 (매출:3300)\n",
      "4주차: 가장 매출이  높은 날은24일차 (매출:3700)\n"
     ]
    }
   ],
   "source": [
    "\n",
    "\n",
    "#1. 마지막 2일은 제외하고 주차 단위로 자르기\n",
    "weeks=sales_data[:28].reshape(4,7)\n",
    "#2. 각 주차별 최대값 인덱스 찾기\n",
    "max_inweek=np.argmax(weeks,axis=1)\n",
    "#3. 실제 날짜로 변환(0~6, 7~13)\n",
    "act_day=max_inweek+np.arange(0,28,7)\n",
    "#4. 결과 출력\n",
    "for i,day in enumerate(act_day):\n",
    "    print(f'{i+1}주차: 가장 매출이  높은 날은{day+1}일차 (매출:{sales_data[day]})')"
   ]
  },
  {
   "cell_type": "code",
   "execution_count": 46,
   "id": "b920d988",
   "metadata": {},
   "outputs": [
    {
     "name": "stdout",
     "output_type": "stream",
     "text": [
      "[2657.14285714 3157.14285714 2985.71428571 3485.71428571]\n"
     ]
    },
    {
     "data": {
      "text/plain": [
       "[<matplotlib.lines.Line2D at 0x2a06fbdf7a0>]"
      ]
     },
     "execution_count": 46,
     "metadata": {},
     "output_type": "execute_result"
    },
    {
     "data": {
      "image/png": "[encoded data removed]",
      "text/plain": [
       "<Figure size 640x480 with 1 Axes>"
      ]
     },
     "metadata": {},
     "output_type": "display_data"
    }
   ],
   "source": [
    "import matplotlib.pyplot as plt\n",
    "\n",
    "w_mean = weeks.mean(axis=1)\n",
    "print(w_mean)\n",
    "plt.plot(w_mean)"
   ]
  },
  {
   "cell_type": "code",
   "execution_count": 48,
   "id": "b6883280",
   "metadata": {},
   "outputs": [
    {
     "name": "stdout",
     "output_type": "stream",
     "text": [
      "[2657.14285714 3157.14285714 2985.71428571 3485.71428571]\n"
     ]
    },
    {
     "data": {
      "text/plain": [
       "[<matplotlib.lines.Line2D at 0x2a06fe2c9b0>]"
      ]
     },
     "execution_count": 48,
     "metadata": {},
     "output_type": "execute_result"
    },
    {
     "data": {
      "image/png": "[encoded data removed]",
      "text/plain": [
       "<Figure size 640x480 with 1 Axes>"
      ]
     },
     "metadata": {},
     "output_type": "display_data"
    }
   ],
   "source": [
    "weekly_data_1 = weeks.copy().astype(float)\n",
    "weekly_data_1[weekly_data_1==0] = np.nan\n",
    "\n",
    "weekly_mean = np.nanmean(weekly_data_1, axis=1)\n",
    "print(weekly_mean)\n",
    "plt.plot(weekly_mean)"
   ]
  },
  {
   "cell_type": "markdown",
   "id": "294c6aaa",
   "metadata": {},
   "source": [
    "# 매출이 증가한 날, 감소한 날 카운트"
   ]
  },
  {
   "cell_type": "code",
   "execution_count": 50,
   "id": "7491f9ee",
   "metadata": {},
   "outputs": [
    {
     "data": {
      "text/plain": [
       "array([2200, 2350, 2500, 2750, 3000, 3100, 2700, 2600, 2900, 3200, 3400,\n",
       "       3600, 3300, 3100, 2900, 2700, 2800, 2900, 3100, 3200, 3300, 3400,\n",
       "       3500, 3700, 3600, 3500, 3400, 3300, 3000, 3100])"
      ]
     },
     "execution_count": 50,
     "metadata": {},
     "output_type": "execute_result"
    }
   ],
   "source": [
    "sales_data"
   ]
  },
  {
   "cell_type": "code",
   "execution_count": 51,
   "id": "e8f14b42",
   "metadata": {},
   "outputs": [
    {
     "data": {
      "text/plain": [
       "array([ 150,  150,  250,  250,  100, -400, -100,  300,  300,  200,  200,\n",
       "       -300, -200, -200, -200,  100,  100,  200,  100,  100,  100,  100,\n",
       "        200, -100, -100, -100, -100, -300,  100])"
      ]
     },
     "execution_count": 51,
     "metadata": {},
     "output_type": "execute_result"
    }
   ],
   "source": [
    "np.diff(sales_data)"
   ]
  },
  {
   "cell_type": "markdown",
   "id": "8636f60d",
   "metadata": {},
   "source": [
    "# 각 주차별로 가장 매출이 높았던 날 찾기"
   ]
  }
 ],
 "metadata": {
  "kernelspec": {
   "display_name": "hipython",
   "language": "python",
   "name": "python3"
  },
  "language_info": {
   "codemirror_mode": {
    "name": "ipython",
    "version": 3
   },
   "file_extension": ".py",
   "mimetype": "text/x-python",
   "name": "python",
   "nbconvert_exporter": "python",
   "pygments_lexer": "ipython3",
   "version": "3.12.9"
  }
 },
 "nbformat": 4,
 "nbformat_minor": 5
}
