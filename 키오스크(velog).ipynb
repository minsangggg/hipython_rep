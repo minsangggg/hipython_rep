{
 "cells": [
  {
   "cell_type": "code",
   "execution_count": 11,
   "id": "52a9c919-c615-4bb8-8c2a-ad049e359274",
   "metadata": {},
   "outputs": [
    {
     "name": "stdout",
     "output_type": "stream",
     "text": [
      "----------------------------------------\n",
      "어서오세요 바리스타 민상's 카페에 오신것을 환영합니다\n",
      "커피 메뉴를 확인해주세요\n",
      "----------------------------------------\n",
      "1. 에스프레소 - 3000원\n",
      "2. 아이스아메리카노 - 4000원\n",
      "3. 따뜻한라떼 - 5000원\n"
     ]
    },
    {
     "name": "stdin",
     "output_type": "stream",
     "text": [
      "\n",
      "주문할 메뉴 번호를 입력하세요:  2\n",
      "주문할 수량을 숫자로 입력하세요:  2\n"
     ]
    },
    {
     "name": "stdout",
     "output_type": "stream",
     "text": [
      "\n",
      "주문하신 메뉴는 아이스아메리카노 2잔입니다. 결제하실 금액은 8000원입니다.\n",
      "\n",
      "\n",
      "다음은 요거트 아이스크림에 토핑을 추가하는 단계입니다!\n",
      "----------------------------------------\n",
      "기본 요거트 아이스크림에 원하는 토핑을 추가해보세요\n",
      "----------------------------------------\n",
      "\n",
      "기본 메뉴 '요거트 아이스크림'가 자동으로 추가되었습니다. 가격: 3000원\n",
      "\n",
      "토핑 메뉴 목록:\n",
      "2. 바나나 : 4000원\n",
      "3. 딸기 : 5000원\n",
      "4. 벌집꿀 : 7000원\n",
      "5. 그레놀라 : 7000원\n",
      "6. 초코쉘 : 7000원\n"
     ]
    },
    {
     "name": "stdin",
     "output_type": "stream",
     "text": [
      "\n",
      "추가할 토핑 번호를 입력하세요 (종료: 0):  4\n",
      "추가할 개수를 입력하세요:  2\n"
     ]
    },
    {
     "name": "stdout",
     "output_type": "stream",
     "text": [
      "'벌집꿀' 2개가 장바구니에 추가되었습니다.\n",
      "\n",
      "토핑 메뉴 목록:\n",
      "2. 바나나 : 4000원\n",
      "3. 딸기 : 5000원\n",
      "4. 벌집꿀 : 7000원\n",
      "5. 그레놀라 : 7000원\n",
      "6. 초코쉘 : 7000원\n"
     ]
    },
    {
     "name": "stdin",
     "output_type": "stream",
     "text": [
      "\n",
      "추가할 토핑 번호를 입력하세요 (종료: 0):  0\n"
     ]
    },
    {
     "name": "stdout",
     "output_type": "stream",
     "text": [
      "\n",
      "최종 장바구니 목록:\n",
      "1. 요거트 아이스크림 1개 : 3000원\n",
      "2. 벌집꿀 2개 : 14000원\n",
      "\n",
      "아이스크림 + 토핑 총 결제 금액: 17000원\n",
      "\n",
      "총 주문 금액(커피 포함): 25000원\n"
     ]
    }
   ],
   "source": [
    "## 커피 주문 단계\n",
    "store_name = \"바리스타 민상's 카페\"\n",
    "menu_list = ['에스프레소', '아이스아메리카노', '따뜻한라떼']\n",
    "price_list = [3000, 4000, 5000]\n",
    "\n",
    "print(\"-\" * 40)\n",
    "print(f'어서오세요 {store_name}에 오신것을 환영합니다')\n",
    "print(\"커피 메뉴를 확인해주세요\")\n",
    "print(\"-\" * 40)\n",
    "\n",
    "# 메뉴 출력\n",
    "for i in range(len(menu_list)):\n",
    "    print(f'{i+1}. {menu_list[i]} - {price_list[i]}원')\n",
    "\n",
    "# 주문 입력\n",
    "order_num = int(input('\\n주문할 메뉴 번호를 입력하세요: ')) - 1\n",
    "qty = int(input('주문할 수량을 숫자로 입력하세요: '))\n",
    "amt = qty * price_list[order_num]\n",
    "\n",
    "# 주문 결과 출력\n",
    "print(f'\\n주문하신 메뉴는 {menu_list[order_num]} {qty}잔입니다. 결제하실 금액은 {amt}원입니다.')\n",
    "\n",
    "# ------------------------------------------------------\n",
    "\n",
    "# 아이스크림 + 토핑 추가 단계\n",
    "print(\"\\n\\n다음은 요거트 아이스크림에 토핑을 추가하는 단계입니다!\")\n",
    "print(\"-\" * 40)\n",
    "print(\"기본 요거트 아이스크림에 원하는 토핑을 추가해보세요\")\n",
    "print(\"-\" * 40)\n",
    "\n",
    "topping_list = [\n",
    "    {'name': '요거트 아이스크림', 'price': 3000},\n",
    "    {'name': '바나나', 'price': 4000},\n",
    "    {'name': '딸기', 'price': 5000},\n",
    "    {'name': '벌집꿀', 'price': 7000},\n",
    "    {'name': '그레놀라', 'price': 7000},\n",
    "    {'name': '초코쉘', 'price': 7000},\n",
    "]\n",
    "\n",
    "cart = []\n",
    "default_item = topping_list[0]\n",
    "cart.append({'name': default_item['name'], 'price': default_item['price'], 'quantity': 1})\n",
    "print(f\"\\n기본 메뉴 '{default_item['name']}'가 자동으로 추가되었습니다. 가격: {default_item['price']}원\")\n",
    "\n",
    "while True:\n",
    "    print(\"\\n토핑 메뉴 목록:\")\n",
    "    for i, item in enumerate(topping_list[1:], start=2):\n",
    "        print(f\"{i}. {item['name']} : {item['price']}원\")\n",
    "\n",
    "    choice = input(\"\\n추가할 토핑 번호를 입력하세요 (종료: 0): \").strip()\n",
    "    if choice == \"0\":\n",
    "        break\n",
    "\n",
    "    if choice.isdigit() and 2 <= int(choice) <= len(topping_list):\n",
    "        quantity = input(\"추가할 개수를 입력하세요: \").strip()\n",
    "        if quantity.isdigit() and int(quantity) > 0:\n",
    "            selected_item = topping_list[int(choice) - 1]\n",
    "            cart.append({\n",
    "                'name': selected_item['name'],\n",
    "                'price': selected_item['price'],\n",
    "                'quantity': int(quantity)\n",
    "            })\n",
    "            print(f\"'{selected_item['name']}' {quantity}개가 장바구니에 추가되었습니다.\")\n",
    "        else:\n",
    "            print(\"올바른 개수를 입력하세요.\")\n",
    "    else:\n",
    "        print(\"올바른 메뉴 번호를 입력하세요.\")\n",
    "\n",
    "# 최종 장바구니 출력\n",
    "print(\"\\n최종 장바구니 목록:\")\n",
    "if cart:\n",
    "    total_price = 0\n",
    "    for i, item in enumerate(cart, start=1):\n",
    "        item_total = item['price'] * item['quantity']\n",
    "        total_price += item_total\n",
    "        print(f\"{i}. {item['name']} {item['quantity']}개 : {item_total}원\")\n",
    "    print(f\"\\n아이스크림 + 토핑 총 결제 금액: {total_price}원\")\n",
    "    print(f\"\\n총 주문 금액(커피 포함): {amt + total_price}원\")\n",
    "else:\n",
    "    print(\"장바구니가 비어 있습니다.\")"
   ]
  }
 ],
 "metadata": {
  "kernelspec": {
   "display_name": "Python 3(myenv)",
   "language": "python",
   "name": "myenv"
  },
  "language_info": {
   "codemirror_mode": {
    "name": "ipython",
    "version": 3
   },
   "file_extension": ".py",
   "mimetype": "text/x-python",
   "name": "python",
   "nbconvert_exporter": "python",
   "pygments_lexer": "ipython3",
   "version": "3.10.16"
  }
 },
 "nbformat": 4,
 "nbformat_minor": 5
}
