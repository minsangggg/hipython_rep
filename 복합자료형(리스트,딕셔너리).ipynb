{
 "cells": [
  {
   "cell_type": "markdown",
   "id": "fca8df29-211e-472f-9ba0-014d16603a0e",
   "metadata": {},
   "source": [
    "#연산자\n",
    "\n",
    "비식별연산자   \n",
    "1.수치연산: 사칙연산  \n",
    "     add() ->특별 메소드를 정의하고 객체에서  쓸 수 있다\n",
    "     형변환이 자동으로 일어난다 int+float>float, int/int>float\n",
    "\n",
    "2.대입연산: assign, 할당 '='\n",
    "      변수=값\n",
    "      자긱 자신에게 대입하는 연산> +=, -=, *=, /=\n",
    "\n",
    "3.비교연산: '=','=='\n",
    "            '!=' '>=' '<='\n",
    "\n",
    "        리스트의 비교 '=='> 내용이 같은가? \n",
    "        리스트의 주소 'id()' 값이 같은가? ->메모리의 영역이 같은가?  \n",
    "\n",
    "4.논리연산  \n",
    "\n",
    "     and,or,not\n",
    "    &,&&\n",
    "\n",
    "\n",
    "식별연산자    "
   ]
  },
  {
   "cell_type": "code",
   "execution_count": 36,
   "id": "0f91e876-c213-42cd-82f9-c093c9deb400",
   "metadata": {},
   "outputs": [
    {
     "data": {
      "text/plain": [
       "True"
      ]
     },
     "execution_count": 36,
     "metadata": {},
     "output_type": "execute_result"
    }
   ],
   "source": [
    "lunch1=['주먹밥','치킨','칼국수']\n",
    "lunch2=['주먹밥','치킨','칼국수']\n",
    "lunch1==lunch2"
   ]
  },
  {
   "cell_type": "code",
   "execution_count": 38,
   "id": "7298d350-26e6-450c-b0c9-817d37c4602c",
   "metadata": {},
   "outputs": [
    {
     "data": {
      "text/plain": [
       "False"
      ]
     },
     "execution_count": 38,
     "metadata": {},
     "output_type": "execute_result"
    }
   ],
   "source": [
    "id(lunch1)==id(lunch2) #주소비교"
   ]
  },
  {
   "cell_type": "code",
   "execution_count": 39,
   "id": "0801473f-ef2d-473d-a676-f34913d25d51",
   "metadata": {},
   "outputs": [
    {
     "data": {
      "text/plain": [
       "False"
      ]
     },
     "execution_count": 39,
     "metadata": {},
     "output_type": "execute_result"
    }
   ],
   "source": [
    "lunch1 is lunch2 #주소비교"
   ]
  },
  {
   "cell_type": "code",
   "execution_count": null,
   "id": "b7ccd1db-b8aa-4838-8cbd-ae79f7956bf5",
   "metadata": {},
   "outputs": [],
   "source": []
  },
  {
   "cell_type": "code",
   "execution_count": 44,
   "id": "1bc4044e-374c-4605-b804-65037b929e04",
   "metadata": {},
   "outputs": [],
   "source": [
    "a=5\n",
    "#a= a + 5\n",
    "a += 5"
   ]
  },
  {
   "cell_type": "code",
   "execution_count": 45,
   "id": "9edb0a6e-ea9d-446d-869a-a8376a5a4ed9",
   "metadata": {},
   "outputs": [],
   "source": [
    "a=5\n",
    "b=2"
   ]
  },
  {
   "cell_type": "code",
   "execution_count": 46,
   "id": "c32ca605-3351-4600-aa79-82394f5aa379",
   "metadata": {},
   "outputs": [
    {
     "data": {
      "text/plain": [
       "20"
      ]
     },
     "execution_count": 46,
     "metadata": {},
     "output_type": "execute_result"
    }
   ],
   "source": [
    "a *= (2 + b)  # a = 5 * (2 + 2)\n",
    "a"
   ]
  },
  {
   "cell_type": "code",
   "execution_count": 12,
   "id": "ab6ea2ed-98d8-44d3-8ad5-0b4d86aca08f",
   "metadata": {},
   "outputs": [
    {
     "data": {
      "text/plain": [
       "[{'num': '1',\n",
       "  'name': '김철수',\n",
       "  'kor': 90,\n",
       "  'eng': 80,\n",
       "  'math': 85,\n",
       "  'total': 0,\n",
       "  'avg': 0.0,\n",
       "  'order': 0},\n",
       " {'num': '2',\n",
       "  'name': '박제동',\n",
       "  'kor': 90,\n",
       "  'eng': 85,\n",
       "  'math': 90,\n",
       "  'total': 0,\n",
       "  'avg': 0.0,\n",
       "  'order': 0},\n",
       " {'num': '3',\n",
       "  'name': '홍길동',\n",
       "  'kor': 80,\n",
       "  'eng': 80,\n",
       "  'math': 80,\n",
       "  'total': 0,\n",
       "  'avg': 0.0,\n",
       "  'order': 0}]"
      ]
     },
     "execution_count": 12,
     "metadata": {},
     "output_type": "execute_result"
    }
   ],
   "source": [
    "students = [\n",
    "               {'num':'1','name':'김철수','kor':90,'eng':80,'math':85,'total':0,'avg':0.0,'order':0 },\n",
    "               {'num':'2','name':'박제동','kor':90,'eng':85,'math':90,'total':0,'avg':0.0,'order':0 },\n",
    "               {'num':'3','name':'홍길동','kor':80,'eng':80,'math':80,'total':0,'avg':0.0,'order':0 }\n",
    "           ]\n",
    "students"
   ]
  },
  {
   "cell_type": "code",
   "execution_count": 20,
   "id": "c4285ac4-4f93-4095-a200-233d4be0cfe3",
   "metadata": {},
   "outputs": [
    {
     "data": {
      "text/plain": [
       "255"
      ]
     },
     "execution_count": 20,
     "metadata": {},
     "output_type": "execute_result"
    }
   ],
   "source": [
    "students[0]['total']= (students[0]['kor']+students[0]['eng']+ students[0]['math'])\n",
    "students[0]['total']\n"
   ]
  },
  {
   "cell_type": "code",
   "execution_count": 17,
   "id": "ef104ffb-e575-453a-9514-ee076a465a20",
   "metadata": {},
   "outputs": [
    {
     "data": {
      "text/plain": [
       "265"
      ]
     },
     "execution_count": 17,
     "metadata": {},
     "output_type": "execute_result"
    }
   ],
   "source": [
    "students[1]['total']= students[1]['kor']+students[1]['eng']+ students[1]['math']\n",
    "students[1]['total']"
   ]
  },
  {
   "cell_type": "code",
   "execution_count": 19,
   "id": "ae80a1bd-2caa-4558-a943-d424259ffe19",
   "metadata": {},
   "outputs": [
    {
     "data": {
      "text/plain": [
       "240"
      ]
     },
     "execution_count": 19,
     "metadata": {},
     "output_type": "execute_result"
    }
   ],
   "source": [
    "students[2]['total']= students[2]['kor']+students[2]['eng']+ students[2]['math']\n",
    "students[2]['total']"
   ]
  },
  {
   "cell_type": "code",
   "execution_count": 25,
   "id": "d7330814-2e69-4bc4-aeff-8215b7b10003",
   "metadata": {},
   "outputs": [
    {
     "name": "stdout",
     "output_type": "stream",
     "text": [
      "255\n",
      "265\n",
      "240\n"
     ]
    }
   ],
   "source": [
    "#for문에서는 list의 요소를 하나씩 꺼낼 수 있다.\n",
    "for student in students:     #students-> 0,1,2   순서는 신경쓰지말자 파이썬이 알아서 0,1,2 순서로 해준다\n",
    "    student['total']= (student['kor']+student['eng']+ student['math'])\n",
    "    print(student['total'])"
   ]
  },
  {
   "cell_type": "code",
   "execution_count": 26,
   "id": "7732d684-68d2-4974-bfdf-67cc87443623",
   "metadata": {},
   "outputs": [
    {
     "data": {
      "text/plain": [
       "85.0"
      ]
     },
     "execution_count": 26,
     "metadata": {},
     "output_type": "execute_result"
    }
   ],
   "source": [
    "students[0]['avg']= ((students[0]['kor']+students[0]['eng']+ students[0]['math'])/3)\n",
    "students[0]['avg']"
   ]
  },
  {
   "cell_type": "code",
   "execution_count": 27,
   "id": "6745fd95-b21c-4806-b64d-9a35793c03d6",
   "metadata": {},
   "outputs": [
    {
     "data": {
      "text/plain": [
       "88.33333333333333"
      ]
     },
     "execution_count": 27,
     "metadata": {},
     "output_type": "execute_result"
    }
   ],
   "source": [
    "students[1]['avg']= ((students[1]['kor']+students[1]['eng']+ students[1]['math'])/3)\n",
    "students[1]['avg']"
   ]
  },
  {
   "cell_type": "code",
   "execution_count": 28,
   "id": "5cd977de-341b-47d9-81a6-0ac642f43aa1",
   "metadata": {},
   "outputs": [
    {
     "data": {
      "text/plain": [
       "80.0"
      ]
     },
     "execution_count": 28,
     "metadata": {},
     "output_type": "execute_result"
    }
   ],
   "source": [
    "students[2]['avg']= ((students[2]['kor']+students[2]['eng']+ students[2]['math'])/3)\n",
    "students[2]['avg']"
   ]
  },
  {
   "cell_type": "code",
   "execution_count": 31,
   "id": "9e220f9b-ee02-4449-83ff-6c04a69771e3",
   "metadata": {},
   "outputs": [
    {
     "name": "stdout",
     "output_type": "stream",
     "text": [
      "85.0\n",
      "88.33333333333333\n",
      "80.0\n"
     ]
    }
   ],
   "source": [
    "for student in students:     #students-> 0,1,2   순서는 신경쓰지말자 파이썬이 알아서 0,1,2 순서로 해준다\n",
    "    student['avg']= ((student['total'])/3)\n",
    "    print(student['avg'])"
   ]
  },
  {
   "cell_type": "code",
   "execution_count": 32,
   "id": "a5d7a226-0771-4165-baae-0aea7a60b1df",
   "metadata": {},
   "outputs": [
    {
     "name": "stdout",
     "output_type": "stream",
     "text": [
      "김철수 2\n",
      "박제동 1\n",
      "홍길동 3\n"
     ]
    }
   ],
   "source": [
    "#students order \n",
    "for student in students: #students[0] 자료를 꺼낸 것이 student\n",
    "    rank=1\n",
    "    for other in students:\n",
    "        if other['total']>student['total']:\n",
    "            rank+=1\n",
    "    student['order']=rank\n",
    "    print(student['name'],student['order'])"
   ]
  },
  {
   "cell_type": "code",
   "execution_count": 34,
   "id": "bf46d558-559a-4671-adee-60d176cc7a07",
   "metadata": {},
   "outputs": [
    {
     "name": "stdout",
     "output_type": "stream",
     "text": [
      "김철수 2 255 85.0\n",
      "박제동 1 265 88.33333333333333\n",
      "홍길동 3 240 80.0\n"
     ]
    }
   ],
   "source": [
    "for student in students:\n",
    "    print(student['name'], student['order'], student['total'], student['avg'])"
   ]
  },
  {
   "cell_type": "markdown",
   "id": "6bd8a1d7-0a6e-422d-bc27-d5fe43ea5e26",
   "metadata": {},
   "source": [
    "리스트에 많이 쓰는 내장함수들"
   ]
  },
  {
   "cell_type": "code",
   "execution_count": 42,
   "id": "a4f8b9b1-bcc1-418b-9b06-e68dc01f2acb",
   "metadata": {},
   "outputs": [],
   "source": [
    "# type(),\n",
    "# sorted(),\n",
    "# dir(),\n",
    "# id(),\n",
    "# len(),\n",
    "# sum(), max(), min()"
   ]
  },
  {
   "cell_type": "code",
   "execution_count": 47,
   "id": "cd11a5b7-b0c0-447b-8a5f-f5ea6c2f18ee",
   "metadata": {},
   "outputs": [
    {
     "name": "stdout",
     "output_type": "stream",
     "text": [
      "[5, 3, 1, 2, 4]\n"
     ]
    }
   ],
   "source": [
    "#Q1. [1,3,5,4,2]라는 리스트를 [5,4,3,2,1]로 만들어보자\n",
    "\n",
    "numbers = [1, 3, 5, 4, 2]\n",
    "ranks = []\n",
    "\n",
    "for hm in numbers:\n",
    "    rank = 1\n",
    "    for other in numbers:\n",
    "        if other > hm:\n",
    "            rank += 1\n",
    "    ranks.append(rank)\n",
    "\n",
    "print(ranks)"
   ]
  },
  {
   "cell_type": "code",
   "execution_count": 59,
   "id": "53d7e185-a6de-4e27-bd18-a0f71cb2e8db",
   "metadata": {},
   "outputs": [
    {
     "name": "stdout",
     "output_type": "stream",
     "text": [
      "Life is too short\n"
     ]
    }
   ],
   "source": [
    "#cc라는 리스트를 Life is too short라는 문자열로 만들어 출력해 보자\n",
    "\n",
    "words = ['Life', 'is', 'too', 'short']\n",
    "sentence = ' '.join(words)\n",
    "print(sentence)"
   ]
  },
  {
   "cell_type": "markdown",
   "id": "86b336f7-daf6-475f-b0df-d74932e72b04",
   "metadata": {},
   "source": [
    "딕셔너리  \n",
    "\n",
    "문법: (키:값, 키:값, )"
   ]
  },
  {
   "cell_type": "code",
   "execution_count": 66,
   "id": "d6d6c30d-2bb1-4404-a895-b1de7320febe",
   "metadata": {},
   "outputs": [
    {
     "data": {
      "text/plain": [
       "{'이름': 'alice', '나이': 25, '도시': '서울'}"
      ]
     },
     "execution_count": 66,
     "metadata": {},
     "output_type": "execute_result"
    }
   ],
   "source": [
    "person={'이름':'alice', '나이': 25, '도시':'서울'}\n",
    "person"
   ]
  },
  {
   "cell_type": "code",
   "execution_count": 67,
   "id": "a34f1c7b-7407-4a73-a31b-3eef92c4a8fe",
   "metadata": {},
   "outputs": [
    {
     "data": {
      "text/plain": [
       "{'이름': 'Park', '나이': 12, '도시': '부산'}"
      ]
     },
     "execution_count": 67,
     "metadata": {},
     "output_type": "execute_result"
    }
   ],
   "source": [
    "person2=dict(이름=\"Park\", 나이=12, 도시=\"부산\")\n",
    "person2"
   ]
  },
  {
   "cell_type": "code",
   "execution_count": 70,
   "id": "8ad8cb55-649d-4236-b85e-750bd28acd03",
   "metadata": {},
   "outputs": [
    {
     "data": {
      "text/plain": [
       "{'이름': '홍길동', '나이': 25, '도시': '서울', '0': 'Bob'}"
      ]
     },
     "execution_count": 70,
     "metadata": {},
     "output_type": "execute_result"
    }
   ],
   "source": [
    "person['0']='Bob'    #key create\n",
    "person        #person[2]->error"
   ]
  },
  {
   "cell_type": "code",
   "execution_count": 71,
   "id": "b681eda8-d2ad-4971-8ec3-695e2ff29c5e",
   "metadata": {},
   "outputs": [
    {
     "data": {
      "text/plain": [
       "dict"
      ]
     },
     "execution_count": 71,
     "metadata": {},
     "output_type": "execute_result"
    }
   ],
   "source": [
    "type(person)"
   ]
  },
  {
   "cell_type": "code",
   "execution_count": 72,
   "id": "ad80dc33-cfb7-4ec5-a936-15374645854a",
   "metadata": {},
   "outputs": [
    {
     "data": {
      "text/plain": [
       "dict_items([('이름', '홍길동'), ('나이', 25), ('도시', '서울'), ('0', 'Bob')])"
      ]
     },
     "execution_count": 72,
     "metadata": {},
     "output_type": "execute_result"
    }
   ],
   "source": [
    "person.items()  #리스트 생성"
   ]
  },
  {
   "cell_type": "code",
   "execution_count": 77,
   "id": "6836e406-2a94-4ac2-b663-7104866da8c7",
   "metadata": {},
   "outputs": [
    {
     "name": "stdout",
     "output_type": "stream",
     "text": [
      "('이름', '홍길동')\n",
      "('나이', 25)\n",
      "('도시', '서울')\n",
      "('0', 'Bob')\n"
     ]
    }
   ],
   "source": [
    "keys=person.items()\n",
    "for k in keys:\n",
    "    print(k)"
   ]
  },
  {
   "cell_type": "code",
   "execution_count": 73,
   "id": "975677f8-3162-41e8-bb6d-8aecd14194fe",
   "metadata": {},
   "outputs": [
    {
     "data": {
      "text/plain": [
       "dict_keys(['이름', '나이', '도시', '0'])"
      ]
     },
     "execution_count": 73,
     "metadata": {},
     "output_type": "execute_result"
    }
   ],
   "source": [
    "person.keys()   #값말고 키만"
   ]
  },
  {
   "cell_type": "code",
   "execution_count": 75,
   "id": "130882a1-b150-464a-b1dd-219e1885e263",
   "metadata": {},
   "outputs": [],
   "source": [
    "keys=person.keys()"
   ]
  },
  {
   "cell_type": "code",
   "execution_count": 76,
   "id": "1c3a45d3-a99d-49ed-92fa-8374b0648f68",
   "metadata": {},
   "outputs": [
    {
     "name": "stdout",
     "output_type": "stream",
     "text": [
      "이름\n",
      "나이\n",
      "도시\n",
      "0\n"
     ]
    }
   ],
   "source": [
    "for k in keys:\n",
    "    print(k)"
   ]
  },
  {
   "cell_type": "code",
   "execution_count": 78,
   "id": "4dc2789b-2737-4d48-88d6-adeb07f69f29",
   "metadata": {},
   "outputs": [
    {
     "name": "stdout",
     "output_type": "stream",
     "text": [
      "dict_values(['홍길동', 25, '서울', 'Bob'])\n"
     ]
    }
   ],
   "source": [
    "#values 연습\n",
    "print(person.values())"
   ]
  },
  {
   "cell_type": "code",
   "execution_count": 79,
   "id": "9d9a66b0-041a-4122-8fe6-f86ad5051297",
   "metadata": {},
   "outputs": [
    {
     "data": {
      "text/plain": [
       "{'이름': 'Park', '나이': 12, '도시': '부산', '0': 'Bob'}"
      ]
     },
     "execution_count": 79,
     "metadata": {},
     "output_type": "execute_result"
    }
   ],
   "source": [
    "#update()는 딕셔너리에 딕셔너리를 추가합니다.\n",
    "person.update(person2)\n",
    "person"
   ]
  },
  {
   "cell_type": "code",
   "execution_count": null,
   "id": "298d7a4e-1a44-46b6-912c-bdad1281cdee",
   "metadata": {},
   "outputs": [],
   "source": [
    "#person3를 추가한다면?\n",
    "#키가 같으므로 값이 업데이트"
   ]
  },
  {
   "cell_type": "code",
   "execution_count": 81,
   "id": "e58aef45-b406-4371-bb34-bf0ed869a164",
   "metadata": {},
   "outputs": [
    {
     "data": {
      "text/plain": [
       "{'이름': 'Park', '나이': 12, '도시': '부산', '0': 'Bob', '성별': '여자', '취미': '판타지'}"
      ]
     },
     "execution_count": 81,
     "metadata": {},
     "output_type": "execute_result"
    }
   ],
   "source": [
    "person3={'성별':'여자', '취미':'판타지'}\n",
    "person.update(person3)\n",
    "person"
   ]
  },
  {
   "cell_type": "code",
   "execution_count": 102,
   "id": "1b9b4c77-3cc4-485a-8331-12aa6264ac21",
   "metadata": {},
   "outputs": [
    {
     "name": "stdout",
     "output_type": "stream",
     "text": [
      "--------------------------------------------------\n",
      "어서오세요 바리스타 p's의 카페에 오신것을 환영합니다\n",
      "1,에스프레소 3000\n",
      "2,아메라키노 4000\n",
      "3,라떼 5000\n",
      "--------------------------------------------------\n"
     ]
    },
    {
     "name": "stdin",
     "output_type": "stream",
     "text": [
      "주문할 메뉴 번호를 입력하세요: 3\n",
      "주문할 수량을 숫자로 입력하세요: 3\n"
     ]
    },
    {
     "name": "stdout",
     "output_type": "stream",
     "text": [
      "주문하신 메뉴는 라떼입니다. 결제하실 금액은 15000입니다\n"
     ]
    }
   ],
   "source": [
    "store_name='바리스타 p\\'s의 카페'\n",
    "menu_list=['에스프레소','아메라키노','라떼']\n",
    "price_list=[3000,4000,5000]                     #인덱스방식 에스프레서->3000\n",
    "\n",
    "print('-'*50)\n",
    "print(f'어서오세요 {store_name}에 오신것을 환영합니다')\n",
    "\n",
    "for i in range(len(menu_list)):\n",
    "    print(f'{i+1},{menu_list[i]} {price_list[i]}')\n",
    "\n",
    "print('-'*50)\n",
    "order_num=int(input('주문할 메뉴 번호를 입력하세요:'))-1\n",
    "qty=int(input('주문할 수량을 숫자로 입력하세요:'))\n",
    "amt=qty*price_list[order_num]\n",
    "print(f'주문하신 메뉴는 {menu_list[order_num]}입니다. 결제하실 금액은 {amt}입니다')\n",
    "    "
   ]
  },
  {
   "cell_type": "code",
   "execution_count": null,
   "id": "dc27f949-c2e6-4d45-a4a4-39cb20478d5b",
   "metadata": {},
   "outputs": [
    {
     "name": "stdout",
     "output_type": "stream",
     "text": [
      "☕------------------------------------------------☕\n",
      "🌟 어서오세요! 바리스타 p's의 카페에 오신 것을 진심으로 환영합니다 🌟\n",
      "📋 아래는 저희 메뉴입니다:\n",
      "📦------------------------------------------------📦\n",
      "  1. 에스프레소 - 3,000원\n",
      "  2. 아메라키노 - 4,000원\n",
      "  3. 라떼 - 5,000원\n",
      "💳------------------------------------------------💳\n"
     ]
    }
   ],
   "source": [
    "store_name='바리스타 p\\'s의 카페'\n",
    "menu_list=['에스프레소','아메라키노','라떼']\n",
    "price_list=[3000,4000,5000]                     #인덱스방식 에스프레서->3000\n",
    "\n",
    "print('☕' + '-'*48 + '☕')\n",
    "print(f'🌟 어서오세요! {store_name}에 오신 것을 진심으로 환영합니다 🌟')\n",
    "print('📋 아래는 저희 메뉴입니다:')\n",
    "print('📦' + '-'*48 + '📦')\n",
    "\n",
    "for i in range(len(menu_list)):\n",
    "    print(f'  {i+1}. {menu_list[i]} - {price_list[i]:,}원')\n",
    "\n",
    "print('💳' + '-'*48 + '💳')\n",
    "order_num=int(input('📝 주문할 메뉴 번호를 입력하세요: '))-1\n",
    "qty=int(input('🔢 주문할 수량을 숫자로 입력하세요: '))\n",
    "amt=qty*price_list[order_num]\n",
    "print('🧾' + '-'*48 + '🧾')\n",
    "print(f'✅ 주문하신 메뉴: {menu_list[order_num]}')\n",
    "print(f'✅ 수량: {qty}개')\n",
    "print(f'💰 결제하실 금액은 총 {amt:,}원입니다.')\n",
    "print('🙏 감사합니다. 따뜻한 음료와 함께 행복한 하루 되세요!')\n",
    "print('☕' + '-'*48 + '☕')"
   ]
  },
  {
   "cell_type": "markdown",
   "id": "bf4e184d-7c8c-4e49-891d-17e9a9e5de79",
   "metadata": {},
   "source": [
    "#튜플  \n",
    "\n",
    "리스트랑 비슷, 변경 안되는 특징을 갖는다"
   ]
  }
 ],
 "metadata": {
  "kernelspec": {
   "display_name": "Python 3(myenv)",
   "language": "python",
   "name": "myenv"
  },
  "language_info": {
   "codemirror_mode": {
    "name": "ipython",
    "version": 3
   },
   "file_extension": ".py",
   "mimetype": "text/x-python",
   "name": "python",
   "nbconvert_exporter": "python",
   "pygments_lexer": "ipython3",
   "version": "3.10.16"
  }
 },
 "nbformat": 4,
 "nbformat_minor": 5
}
