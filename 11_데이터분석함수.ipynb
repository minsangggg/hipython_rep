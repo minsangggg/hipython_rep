{
 "cells": [
  {
   "cell_type": "code",
   "execution_count": 2,
   "id": "7271a373",
   "metadata": {},
   "outputs": [],
   "source": [
    "from collections import defaultdict\n"
   ]
  },
  {
   "cell_type": "code",
   "execution_count": 4,
   "id": "08163627",
   "metadata": {},
   "outputs": [
    {
     "name": "stdout",
     "output_type": "stream",
     "text": [
      "defaultdict(<class 'int'>, {'a': 1, 'b': 0, 'c': 2})\n"
     ]
    }
   ],
   "source": [
    "dd=defaultdict(int)\n",
    "dd['a']=1\n",
    "dd['b']\n",
    "dd['c']=2\n",
    "\n",
    "print(dd)\n"
   ]
  },
  {
   "cell_type": "code",
   "execution_count": 5,
   "id": "f75ace3b",
   "metadata": {},
   "outputs": [
    {
     "data": {
      "text/plain": [
       "[('alice', 90), ('Bob', 80), ('charlie', 70), ('alice', 80)]"
      ]
     },
     "execution_count": 5,
     "metadata": {},
     "output_type": "execute_result"
    }
   ],
   "source": [
    "scores=[('alice',90),('Bob',80),('charlie',70),('alice',80)]\n",
    "scores"
   ]
  },
  {
   "cell_type": "code",
   "execution_count": 10,
   "id": "8d0801d1",
   "metadata": {},
   "outputs": [
    {
     "data": {
      "text/plain": [
       "{'alice': [90, 80], 'Bob': [80], 'charlie': [70]}"
      ]
     },
     "execution_count": 10,
     "metadata": {},
     "output_type": "execute_result"
    }
   ],
   "source": [
    "grouped=defaultdict(list)\n",
    "for name,score in scores:\n",
    "    grouped[name].append(score)\n",
    "    \n",
    "#grouped\n",
    "dict(grouped)\n"
   ]
  },
  {
   "cell_type": "code",
   "execution_count": 13,
   "id": "f1b4503a",
   "metadata": {},
   "outputs": [
    {
     "data": {
      "text/plain": [
       "{'b': 1, 'a': 3, 'n': 2}"
      ]
     },
     "execution_count": 13,
     "metadata": {},
     "output_type": "execute_result"
    }
   ],
   "source": [
    "s='banana'\n",
    "cnt=defaultdict(int)\n",
    "for char in s:\n",
    "    cnt[char]+=1\n",
    "#cnt\n",
    "dict(cnt)    "
   ]
  },
  {
   "cell_type": "code",
   "execution_count": null,
   "id": "48707ff5",
   "metadata": {},
   "outputs": [],
   "source": []
  },
  {
   "cell_type": "markdown",
   "id": "c374e836",
   "metadata": {},
   "source": [
    "#Counter\n",
    "\n",
    "collecting: 모듈의 클래스, 시퀀스 데이터, 리스트, 문자열 외  조의 갯수를 카운트"
   ]
  },
  {
   "cell_type": "code",
   "execution_count": 2,
   "id": "0e40fcd0",
   "metadata": {},
   "outputs": [
    {
     "data": {
      "text/plain": [
       "Counter({2: 3, 3: 2, 0: 1, 1: 1, 4: 1})"
      ]
     },
     "execution_count": 2,
     "metadata": {},
     "output_type": "execute_result"
    }
   ],
   "source": [
    "from collections import Counter\n",
    "\n",
    "list1=[0,1,2,3,4,2,2,3]\n",
    "\n",
    "cnt=Counter(list1)\n",
    "cnt"
   ]
  },
  {
   "cell_type": "code",
   "execution_count": 3,
   "id": "a0e89281",
   "metadata": {},
   "outputs": [
    {
     "data": {
      "text/plain": [
       "[(2, 3), (3, 2)]"
      ]
     },
     "execution_count": 3,
     "metadata": {},
     "output_type": "execute_result"
    }
   ],
   "source": [
    "cnt.most_common(2)\n"
   ]
  },
  {
   "cell_type": "markdown",
   "id": "cf00fa53",
   "metadata": {},
   "source": [
    "#extent()\n",
    "extend():리스트에 풀어서 붙인다.\n",
    "append():리스트에 1개씩 추가 "
   ]
  },
  {
   "cell_type": "code",
   "execution_count": 5,
   "id": "303e1cab",
   "metadata": {},
   "outputs": [
    {
     "data": {
      "text/plain": [
       "[0, 1, 2, 3, 4, 2, 2, 3, [10, 11], 10, 11]"
      ]
     },
     "execution_count": 5,
     "metadata": {},
     "output_type": "execute_result"
    }
   ],
   "source": [
    "list1=[0,1,2,3,4,2,2,3]\n",
    "list1.append([10,11])\n",
    "list1.extend([10,11])\n",
    "list1"
   ]
  },
  {
   "cell_type": "code",
   "execution_count": null,
   "id": "c9e119e9",
   "metadata": {},
   "outputs": [],
   "source": []
  },
  {
   "cell_type": "code",
   "execution_count": null,
   "id": "8a708dc7",
   "metadata": {},
   "outputs": [],
   "source": []
  },
  {
   "cell_type": "code",
   "execution_count": null,
   "id": "5d1a4c1a",
   "metadata": {},
   "outputs": [],
   "source": []
  },
  {
   "cell_type": "code",
   "execution_count": null,
   "id": "fef0c8b0",
   "metadata": {},
   "outputs": [],
   "source": []
  },
  {
   "cell_type": "code",
   "execution_count": null,
   "id": "84cb451d",
   "metadata": {},
   "outputs": [],
   "source": []
  }
 ],
 "metadata": {
  "kernelspec": {
   "display_name": "hipython",
   "language": "python",
   "name": "python3"
  },
  "language_info": {
   "codemirror_mode": {
    "name": "ipython",
    "version": 3
   },
   "file_extension": ".py",
   "mimetype": "text/x-python",
   "name": "python",
   "nbconvert_exporter": "python",
   "pygments_lexer": "ipython3",
   "version": "3.12.9"
  }
 },
 "nbformat": 4,
 "nbformat_minor": 5
}
