{
 "cells": [
  {
   "cell_type": "markdown",
   "id": "08baa882-2ff8-4260-bc9f-e1efd2e3fc02",
   "metadata": {},
   "source": [
    "#for문  \n",
    "\n",
    "for i in range:  \n",
    "range에는 리스트, 문자열 ,튜플, 딕셔너리, 세트(집합) 가능   "
   ]
  },
  {
   "cell_type": "code",
   "execution_count": 2,
   "id": "e17fbc4f-a575-4413-9fc8-45e7883bf2e0",
   "metadata": {},
   "outputs": [
    {
     "name": "stdout",
     "output_type": "stream",
     "text": [
      "0\n",
      "1\n",
      "2\n",
      "3\n",
      "4\n"
     ]
    }
   ],
   "source": [
    "data=[0,1,2,3,4]\n",
    "\n",
    "for var in data:\n",
    "    print(var)"
   ]
  },
  {
   "cell_type": "code",
   "execution_count": 4,
   "id": "37914205-b548-4b91-8571-a06d92119e47",
   "metadata": {},
   "outputs": [
    {
     "data": {
      "text/plain": [
       "range(1, 10)"
      ]
     },
     "execution_count": 4,
     "metadata": {},
     "output_type": "execute_result"
    }
   ],
   "source": [
    "range(1,10)"
   ]
  },
  {
   "cell_type": "code",
   "execution_count": 6,
   "id": "60318e45-918a-4554-b572-444c39bd4ca7",
   "metadata": {},
   "outputs": [
    {
     "name": "stdout",
     "output_type": "stream",
     "text": [
      "1\n",
      "2\n",
      "3\n",
      "4\n",
      "5\n",
      "6\n",
      "7\n",
      "8\n",
      "9\n"
     ]
    }
   ],
   "source": [
    "for x in range(1,10):\n",
    "    print(x)"
   ]
  },
  {
   "cell_type": "code",
   "execution_count": 13,
   "id": "1b479765-1954-4d06-92db-648a222ef831",
   "metadata": {},
   "outputs": [
    {
     "name": "stdout",
     "output_type": "stream",
     "text": [
      "[1, 2, 3, 4, 5, 6, 7, 8, 9]\n"
     ]
    }
   ],
   "source": [
    "lst = [x for x in range(1, 10)]\n",
    "print(lst)"
   ]
  },
  {
   "cell_type": "code",
   "execution_count": 10,
   "id": "cbba2b75-9df2-4074-aa89-84be5fce6b24",
   "metadata": {},
   "outputs": [
    {
     "name": "stdout",
     "output_type": "stream",
     "text": [
      "(1, 2, 3, 4, 5, 6, 7, 8, 9)\n"
     ]
    }
   ],
   "source": [
    "tpl = tuple(x for x in range(1, 10))\n",
    "print(tpl)"
   ]
  },
  {
   "cell_type": "code",
   "execution_count": 9,
   "id": "480979a9-64d2-403f-8329-ac602f886286",
   "metadata": {},
   "outputs": [
    {
     "name": "stdout",
     "output_type": "stream",
     "text": [
      "{1: 1, 2: 4, 3: 9, 4: 16, 5: 25, 6: 36, 7: 49, 8: 64, 9: 81}\n"
     ]
    }
   ],
   "source": [
    "d = {x: x**2 for x in range(1, 10)}\n",
    "print(d)               #딕셔너리"
   ]
  },
  {
   "cell_type": "code",
   "execution_count": null,
   "id": "c2d9ebb6-cce4-48b4-b55c-5bbc9ce28a64",
   "metadata": {},
   "outputs": [],
   "source": [
    "for n in numbers:\n",
    "    sum+=n\n",
    "sum"
   ]
  },
  {
   "cell_type": "code",
   "execution_count": 59,
   "id": "0116d6ff-e236-4340-9381-7573ffa0f8f2",
   "metadata": {},
   "outputs": [],
   "source": [
    "numbers=(1,2,3,4)\n",
    "stu={'name':'minsang','age':27}"
   ]
  },
  {
   "cell_type": "code",
   "execution_count": 60,
   "id": "9855cdff-4d9f-458d-81ae-54b37f1c3648",
   "metadata": {},
   "outputs": [
    {
     "data": {
      "text/plain": [
       "10"
      ]
     },
     "execution_count": 60,
     "metadata": {},
     "output_type": "execute_result"
    }
   ],
   "source": [
    "sum=0\n",
    "for n in numbers:\n",
    "    sum+=n\n",
    "sum"
   ]
  },
  {
   "cell_type": "code",
   "execution_count": 62,
   "id": "67851492-3940-4fbe-8dc2-c7c63e5166cf",
   "metadata": {},
   "outputs": [
    {
     "name": "stdout",
     "output_type": "stream",
     "text": [
      "name ylee\n",
      "age 30\n"
     ]
    }
   ],
   "source": [
    "for k,v in stu.items():\n",
    "    print(k,v)"
   ]
  },
  {
   "cell_type": "code",
   "execution_count": 14,
   "id": "9aa6839f-52fa-469e-88a7-e2887acf9375",
   "metadata": {},
   "outputs": [
    {
     "ename": "NameError",
     "evalue": "name 'stu' is not defined",
     "output_type": "error",
     "traceback": [
      "\u001b[1;31m---------------------------------------------------------------------------\u001b[0m",
      "\u001b[1;31mNameError\u001b[0m                                 Traceback (most recent call last)",
      "Cell \u001b[1;32mIn[14], line 1\u001b[0m\n\u001b[1;32m----> 1\u001b[0m \u001b[38;5;28;01mfor\u001b[39;00m k,v \u001b[38;5;129;01min\u001b[39;00m \u001b[43mstu\u001b[49m\u001b[38;5;241m.\u001b[39mitems():\n\u001b[0;32m      2\u001b[0m     \u001b[38;5;28mprint\u001b[39m(k,v)\n",
      "\u001b[1;31mNameError\u001b[0m: name 'stu' is not defined"
     ]
    }
   ],
   "source": [
    "for k,v in stu.items():\n",
    "    print(k,v)"
   ]
  },
  {
   "cell_type": "code",
   "execution_count": 15,
   "id": "c5c49b46-3d2b-4687-9558-337a3aeb709b",
   "metadata": {},
   "outputs": [
    {
     "data": {
      "text/plain": [
       "range"
      ]
     },
     "execution_count": 15,
     "metadata": {},
     "output_type": "execute_result"
    }
   ],
   "source": [
    "ran=range(1,10)\n",
    "type(ran)"
   ]
  },
  {
   "cell_type": "code",
   "execution_count": 16,
   "id": "71ba79d2-7880-4be2-8fc3-c46b63e1b269",
   "metadata": {},
   "outputs": [
    {
     "name": "stdout",
     "output_type": "stream",
     "text": [
      "Help on class list in module builtins:\n",
      "\n",
      "class list(object)\n",
      " |  list(iterable=(), /)\n",
      " |  \n",
      " |  Built-in mutable sequence.\n",
      " |  \n",
      " |  If no argument is given, the constructor creates a new empty list.\n",
      " |  The argument must be an iterable if specified.\n",
      " |  \n",
      " |  Methods defined here:\n",
      " |  \n",
      " |  __add__(self, value, /)\n",
      " |      Return self+value.\n",
      " |  \n",
      " |  __contains__(self, key, /)\n",
      " |      Return key in self.\n",
      " |  \n",
      " |  __delitem__(self, key, /)\n",
      " |      Delete self[key].\n",
      " |  \n",
      " |  __eq__(self, value, /)\n",
      " |      Return self==value.\n",
      " |  \n",
      " |  __ge__(self, value, /)\n",
      " |      Return self>=value.\n",
      " |  \n",
      " |  __getattribute__(self, name, /)\n",
      " |      Return getattr(self, name).\n",
      " |  \n",
      " |  __getitem__(...)\n",
      " |      x.__getitem__(y) <==> x[y]\n",
      " |  \n",
      " |  __gt__(self, value, /)\n",
      " |      Return self>value.\n",
      " |  \n",
      " |  __iadd__(self, value, /)\n",
      " |      Implement self+=value.\n",
      " |  \n",
      " |  __imul__(self, value, /)\n",
      " |      Implement self*=value.\n",
      " |  \n",
      " |  __init__(self, /, *args, **kwargs)\n",
      " |      Initialize self.  See help(type(self)) for accurate signature.\n",
      " |  \n",
      " |  __iter__(self, /)\n",
      " |      Implement iter(self).\n",
      " |  \n",
      " |  __le__(self, value, /)\n",
      " |      Return self<=value.\n",
      " |  \n",
      " |  __len__(self, /)\n",
      " |      Return len(self).\n",
      " |  \n",
      " |  __lt__(self, value, /)\n",
      " |      Return self<value.\n",
      " |  \n",
      " |  __mul__(self, value, /)\n",
      " |      Return self*value.\n",
      " |  \n",
      " |  __ne__(self, value, /)\n",
      " |      Return self!=value.\n",
      " |  \n",
      " |  __repr__(self, /)\n",
      " |      Return repr(self).\n",
      " |  \n",
      " |  __reversed__(self, /)\n",
      " |      Return a reverse iterator over the list.\n",
      " |  \n",
      " |  __rmul__(self, value, /)\n",
      " |      Return value*self.\n",
      " |  \n",
      " |  __setitem__(self, key, value, /)\n",
      " |      Set self[key] to value.\n",
      " |  \n",
      " |  __sizeof__(self, /)\n",
      " |      Return the size of the list in memory, in bytes.\n",
      " |  \n",
      " |  append(self, object, /)\n",
      " |      Append object to the end of the list.\n",
      " |  \n",
      " |  clear(self, /)\n",
      " |      Remove all items from list.\n",
      " |  \n",
      " |  copy(self, /)\n",
      " |      Return a shallow copy of the list.\n",
      " |  \n",
      " |  count(self, value, /)\n",
      " |      Return number of occurrences of value.\n",
      " |  \n",
      " |  extend(self, iterable, /)\n",
      " |      Extend list by appending elements from the iterable.\n",
      " |  \n",
      " |  index(self, value, start=0, stop=9223372036854775807, /)\n",
      " |      Return first index of value.\n",
      " |      \n",
      " |      Raises ValueError if the value is not present.\n",
      " |  \n",
      " |  insert(self, index, object, /)\n",
      " |      Insert object before index.\n",
      " |  \n",
      " |  pop(self, index=-1, /)\n",
      " |      Remove and return item at index (default last).\n",
      " |      \n",
      " |      Raises IndexError if list is empty or index is out of range.\n",
      " |  \n",
      " |  remove(self, value, /)\n",
      " |      Remove first occurrence of value.\n",
      " |      \n",
      " |      Raises ValueError if the value is not present.\n",
      " |  \n",
      " |  reverse(self, /)\n",
      " |      Reverse *IN PLACE*.\n",
      " |  \n",
      " |  sort(self, /, *, key=None, reverse=False)\n",
      " |      Sort the list in ascending order and return None.\n",
      " |      \n",
      " |      The sort is in-place (i.e. the list itself is modified) and stable (i.e. the\n",
      " |      order of two equal elements is maintained).\n",
      " |      \n",
      " |      If a key function is given, apply it once to each list item and sort them,\n",
      " |      ascending or descending, according to their function values.\n",
      " |      \n",
      " |      The reverse flag can be set to sort in descending order.\n",
      " |  \n",
      " |  ----------------------------------------------------------------------\n",
      " |  Class methods defined here:\n",
      " |  \n",
      " |  __class_getitem__(...) from builtins.type\n",
      " |      See PEP 585\n",
      " |  \n",
      " |  ----------------------------------------------------------------------\n",
      " |  Static methods defined here:\n",
      " |  \n",
      " |  __new__(*args, **kwargs) from builtins.type\n",
      " |      Create and return a new object.  See help(type) for accurate signature.\n",
      " |  \n",
      " |  ----------------------------------------------------------------------\n",
      " |  Data and other attributes defined here:\n",
      " |  \n",
      " |  __hash__ = None\n",
      "\n"
     ]
    }
   ],
   "source": [
    "help(list)"
   ]
  },
  {
   "cell_type": "code",
   "execution_count": 18,
   "id": "a609471a-1166-4006-8288-c4e08d194ca3",
   "metadata": {},
   "outputs": [
    {
     "data": {
      "text/plain": [
       "[0, 2, 4, 6, 8]"
      ]
     },
     "execution_count": 18,
     "metadata": {},
     "output_type": "execute_result"
    }
   ],
   "source": [
    "list(range(0,10,2))"
   ]
  },
  {
   "cell_type": "code",
   "execution_count": 32,
   "id": "3ffa2fd2-660a-4254-8e49-cd6848172162",
   "metadata": {},
   "outputs": [
    {
     "name": "stdout",
     "output_type": "stream",
     "text": [
      "5050\n"
     ]
    }
   ],
   "source": [
    "sum1=0\n",
    "for i in range(1,101):\n",
    "    sum1+=i\n",
    "print(sum1)"
   ]
  },
  {
   "cell_type": "code",
   "execution_count": 36,
   "id": "0b83faad-c06c-451f-bde7-d16fdeb659d4",
   "metadata": {},
   "outputs": [
    {
     "name": "stdout",
     "output_type": "stream",
     "text": [
      "1683\n"
     ]
    }
   ],
   "source": [
    "sum2=0\n",
    "for i in range(1,100):\n",
    "    if i%3==0:\n",
    "        sum2+=i\n",
    "print(sum2)"
   ]
  },
  {
   "cell_type": "code",
   "execution_count": 37,
   "id": "311d37a5-e68e-495e-9a75-29495c35430b",
   "metadata": {},
   "outputs": [
    {
     "data": {
      "text/plain": [
       "1683"
      ]
     },
     "execution_count": 37,
     "metadata": {},
     "output_type": "execute_result"
    }
   ],
   "source": [
    "sum3=0\n",
    "for i in range(3,101,3):\n",
    "    sum3+=i\n",
    "sum3"
   ]
  },
  {
   "cell_type": "code",
   "execution_count": 39,
   "id": "a3ea2853-2859-42a7-9f6a-5105e63dc2eb",
   "metadata": {},
   "outputs": [
    {
     "name": "stdout",
     "output_type": "stream",
     "text": [
      "a\n",
      "b\n",
      "c\n"
     ]
    }
   ],
   "source": [
    "char_list=['a','b','c']\n",
    "\n",
    "for x in char_list:\n",
    "    print(x)"
   ]
  },
  {
   "cell_type": "code",
   "execution_count": 40,
   "id": "e7154485-2c00-4306-85f2-bdf48454db97",
   "metadata": {},
   "outputs": [
    {
     "name": "stdout",
     "output_type": "stream",
     "text": [
      "0 a\n",
      "1 b\n",
      "2 c\n"
     ]
    }
   ],
   "source": [
    "for i ,v in enumerate(char_list):    #객체들을 순서대로 꺼내서 인덱스를 붙여줌\n",
    "    print(i,v)"
   ]
  },
  {
   "cell_type": "code",
   "execution_count": 42,
   "id": "e6b17e91-c335-4f9d-a36e-0cef4b8ab15d",
   "metadata": {},
   "outputs": [
    {
     "data": {
      "text/plain": [
       "<zip at 0x227c8d340c0>"
      ]
     },
     "execution_count": 42,
     "metadata": {},
     "output_type": "execute_result"
    }
   ],
   "source": [
    "char_list_2=['Hello','hi','good-bye']\n",
    "zip(char_list,char_list_2)"
   ]
  },
  {
   "cell_type": "code",
   "execution_count": 43,
   "id": "fe1e9b20-14fc-4b79-b35f-b46f5b4c204e",
   "metadata": {},
   "outputs": [
    {
     "name": "stdout",
     "output_type": "stream",
     "text": [
      "('a', 'Hello')\n",
      "('b', 'hi')\n",
      "('c', 'good-bye')\n"
     ]
    }
   ],
   "source": [
    "for item in zip(char_list, char_list_2):\n",
    "    print(item)"
   ]
  },
  {
   "cell_type": "code",
   "execution_count": 49,
   "id": "6926214a-eec4-402d-aecf-9bb37a9745fc",
   "metadata": {},
   "outputs": [
    {
     "name": "stdout",
     "output_type": "stream",
     "text": [
      "2x1=2\n",
      "2x2=4\n",
      "2x3=6\n",
      "2x4=8\n",
      "2x5=10\n",
      "2x6=12\n",
      "2x7=14\n",
      "2x8=16\n",
      "2x9=18\n"
     ]
    }
   ],
   "source": [
    "for i in range(1, 10):\n",
    "    print(f\"2x{i}={2*i}\")"
   ]
  },
  {
   "cell_type": "code",
   "execution_count": 51,
   "id": "07af889a-0982-449a-8fad-aba461e685c3",
   "metadata": {},
   "outputs": [
    {
     "name": "stdout",
     "output_type": "stream",
     "text": [
      "2x1=2\n",
      "2x2=4\n",
      "2x3=6\n",
      "2x4=8\n",
      "2x5=10\n",
      "2x6=12\n",
      "2x7=14\n",
      "2x8=16\n",
      "2x9=18\n"
     ]
    }
   ],
   "source": [
    "movie_dict={'미션':4, '미션임':3,'미션임파':3.4,'미션임파서블':4.5}\n",
    "for k,v in movie_dict\n"
   ]
  },
  {
   "cell_type": "code",
   "execution_count": 52,
   "id": "d232bc14-1c67-4ff3-8980-1d25795bf4b9",
   "metadata": {},
   "outputs": [
    {
     "name": "stdout",
     "output_type": "stream",
     "text": [
      "1x1=1\n",
      "1x2=2\n",
      "1x3=3\n",
      "1x4=4\n",
      "1x5=5\n",
      "1x6=6\n",
      "1x7=7\n",
      "1x8=8\n",
      "1x9=9\n",
      "\n",
      "2x1=2\n",
      "2x2=4\n",
      "2x3=6\n",
      "2x4=8\n",
      "2x5=10\n",
      "2x6=12\n",
      "2x7=14\n",
      "2x8=16\n",
      "2x9=18\n",
      "\n",
      "3x1=3\n",
      "3x2=6\n",
      "3x3=9\n",
      "3x4=12\n",
      "3x5=15\n",
      "3x6=18\n",
      "3x7=21\n",
      "3x8=24\n",
      "3x9=27\n",
      "\n",
      "4x1=4\n",
      "4x2=8\n",
      "4x3=12\n",
      "4x4=16\n",
      "4x5=20\n",
      "4x6=24\n",
      "4x7=28\n",
      "4x8=32\n",
      "4x9=36\n",
      "\n",
      "5x1=5\n",
      "5x2=10\n",
      "5x3=15\n",
      "5x4=20\n",
      "5x5=25\n",
      "5x6=30\n",
      "5x7=35\n",
      "5x8=40\n",
      "5x9=45\n",
      "\n",
      "6x1=6\n",
      "6x2=12\n",
      "6x3=18\n",
      "6x4=24\n",
      "6x5=30\n",
      "6x6=36\n",
      "6x7=42\n",
      "6x8=48\n",
      "6x9=54\n",
      "\n",
      "7x1=7\n",
      "7x2=14\n",
      "7x3=21\n",
      "7x4=28\n",
      "7x5=35\n",
      "7x6=42\n",
      "7x7=49\n",
      "7x8=56\n",
      "7x9=63\n",
      "\n",
      "8x1=8\n",
      "8x2=16\n",
      "8x3=24\n",
      "8x4=32\n",
      "8x5=40\n",
      "8x6=48\n",
      "8x7=56\n",
      "8x8=64\n",
      "8x9=72\n",
      "\n",
      "9x1=9\n",
      "9x2=18\n",
      "9x3=27\n",
      "9x4=36\n",
      "9x5=45\n",
      "9x6=54\n",
      "9x7=63\n",
      "9x8=72\n",
      "9x9=81\n",
      "\n"
     ]
    }
   ],
   "source": [
    "for i in range(1, 10):         # 1단부터 9단까지\n",
    "    for j in range(1, 10):     # 각 단의 곱\n",
    "        print(f\"{i}x{j}={i*j}\") \n",
    "    print()  # 단이 끝나면 줄 바꿈"
   ]
  },
  {
   "cell_type": "code",
   "execution_count": 46,
   "id": "5094b1bc-d1e2-4615-b7eb-02a98da8fc60",
   "metadata": {},
   "outputs": [
    {
     "name": "stdout",
     "output_type": "stream",
     "text": [
      "1x1=1  2x1=2  3x1=3  4x1=4  5x1=5  6x1=6  7x1=7  8x1=8  9x1=9  \n",
      "1x2=2  2x2=4  3x2=6  4x2=8  5x2=10  6x2=12  7x2=14  8x2=16  9x2=18  \n",
      "1x3=3  2x3=6  3x3=9  4x3=12  5x3=15  6x3=18  7x3=21  8x3=24  9x3=27  \n",
      "1x4=4  2x4=8  3x4=12  4x4=16  5x4=20  6x4=24  7x4=28  8x4=32  9x4=36  \n",
      "1x5=5  2x5=10  3x5=15  4x5=20  5x5=25  6x5=30  7x5=35  8x5=40  9x5=45  \n",
      "1x6=6  2x6=12  3x6=18  4x6=24  5x6=30  6x6=36  7x6=42  8x6=48  9x6=54  \n",
      "1x7=7  2x7=14  3x7=21  4x7=28  5x7=35  6x7=42  7x7=49  8x7=56  9x7=63  \n",
      "1x8=8  2x8=16  3x8=24  4x8=32  5x8=40  6x8=48  7x8=56  8x8=64  9x8=72  \n",
      "1x9=9  2x9=18  3x9=27  4x9=36  5x9=45  6x9=54  7x9=63  8x9=72  9x9=81  \n"
     ]
    }
   ],
   "source": [
    "for j in range(1, 10):         # 1단부터 9단까지\n",
    "    for i in range(1, 10):     # 각 단의 곱\n",
    "        print(f\"{i}x{j}={i*j}\", end='  ')  # 옆으로 출력\n",
    "    print()  # 단이 끝나면 줄 바꿈"
   ]
  },
  {
   "cell_type": "code",
   "execution_count": 56,
   "id": "0ed073a2-4e8c-4486-8ca3-e0a109555148",
   "metadata": {},
   "outputs": [
    {
     "name": "stdout",
     "output_type": "stream",
     "text": [
      "😀\n",
      "😀😀\n",
      "😀😀😀\n",
      "😀😀😀😀\n",
      "😀😀😀😀😀\n"
     ]
    }
   ],
   "source": [
    "for i in range(1, 6):  # 높이 5\n",
    "    print(\"😀\" * i)"
   ]
  },
  {
   "cell_type": "code",
   "execution_count": null,
   "id": "ee8ee5a9-60b3-4cd8-9f0a-1bfaa23ade5b",
   "metadata": {},
   "outputs": [],
   "source": []
  }
 ],
 "metadata": {
  "kernelspec": {
   "display_name": "Python 3(myenv)",
   "language": "python",
   "name": "myenv"
  },
  "language_info": {
   "codemirror_mode": {
    "name": "ipython",
    "version": 3
   },
   "file_extension": ".py",
   "mimetype": "text/x-python",
   "name": "python",
   "nbconvert_exporter": "python",
   "pygments_lexer": "ipython3",
   "version": "3.10.16"
  }
 },
 "nbformat": 4,
 "nbformat_minor": 5
}
